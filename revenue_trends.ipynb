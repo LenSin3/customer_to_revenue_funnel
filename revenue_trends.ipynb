{
 "cells": [
  {
   "cell_type": "code",
   "execution_count": 1,
   "id": "d31b9ab5",
   "metadata": {},
   "outputs": [],
   "source": [
    "import pandas as pd\n",
    "import numpy as np\n",
    "import matplotlib.pyplot as plt\n",
    "import seaborn as sns\n",
    "import re\n",
    "import plotly.express as px"
   ]
  },
  {
   "cell_type": "code",
   "execution_count": 2,
   "id": "f23f9c58",
   "metadata": {},
   "outputs": [],
   "source": [
    "sheet_url = 'https://docs.google.com/spreadsheets/d/1EHa0Vo_HzlXRZyGWkjDC0Hhj3pXH6HvBoFtAIpnqeVk/edit#gid=0'"
   ]
  },
  {
   "cell_type": "code",
   "execution_count": 3,
   "id": "c97c535e",
   "metadata": {},
   "outputs": [],
   "source": [
    "url = sheet_url.replace('/edit#gid=', '/export?format=csv&gid=')"
   ]
  },
  {
   "cell_type": "code",
   "execution_count": 4,
   "id": "3ad30022",
   "metadata": {},
   "outputs": [],
   "source": [
    "df = pd.read_csv(url)"
   ]
  },
  {
   "cell_type": "code",
   "execution_count": 26,
   "id": "7f821354",
   "metadata": {},
   "outputs": [
    {
     "data": {
      "text/html": [
       "<div>\n",
       "<style scoped>\n",
       "    .dataframe tbody tr th:only-of-type {\n",
       "        vertical-align: middle;\n",
       "    }\n",
       "\n",
       "    .dataframe tbody tr th {\n",
       "        vertical-align: top;\n",
       "    }\n",
       "\n",
       "    .dataframe thead th {\n",
       "        text-align: right;\n",
       "    }\n",
       "</style>\n",
       "<table border=\"1\" class=\"dataframe\">\n",
       "  <thead>\n",
       "    <tr style=\"text-align: right;\">\n",
       "      <th></th>\n",
       "      <th>Week</th>\n",
       "      <th>Category</th>\n",
       "      <th>Customers</th>\n",
       "      <th>Contacts</th>\n",
       "      <th>Accepted Contacts</th>\n",
       "      <th>Revenue</th>\n",
       "    </tr>\n",
       "  </thead>\n",
       "  <tbody>\n",
       "    <tr>\n",
       "      <th>0</th>\n",
       "      <td>1</td>\n",
       "      <td>Bathroom Remodel</td>\n",
       "      <td>542</td>\n",
       "      <td>1666</td>\n",
       "      <td>748</td>\n",
       "      <td>41973</td>\n",
       "    </tr>\n",
       "    <tr>\n",
       "      <th>1</th>\n",
       "      <td>1</td>\n",
       "      <td>Concrete Installation</td>\n",
       "      <td>1266</td>\n",
       "      <td>3769</td>\n",
       "      <td>1358</td>\n",
       "      <td>53066</td>\n",
       "    </tr>\n",
       "    <tr>\n",
       "      <th>2</th>\n",
       "      <td>1</td>\n",
       "      <td>DJ</td>\n",
       "      <td>1575</td>\n",
       "      <td>3877</td>\n",
       "      <td>2265</td>\n",
       "      <td>47437</td>\n",
       "    </tr>\n",
       "    <tr>\n",
       "      <th>3</th>\n",
       "      <td>1</td>\n",
       "      <td>Electrical and Wiring Repair</td>\n",
       "      <td>1360</td>\n",
       "      <td>4725</td>\n",
       "      <td>2452</td>\n",
       "      <td>38401</td>\n",
       "    </tr>\n",
       "    <tr>\n",
       "      <th>4</th>\n",
       "      <td>1</td>\n",
       "      <td>Exterior Painting</td>\n",
       "      <td>803</td>\n",
       "      <td>2797</td>\n",
       "      <td>1267</td>\n",
       "      <td>56759</td>\n",
       "    </tr>\n",
       "  </tbody>\n",
       "</table>\n",
       "</div>"
      ],
      "text/plain": [
       "   Week                      Category  Customers  Contacts  Accepted Contacts  \\\n",
       "0     1              Bathroom Remodel        542      1666                748   \n",
       "1     1         Concrete Installation       1266      3769               1358   \n",
       "2     1                            DJ       1575      3877               2265   \n",
       "3     1  Electrical and Wiring Repair       1360      4725               2452   \n",
       "4     1             Exterior Painting        803      2797               1267   \n",
       "\n",
       "   Revenue  \n",
       "0    41973  \n",
       "1    53066  \n",
       "2    47437  \n",
       "3    38401  \n",
       "4    56759  "
      ]
     },
     "execution_count": 26,
     "metadata": {},
     "output_type": "execute_result"
    }
   ],
   "source": [
    "df.head()"
   ]
  },
  {
   "cell_type": "code",
   "execution_count": 50,
   "id": "548e2cd0",
   "metadata": {},
   "outputs": [],
   "source": [
    "df.to_csv('forS.csv', index=False)"
   ]
  },
  {
   "cell_type": "code",
   "execution_count": 6,
   "id": "c44bac4a",
   "metadata": {},
   "outputs": [
    {
     "name": "stdout",
     "output_type": "stream",
     "text": [
      "<class 'pandas.core.frame.DataFrame'>\n",
      "RangeIndex: 260 entries, 0 to 259\n",
      "Data columns (total 6 columns):\n",
      " #   Column             Non-Null Count  Dtype \n",
      "---  ------             --------------  ----- \n",
      " 0   Week               260 non-null    int64 \n",
      " 1   Category           260 non-null    object\n",
      " 2   Customers          260 non-null    int64 \n",
      " 3   Contacts           260 non-null    int64 \n",
      " 4   Accepted Contacts  260 non-null    int64 \n",
      " 5   Revenue            260 non-null    int64 \n",
      "dtypes: int64(5), object(1)\n",
      "memory usage: 12.3+ KB\n"
     ]
    }
   ],
   "source": [
    "df.info()"
   ]
  },
  {
   "cell_type": "code",
   "execution_count": 28,
   "id": "c21397c0",
   "metadata": {},
   "outputs": [
    {
     "data": {
      "text/plain": [
       "count       260.000000\n",
       "mean      59435.726923\n",
       "std       33267.492678\n",
       "min       18239.000000\n",
       "25%       38710.750000\n",
       "50%       50739.500000\n",
       "75%       67737.000000\n",
       "max      184214.000000\n",
       "Name: Revenue, dtype: float64"
      ]
     },
     "execution_count": 28,
     "metadata": {},
     "output_type": "execute_result"
    }
   ],
   "source": [
    "df.Revenue.describe()"
   ]
  },
  {
   "cell_type": "code",
   "execution_count": 7,
   "id": "ed1f454f",
   "metadata": {},
   "outputs": [
    {
     "data": {
      "text/plain": [
       "array(['Bathroom Remodel', 'Concrete Installation', 'DJ',\n",
       "       'Electrical and Wiring Repair', 'Exterior Painting',\n",
       "       'Fence and Gate Installation', 'Floor Installation or Replacement',\n",
       "       'General Contracting', 'Handyman', 'House Cleaning',\n",
       "       'Interior Painting', 'Junk Removal',\n",
       "       'Local Moving (under 50 miles)', 'Outdoor Landscaping and Design',\n",
       "       'Personal Training', 'Property Management',\n",
       "       'Roof Installation or Replacement', 'Tree Trimming and Removal',\n",
       "       'Wedding and Event Catering', 'Wedding and Event Photography'],\n",
       "      dtype=object)"
      ]
     },
     "execution_count": 7,
     "metadata": {},
     "output_type": "execute_result"
    }
   ],
   "source": [
    "df['Category'].unique()"
   ]
  },
  {
   "cell_type": "code",
   "execution_count": 8,
   "id": "cc8c7f3c",
   "metadata": {},
   "outputs": [
    {
     "data": {
      "image/png": "[encoded data removed]",
      "text/plain": [
       "<Figure size 1080x576 with 1 Axes>"
      ]
     },
     "metadata": {
      "needs_background": "light"
     },
     "output_type": "display_data"
    }
   ],
   "source": [
    "fig, ax = plt.subplots()\n",
    "# the size of A4 paper lanscape\n",
    "fig.set_size_inches(15, 8)\n",
    "sns.set_context(\"poster\", font_scale = .6, rc={\"grid.linewidth\": 0.6})\n",
    "sns.scatterplot(data=df, x=\"Accepted Contacts\", y=\"Revenue\", hue=\"Category\")\n",
    "plt.legend(bbox_to_anchor=(1.01, 1), borderaxespad=0)\n",
    "plt.show()"
   ]
  },
  {
   "cell_type": "code",
   "execution_count": 9,
   "id": "262a7993",
   "metadata": {},
   "outputs": [
    {
     "data": {
      "image/png": "[encoded data removed]",
      "text/plain": [
       "<Figure size 432x288 with 1 Axes>"
      ]
     },
     "metadata": {
      "needs_background": "light"
     },
     "output_type": "display_data"
    }
   ],
   "source": [
    "plt.scatter('Revenue', 'Accepted Contacts', data=df)\n",
    "plt.show()"
   ]
  },
  {
   "cell_type": "code",
   "execution_count": 21,
   "id": "d72489e9",
   "metadata": {},
   "outputs": [
    {
     "data": {
      "application/vnd.plotly.v1+json": {
       "config": {
        "plotlyServerURL": "https://plot.ly"
       },
       "data": [
        {
         "hovertemplate": "Category=Bathroom Remodel<br>Accepted Contacts=%{x}<br>Revenue=%{y}<extra></extra>",
         "legendgroup": "Bathroom Remodel",
         "marker": {
          "color": "#636efa",
          "symbol": "circle"
         },
         "mode": "markers",
         "name": "Bathroom Remodel",
         "orientation": "v",
         "showlegend": true,
         "type": "scatter",
         "x": [
          748,
          704,
          647,
          769,
          748,
          688,
          753,
          679,
          718,
          687,
          666,
          667,
          765
         ],
         "xaxis": "x",
         "y": [
          41973,
          38891,
          35939,
          41907,
          39265,
          37886,
          39374,
          36459,
          38017,
          34646,
          35146,
          33886,
          40317
         ],
         "yaxis": "y"
        },
        {
         "hovertemplate": "<b>OLS trendline</b><br>Revenue = 55.5814 * Accepted Contacts + -1523.89<br>R<sup>2</sup>=0.777961<br><br>Category=Bathroom Remodel<br>Accepted Contacts=%{x}<br>Revenue=%{y} <b>(trend)</b><extra></extra>",
         "legendgroup": "Bathroom Remodel",
         "marker": {
          "color": "#636efa",
          "symbol": "circle"
         },
         "mode": "lines",
         "name": "Bathroom Remodel",
         "showlegend": false,
         "type": "scatter",
         "x": [
          647,
          666,
          667,
          679,
          687,
          688,
          704,
          718,
          748,
          748,
          753,
          765,
          769
         ],
         "xaxis": "x",
         "y": [
          34437.27645868788,
          35493.323215576886,
          35548.9046238342,
          36215.88152292199,
          36660.53278898053,
          36716.11419723784,
          37605.416729354896,
          38383.55644495733,
          40050.99869267682,
          40050.99869267682,
          40328.905733963395,
          40995.88263305119,
          41218.20826608046
         ],
         "yaxis": "y"
        },
        {
         "hovertemplate": "Category=Concrete Installation<br>Accepted Contacts=%{x}<br>Revenue=%{y}<extra></extra>",
         "legendgroup": "Concrete Installation",
         "marker": {
          "color": "#EF553B",
          "symbol": "circle"
         },
         "mode": "markers",
         "name": "Concrete Installation",
         "orientation": "v",
         "showlegend": true,
         "type": "scatter",
         "x": [
          1358,
          1483,
          1411,
          1565,
          1372,
          1514,
          1484,
          1455,
          1557,
          1581,
          1437,
          1443,
          1472
         ],
         "xaxis": "x",
         "y": [
          53066,
          54828,
          50853,
          54774,
          46305,
          50680,
          48137,
          43967,
          44692,
          47233,
          43626,
          43830,
          44667
         ],
         "yaxis": "y"
        },
        {
         "hovertemplate": "<b>OLS trendline</b><br>Revenue = 3.66755 * Accepted Contacts + 42807<br>R<sup>2</sup>=0.003747<br><br>Category=Concrete Installation<br>Accepted Contacts=%{x}<br>Revenue=%{y} <b>(trend)</b><extra></extra>",
         "legendgroup": "Concrete Installation",
         "marker": {
          "color": "#EF553B",
          "symbol": "circle"
         },
         "mode": "lines",
         "name": "Concrete Installation",
         "showlegend": false,
         "type": "scatter",
         "x": [
          1358,
          1372,
          1411,
          1437,
          1443,
          1455,
          1472,
          1483,
          1484,
          1514,
          1557,
          1565,
          1581
         ],
         "xaxis": "x",
         "y": [
          47787.489243404896,
          47838.83495226844,
          47981.86942695972,
          48077.22574342058,
          48099.23104721924,
          48143.24165481656,
          48205.59001557942,
          48245.93307254363,
          48249.600623176746,
          48359.627142170044,
          48517.33181939377,
          48546.67222445865,
          48605.35303458841
         ],
         "yaxis": "y"
        },
        {
         "hovertemplate": "Category=DJ<br>Accepted Contacts=%{x}<br>Revenue=%{y}<extra></extra>",
         "legendgroup": "DJ",
         "marker": {
          "color": "#00cc96",
          "symbol": "circle"
         },
         "mode": "markers",
         "name": "DJ",
         "orientation": "v",
         "showlegend": true,
         "type": "scatter",
         "x": [
          2265,
          2191,
          2179,
          2185,
          2116,
          2168,
          2283,
          2303,
          2187,
          2143,
          2264,
          1922,
          2011
         ],
         "xaxis": "x",
         "y": [
          47437,
          44721,
          43569,
          43615,
          40788,
          43165,
          44226,
          43770,
          42490,
          38814,
          41495,
          35754,
          38130
         ],
         "yaxis": "y"
        },
        {
         "hovertemplate": "<b>OLS trendline</b><br>Revenue = 24.1243 * Accepted Contacts + -10210.9<br>R<sup>2</sup>=0.693636<br><br>Category=DJ<br>Accepted Contacts=%{x}<br>Revenue=%{y} <b>(trend)</b><extra></extra>",
         "legendgroup": "DJ",
         "marker": {
          "color": "#00cc96",
          "symbol": "circle"
         },
         "mode": "lines",
         "name": "DJ",
         "showlegend": false,
         "type": "scatter",
         "x": [
          1922,
          2011,
          2116,
          2143,
          2168,
          2179,
          2185,
          2187,
          2191,
          2264,
          2265,
          2283,
          2303
         ],
         "xaxis": "x",
         "y": [
          36156.02221759973,
          38303.08761352579,
          40836.14229411271,
          41487.49921197791,
          42090.60746926052,
          42355.97510246486,
          42500.72108421268,
          42548.96974479529,
          42645.4670659605,
          44406.5431772257,
          44430.667507517,
          44864.905452760475,
          45347.39205858655
         ],
         "yaxis": "y"
        },
        {
         "hovertemplate": "Category=Electrical and Wiring Repair<br>Accepted Contacts=%{x}<br>Revenue=%{y}<extra></extra>",
         "legendgroup": "Electrical and Wiring Repair",
         "marker": {
          "color": "#ab63fa",
          "symbol": "circle"
         },
         "mode": "markers",
         "name": "Electrical and Wiring Repair",
         "orientation": "v",
         "showlegend": true,
         "type": "scatter",
         "x": [
          2452,
          2532,
          2701,
          2675,
          2370,
          2691,
          2571,
          2789,
          2698,
          2973,
          2677,
          2939,
          3065
         ],
         "xaxis": "x",
         "y": [
          38401,
          40156,
          40727,
          40135,
          35258,
          39021,
          36372,
          39519,
          36675,
          38041,
          36025,
          39142,
          39791
         ],
         "yaxis": "y"
        },
        {
         "hovertemplate": "<b>OLS trendline</b><br>Revenue = 3.47722 * Accepted Contacts + 29007.5<br>R<sup>2</sup>=0.154196<br><br>Category=Electrical and Wiring Repair<br>Accepted Contacts=%{x}<br>Revenue=%{y} <b>(trend)</b><extra></extra>",
         "legendgroup": "Electrical and Wiring Repair",
         "marker": {
          "color": "#ab63fa",
          "symbol": "circle"
         },
         "mode": "lines",
         "name": "Electrical and Wiring Repair",
         "showlegend": false,
         "type": "scatter",
         "x": [
          2370,
          2452,
          2532,
          2571,
          2675,
          2677,
          2691,
          2698,
          2701,
          2789,
          2939,
          2973,
          3065
         ],
         "xaxis": "x",
         "y": [
          37248.53592931686,
          37533.66817529146,
          37811.8459762423,
          37947.45765420583,
          38309.08879544191,
          38316.04324046568,
          38364.724355632075,
          38389.064913215276,
          38399.49658075093,
          38705.49216179685,
          39227.075538579666,
          39345.301103983766,
          39665.20557507723
         ],
         "yaxis": "y"
        },
        {
         "hovertemplate": "Category=Exterior Painting<br>Accepted Contacts=%{x}<br>Revenue=%{y}<extra></extra>",
         "legendgroup": "Exterior Painting",
         "marker": {
          "color": "#FFA15A",
          "symbol": "circle"
         },
         "mode": "markers",
         "name": "Exterior Painting",
         "orientation": "v",
         "showlegend": true,
         "type": "scatter",
         "x": [
          1267,
          1341,
          1288,
          1371,
          1289,
          1326,
          1100,
          1219,
          1278,
          1269,
          1159,
          1203,
          1213
         ],
         "xaxis": "x",
         "y": [
          56759,
          57346,
          52836,
          54531,
          50966,
          53463,
          45730,
          47016,
          47881,
          49304,
          46195,
          48402,
          46137
         ],
         "yaxis": "y"
        },
        {
         "hovertemplate": "<b>OLS trendline</b><br>Revenue = 43.0564 * Accepted Contacts + -3557.19<br>R<sup>2</sup>=0.624456<br><br>Category=Exterior Painting<br>Accepted Contacts=%{x}<br>Revenue=%{y} <b>(trend)</b><extra></extra>",
         "legendgroup": "Exterior Painting",
         "marker": {
          "color": "#FFA15A",
          "symbol": "circle"
         },
         "mode": "lines",
         "name": "Exterior Painting",
         "showlegend": false,
         "type": "scatter",
         "x": [
          1100,
          1159,
          1203,
          1213,
          1219,
          1267,
          1269,
          1278,
          1288,
          1289,
          1326,
          1341,
          1371
         ],
         "xaxis": "x",
         "y": [
          43804.839871868564,
          46345.16701881707,
          48239.64828094816,
          48670.21220415977,
          48928.55055808673,
          50995.25738950247,
          51081.37017414479,
          51468.877705035244,
          51899.44162824685,
          51942.49802056801,
          53535.58453645097,
          54181.43042126839,
          55473.122190903225
         ],
         "yaxis": "y"
        },
        {
         "hovertemplate": "Category=Fence and Gate Installation<br>Accepted Contacts=%{x}<br>Revenue=%{y}<extra></extra>",
         "legendgroup": "Fence and Gate Installation",
         "marker": {
          "color": "#19d3f3",
          "symbol": "circle"
         },
         "mode": "markers",
         "name": "Fence and Gate Installation",
         "orientation": "v",
         "showlegend": true,
         "type": "scatter",
         "x": [
          1687,
          1832,
          1764,
          1860,
          1741,
          1539,
          1560,
          1623,
          1510,
          1570,
          1605,
          1438,
          1528
         ],
         "xaxis": "x",
         "y": [
          54157,
          57950,
          50419,
          50062,
          50799,
          45874,
          44958,
          45064,
          44815,
          43425,
          45346,
          42366,
          42453
         ],
         "yaxis": "y"
        },
        {
         "hovertemplate": "<b>OLS trendline</b><br>Revenue = 30.5814 * Accepted Contacts + -2490.84<br>R<sup>2</sup>=0.701083<br><br>Category=Fence and Gate Installation<br>Accepted Contacts=%{x}<br>Revenue=%{y} <b>(trend)</b><extra></extra>",
         "legendgroup": "Fence and Gate Installation",
         "marker": {
          "color": "#19d3f3",
          "symbol": "circle"
         },
         "mode": "lines",
         "name": "Fence and Gate Installation",
         "showlegend": false,
         "type": "scatter",
         "x": [
          1438,
          1510,
          1528,
          1539,
          1560,
          1570,
          1605,
          1623,
          1687,
          1741,
          1764,
          1832,
          1860
         ],
         "xaxis": "x",
         "y": [
          41485.21953399791,
          43687.080835667,
          44237.546161084276,
          44573.94163772816,
          45216.151184048314,
          45521.965253724586,
          46592.314497591506,
          47142.77982300878,
          49099.98986893686,
          50751.38584518868,
          51454.758205444086,
          53534.29387924267,
          54390.5732743362
         ],
         "yaxis": "y"
        },
        {
         "hovertemplate": "Category=Floor Installation or Replacement<br>Accepted Contacts=%{x}<br>Revenue=%{y}<extra></extra>",
         "legendgroup": "Floor Installation or Replacement",
         "marker": {
          "color": "#FF6692",
          "symbol": "circle"
         },
         "mode": "markers",
         "name": "Floor Installation or Replacement",
         "orientation": "v",
         "showlegend": true,
         "type": "scatter",
         "x": [
          1431,
          1403,
          1451,
          1415,
          1504,
          1355,
          1519,
          1512,
          1661,
          1663,
          1534,
          1689,
          1572
         ],
         "xaxis": "x",
         "y": [
          56464,
          53133,
          54948,
          51381,
          52277,
          49171,
          51967,
          51685,
          51061,
          51929,
          48770,
          50802,
          49506
         ],
         "yaxis": "y"
        },
        {
         "hovertemplate": "<b>OLS trendline</b><br>Revenue = -5.38105 * Accepted Contacts + 59934.5<br>R<sup>2</sup>=0.069614<br><br>Category=Floor Installation or Replacement<br>Accepted Contacts=%{x}<br>Revenue=%{y} <b>(trend)</b><extra></extra>",
         "legendgroup": "Floor Installation or Replacement",
         "marker": {
          "color": "#FF6692",
          "symbol": "circle"
         },
         "mode": "lines",
         "name": "Floor Installation or Replacement",
         "showlegend": false,
         "type": "scatter",
         "x": [
          1355,
          1403,
          1415,
          1431,
          1451,
          1504,
          1512,
          1519,
          1534,
          1572,
          1661,
          1663,
          1689
         ],
         "xaxis": "x",
         "y": [
          52643.224486852494,
          52384.93409535492,
          52320.361497480524,
          52234.26470031466,
          52126.64370385734,
          51841.448063245436,
          51798.3996646625,
          51760.73231590244,
          51680.01656855945,
          51475.53667529054,
          50996.62324105545,
          50985.86114140972,
          50845.953846015196
         ],
         "yaxis": "y"
        },
        {
         "hovertemplate": "Category=General Contracting<br>Accepted Contacts=%{x}<br>Revenue=%{y}<extra></extra>",
         "legendgroup": "General Contracting",
         "marker": {
          "color": "#B6E880",
          "symbol": "circle"
         },
         "mode": "markers",
         "name": "General Contracting",
         "orientation": "v",
         "showlegend": true,
         "type": "scatter",
         "x": [
          1160,
          1320,
          1269,
          1177,
          1114,
          1243,
          1355,
          1434,
          1295,
          1480,
          1265,
          1252,
          1284
         ],
         "xaxis": "x",
         "y": [
          62961,
          66633,
          59584,
          56203,
          53763,
          55161,
          58061,
          62356,
          56312,
          60742,
          57346,
          55338,
          58380
         ],
         "yaxis": "y"
        },
        {
         "hovertemplate": "<b>OLS trendline</b><br>Revenue = 15.882 * Accepted Contacts + 38341.3<br>R<sup>2</sup>=0.196700<br><br>Category=General Contracting<br>Accepted Contacts=%{x}<br>Revenue=%{y} <b>(trend)</b><extra></extra>",
         "legendgroup": "General Contracting",
         "marker": {
          "color": "#B6E880",
          "symbol": "circle"
         },
         "mode": "lines",
         "name": "General Contracting",
         "showlegend": false,
         "type": "scatter",
         "x": [
          1114,
          1160,
          1177,
          1243,
          1252,
          1265,
          1269,
          1284,
          1295,
          1320,
          1355,
          1434,
          1480
         ],
         "xaxis": "x",
         "y": [
          56033.81945532789,
          56764.3900766178,
          57034.383567094505,
          58082.593588945245,
          58225.53131919762,
          58431.996929562156,
          58495.52480967433,
          58733.75436009495,
          58908.45603040341,
          59305.505281104444,
          59861.3742320859,
          61116.04986430118,
          61846.62048559109
         ],
         "yaxis": "y"
        },
        {
         "hovertemplate": "Category=Handyman<br>Accepted Contacts=%{x}<br>Revenue=%{y}<extra></extra>",
         "legendgroup": "Handyman",
         "marker": {
          "color": "#FF97FF",
          "symbol": "circle"
         },
         "mode": "markers",
         "name": "Handyman",
         "orientation": "v",
         "showlegend": true,
         "type": "scatter",
         "x": [
          6834,
          8102,
          8024,
          8158,
          8161,
          7839,
          8157,
          8180,
          8179,
          8472,
          8271,
          8760,
          9047
         ],
         "xaxis": "x",
         "y": [
          61227,
          70622,
          67616,
          68139,
          66416,
          64208,
          63505,
          60382,
          58229,
          58661,
          59619,
          61827,
          62459
         ],
         "yaxis": "y"
        },
        {
         "hovertemplate": "<b>OLS trendline</b><br>Revenue = -0.701378 * Accepted Contacts + 69029.6<br>R<sup>2</sup>=0.008453<br><br>Category=Handyman<br>Accepted Contacts=%{x}<br>Revenue=%{y} <b>(trend)</b><extra></extra>",
         "legendgroup": "Handyman",
         "marker": {
          "color": "#FF97FF",
          "symbol": "circle"
         },
         "mode": "lines",
         "name": "Handyman",
         "showlegend": false,
         "type": "scatter",
         "x": [
          6834,
          7839,
          8024,
          8102,
          8157,
          8158,
          8161,
          8179,
          8180,
          8271,
          8472,
          8760,
          9047
         ],
         "xaxis": "x",
         "y": [
          64236.40743797958,
          63531.52258172289,
          63401.76765793435,
          63347.060176553234,
          63308.484388399884,
          63307.78301043346,
          63305.678876534184,
          63293.05407313854,
          63292.352695172114,
          63228.527300227484,
          63087.55032897615,
          62885.55347464587,
          62684.257998282024
         ],
         "yaxis": "y"
        },
        {
         "hovertemplate": "Category=House Cleaning<br>Accepted Contacts=%{x}<br>Revenue=%{y}<extra></extra>",
         "legendgroup": "House Cleaning",
         "marker": {
          "color": "#FECB52",
          "symbol": "circle"
         },
         "mode": "markers",
         "name": "House Cleaning",
         "orientation": "v",
         "showlegend": true,
         "type": "scatter",
         "x": [
          12235,
          12923,
          13051,
          13500,
          13687,
          13380,
          13274,
          14401,
          15921,
          14757,
          14928,
          16542,
          18619
         ],
         "xaxis": "x",
         "y": [
          169773,
          176109,
          168267,
          167534,
          165155,
          163254,
          157545,
          160187,
          166974,
          159349,
          168021,
          175866,
          184214
         ],
         "yaxis": "y"
        },
        {
         "hovertemplate": "<b>OLS trendline</b><br>Revenue = 2.2312 * Accepted Contacts + 135733<br>R<sup>2</sup>=0.277819<br><br>Category=House Cleaning<br>Accepted Contacts=%{x}<br>Revenue=%{y} <b>(trend)</b><extra></extra>",
         "legendgroup": "House Cleaning",
         "marker": {
          "color": "#FECB52",
          "symbol": "circle"
         },
         "mode": "lines",
         "name": "House Cleaning",
         "showlegend": false,
         "type": "scatter",
         "x": [
          12235,
          12923,
          13051,
          13274,
          13380,
          13500,
          13687,
          14401,
          14757,
          14928,
          15921,
          16542,
          18619
         ],
         "xaxis": "x",
         "y": [
          163031.60164406712,
          164566.6646308038,
          164852.2577446153,
          165349.81449758372,
          165586.32129495882,
          165854.0648391571,
          166271.29852886603,
          167864.37261684568,
          168658.67846463382,
          169040.21301511634,
          171255.79084335692,
          172641.3636845829,
          177275.5581954144
         ],
         "yaxis": "y"
        },
        {
         "hovertemplate": "Category=Interior Painting<br>Accepted Contacts=%{x}<br>Revenue=%{y}<extra></extra>",
         "legendgroup": "Interior Painting",
         "marker": {
          "color": "#636efa",
          "symbol": "circle"
         },
         "mode": "markers",
         "name": "Interior Painting",
         "orientation": "v",
         "showlegend": true,
         "type": "scatter",
         "x": [
          3309,
          3596,
          3506,
          3581,
          3804,
          3674,
          3628,
          3781,
          4150,
          4396,
          4100,
          4199,
          4428
         ],
         "xaxis": "x",
         "y": [
          110909,
          115172,
          109338,
          108500,
          116278,
          110126,
          108522,
          107376,
          108474,
          110746,
          108881,
          107498,
          119720
         ],
         "yaxis": "y"
        },
        {
         "hovertemplate": "<b>OLS trendline</b><br>Revenue = 2.1731 * Accepted Contacts + 102504<br>R<sup>2</sup>=0.041961<br><br>Category=Interior Painting<br>Accepted Contacts=%{x}<br>Revenue=%{y} <b>(trend)</b><extra></extra>",
         "legendgroup": "Interior Painting",
         "marker": {
          "color": "#636efa",
          "symbol": "circle"
         },
         "mode": "lines",
         "name": "Interior Painting",
         "showlegend": false,
         "type": "scatter",
         "x": [
          3309,
          3506,
          3581,
          3596,
          3628,
          3674,
          3781,
          3804,
          4100,
          4150,
          4199,
          4396,
          4428
         ],
         "xaxis": "x",
         "y": [
          109694.99532065482,
          110123.09580892432,
          110286.07822831627,
          110318.67471219465,
          110388.21387780189,
          110488.17642836228,
          110720.69801336146,
          110770.67928864165,
          111413.91657050852,
          111522.57151676982,
          111629.05336410589,
          112057.1538523754,
          112126.69301798263
         ],
         "yaxis": "y"
        },
        {
         "hovertemplate": "Category=Junk Removal<br>Accepted Contacts=%{x}<br>Revenue=%{y}<extra></extra>",
         "legendgroup": "Junk Removal",
         "marker": {
          "color": "#EF553B",
          "symbol": "circle"
         },
         "mode": "markers",
         "name": "Junk Removal",
         "orientation": "v",
         "showlegend": true,
         "type": "scatter",
         "x": [
          2874,
          3057,
          3067,
          3328,
          3420,
          3158,
          3316,
          3751,
          4382,
          4170,
          3983,
          4157,
          4640
         ],
         "xaxis": "x",
         "y": [
          24239,
          26438,
          25313,
          27011,
          27116,
          24575,
          24914,
          27403,
          30403,
          29174,
          27511,
          30122,
          31767
         ],
         "yaxis": "y"
        },
        {
         "hovertemplate": "<b>OLS trendline</b><br>Revenue = 3.90999 * Accepted Contacts + 13156.3<br>R<sup>2</sup>=0.887641<br><br>Category=Junk Removal<br>Accepted Contacts=%{x}<br>Revenue=%{y} <b>(trend)</b><extra></extra>",
         "legendgroup": "Junk Removal",
         "marker": {
          "color": "#EF553B",
          "symbol": "circle"
         },
         "mode": "lines",
         "name": "Junk Removal",
         "showlegend": false,
         "type": "scatter",
         "x": [
          2874,
          3057,
          3067,
          3158,
          3316,
          3328,
          3420,
          3751,
          3983,
          4157,
          4170,
          4382,
          4640
         ],
         "xaxis": "x",
         "y": [
          24393.599101846325,
          25109.127291838042,
          25148.227192930484,
          25504.036292871715,
          26121.81473013232,
          26168.73461144325,
          26528.45370149373,
          27822.6604276536,
          28729.77813299829,
          29410.1164120068,
          29460.94628342698,
          30289.864186586776,
          31298.64163477181
         ],
         "yaxis": "y"
        },
        {
         "hovertemplate": "Category=Local Moving (under 50 miles)<br>Accepted Contacts=%{x}<br>Revenue=%{y}<extra></extra>",
         "legendgroup": "Local Moving (under 50 miles)",
         "marker": {
          "color": "#00cc96",
          "symbol": "circle"
         },
         "mode": "markers",
         "name": "Local Moving (under 50 miles)",
         "orientation": "v",
         "showlegend": true,
         "type": "scatter",
         "x": [
          5719,
          5959,
          5820,
          6668,
          6659,
          6674,
          7576,
          8337,
          9157,
          8189,
          8537,
          9504,
          10474
         ],
         "xaxis": "x",
         "y": [
          74190,
          78796,
          76509,
          84475,
          84854,
          81331,
          89086,
          93835,
          98134,
          90929,
          100044,
          105028,
          108265
         ],
         "yaxis": "y"
        },
        {
         "hovertemplate": "<b>OLS trendline</b><br>Revenue = 7.01417 * Accepted Contacts + 36089.1<br>R<sup>2</sup>=0.965140<br><br>Category=Local Moving (under 50 miles)<br>Accepted Contacts=%{x}<br>Revenue=%{y} <b>(trend)</b><extra></extra>",
         "legendgroup": "Local Moving (under 50 miles)",
         "marker": {
          "color": "#00cc96",
          "symbol": "circle"
         },
         "mode": "lines",
         "name": "Local Moving (under 50 miles)",
         "showlegend": false,
         "type": "scatter",
         "x": [
          5719,
          5820,
          5959,
          6659,
          6668,
          6674,
          7576,
          8189,
          8337,
          8537,
          9157,
          9504,
          10474
         ],
         "xaxis": "x",
         "y": [
          76203.12898044498,
          76911.56064411649,
          77886.53095352577,
          82796.45337501139,
          82859.58094900192,
          82901.66599832894,
          89228.45174715755,
          93528.1409534014,
          94566.2388368012,
          95969.07381436853,
          100317.86224482722,
          102751.78093090652,
          109555.53057210804
         ],
         "yaxis": "y"
        },
        {
         "hovertemplate": "Category=Outdoor Landscaping and Design<br>Accepted Contacts=%{x}<br>Revenue=%{y}<extra></extra>",
         "legendgroup": "Outdoor Landscaping and Design",
         "marker": {
          "color": "#ab63fa",
          "symbol": "circle"
         },
         "mode": "markers",
         "name": "Outdoor Landscaping and Design",
         "orientation": "v",
         "showlegend": true,
         "type": "scatter",
         "x": [
          2842,
          3526,
          3343,
          3492,
          2895,
          2901,
          2716,
          2713,
          2573,
          2861,
          2579,
          2428,
          2542
         ],
         "xaxis": "x",
         "y": [
          90654,
          101802,
          91499,
          92405,
          76209,
          77513,
          73454,
          70694,
          70698,
          71353,
          68100,
          61999,
          64043
         ],
         "yaxis": "y"
        },
        {
         "hovertemplate": "<b>OLS trendline</b><br>Revenue = 31.3882 * Accepted Contacts + -12603<br>R<sup>2</sup>=0.839293<br><br>Category=Outdoor Landscaping and Design<br>Accepted Contacts=%{x}<br>Revenue=%{y} <b>(trend)</b><extra></extra>",
         "legendgroup": "Outdoor Landscaping and Design",
         "marker": {
          "color": "#ab63fa",
          "symbol": "circle"
         },
         "mode": "lines",
         "name": "Outdoor Landscaping and Design",
         "showlegend": false,
         "type": "scatter",
         "x": [
          2428,
          2542,
          2573,
          2579,
          2713,
          2716,
          2842,
          2861,
          2895,
          2901,
          3343,
          3492,
          3526
         ],
         "xaxis": "x",
         "y": [
          63607.41964057683,
          67185.66935712636,
          68158.70217478456,
          68347.03110723454,
          72553.04393195065,
          72647.20839817564,
          76602.11597962512,
          77198.49093238337,
          78265.68821626657,
          78454.01714871655,
          92327.58183919806,
          97004.41699503911,
          98071.6142789223
         ],
         "yaxis": "y"
        },
        {
         "hovertemplate": "Category=Personal Training<br>Accepted Contacts=%{x}<br>Revenue=%{y}<extra></extra>",
         "legendgroup": "Personal Training",
         "marker": {
          "color": "#FFA15A",
          "symbol": "circle"
         },
         "mode": "markers",
         "name": "Personal Training",
         "orientation": "v",
         "showlegend": true,
         "type": "scatter",
         "x": [
          3475,
          3337,
          3132,
          3354,
          3103,
          3217,
          3693,
          4115,
          4209,
          4183,
          4675,
          4504,
          4299
         ],
         "xaxis": "x",
         "y": [
          31076,
          29489,
          27636,
          28821,
          26216,
          27462,
          31402,
          35287,
          35969,
          32744,
          39080,
          36135,
          35664
         ],
         "yaxis": "y"
        },
        {
         "hovertemplate": "<b>OLS trendline</b><br>Revenue = 7.0936 * Accepted Contacts + 5176.51<br>R<sup>2</sup>=0.944718<br><br>Category=Personal Training<br>Accepted Contacts=%{x}<br>Revenue=%{y} <b>(trend)</b><extra></extra>",
         "legendgroup": "Personal Training",
         "marker": {
          "color": "#FFA15A",
          "symbol": "circle"
         },
         "mode": "lines",
         "name": "Personal Training",
         "showlegend": false,
         "type": "scatter",
         "x": [
          3103,
          3132,
          3217,
          3337,
          3354,
          3475,
          3693,
          4115,
          4183,
          4209,
          4299,
          4504,
          4675
         ],
         "xaxis": "x",
         "y": [
          27187.96786993048,
          27393.6824075029,
          27996.638810732424,
          28847.871379997632,
          28968.462660643534,
          29826.788834652616,
          31373.19466881774,
          34366.69587073372,
          34849.06099331733,
          35033.494716658126,
          35671.91914360703,
          37126.108116101765,
          38339.11452730468
         ],
         "yaxis": "y"
        },
        {
         "hovertemplate": "Category=Property Management<br>Accepted Contacts=%{x}<br>Revenue=%{y}<extra></extra>",
         "legendgroup": "Property Management",
         "marker": {
          "color": "#19d3f3",
          "symbol": "circle"
         },
         "mode": "markers",
         "name": "Property Management",
         "orientation": "v",
         "showlegend": true,
         "type": "scatter",
         "x": [
          511,
          503,
          539,
          519,
          527,
          477,
          506,
          480,
          542,
          477,
          600,
          574,
          637
         ],
         "xaxis": "x",
         "y": [
          22124,
          21321,
          22801,
          21697,
          22557,
          20812,
          20942,
          20384,
          23188,
          18239,
          25378,
          23299,
          27721
         ],
         "yaxis": "y"
        },
        {
         "hovertemplate": "<b>OLS trendline</b><br>Revenue = 46.1822 * Accepted Contacts + -2140.38<br>R<sup>2</sup>=0.911408<br><br>Category=Property Management<br>Accepted Contacts=%{x}<br>Revenue=%{y} <b>(trend)</b><extra></extra>",
         "legendgroup": "Property Management",
         "marker": {
          "color": "#19d3f3",
          "symbol": "circle"
         },
         "mode": "lines",
         "name": "Property Management",
         "showlegend": false,
         "type": "scatter",
         "x": [
          477,
          477,
          480,
          503,
          506,
          511,
          519,
          527,
          539,
          542,
          574,
          600,
          637
         ],
         "xaxis": "x",
         "y": [
          19888.544751399146,
          19888.544751399146,
          20027.091429684868,
          21089.28262987539,
          21227.829308161112,
          21458.740438637313,
          21828.198247399232,
          22197.656056161155,
          22751.842769304036,
          22890.389447589758,
          24368.220682637442,
          25568.958561113686,
          27277.70092663757
         ],
         "yaxis": "y"
        },
        {
         "hovertemplate": "Category=Roof Installation or Replacement<br>Accepted Contacts=%{x}<br>Revenue=%{y}<extra></extra>",
         "legendgroup": "Roof Installation or Replacement",
         "marker": {
          "color": "#FF6692",
          "symbol": "circle"
         },
         "mode": "markers",
         "name": "Roof Installation or Replacement",
         "orientation": "v",
         "showlegend": true,
         "type": "scatter",
         "x": [
          1205,
          1405,
          1460,
          1570,
          1620,
          1458,
          1504,
          1405,
          1397,
          1498,
          1444,
          1514,
          1558
         ],
         "xaxis": "x",
         "y": [
          69422,
          78369,
          81902,
          86862,
          90495,
          81169,
          83097,
          74511,
          74828,
          77422,
          76936,
          81331,
          84353
         ],
         "yaxis": "y"
        },
        {
         "hovertemplate": "<b>OLS trendline</b><br>Revenue = 49.9762 * Accepted Contacts + 6865.45<br>R<sup>2</sup>=0.845638<br><br>Category=Roof Installation or Replacement<br>Accepted Contacts=%{x}<br>Revenue=%{y} <b>(trend)</b><extra></extra>",
         "legendgroup": "Roof Installation or Replacement",
         "marker": {
          "color": "#FF6692",
          "symbol": "circle"
         },
         "mode": "lines",
         "name": "Roof Installation or Replacement",
         "showlegend": false,
         "type": "scatter",
         "x": [
          1205,
          1397,
          1405,
          1405,
          1444,
          1458,
          1460,
          1498,
          1504,
          1514,
          1558,
          1570,
          1620
         ],
         "xaxis": "x",
         "y": [
          67086.72468709416,
          76682.14691686377,
          77081.9561764375,
          77081.9561764375,
          79031.02631685945,
          79730.69252111348,
          79830.64483600692,
          81729.73881898215,
          82029.59576366245,
          82529.35733812962,
          84728.30826578516,
          85328.02215514575,
          87826.8300274816
         ],
         "yaxis": "y"
        },
        {
         "hovertemplate": "Category=Tree Trimming and Removal<br>Accepted Contacts=%{x}<br>Revenue=%{y}<extra></extra>",
         "legendgroup": "Tree Trimming and Removal",
         "marker": {
          "color": "#B6E880",
          "symbol": "circle"
         },
         "mode": "markers",
         "name": "Tree Trimming and Removal",
         "orientation": "v",
         "showlegend": true,
         "type": "scatter",
         "x": [
          1954,
          2379,
          2600,
          2568,
          2209,
          2021,
          2009,
          2320,
          2001,
          2170,
          2354,
          2242,
          2416
         ],
         "xaxis": "x",
         "y": [
          47539,
          53878,
          55782,
          54626,
          47803,
          44590,
          44018,
          48691,
          41948,
          42609,
          44106,
          45038,
          46356
         ],
         "yaxis": "y"
        },
        {
         "hovertemplate": "<b>OLS trendline</b><br>Revenue = 15.9523 * Accepted Contacts + 11576.2<br>R<sup>2</sup>=0.549025<br><br>Category=Tree Trimming and Removal<br>Accepted Contacts=%{x}<br>Revenue=%{y} <b>(trend)</b><extra></extra>",
         "legendgroup": "Tree Trimming and Removal",
         "marker": {
          "color": "#B6E880",
          "symbol": "circle"
         },
         "mode": "lines",
         "name": "Tree Trimming and Removal",
         "showlegend": false,
         "type": "scatter",
         "x": [
          1954,
          2001,
          2009,
          2021,
          2170,
          2209,
          2242,
          2320,
          2354,
          2379,
          2416,
          2568,
          2600
         ],
         "xaxis": "x",
         "y": [
          42747.018121802845,
          43496.77597850122,
          43624.394337088175,
          43815.821874968606,
          46192.71380365068,
          46814.853301762094,
          47341.27903093329,
          48585.55802715612,
          49127.93605115068,
          49526.74342173492,
          50116.97833019959,
          52541.727143351774,
          53052.20057769961
         ],
         "yaxis": "y"
        },
        {
         "hovertemplate": "Category=Wedding and Event Catering<br>Accepted Contacts=%{x}<br>Revenue=%{y}<extra></extra>",
         "legendgroup": "Wedding and Event Catering",
         "marker": {
          "color": "#FF97FF",
          "symbol": "circle"
         },
         "mode": "markers",
         "name": "Wedding and Event Catering",
         "orientation": "v",
         "showlegend": true,
         "type": "scatter",
         "x": [
          1400,
          1489,
          1388,
          1450,
          1517,
          1451,
          1371,
          1397,
          1400,
          1409,
          1388,
          1427,
          1248
         ],
         "xaxis": "x",
         "y": [
          38176,
          39003,
          37303,
          37061,
          37453,
          37334,
          35010,
          35652,
          36290,
          32764,
          36349,
          34346,
          32409
         ],
         "yaxis": "y"
        },
        {
         "hovertemplate": "<b>OLS trendline</b><br>Revenue = 20.4203 * Accepted Contacts + 7287.95<br>R<sup>2</sup>=0.439558<br><br>Category=Wedding and Event Catering<br>Accepted Contacts=%{x}<br>Revenue=%{y} <b>(trend)</b><extra></extra>",
         "legendgroup": "Wedding and Event Catering",
         "marker": {
          "color": "#FF97FF",
          "symbol": "circle"
         },
         "mode": "lines",
         "name": "Wedding and Event Catering",
         "showlegend": false,
         "type": "scatter",
         "x": [
          1248,
          1371,
          1388,
          1388,
          1397,
          1400,
          1400,
          1409,
          1427,
          1450,
          1451,
          1489,
          1517
         ],
         "xaxis": "x",
         "y": [
          32772.51448462949,
          35284.214787366334,
          35631.3603576633,
          35631.3603576633,
          35815.143306644044,
          35876.40428963763,
          35876.40428963763,
          36060.18723861837,
          36427.753136579864,
          36897.420672863984,
          36917.84100052851,
          37693.813451780545,
          38265.5826263873
         ],
         "yaxis": "y"
        },
        {
         "hovertemplate": "Category=Wedding and Event Photography<br>Accepted Contacts=%{x}<br>Revenue=%{y}<extra></extra>",
         "legendgroup": "Wedding and Event Photography",
         "marker": {
          "color": "#FECB52",
          "symbol": "circle"
         },
         "mode": "markers",
         "name": "Wedding and Event Photography",
         "orientation": "v",
         "showlegend": true,
         "type": "scatter",
         "x": [
          3656,
          3527,
          3550,
          3603,
          3418,
          3698,
          3884,
          3541,
          3448,
          3576,
          3686,
          3481,
          3513
         ],
         "xaxis": "x",
         "y": [
          65327,
          61429,
          62885,
          60510,
          56043,
          59614,
          61496,
          57257,
          55818,
          54957,
          57573,
          54158,
          55575
         ],
         "yaxis": "y"
        },
        {
         "hovertemplate": "<b>OLS trendline</b><br>Revenue = 14.2069 * Accepted Contacts + 7759.4<br>R<sup>2</sup>=0.262197<br><br>Category=Wedding and Event Photography<br>Accepted Contacts=%{x}<br>Revenue=%{y} <b>(trend)</b><extra></extra>",
         "legendgroup": "Wedding and Event Photography",
         "marker": {
          "color": "#FECB52",
          "symbol": "circle"
         },
         "mode": "lines",
         "name": "Wedding and Event Photography",
         "showlegend": false,
         "type": "scatter",
         "x": [
          3418,
          3448,
          3481,
          3513,
          3527,
          3541,
          3550,
          3576,
          3603,
          3656,
          3686,
          3698,
          3884
         ],
         "xaxis": "x",
         "y": [
          56318.45155865806,
          56744.6573770667,
          57213.4837773162,
          57668.10331695208,
          57866.999365542775,
          58065.895414133476,
          58193.75715965607,
          58563.13553561022,
          58946.72077217799,
          59699.684384699925,
          60125.89020310856,
          60296.372530472014,
          62938.84860460557
         ],
         "yaxis": "y"
        }
       ],
       "layout": {
        "legend": {
         "title": {
          "text": "Category"
         },
         "tracegroupgap": 0
        },
        "margin": {
         "t": 60
        },
        "template": {
         "data": {
          "bar": [
           {
            "error_x": {
             "color": "#2a3f5f"
            },
            "error_y": {
             "color": "#2a3f5f"
            },
            "marker": {
             "line": {
              "color": "#E5ECF6",
              "width": 0.5
             },
             "pattern": {
              "fillmode": "overlay",
              "size": 10,
              "solidity": 0.2
             }
            },
            "type": "bar"
           }
          ],
          "barpolar": [
           {
            "marker": {
             "line": {
              "color": "#E5ECF6",
              "width": 0.5
             },
             "pattern": {
              "fillmode": "overlay",
              "size": 10,
              "solidity": 0.2
             }
            },
            "type": "barpolar"
           }
          ],
          "carpet": [
           {
            "aaxis": {
             "endlinecolor": "#2a3f5f",
             "gridcolor": "white",
             "linecolor": "white",
             "minorgridcolor": "white",
             "startlinecolor": "#2a3f5f"
            },
            "baxis": {
             "endlinecolor": "#2a3f5f",
             "gridcolor": "white",
             "linecolor": "white",
             "minorgridcolor": "white",
             "startlinecolor": "#2a3f5f"
            },
            "type": "carpet"
           }
          ],
          "choropleth": [
           {
            "colorbar": {
             "outlinewidth": 0,
             "ticks": ""
            },
            "type": "choropleth"
           }
          ],
          "contour": [
           {
            "colorbar": {
             "outlinewidth": 0,
             "ticks": ""
            },
            "colorscale": [
             [
              0,
              "#0d0887"
             ],
             [
              0.1111111111111111,
              "#46039f"
             ],
             [
              0.2222222222222222,
              "#7201a8"
             ],
             [
              0.3333333333333333,
              "#9c179e"
             ],
             [
              0.4444444444444444,
              "#bd3786"
             ],
             [
              0.5555555555555556,
              "#d8576b"
             ],
             [
              0.6666666666666666,
              "#ed7953"
             ],
             [
              0.7777777777777778,
              "#fb9f3a"
             ],
             [
              0.8888888888888888,
              "#fdca26"
             ],
             [
              1,
              "#f0f921"
             ]
            ],
            "type": "contour"
           }
          ],
          "contourcarpet": [
           {
            "colorbar": {
             "outlinewidth": 0,
             "ticks": ""
            },
            "type": "contourcarpet"
           }
          ],
          "heatmap": [
           {
            "colorbar": {
             "outlinewidth": 0,
             "ticks": ""
            },
            "colorscale": [
             [
              0,
              "#0d0887"
             ],
             [
              0.1111111111111111,
              "#46039f"
             ],
             [
              0.2222222222222222,
              "#7201a8"
             ],
             [
              0.3333333333333333,
              "#9c179e"
             ],
             [
              0.4444444444444444,
              "#bd3786"
             ],
             [
              0.5555555555555556,
              "#d8576b"
             ],
             [
              0.6666666666666666,
              "#ed7953"
             ],
             [
              0.7777777777777778,
              "#fb9f3a"
             ],
             [
              0.8888888888888888,
              "#fdca26"
             ],
             [
              1,
              "#f0f921"
             ]
            ],
            "type": "heatmap"
           }
          ],
          "heatmapgl": [
           {
            "colorbar": {
             "outlinewidth": 0,
             "ticks": ""
            },
            "colorscale": [
             [
              0,
              "#0d0887"
             ],
             [
              0.1111111111111111,
              "#46039f"
             ],
             [
              0.2222222222222222,
              "#7201a8"
             ],
             [
              0.3333333333333333,
              "#9c179e"
             ],
             [
              0.4444444444444444,
              "#bd3786"
             ],
             [
              0.5555555555555556,
              "#d8576b"
             ],
             [
              0.6666666666666666,
              "#ed7953"
             ],
             [
              0.7777777777777778,
              "#fb9f3a"
             ],
             [
              0.8888888888888888,
              "#fdca26"
             ],
             [
              1,
              "#f0f921"
             ]
            ],
            "type": "heatmapgl"
           }
          ],
          "histogram": [
           {
            "marker": {
             "pattern": {
              "fillmode": "overlay",
              "size": 10,
              "solidity": 0.2
             }
            },
            "type": "histogram"
           }
          ],
          "histogram2d": [
           {
            "colorbar": {
             "outlinewidth": 0,
             "ticks": ""
            },
            "colorscale": [
             [
              0,
              "#0d0887"
             ],
             [
              0.1111111111111111,
              "#46039f"
             ],
             [
              0.2222222222222222,
              "#7201a8"
             ],
             [
              0.3333333333333333,
              "#9c179e"
             ],
             [
              0.4444444444444444,
              "#bd3786"
             ],
             [
              0.5555555555555556,
              "#d8576b"
             ],
             [
              0.6666666666666666,
              "#ed7953"
             ],
             [
              0.7777777777777778,
              "#fb9f3a"
             ],
             [
              0.8888888888888888,
              "#fdca26"
             ],
             [
              1,
              "#f0f921"
             ]
            ],
            "type": "histogram2d"
           }
          ],
          "histogram2dcontour": [
           {
            "colorbar": {
             "outlinewidth": 0,
             "ticks": ""
            },
            "colorscale": [
             [
              0,
              "#0d0887"
             ],
             [
              0.1111111111111111,
              "#46039f"
             ],
             [
              0.2222222222222222,
              "#7201a8"
             ],
             [
              0.3333333333333333,
              "#9c179e"
             ],
             [
              0.4444444444444444,
              "#bd3786"
             ],
             [
              0.5555555555555556,
              "#d8576b"
             ],
             [
              0.6666666666666666,
              "#ed7953"
             ],
             [
              0.7777777777777778,
              "#fb9f3a"
             ],
             [
              0.8888888888888888,
              "#fdca26"
             ],
             [
              1,
              "#f0f921"
             ]
            ],
            "type": "histogram2dcontour"
           }
          ],
          "mesh3d": [
           {
            "colorbar": {
             "outlinewidth": 0,
             "ticks": ""
            },
            "type": "mesh3d"
           }
          ],
          "parcoords": [
           {
            "line": {
             "colorbar": {
              "outlinewidth": 0,
              "ticks": ""
             }
            },
            "type": "parcoords"
           }
          ],
          "pie": [
           {
            "automargin": true,
            "type": "pie"
           }
          ],
          "scatter": [
           {
            "marker": {
             "colorbar": {
              "outlinewidth": 0,
              "ticks": ""
             }
            },
            "type": "scatter"
           }
          ],
          "scatter3d": [
           {
            "line": {
             "colorbar": {
              "outlinewidth": 0,
              "ticks": ""
             }
            },
            "marker": {
             "colorbar": {
              "outlinewidth": 0,
              "ticks": ""
             }
            },
            "type": "scatter3d"
           }
          ],
          "scattercarpet": [
           {
            "marker": {
             "colorbar": {
              "outlinewidth": 0,
              "ticks": ""
             }
            },
            "type": "scattercarpet"
           }
          ],
          "scattergeo": [
           {
            "marker": {
             "colorbar": {
              "outlinewidth": 0,
              "ticks": ""
             }
            },
            "type": "scattergeo"
           }
          ],
          "scattergl": [
           {
            "marker": {
             "colorbar": {
              "outlinewidth": 0,
              "ticks": ""
             }
            },
            "type": "scattergl"
           }
          ],
          "scattermapbox": [
           {
            "marker": {
             "colorbar": {
              "outlinewidth": 0,
              "ticks": ""
             }
            },
            "type": "scattermapbox"
           }
          ],
          "scatterpolar": [
           {
            "marker": {
             "colorbar": {
              "outlinewidth": 0,
              "ticks": ""
             }
            },
            "type": "scatterpolar"
           }
          ],
          "scatterpolargl": [
           {
            "marker": {
             "colorbar": {
              "outlinewidth": 0,
              "ticks": ""
             }
            },
            "type": "scatterpolargl"
           }
          ],
          "scatterternary": [
           {
            "marker": {
             "colorbar": {
              "outlinewidth": 0,
              "ticks": ""
             }
            },
            "type": "scatterternary"
           }
          ],
          "surface": [
           {
            "colorbar": {
             "outlinewidth": 0,
             "ticks": ""
            },
            "colorscale": [
             [
              0,
              "#0d0887"
             ],
             [
              0.1111111111111111,
              "#46039f"
             ],
             [
              0.2222222222222222,
              "#7201a8"
             ],
             [
              0.3333333333333333,
              "#9c179e"
             ],
             [
              0.4444444444444444,
              "#bd3786"
             ],
             [
              0.5555555555555556,
              "#d8576b"
             ],
             [
              0.6666666666666666,
              "#ed7953"
             ],
             [
              0.7777777777777778,
              "#fb9f3a"
             ],
             [
              0.8888888888888888,
              "#fdca26"
             ],
             [
              1,
              "#f0f921"
             ]
            ],
            "type": "surface"
           }
          ],
          "table": [
           {
            "cells": {
             "fill": {
              "color": "#EBF0F8"
             },
             "line": {
              "color": "white"
             }
            },
            "header": {
             "fill": {
              "color": "#C8D4E3"
             },
             "line": {
              "color": "white"
             }
            },
            "type": "table"
           }
          ]
         },
         "layout": {
          "annotationdefaults": {
           "arrowcolor": "#2a3f5f",
           "arrowhead": 0,
           "arrowwidth": 1
          },
          "autotypenumbers": "strict",
          "coloraxis": {
           "colorbar": {
            "outlinewidth": 0,
            "ticks": ""
           }
          },
          "colorscale": {
           "diverging": [
            [
             0,
             "#8e0152"
            ],
            [
             0.1,
             "#c51b7d"
            ],
            [
             0.2,
             "#de77ae"
            ],
            [
             0.3,
             "#f1b6da"
            ],
            [
             0.4,
             "#fde0ef"
            ],
            [
             0.5,
             "#f7f7f7"
            ],
            [
             0.6,
             "#e6f5d0"
            ],
            [
             0.7,
             "#b8e186"
            ],
            [
             0.8,
             "#7fbc41"
            ],
            [
             0.9,
             "#4d9221"
            ],
            [
             1,
             "#276419"
            ]
           ],
           "sequential": [
            [
             0,
             "#0d0887"
            ],
            [
             0.1111111111111111,
             "#46039f"
            ],
            [
             0.2222222222222222,
             "#7201a8"
            ],
            [
             0.3333333333333333,
             "#9c179e"
            ],
            [
             0.4444444444444444,
             "#bd3786"
            ],
            [
             0.5555555555555556,
             "#d8576b"
            ],
            [
             0.6666666666666666,
             "#ed7953"
            ],
            [
             0.7777777777777778,
             "#fb9f3a"
            ],
            [
             0.8888888888888888,
             "#fdca26"
            ],
            [
             1,
             "#f0f921"
            ]
           ],
           "sequentialminus": [
            [
             0,
             "#0d0887"
            ],
            [
             0.1111111111111111,
             "#46039f"
            ],
            [
             0.2222222222222222,
             "#7201a8"
            ],
            [
             0.3333333333333333,
             "#9c179e"
            ],
            [
             0.4444444444444444,
             "#bd3786"
            ],
            [
             0.5555555555555556,
             "#d8576b"
            ],
            [
             0.6666666666666666,
             "#ed7953"
            ],
            [
             0.7777777777777778,
             "#fb9f3a"
            ],
            [
             0.8888888888888888,
             "#fdca26"
            ],
            [
             1,
             "#f0f921"
            ]
           ]
          },
          "colorway": [
           "#636efa",
           "#EF553B",
           "#00cc96",
           "#ab63fa",
           "#FFA15A",
           "#19d3f3",
           "#FF6692",
           "#B6E880",
           "#FF97FF",
           "#FECB52"
          ],
          "font": {
           "color": "#2a3f5f"
          },
          "geo": {
           "bgcolor": "white",
           "lakecolor": "white",
           "landcolor": "#E5ECF6",
           "showlakes": true,
           "showland": true,
           "subunitcolor": "white"
          },
          "hoverlabel": {
           "align": "left"
          },
          "hovermode": "closest",
          "mapbox": {
           "style": "light"
          },
          "paper_bgcolor": "white",
          "plot_bgcolor": "#E5ECF6",
          "polar": {
           "angularaxis": {
            "gridcolor": "white",
            "linecolor": "white",
            "ticks": ""
           },
           "bgcolor": "#E5ECF6",
           "radialaxis": {
            "gridcolor": "white",
            "linecolor": "white",
            "ticks": ""
           }
          },
          "scene": {
           "xaxis": {
            "backgroundcolor": "#E5ECF6",
            "gridcolor": "white",
            "gridwidth": 2,
            "linecolor": "white",
            "showbackground": true,
            "ticks": "",
            "zerolinecolor": "white"
           },
           "yaxis": {
            "backgroundcolor": "#E5ECF6",
            "gridcolor": "white",
            "gridwidth": 2,
            "linecolor": "white",
            "showbackground": true,
            "ticks": "",
            "zerolinecolor": "white"
           },
           "zaxis": {
            "backgroundcolor": "#E5ECF6",
            "gridcolor": "white",
            "gridwidth": 2,
            "linecolor": "white",
            "showbackground": true,
            "ticks": "",
            "zerolinecolor": "white"
           }
          },
          "shapedefaults": {
           "line": {
            "color": "#2a3f5f"
           }
          },
          "ternary": {
           "aaxis": {
            "gridcolor": "white",
            "linecolor": "white",
            "ticks": ""
           },
           "baxis": {
            "gridcolor": "white",
            "linecolor": "white",
            "ticks": ""
           },
           "bgcolor": "#E5ECF6",
           "caxis": {
            "gridcolor": "white",
            "linecolor": "white",
            "ticks": ""
           }
          },
          "title": {
           "x": 0.05
          },
          "xaxis": {
           "automargin": true,
           "gridcolor": "white",
           "linecolor": "white",
           "ticks": "",
           "title": {
            "standoff": 15
           },
           "zerolinecolor": "white",
           "zerolinewidth": 2
          },
          "yaxis": {
           "automargin": true,
           "gridcolor": "white",
           "linecolor": "white",
           "ticks": "",
           "title": {
            "standoff": 15
           },
           "zerolinecolor": "white",
           "zerolinewidth": 2
          }
         }
        },
        "xaxis": {
         "anchor": "y",
         "domain": [
          0,
          1
         ],
         "title": {
          "text": "Accepted Contacts"
         }
        },
        "yaxis": {
         "anchor": "x",
         "domain": [
          0,
          1
         ],
         "title": {
          "text": "Revenue"
         }
        }
       }
      },
      "text/html": [
       "<div>                            <div id=\"4821d2ed-0562-449f-a758-6a04d338f2e4\" class=\"plotly-graph-div\" style=\"height:525px; width:100%;\"></div>            <script type=\"text/javascript\">                require([\"plotly\"], function(Plotly) {                    window.PLOTLYENV=window.PLOTLYENV || {};                                    if (document.getElementById(\"4821d2ed-0562-449f-a758-6a04d338f2e4\")) {                    Plotly.newPlot(                        \"4821d2ed-0562-449f-a758-6a04d338f2e4\",                        [{\"hovertemplate\":\"Category=Bathroom Remodel<br>Accepted Contacts=%{x}<br>Revenue=%{y}<extra></extra>\",\"legendgroup\":\"Bathroom Remodel\",\"marker\":{\"color\":\"#636efa\",\"symbol\":\"circle\"},\"mode\":\"markers\",\"name\":\"Bathroom Remodel\",\"orientation\":\"v\",\"showlegend\":true,\"type\":\"scatter\",\"x\":[748,704,647,769,748,688,753,679,718,687,666,667,765],\"xaxis\":\"x\",\"y\":[41973,38891,35939,41907,39265,37886,39374,36459,38017,34646,35146,33886,40317],\"yaxis\":\"y\"},{\"hovertemplate\":\"<b>OLS trendline</b><br>Revenue = 55.5814 * Accepted Contacts + -1523.89<br>R<sup>2</sup>=0.777961<br><br>Category=Bathroom Remodel<br>Accepted Contacts=%{x}<br>Revenue=%{y} <b>(trend)</b><extra></extra>\",\"legendgroup\":\"Bathroom Remodel\",\"marker\":{\"color\":\"#636efa\",\"symbol\":\"circle\"},\"mode\":\"lines\",\"name\":\"Bathroom Remodel\",\"showlegend\":false,\"type\":\"scatter\",\"x\":[647,666,667,679,687,688,704,718,748,748,753,765,769],\"xaxis\":\"x\",\"y\":[34437.27645868788,35493.323215576886,35548.9046238342,36215.88152292199,36660.53278898053,36716.11419723784,37605.416729354896,38383.55644495733,40050.99869267682,40050.99869267682,40328.905733963395,40995.88263305119,41218.20826608046],\"yaxis\":\"y\"},{\"hovertemplate\":\"Category=Concrete Installation<br>Accepted Contacts=%{x}<br>Revenue=%{y}<extra></extra>\",\"legendgroup\":\"Concrete Installation\",\"marker\":{\"color\":\"#EF553B\",\"symbol\":\"circle\"},\"mode\":\"markers\",\"name\":\"Concrete Installation\",\"orientation\":\"v\",\"showlegend\":true,\"type\":\"scatter\",\"x\":[1358,1483,1411,1565,1372,1514,1484,1455,1557,1581,1437,1443,1472],\"xaxis\":\"x\",\"y\":[53066,54828,50853,54774,46305,50680,48137,43967,44692,47233,43626,43830,44667],\"yaxis\":\"y\"},{\"hovertemplate\":\"<b>OLS trendline</b><br>Revenue = 3.66755 * Accepted Contacts + 42807<br>R<sup>2</sup>=0.003747<br><br>Category=Concrete Installation<br>Accepted Contacts=%{x}<br>Revenue=%{y} <b>(trend)</b><extra></extra>\",\"legendgroup\":\"Concrete Installation\",\"marker\":{\"color\":\"#EF553B\",\"symbol\":\"circle\"},\"mode\":\"lines\",\"name\":\"Concrete Installation\",\"showlegend\":false,\"type\":\"scatter\",\"x\":[1358,1372,1411,1437,1443,1455,1472,1483,1484,1514,1557,1565,1581],\"xaxis\":\"x\",\"y\":[47787.489243404896,47838.83495226844,47981.86942695972,48077.22574342058,48099.23104721924,48143.24165481656,48205.59001557942,48245.93307254363,48249.600623176746,48359.627142170044,48517.33181939377,48546.67222445865,48605.35303458841],\"yaxis\":\"y\"},{\"hovertemplate\":\"Category=DJ<br>Accepted Contacts=%{x}<br>Revenue=%{y}<extra></extra>\",\"legendgroup\":\"DJ\",\"marker\":{\"color\":\"#00cc96\",\"symbol\":\"circle\"},\"mode\":\"markers\",\"name\":\"DJ\",\"orientation\":\"v\",\"showlegend\":true,\"type\":\"scatter\",\"x\":[2265,2191,2179,2185,2116,2168,2283,2303,2187,2143,2264,1922,2011],\"xaxis\":\"x\",\"y\":[47437,44721,43569,43615,40788,43165,44226,43770,42490,38814,41495,35754,38130],\"yaxis\":\"y\"},{\"hovertemplate\":\"<b>OLS trendline</b><br>Revenue = 24.1243 * Accepted Contacts + -10210.9<br>R<sup>2</sup>=0.693636<br><br>Category=DJ<br>Accepted Contacts=%{x}<br>Revenue=%{y} <b>(trend)</b><extra></extra>\",\"legendgroup\":\"DJ\",\"marker\":{\"color\":\"#00cc96\",\"symbol\":\"circle\"},\"mode\":\"lines\",\"name\":\"DJ\",\"showlegend\":false,\"type\":\"scatter\",\"x\":[1922,2011,2116,2143,2168,2179,2185,2187,2191,2264,2265,2283,2303],\"xaxis\":\"x\",\"y\":[36156.02221759973,38303.08761352579,40836.14229411271,41487.49921197791,42090.60746926052,42355.97510246486,42500.72108421268,42548.96974479529,42645.4670659605,44406.5431772257,44430.667507517,44864.905452760475,45347.39205858655],\"yaxis\":\"y\"},{\"hovertemplate\":\"Category=Electrical and Wiring Repair<br>Accepted Contacts=%{x}<br>Revenue=%{y}<extra></extra>\",\"legendgroup\":\"Electrical and Wiring Repair\",\"marker\":{\"color\":\"#ab63fa\",\"symbol\":\"circle\"},\"mode\":\"markers\",\"name\":\"Electrical and Wiring Repair\",\"orientation\":\"v\",\"showlegend\":true,\"type\":\"scatter\",\"x\":[2452,2532,2701,2675,2370,2691,2571,2789,2698,2973,2677,2939,3065],\"xaxis\":\"x\",\"y\":[38401,40156,40727,40135,35258,39021,36372,39519,36675,38041,36025,39142,39791],\"yaxis\":\"y\"},{\"hovertemplate\":\"<b>OLS trendline</b><br>Revenue = 3.47722 * Accepted Contacts + 29007.5<br>R<sup>2</sup>=0.154196<br><br>Category=Electrical and Wiring Repair<br>Accepted Contacts=%{x}<br>Revenue=%{y} <b>(trend)</b><extra></extra>\",\"legendgroup\":\"Electrical and Wiring Repair\",\"marker\":{\"color\":\"#ab63fa\",\"symbol\":\"circle\"},\"mode\":\"lines\",\"name\":\"Electrical and Wiring Repair\",\"showlegend\":false,\"type\":\"scatter\",\"x\":[2370,2452,2532,2571,2675,2677,2691,2698,2701,2789,2939,2973,3065],\"xaxis\":\"x\",\"y\":[37248.53592931686,37533.66817529146,37811.8459762423,37947.45765420583,38309.08879544191,38316.04324046568,38364.724355632075,38389.064913215276,38399.49658075093,38705.49216179685,39227.075538579666,39345.301103983766,39665.20557507723],\"yaxis\":\"y\"},{\"hovertemplate\":\"Category=Exterior Painting<br>Accepted Contacts=%{x}<br>Revenue=%{y}<extra></extra>\",\"legendgroup\":\"Exterior Painting\",\"marker\":{\"color\":\"#FFA15A\",\"symbol\":\"circle\"},\"mode\":\"markers\",\"name\":\"Exterior Painting\",\"orientation\":\"v\",\"showlegend\":true,\"type\":\"scatter\",\"x\":[1267,1341,1288,1371,1289,1326,1100,1219,1278,1269,1159,1203,1213],\"xaxis\":\"x\",\"y\":[56759,57346,52836,54531,50966,53463,45730,47016,47881,49304,46195,48402,46137],\"yaxis\":\"y\"},{\"hovertemplate\":\"<b>OLS trendline</b><br>Revenue = 43.0564 * Accepted Contacts + -3557.19<br>R<sup>2</sup>=0.624456<br><br>Category=Exterior Painting<br>Accepted Contacts=%{x}<br>Revenue=%{y} <b>(trend)</b><extra></extra>\",\"legendgroup\":\"Exterior Painting\",\"marker\":{\"color\":\"#FFA15A\",\"symbol\":\"circle\"},\"mode\":\"lines\",\"name\":\"Exterior Painting\",\"showlegend\":false,\"type\":\"scatter\",\"x\":[1100,1159,1203,1213,1219,1267,1269,1278,1288,1289,1326,1341,1371],\"xaxis\":\"x\",\"y\":[43804.839871868564,46345.16701881707,48239.64828094816,48670.21220415977,48928.55055808673,50995.25738950247,51081.37017414479,51468.877705035244,51899.44162824685,51942.49802056801,53535.58453645097,54181.43042126839,55473.122190903225],\"yaxis\":\"y\"},{\"hovertemplate\":\"Category=Fence and Gate Installation<br>Accepted Contacts=%{x}<br>Revenue=%{y}<extra></extra>\",\"legendgroup\":\"Fence and Gate Installation\",\"marker\":{\"color\":\"#19d3f3\",\"symbol\":\"circle\"},\"mode\":\"markers\",\"name\":\"Fence and Gate Installation\",\"orientation\":\"v\",\"showlegend\":true,\"type\":\"scatter\",\"x\":[1687,1832,1764,1860,1741,1539,1560,1623,1510,1570,1605,1438,1528],\"xaxis\":\"x\",\"y\":[54157,57950,50419,50062,50799,45874,44958,45064,44815,43425,45346,42366,42453],\"yaxis\":\"y\"},{\"hovertemplate\":\"<b>OLS trendline</b><br>Revenue = 30.5814 * Accepted Contacts + -2490.84<br>R<sup>2</sup>=0.701083<br><br>Category=Fence and Gate Installation<br>Accepted Contacts=%{x}<br>Revenue=%{y} <b>(trend)</b><extra></extra>\",\"legendgroup\":\"Fence and Gate Installation\",\"marker\":{\"color\":\"#19d3f3\",\"symbol\":\"circle\"},\"mode\":\"lines\",\"name\":\"Fence and Gate Installation\",\"showlegend\":false,\"type\":\"scatter\",\"x\":[1438,1510,1528,1539,1560,1570,1605,1623,1687,1741,1764,1832,1860],\"xaxis\":\"x\",\"y\":[41485.21953399791,43687.080835667,44237.546161084276,44573.94163772816,45216.151184048314,45521.965253724586,46592.314497591506,47142.77982300878,49099.98986893686,50751.38584518868,51454.758205444086,53534.29387924267,54390.5732743362],\"yaxis\":\"y\"},{\"hovertemplate\":\"Category=Floor Installation or Replacement<br>Accepted Contacts=%{x}<br>Revenue=%{y}<extra></extra>\",\"legendgroup\":\"Floor Installation or Replacement\",\"marker\":{\"color\":\"#FF6692\",\"symbol\":\"circle\"},\"mode\":\"markers\",\"name\":\"Floor Installation or Replacement\",\"orientation\":\"v\",\"showlegend\":true,\"type\":\"scatter\",\"x\":[1431,1403,1451,1415,1504,1355,1519,1512,1661,1663,1534,1689,1572],\"xaxis\":\"x\",\"y\":[56464,53133,54948,51381,52277,49171,51967,51685,51061,51929,48770,50802,49506],\"yaxis\":\"y\"},{\"hovertemplate\":\"<b>OLS trendline</b><br>Revenue = -5.38105 * Accepted Contacts + 59934.5<br>R<sup>2</sup>=0.069614<br><br>Category=Floor Installation or Replacement<br>Accepted Contacts=%{x}<br>Revenue=%{y} <b>(trend)</b><extra></extra>\",\"legendgroup\":\"Floor Installation or Replacement\",\"marker\":{\"color\":\"#FF6692\",\"symbol\":\"circle\"},\"mode\":\"lines\",\"name\":\"Floor Installation or Replacement\",\"showlegend\":false,\"type\":\"scatter\",\"x\":[1355,1403,1415,1431,1451,1504,1512,1519,1534,1572,1661,1663,1689],\"xaxis\":\"x\",\"y\":[52643.224486852494,52384.93409535492,52320.361497480524,52234.26470031466,52126.64370385734,51841.448063245436,51798.3996646625,51760.73231590244,51680.01656855945,51475.53667529054,50996.62324105545,50985.86114140972,50845.953846015196],\"yaxis\":\"y\"},{\"hovertemplate\":\"Category=General Contracting<br>Accepted Contacts=%{x}<br>Revenue=%{y}<extra></extra>\",\"legendgroup\":\"General Contracting\",\"marker\":{\"color\":\"#B6E880\",\"symbol\":\"circle\"},\"mode\":\"markers\",\"name\":\"General Contracting\",\"orientation\":\"v\",\"showlegend\":true,\"type\":\"scatter\",\"x\":[1160,1320,1269,1177,1114,1243,1355,1434,1295,1480,1265,1252,1284],\"xaxis\":\"x\",\"y\":[62961,66633,59584,56203,53763,55161,58061,62356,56312,60742,57346,55338,58380],\"yaxis\":\"y\"},{\"hovertemplate\":\"<b>OLS trendline</b><br>Revenue = 15.882 * Accepted Contacts + 38341.3<br>R<sup>2</sup>=0.196700<br><br>Category=General Contracting<br>Accepted Contacts=%{x}<br>Revenue=%{y} <b>(trend)</b><extra></extra>\",\"legendgroup\":\"General Contracting\",\"marker\":{\"color\":\"#B6E880\",\"symbol\":\"circle\"},\"mode\":\"lines\",\"name\":\"General Contracting\",\"showlegend\":false,\"type\":\"scatter\",\"x\":[1114,1160,1177,1243,1252,1265,1269,1284,1295,1320,1355,1434,1480],\"xaxis\":\"x\",\"y\":[56033.81945532789,56764.3900766178,57034.383567094505,58082.593588945245,58225.53131919762,58431.996929562156,58495.52480967433,58733.75436009495,58908.45603040341,59305.505281104444,59861.3742320859,61116.04986430118,61846.62048559109],\"yaxis\":\"y\"},{\"hovertemplate\":\"Category=Handyman<br>Accepted Contacts=%{x}<br>Revenue=%{y}<extra></extra>\",\"legendgroup\":\"Handyman\",\"marker\":{\"color\":\"#FF97FF\",\"symbol\":\"circle\"},\"mode\":\"markers\",\"name\":\"Handyman\",\"orientation\":\"v\",\"showlegend\":true,\"type\":\"scatter\",\"x\":[6834,8102,8024,8158,8161,7839,8157,8180,8179,8472,8271,8760,9047],\"xaxis\":\"x\",\"y\":[61227,70622,67616,68139,66416,64208,63505,60382,58229,58661,59619,61827,62459],\"yaxis\":\"y\"},{\"hovertemplate\":\"<b>OLS trendline</b><br>Revenue = -0.701378 * Accepted Contacts + 69029.6<br>R<sup>2</sup>=0.008453<br><br>Category=Handyman<br>Accepted Contacts=%{x}<br>Revenue=%{y} <b>(trend)</b><extra></extra>\",\"legendgroup\":\"Handyman\",\"marker\":{\"color\":\"#FF97FF\",\"symbol\":\"circle\"},\"mode\":\"lines\",\"name\":\"Handyman\",\"showlegend\":false,\"type\":\"scatter\",\"x\":[6834,7839,8024,8102,8157,8158,8161,8179,8180,8271,8472,8760,9047],\"xaxis\":\"x\",\"y\":[64236.40743797958,63531.52258172289,63401.76765793435,63347.060176553234,63308.484388399884,63307.78301043346,63305.678876534184,63293.05407313854,63292.352695172114,63228.527300227484,63087.55032897615,62885.55347464587,62684.257998282024],\"yaxis\":\"y\"},{\"hovertemplate\":\"Category=House Cleaning<br>Accepted Contacts=%{x}<br>Revenue=%{y}<extra></extra>\",\"legendgroup\":\"House Cleaning\",\"marker\":{\"color\":\"#FECB52\",\"symbol\":\"circle\"},\"mode\":\"markers\",\"name\":\"House Cleaning\",\"orientation\":\"v\",\"showlegend\":true,\"type\":\"scatter\",\"x\":[12235,12923,13051,13500,13687,13380,13274,14401,15921,14757,14928,16542,18619],\"xaxis\":\"x\",\"y\":[169773,176109,168267,167534,165155,163254,157545,160187,166974,159349,168021,175866,184214],\"yaxis\":\"y\"},{\"hovertemplate\":\"<b>OLS trendline</b><br>Revenue = 2.2312 * Accepted Contacts + 135733<br>R<sup>2</sup>=0.277819<br><br>Category=House Cleaning<br>Accepted Contacts=%{x}<br>Revenue=%{y} <b>(trend)</b><extra></extra>\",\"legendgroup\":\"House Cleaning\",\"marker\":{\"color\":\"#FECB52\",\"symbol\":\"circle\"},\"mode\":\"lines\",\"name\":\"House Cleaning\",\"showlegend\":false,\"type\":\"scatter\",\"x\":[12235,12923,13051,13274,13380,13500,13687,14401,14757,14928,15921,16542,18619],\"xaxis\":\"x\",\"y\":[163031.60164406712,164566.6646308038,164852.2577446153,165349.81449758372,165586.32129495882,165854.0648391571,166271.29852886603,167864.37261684568,168658.67846463382,169040.21301511634,171255.79084335692,172641.3636845829,177275.5581954144],\"yaxis\":\"y\"},{\"hovertemplate\":\"Category=Interior Painting<br>Accepted Contacts=%{x}<br>Revenue=%{y}<extra></extra>\",\"legendgroup\":\"Interior Painting\",\"marker\":{\"color\":\"#636efa\",\"symbol\":\"circle\"},\"mode\":\"markers\",\"name\":\"Interior Painting\",\"orientation\":\"v\",\"showlegend\":true,\"type\":\"scatter\",\"x\":[3309,3596,3506,3581,3804,3674,3628,3781,4150,4396,4100,4199,4428],\"xaxis\":\"x\",\"y\":[110909,115172,109338,108500,116278,110126,108522,107376,108474,110746,108881,107498,119720],\"yaxis\":\"y\"},{\"hovertemplate\":\"<b>OLS trendline</b><br>Revenue = 2.1731 * Accepted Contacts + 102504<br>R<sup>2</sup>=0.041961<br><br>Category=Interior Painting<br>Accepted Contacts=%{x}<br>Revenue=%{y} <b>(trend)</b><extra></extra>\",\"legendgroup\":\"Interior Painting\",\"marker\":{\"color\":\"#636efa\",\"symbol\":\"circle\"},\"mode\":\"lines\",\"name\":\"Interior Painting\",\"showlegend\":false,\"type\":\"scatter\",\"x\":[3309,3506,3581,3596,3628,3674,3781,3804,4100,4150,4199,4396,4428],\"xaxis\":\"x\",\"y\":[109694.99532065482,110123.09580892432,110286.07822831627,110318.67471219465,110388.21387780189,110488.17642836228,110720.69801336146,110770.67928864165,111413.91657050852,111522.57151676982,111629.05336410589,112057.1538523754,112126.69301798263],\"yaxis\":\"y\"},{\"hovertemplate\":\"Category=Junk Removal<br>Accepted Contacts=%{x}<br>Revenue=%{y}<extra></extra>\",\"legendgroup\":\"Junk Removal\",\"marker\":{\"color\":\"#EF553B\",\"symbol\":\"circle\"},\"mode\":\"markers\",\"name\":\"Junk Removal\",\"orientation\":\"v\",\"showlegend\":true,\"type\":\"scatter\",\"x\":[2874,3057,3067,3328,3420,3158,3316,3751,4382,4170,3983,4157,4640],\"xaxis\":\"x\",\"y\":[24239,26438,25313,27011,27116,24575,24914,27403,30403,29174,27511,30122,31767],\"yaxis\":\"y\"},{\"hovertemplate\":\"<b>OLS trendline</b><br>Revenue = 3.90999 * Accepted Contacts + 13156.3<br>R<sup>2</sup>=0.887641<br><br>Category=Junk Removal<br>Accepted Contacts=%{x}<br>Revenue=%{y} <b>(trend)</b><extra></extra>\",\"legendgroup\":\"Junk Removal\",\"marker\":{\"color\":\"#EF553B\",\"symbol\":\"circle\"},\"mode\":\"lines\",\"name\":\"Junk Removal\",\"showlegend\":false,\"type\":\"scatter\",\"x\":[2874,3057,3067,3158,3316,3328,3420,3751,3983,4157,4170,4382,4640],\"xaxis\":\"x\",\"y\":[24393.599101846325,25109.127291838042,25148.227192930484,25504.036292871715,26121.81473013232,26168.73461144325,26528.45370149373,27822.6604276536,28729.77813299829,29410.1164120068,29460.94628342698,30289.864186586776,31298.64163477181],\"yaxis\":\"y\"},{\"hovertemplate\":\"Category=Local Moving (under 50 miles)<br>Accepted Contacts=%{x}<br>Revenue=%{y}<extra></extra>\",\"legendgroup\":\"Local Moving (under 50 miles)\",\"marker\":{\"color\":\"#00cc96\",\"symbol\":\"circle\"},\"mode\":\"markers\",\"name\":\"Local Moving (under 50 miles)\",\"orientation\":\"v\",\"showlegend\":true,\"type\":\"scatter\",\"x\":[5719,5959,5820,6668,6659,6674,7576,8337,9157,8189,8537,9504,10474],\"xaxis\":\"x\",\"y\":[74190,78796,76509,84475,84854,81331,89086,93835,98134,90929,100044,105028,108265],\"yaxis\":\"y\"},{\"hovertemplate\":\"<b>OLS trendline</b><br>Revenue = 7.01417 * Accepted Contacts + 36089.1<br>R<sup>2</sup>=0.965140<br><br>Category=Local Moving (under 50 miles)<br>Accepted Contacts=%{x}<br>Revenue=%{y} <b>(trend)</b><extra></extra>\",\"legendgroup\":\"Local Moving (under 50 miles)\",\"marker\":{\"color\":\"#00cc96\",\"symbol\":\"circle\"},\"mode\":\"lines\",\"name\":\"Local Moving (under 50 miles)\",\"showlegend\":false,\"type\":\"scatter\",\"x\":[5719,5820,5959,6659,6668,6674,7576,8189,8337,8537,9157,9504,10474],\"xaxis\":\"x\",\"y\":[76203.12898044498,76911.56064411649,77886.53095352577,82796.45337501139,82859.58094900192,82901.66599832894,89228.45174715755,93528.1409534014,94566.2388368012,95969.07381436853,100317.86224482722,102751.78093090652,109555.53057210804],\"yaxis\":\"y\"},{\"hovertemplate\":\"Category=Outdoor Landscaping and Design<br>Accepted Contacts=%{x}<br>Revenue=%{y}<extra></extra>\",\"legendgroup\":\"Outdoor Landscaping and Design\",\"marker\":{\"color\":\"#ab63fa\",\"symbol\":\"circle\"},\"mode\":\"markers\",\"name\":\"Outdoor Landscaping and Design\",\"orientation\":\"v\",\"showlegend\":true,\"type\":\"scatter\",\"x\":[2842,3526,3343,3492,2895,2901,2716,2713,2573,2861,2579,2428,2542],\"xaxis\":\"x\",\"y\":[90654,101802,91499,92405,76209,77513,73454,70694,70698,71353,68100,61999,64043],\"yaxis\":\"y\"},{\"hovertemplate\":\"<b>OLS trendline</b><br>Revenue = 31.3882 * Accepted Contacts + -12603<br>R<sup>2</sup>=0.839293<br><br>Category=Outdoor Landscaping and Design<br>Accepted Contacts=%{x}<br>Revenue=%{y} <b>(trend)</b><extra></extra>\",\"legendgroup\":\"Outdoor Landscaping and Design\",\"marker\":{\"color\":\"#ab63fa\",\"symbol\":\"circle\"},\"mode\":\"lines\",\"name\":\"Outdoor Landscaping and Design\",\"showlegend\":false,\"type\":\"scatter\",\"x\":[2428,2542,2573,2579,2713,2716,2842,2861,2895,2901,3343,3492,3526],\"xaxis\":\"x\",\"y\":[63607.41964057683,67185.66935712636,68158.70217478456,68347.03110723454,72553.04393195065,72647.20839817564,76602.11597962512,77198.49093238337,78265.68821626657,78454.01714871655,92327.58183919806,97004.41699503911,98071.6142789223],\"yaxis\":\"y\"},{\"hovertemplate\":\"Category=Personal Training<br>Accepted Contacts=%{x}<br>Revenue=%{y}<extra></extra>\",\"legendgroup\":\"Personal Training\",\"marker\":{\"color\":\"#FFA15A\",\"symbol\":\"circle\"},\"mode\":\"markers\",\"name\":\"Personal Training\",\"orientation\":\"v\",\"showlegend\":true,\"type\":\"scatter\",\"x\":[3475,3337,3132,3354,3103,3217,3693,4115,4209,4183,4675,4504,4299],\"xaxis\":\"x\",\"y\":[31076,29489,27636,28821,26216,27462,31402,35287,35969,32744,39080,36135,35664],\"yaxis\":\"y\"},{\"hovertemplate\":\"<b>OLS trendline</b><br>Revenue = 7.0936 * Accepted Contacts + 5176.51<br>R<sup>2</sup>=0.944718<br><br>Category=Personal Training<br>Accepted Contacts=%{x}<br>Revenue=%{y} <b>(trend)</b><extra></extra>\",\"legendgroup\":\"Personal Training\",\"marker\":{\"color\":\"#FFA15A\",\"symbol\":\"circle\"},\"mode\":\"lines\",\"name\":\"Personal Training\",\"showlegend\":false,\"type\":\"scatter\",\"x\":[3103,3132,3217,3337,3354,3475,3693,4115,4183,4209,4299,4504,4675],\"xaxis\":\"x\",\"y\":[27187.96786993048,27393.6824075029,27996.638810732424,28847.871379997632,28968.462660643534,29826.788834652616,31373.19466881774,34366.69587073372,34849.06099331733,35033.494716658126,35671.91914360703,37126.108116101765,38339.11452730468],\"yaxis\":\"y\"},{\"hovertemplate\":\"Category=Property Management<br>Accepted Contacts=%{x}<br>Revenue=%{y}<extra></extra>\",\"legendgroup\":\"Property Management\",\"marker\":{\"color\":\"#19d3f3\",\"symbol\":\"circle\"},\"mode\":\"markers\",\"name\":\"Property Management\",\"orientation\":\"v\",\"showlegend\":true,\"type\":\"scatter\",\"x\":[511,503,539,519,527,477,506,480,542,477,600,574,637],\"xaxis\":\"x\",\"y\":[22124,21321,22801,21697,22557,20812,20942,20384,23188,18239,25378,23299,27721],\"yaxis\":\"y\"},{\"hovertemplate\":\"<b>OLS trendline</b><br>Revenue = 46.1822 * Accepted Contacts + -2140.38<br>R<sup>2</sup>=0.911408<br><br>Category=Property Management<br>Accepted Contacts=%{x}<br>Revenue=%{y} <b>(trend)</b><extra></extra>\",\"legendgroup\":\"Property Management\",\"marker\":{\"color\":\"#19d3f3\",\"symbol\":\"circle\"},\"mode\":\"lines\",\"name\":\"Property Management\",\"showlegend\":false,\"type\":\"scatter\",\"x\":[477,477,480,503,506,511,519,527,539,542,574,600,637],\"xaxis\":\"x\",\"y\":[19888.544751399146,19888.544751399146,20027.091429684868,21089.28262987539,21227.829308161112,21458.740438637313,21828.198247399232,22197.656056161155,22751.842769304036,22890.389447589758,24368.220682637442,25568.958561113686,27277.70092663757],\"yaxis\":\"y\"},{\"hovertemplate\":\"Category=Roof Installation or Replacement<br>Accepted Contacts=%{x}<br>Revenue=%{y}<extra></extra>\",\"legendgroup\":\"Roof Installation or Replacement\",\"marker\":{\"color\":\"#FF6692\",\"symbol\":\"circle\"},\"mode\":\"markers\",\"name\":\"Roof Installation or Replacement\",\"orientation\":\"v\",\"showlegend\":true,\"type\":\"scatter\",\"x\":[1205,1405,1460,1570,1620,1458,1504,1405,1397,1498,1444,1514,1558],\"xaxis\":\"x\",\"y\":[69422,78369,81902,86862,90495,81169,83097,74511,74828,77422,76936,81331,84353],\"yaxis\":\"y\"},{\"hovertemplate\":\"<b>OLS trendline</b><br>Revenue = 49.9762 * Accepted Contacts + 6865.45<br>R<sup>2</sup>=0.845638<br><br>Category=Roof Installation or Replacement<br>Accepted Contacts=%{x}<br>Revenue=%{y} <b>(trend)</b><extra></extra>\",\"legendgroup\":\"Roof Installation or Replacement\",\"marker\":{\"color\":\"#FF6692\",\"symbol\":\"circle\"},\"mode\":\"lines\",\"name\":\"Roof Installation or Replacement\",\"showlegend\":false,\"type\":\"scatter\",\"x\":[1205,1397,1405,1405,1444,1458,1460,1498,1504,1514,1558,1570,1620],\"xaxis\":\"x\",\"y\":[67086.72468709416,76682.14691686377,77081.9561764375,77081.9561764375,79031.02631685945,79730.69252111348,79830.64483600692,81729.73881898215,82029.59576366245,82529.35733812962,84728.30826578516,85328.02215514575,87826.8300274816],\"yaxis\":\"y\"},{\"hovertemplate\":\"Category=Tree Trimming and Removal<br>Accepted Contacts=%{x}<br>Revenue=%{y}<extra></extra>\",\"legendgroup\":\"Tree Trimming and Removal\",\"marker\":{\"color\":\"#B6E880\",\"symbol\":\"circle\"},\"mode\":\"markers\",\"name\":\"Tree Trimming and Removal\",\"orientation\":\"v\",\"showlegend\":true,\"type\":\"scatter\",\"x\":[1954,2379,2600,2568,2209,2021,2009,2320,2001,2170,2354,2242,2416],\"xaxis\":\"x\",\"y\":[47539,53878,55782,54626,47803,44590,44018,48691,41948,42609,44106,45038,46356],\"yaxis\":\"y\"},{\"hovertemplate\":\"<b>OLS trendline</b><br>Revenue = 15.9523 * Accepted Contacts + 11576.2<br>R<sup>2</sup>=0.549025<br><br>Category=Tree Trimming and Removal<br>Accepted Contacts=%{x}<br>Revenue=%{y} <b>(trend)</b><extra></extra>\",\"legendgroup\":\"Tree Trimming and Removal\",\"marker\":{\"color\":\"#B6E880\",\"symbol\":\"circle\"},\"mode\":\"lines\",\"name\":\"Tree Trimming and Removal\",\"showlegend\":false,\"type\":\"scatter\",\"x\":[1954,2001,2009,2021,2170,2209,2242,2320,2354,2379,2416,2568,2600],\"xaxis\":\"x\",\"y\":[42747.018121802845,43496.77597850122,43624.394337088175,43815.821874968606,46192.71380365068,46814.853301762094,47341.27903093329,48585.55802715612,49127.93605115068,49526.74342173492,50116.97833019959,52541.727143351774,53052.20057769961],\"yaxis\":\"y\"},{\"hovertemplate\":\"Category=Wedding and Event Catering<br>Accepted Contacts=%{x}<br>Revenue=%{y}<extra></extra>\",\"legendgroup\":\"Wedding and Event Catering\",\"marker\":{\"color\":\"#FF97FF\",\"symbol\":\"circle\"},\"mode\":\"markers\",\"name\":\"Wedding and Event Catering\",\"orientation\":\"v\",\"showlegend\":true,\"type\":\"scatter\",\"x\":[1400,1489,1388,1450,1517,1451,1371,1397,1400,1409,1388,1427,1248],\"xaxis\":\"x\",\"y\":[38176,39003,37303,37061,37453,37334,35010,35652,36290,32764,36349,34346,32409],\"yaxis\":\"y\"},{\"hovertemplate\":\"<b>OLS trendline</b><br>Revenue = 20.4203 * Accepted Contacts + 7287.95<br>R<sup>2</sup>=0.439558<br><br>Category=Wedding and Event Catering<br>Accepted Contacts=%{x}<br>Revenue=%{y} <b>(trend)</b><extra></extra>\",\"legendgroup\":\"Wedding and Event Catering\",\"marker\":{\"color\":\"#FF97FF\",\"symbol\":\"circle\"},\"mode\":\"lines\",\"name\":\"Wedding and Event Catering\",\"showlegend\":false,\"type\":\"scatter\",\"x\":[1248,1371,1388,1388,1397,1400,1400,1409,1427,1450,1451,1489,1517],\"xaxis\":\"x\",\"y\":[32772.51448462949,35284.214787366334,35631.3603576633,35631.3603576633,35815.143306644044,35876.40428963763,35876.40428963763,36060.18723861837,36427.753136579864,36897.420672863984,36917.84100052851,37693.813451780545,38265.5826263873],\"yaxis\":\"y\"},{\"hovertemplate\":\"Category=Wedding and Event Photography<br>Accepted Contacts=%{x}<br>Revenue=%{y}<extra></extra>\",\"legendgroup\":\"Wedding and Event Photography\",\"marker\":{\"color\":\"#FECB52\",\"symbol\":\"circle\"},\"mode\":\"markers\",\"name\":\"Wedding and Event Photography\",\"orientation\":\"v\",\"showlegend\":true,\"type\":\"scatter\",\"x\":[3656,3527,3550,3603,3418,3698,3884,3541,3448,3576,3686,3481,3513],\"xaxis\":\"x\",\"y\":[65327,61429,62885,60510,56043,59614,61496,57257,55818,54957,57573,54158,55575],\"yaxis\":\"y\"},{\"hovertemplate\":\"<b>OLS trendline</b><br>Revenue = 14.2069 * Accepted Contacts + 7759.4<br>R<sup>2</sup>=0.262197<br><br>Category=Wedding and Event Photography<br>Accepted Contacts=%{x}<br>Revenue=%{y} <b>(trend)</b><extra></extra>\",\"legendgroup\":\"Wedding and Event Photography\",\"marker\":{\"color\":\"#FECB52\",\"symbol\":\"circle\"},\"mode\":\"lines\",\"name\":\"Wedding and Event Photography\",\"showlegend\":false,\"type\":\"scatter\",\"x\":[3418,3448,3481,3513,3527,3541,3550,3576,3603,3656,3686,3698,3884],\"xaxis\":\"x\",\"y\":[56318.45155865806,56744.6573770667,57213.4837773162,57668.10331695208,57866.999365542775,58065.895414133476,58193.75715965607,58563.13553561022,58946.72077217799,59699.684384699925,60125.89020310856,60296.372530472014,62938.84860460557],\"yaxis\":\"y\"}],                        {\"legend\":{\"title\":{\"text\":\"Category\"},\"tracegroupgap\":0},\"margin\":{\"t\":60},\"template\":{\"data\":{\"bar\":[{\"error_x\":{\"color\":\"#2a3f5f\"},\"error_y\":{\"color\":\"#2a3f5f\"},\"marker\":{\"line\":{\"color\":\"#E5ECF6\",\"width\":0.5},\"pattern\":{\"fillmode\":\"overlay\",\"size\":10,\"solidity\":0.2}},\"type\":\"bar\"}],\"barpolar\":[{\"marker\":{\"line\":{\"color\":\"#E5ECF6\",\"width\":0.5},\"pattern\":{\"fillmode\":\"overlay\",\"size\":10,\"solidity\":0.2}},\"type\":\"barpolar\"}],\"carpet\":[{\"aaxis\":{\"endlinecolor\":\"#2a3f5f\",\"gridcolor\":\"white\",\"linecolor\":\"white\",\"minorgridcolor\":\"white\",\"startlinecolor\":\"#2a3f5f\"},\"baxis\":{\"endlinecolor\":\"#2a3f5f\",\"gridcolor\":\"white\",\"linecolor\":\"white\",\"minorgridcolor\":\"white\",\"startlinecolor\":\"#2a3f5f\"},\"type\":\"carpet\"}],\"choropleth\":[{\"colorbar\":{\"outlinewidth\":0,\"ticks\":\"\"},\"type\":\"choropleth\"}],\"contour\":[{\"colorbar\":{\"outlinewidth\":0,\"ticks\":\"\"},\"colorscale\":[[0.0,\"#0d0887\"],[0.1111111111111111,\"#46039f\"],[0.2222222222222222,\"#7201a8\"],[0.3333333333333333,\"#9c179e\"],[0.4444444444444444,\"#bd3786\"],[0.5555555555555556,\"#d8576b\"],[0.6666666666666666,\"#ed7953\"],[0.7777777777777778,\"#fb9f3a\"],[0.8888888888888888,\"#fdca26\"],[1.0,\"#f0f921\"]],\"type\":\"contour\"}],\"contourcarpet\":[{\"colorbar\":{\"outlinewidth\":0,\"ticks\":\"\"},\"type\":\"contourcarpet\"}],\"heatmap\":[{\"colorbar\":{\"outlinewidth\":0,\"ticks\":\"\"},\"colorscale\":[[0.0,\"#0d0887\"],[0.1111111111111111,\"#46039f\"],[0.2222222222222222,\"#7201a8\"],[0.3333333333333333,\"#9c179e\"],[0.4444444444444444,\"#bd3786\"],[0.5555555555555556,\"#d8576b\"],[0.6666666666666666,\"#ed7953\"],[0.7777777777777778,\"#fb9f3a\"],[0.8888888888888888,\"#fdca26\"],[1.0,\"#f0f921\"]],\"type\":\"heatmap\"}],\"heatmapgl\":[{\"colorbar\":{\"outlinewidth\":0,\"ticks\":\"\"},\"colorscale\":[[0.0,\"#0d0887\"],[0.1111111111111111,\"#46039f\"],[0.2222222222222222,\"#7201a8\"],[0.3333333333333333,\"#9c179e\"],[0.4444444444444444,\"#bd3786\"],[0.5555555555555556,\"#d8576b\"],[0.6666666666666666,\"#ed7953\"],[0.7777777777777778,\"#fb9f3a\"],[0.8888888888888888,\"#fdca26\"],[1.0,\"#f0f921\"]],\"type\":\"heatmapgl\"}],\"histogram\":[{\"marker\":{\"pattern\":{\"fillmode\":\"overlay\",\"size\":10,\"solidity\":0.2}},\"type\":\"histogram\"}],\"histogram2d\":[{\"colorbar\":{\"outlinewidth\":0,\"ticks\":\"\"},\"colorscale\":[[0.0,\"#0d0887\"],[0.1111111111111111,\"#46039f\"],[0.2222222222222222,\"#7201a8\"],[0.3333333333333333,\"#9c179e\"],[0.4444444444444444,\"#bd3786\"],[0.5555555555555556,\"#d8576b\"],[0.6666666666666666,\"#ed7953\"],[0.7777777777777778,\"#fb9f3a\"],[0.8888888888888888,\"#fdca26\"],[1.0,\"#f0f921\"]],\"type\":\"histogram2d\"}],\"histogram2dcontour\":[{\"colorbar\":{\"outlinewidth\":0,\"ticks\":\"\"},\"colorscale\":[[0.0,\"#0d0887\"],[0.1111111111111111,\"#46039f\"],[0.2222222222222222,\"#7201a8\"],[0.3333333333333333,\"#9c179e\"],[0.4444444444444444,\"#bd3786\"],[0.5555555555555556,\"#d8576b\"],[0.6666666666666666,\"#ed7953\"],[0.7777777777777778,\"#fb9f3a\"],[0.8888888888888888,\"#fdca26\"],[1.0,\"#f0f921\"]],\"type\":\"histogram2dcontour\"}],\"mesh3d\":[{\"colorbar\":{\"outlinewidth\":0,\"ticks\":\"\"},\"type\":\"mesh3d\"}],\"parcoords\":[{\"line\":{\"colorbar\":{\"outlinewidth\":0,\"ticks\":\"\"}},\"type\":\"parcoords\"}],\"pie\":[{\"automargin\":true,\"type\":\"pie\"}],\"scatter\":[{\"marker\":{\"colorbar\":{\"outlinewidth\":0,\"ticks\":\"\"}},\"type\":\"scatter\"}],\"scatter3d\":[{\"line\":{\"colorbar\":{\"outlinewidth\":0,\"ticks\":\"\"}},\"marker\":{\"colorbar\":{\"outlinewidth\":0,\"ticks\":\"\"}},\"type\":\"scatter3d\"}],\"scattercarpet\":[{\"marker\":{\"colorbar\":{\"outlinewidth\":0,\"ticks\":\"\"}},\"type\":\"scattercarpet\"}],\"scattergeo\":[{\"marker\":{\"colorbar\":{\"outlinewidth\":0,\"ticks\":\"\"}},\"type\":\"scattergeo\"}],\"scattergl\":[{\"marker\":{\"colorbar\":{\"outlinewidth\":0,\"ticks\":\"\"}},\"type\":\"scattergl\"}],\"scattermapbox\":[{\"marker\":{\"colorbar\":{\"outlinewidth\":0,\"ticks\":\"\"}},\"type\":\"scattermapbox\"}],\"scatterpolar\":[{\"marker\":{\"colorbar\":{\"outlinewidth\":0,\"ticks\":\"\"}},\"type\":\"scatterpolar\"}],\"scatterpolargl\":[{\"marker\":{\"colorbar\":{\"outlinewidth\":0,\"ticks\":\"\"}},\"type\":\"scatterpolargl\"}],\"scatterternary\":[{\"marker\":{\"colorbar\":{\"outlinewidth\":0,\"ticks\":\"\"}},\"type\":\"scatterternary\"}],\"surface\":[{\"colorbar\":{\"outlinewidth\":0,\"ticks\":\"\"},\"colorscale\":[[0.0,\"#0d0887\"],[0.1111111111111111,\"#46039f\"],[0.2222222222222222,\"#7201a8\"],[0.3333333333333333,\"#9c179e\"],[0.4444444444444444,\"#bd3786\"],[0.5555555555555556,\"#d8576b\"],[0.6666666666666666,\"#ed7953\"],[0.7777777777777778,\"#fb9f3a\"],[0.8888888888888888,\"#fdca26\"],[1.0,\"#f0f921\"]],\"type\":\"surface\"}],\"table\":[{\"cells\":{\"fill\":{\"color\":\"#EBF0F8\"},\"line\":{\"color\":\"white\"}},\"header\":{\"fill\":{\"color\":\"#C8D4E3\"},\"line\":{\"color\":\"white\"}},\"type\":\"table\"}]},\"layout\":{\"annotationdefaults\":{\"arrowcolor\":\"#2a3f5f\",\"arrowhead\":0,\"arrowwidth\":1},\"autotypenumbers\":\"strict\",\"coloraxis\":{\"colorbar\":{\"outlinewidth\":0,\"ticks\":\"\"}},\"colorscale\":{\"diverging\":[[0,\"#8e0152\"],[0.1,\"#c51b7d\"],[0.2,\"#de77ae\"],[0.3,\"#f1b6da\"],[0.4,\"#fde0ef\"],[0.5,\"#f7f7f7\"],[0.6,\"#e6f5d0\"],[0.7,\"#b8e186\"],[0.8,\"#7fbc41\"],[0.9,\"#4d9221\"],[1,\"#276419\"]],\"sequential\":[[0.0,\"#0d0887\"],[0.1111111111111111,\"#46039f\"],[0.2222222222222222,\"#7201a8\"],[0.3333333333333333,\"#9c179e\"],[0.4444444444444444,\"#bd3786\"],[0.5555555555555556,\"#d8576b\"],[0.6666666666666666,\"#ed7953\"],[0.7777777777777778,\"#fb9f3a\"],[0.8888888888888888,\"#fdca26\"],[1.0,\"#f0f921\"]],\"sequentialminus\":[[0.0,\"#0d0887\"],[0.1111111111111111,\"#46039f\"],[0.2222222222222222,\"#7201a8\"],[0.3333333333333333,\"#9c179e\"],[0.4444444444444444,\"#bd3786\"],[0.5555555555555556,\"#d8576b\"],[0.6666666666666666,\"#ed7953\"],[0.7777777777777778,\"#fb9f3a\"],[0.8888888888888888,\"#fdca26\"],[1.0,\"#f0f921\"]]},\"colorway\":[\"#636efa\",\"#EF553B\",\"#00cc96\",\"#ab63fa\",\"#FFA15A\",\"#19d3f3\",\"#FF6692\",\"#B6E880\",\"#FF97FF\",\"#FECB52\"],\"font\":{\"color\":\"#2a3f5f\"},\"geo\":{\"bgcolor\":\"white\",\"lakecolor\":\"white\",\"landcolor\":\"#E5ECF6\",\"showlakes\":true,\"showland\":true,\"subunitcolor\":\"white\"},\"hoverlabel\":{\"align\":\"left\"},\"hovermode\":\"closest\",\"mapbox\":{\"style\":\"light\"},\"paper_bgcolor\":\"white\",\"plot_bgcolor\":\"#E5ECF6\",\"polar\":{\"angularaxis\":{\"gridcolor\":\"white\",\"linecolor\":\"white\",\"ticks\":\"\"},\"bgcolor\":\"#E5ECF6\",\"radialaxis\":{\"gridcolor\":\"white\",\"linecolor\":\"white\",\"ticks\":\"\"}},\"scene\":{\"xaxis\":{\"backgroundcolor\":\"#E5ECF6\",\"gridcolor\":\"white\",\"gridwidth\":2,\"linecolor\":\"white\",\"showbackground\":true,\"ticks\":\"\",\"zerolinecolor\":\"white\"},\"yaxis\":{\"backgroundcolor\":\"#E5ECF6\",\"gridcolor\":\"white\",\"gridwidth\":2,\"linecolor\":\"white\",\"showbackground\":true,\"ticks\":\"\",\"zerolinecolor\":\"white\"},\"zaxis\":{\"backgroundcolor\":\"#E5ECF6\",\"gridcolor\":\"white\",\"gridwidth\":2,\"linecolor\":\"white\",\"showbackground\":true,\"ticks\":\"\",\"zerolinecolor\":\"white\"}},\"shapedefaults\":{\"line\":{\"color\":\"#2a3f5f\"}},\"ternary\":{\"aaxis\":{\"gridcolor\":\"white\",\"linecolor\":\"white\",\"ticks\":\"\"},\"baxis\":{\"gridcolor\":\"white\",\"linecolor\":\"white\",\"ticks\":\"\"},\"bgcolor\":\"#E5ECF6\",\"caxis\":{\"gridcolor\":\"white\",\"linecolor\":\"white\",\"ticks\":\"\"}},\"title\":{\"x\":0.05},\"xaxis\":{\"automargin\":true,\"gridcolor\":\"white\",\"linecolor\":\"white\",\"ticks\":\"\",\"title\":{\"standoff\":15},\"zerolinecolor\":\"white\",\"zerolinewidth\":2},\"yaxis\":{\"automargin\":true,\"gridcolor\":\"white\",\"linecolor\":\"white\",\"ticks\":\"\",\"title\":{\"standoff\":15},\"zerolinecolor\":\"white\",\"zerolinewidth\":2}}},\"xaxis\":{\"anchor\":\"y\",\"domain\":[0.0,1.0],\"title\":{\"text\":\"Accepted Contacts\"}},\"yaxis\":{\"anchor\":\"x\",\"domain\":[0.0,1.0],\"title\":{\"text\":\"Revenue\"}}},                        {\"responsive\": true}                    ).then(function(){\n",
       "                            \n",
       "var gd = document.getElementById('4821d2ed-0562-449f-a758-6a04d338f2e4');\n",
       "var x = new MutationObserver(function (mutations, observer) {{\n",
       "        var display = window.getComputedStyle(gd).display;\n",
       "        if (!display || display === 'none') {{\n",
       "            console.log([gd, 'removed!']);\n",
       "            Plotly.purge(gd);\n",
       "            observer.disconnect();\n",
       "        }}\n",
       "}});\n",
       "\n",
       "// Listen for the removal of the full notebook cells\n",
       "var notebookContainer = gd.closest('#notebook-container');\n",
       "if (notebookContainer) {{\n",
       "    x.observe(notebookContainer, {childList: true});\n",
       "}}\n",
       "\n",
       "// Listen for the clearing of the current output cell\n",
       "var outputEl = gd.closest('.output');\n",
       "if (outputEl) {{\n",
       "    x.observe(outputEl, {childList: true});\n",
       "}}\n",
       "\n",
       "                        })                };                });            </script>        </div>"
      ]
     },
     "metadata": {},
     "output_type": "display_data"
    }
   ],
   "source": [
    "fig = px.scatter(df, x=\"Accepted Contacts\", y=\"Revenue\", color=\"Category\", trendline=\"ols\")\n",
    "fig.show()"
   ]
  },
  {
   "cell_type": "code",
   "execution_count": 22,
   "id": "b4ed8df6",
   "metadata": {},
   "outputs": [
    {
     "data": {
      "application/vnd.plotly.v1+json": {
       "config": {
        "plotlyServerURL": "https://plot.ly"
       },
       "data": [
        {
         "hovertemplate": "Category=Bathroom Remodel<br>Contacts=%{x}<br>Revenue=%{y}<extra></extra>",
         "legendgroup": "Bathroom Remodel",
         "marker": {
          "color": "#636efa",
          "symbol": "circle"
         },
         "mode": "markers",
         "name": "Bathroom Remodel",
         "orientation": "v",
         "showlegend": true,
         "type": "scatter",
         "x": [
          1666,
          1577,
          1496,
          1675,
          1696,
          1636,
          1878,
          1694,
          1803,
          1674,
          1774,
          1792,
          2059
         ],
         "xaxis": "x",
         "y": [
          41973,
          38891,
          35939,
          41907,
          39265,
          37886,
          39374,
          36459,
          38017,
          34646,
          35146,
          33886,
          40317
         ],
         "yaxis": "y"
        },
        {
         "hovertemplate": "<b>OLS trendline</b><br>Revenue = 2.79507 * Contacts + 33157<br>R<sup>2</sup>=0.022470<br><br>Category=Bathroom Remodel<br>Contacts=%{x}<br>Revenue=%{y} <b>(trend)</b><extra></extra>",
         "legendgroup": "Bathroom Remodel",
         "marker": {
          "color": "#636efa",
          "symbol": "circle"
         },
         "mode": "lines",
         "name": "Bathroom Remodel",
         "showlegend": false,
         "type": "scatter",
         "x": [
          1496,
          1577,
          1636,
          1666,
          1674,
          1675,
          1694,
          1696,
          1774,
          1792,
          1803,
          1878,
          2059
         ],
         "xaxis": "x",
         "y": [
          37338.38747013717,
          37564.78854481603,
          37729.697969582114,
          37813.55021946317,
          37835.910819431454,
          37838.70589442749,
          37891.81231935216,
          37897.40246934423,
          38115.41831903499,
          38165.72966896362,
          38196.47549392001,
          38406.10611862266,
          38912.014692905046
         ],
         "yaxis": "y"
        },
        {
         "hovertemplate": "Category=Concrete Installation<br>Contacts=%{x}<br>Revenue=%{y}<extra></extra>",
         "legendgroup": "Concrete Installation",
         "marker": {
          "color": "#EF553B",
          "symbol": "circle"
         },
         "mode": "markers",
         "name": "Concrete Installation",
         "orientation": "v",
         "showlegend": true,
         "type": "scatter",
         "x": [
          3769,
          3970,
          3864,
          4600,
          3969,
          3960,
          4092,
          4035,
          4369,
          4346,
          3870,
          4290,
          4219
         ],
         "xaxis": "x",
         "y": [
          53066,
          54828,
          50853,
          54774,
          46305,
          50680,
          48137,
          43967,
          44692,
          47233,
          43626,
          43830,
          44667
         ],
         "yaxis": "y"
        },
        {
         "hovertemplate": "<b>OLS trendline</b><br>Revenue = -1.43179 * Contacts + 54080.6<br>R<sup>2</sup>=0.006880<br><br>Category=Concrete Installation<br>Contacts=%{x}<br>Revenue=%{y} <b>(trend)</b><extra></extra>",
         "legendgroup": "Concrete Installation",
         "marker": {
          "color": "#EF553B",
          "symbol": "circle"
         },
         "mode": "lines",
         "name": "Concrete Installation",
         "showlegend": false,
         "type": "scatter",
         "x": [
          3769,
          3864,
          3870,
          3960,
          3969,
          3970,
          4035,
          4092,
          4219,
          4290,
          4346,
          4369,
          4600
         ],
         "xaxis": "x",
         "y": [
          48684.219879931145,
          48548.20023995986,
          48539.6095258564,
          48410.74881430466,
          48397.86274314948,
          48396.43095746558,
          48303.364888011536,
          48221.753104028765,
          48039.91632217241,
          47938.25953861492,
          47858.07954031605,
          47825.148469586165,
          47494.405976603346
         ],
         "yaxis": "y"
        },
        {
         "hovertemplate": "Category=DJ<br>Contacts=%{x}<br>Revenue=%{y}<extra></extra>",
         "legendgroup": "DJ",
         "marker": {
          "color": "#00cc96",
          "symbol": "circle"
         },
         "mode": "markers",
         "name": "DJ",
         "orientation": "v",
         "showlegend": true,
         "type": "scatter",
         "x": [
          3877,
          3678,
          3619,
          3539,
          3510,
          3484,
          3812,
          3766,
          3664,
          3594,
          3699,
          3068,
          3219
         ],
         "xaxis": "x",
         "y": [
          47437,
          44721,
          43569,
          43615,
          40788,
          43165,
          44226,
          43770,
          42490,
          38814,
          41495,
          35754,
          38130
         ],
         "yaxis": "y"
        },
        {
         "hovertemplate": "<b>OLS trendline</b><br>Revenue = 11.7072 * Contacts + 250.136<br>R<sup>2</sup>=0.721511<br><br>Category=DJ<br>Contacts=%{x}<br>Revenue=%{y} <b>(trend)</b><extra></extra>",
         "legendgroup": "DJ",
         "marker": {
          "color": "#00cc96",
          "symbol": "circle"
         },
         "mode": "lines",
         "name": "DJ",
         "showlegend": false,
         "type": "scatter",
         "x": [
          3068,
          3219,
          3484,
          3510,
          3539,
          3594,
          3619,
          3664,
          3678,
          3699,
          3766,
          3812,
          3877
         ],
         "xaxis": "x",
         "y": [
          36167.68862471807,
          37935.46909570052,
          41037.86528649756,
          41342.25132785877,
          41681.758835530905,
          42325.65238456425,
          42618.331270488496,
          43145.15326515214,
          43309.05344126972,
          43554.90370544609,
          44339.28311972308,
          44877.81226982369,
          45638.77737322674
         ],
         "yaxis": "y"
        },
        {
         "hovertemplate": "Category=Electrical and Wiring Repair<br>Contacts=%{x}<br>Revenue=%{y}<extra></extra>",
         "legendgroup": "Electrical and Wiring Repair",
         "marker": {
          "color": "#ab63fa",
          "symbol": "circle"
         },
         "mode": "markers",
         "name": "Electrical and Wiring Repair",
         "orientation": "v",
         "showlegend": true,
         "type": "scatter",
         "x": [
          4725,
          4773,
          4866,
          5019,
          4465,
          5043,
          4887,
          5900,
          5573,
          5896,
          5634,
          6002,
          6371
         ],
         "xaxis": "x",
         "y": [
          38401,
          40156,
          40727,
          40135,
          35258,
          39021,
          36372,
          39519,
          36675,
          38041,
          36025,
          39142,
          39791
         ],
         "yaxis": "y"
        },
        {
         "hovertemplate": "<b>OLS trendline</b><br>Revenue = 0.478812 * Contacts + 35857.8<br>R<sup>2</sup>=0.025971<br><br>Category=Electrical and Wiring Repair<br>Contacts=%{x}<br>Revenue=%{y} <b>(trend)</b><extra></extra>",
         "legendgroup": "Electrical and Wiring Repair",
         "marker": {
          "color": "#ab63fa",
          "symbol": "circle"
         },
         "mode": "lines",
         "name": "Electrical and Wiring Repair",
         "showlegend": false,
         "type": "scatter",
         "x": [
          4465,
          4725,
          4773,
          4866,
          4887,
          5019,
          5043,
          5573,
          5634,
          5896,
          5900,
          6002,
          6371
         ],
         "xaxis": "x",
         "y": [
          37995.682865424606,
          38120.17399107632,
          38143.156968119714,
          38187.68648614128,
          38197.74153859777,
          38260.9447254671,
          38272.436213988796,
          38526.20658550959,
          38555.41411883557,
          38680.862868530756,
          38682.7781166177,
          38731.61694283491,
          38908.298578855996
         ],
         "yaxis": "y"
        },
        {
         "hovertemplate": "Category=Exterior Painting<br>Contacts=%{x}<br>Revenue=%{y}<extra></extra>",
         "legendgroup": "Exterior Painting",
         "marker": {
          "color": "#FFA15A",
          "symbol": "circle"
         },
         "mode": "markers",
         "name": "Exterior Painting",
         "orientation": "v",
         "showlegend": true,
         "type": "scatter",
         "x": [
          2797,
          2866,
          2802,
          2729,
          2635,
          2796,
          2406,
          2671,
          2967,
          2936,
          2788,
          2797,
          2854
         ],
         "xaxis": "x",
         "y": [
          56759,
          57346,
          52836,
          54531,
          50966,
          53463,
          45730,
          47016,
          47881,
          49304,
          46195,
          48402,
          46137
         ],
         "yaxis": "y"
        },
        {
         "hovertemplate": "<b>OLS trendline</b><br>Revenue = 6.50894 * Contacts + 32458.3<br>R<sup>2</sup>=0.052090<br><br>Category=Exterior Painting<br>Contacts=%{x}<br>Revenue=%{y} <b>(trend)</b><extra></extra>",
         "legendgroup": "Exterior Painting",
         "marker": {
          "color": "#FFA15A",
          "symbol": "circle"
         },
         "mode": "lines",
         "name": "Exterior Painting",
         "showlegend": false,
         "type": "scatter",
         "x": [
          2406,
          2635,
          2671,
          2729,
          2788,
          2796,
          2797,
          2797,
          2802,
          2854,
          2866,
          2936,
          2967
         ],
         "xaxis": "x",
         "y": [
          48118.79911435601,
          49609.34654124696,
          49843.66840748309,
          50221.186969752416,
          50605.21447275052,
          50657.28599858077,
          50663.794939309555,
          50663.794939309555,
          50696.33964295346,
          51034.8045608501,
          51112.911849595475,
          51568.53770061018,
          51770.3148632024
         ],
         "yaxis": "y"
        },
        {
         "hovertemplate": "Category=Fence and Gate Installation<br>Contacts=%{x}<br>Revenue=%{y}<extra></extra>",
         "legendgroup": "Fence and Gate Installation",
         "marker": {
          "color": "#19d3f3",
          "symbol": "circle"
         },
         "mode": "markers",
         "name": "Fence and Gate Installation",
         "orientation": "v",
         "showlegend": true,
         "type": "scatter",
         "x": [
          5512,
          5788,
          5505,
          6309,
          5795,
          5356,
          5388,
          5804,
          5635,
          5531,
          5725,
          5265,
          5272
         ],
         "xaxis": "x",
         "y": [
          54157,
          57950,
          50419,
          50062,
          50799,
          45874,
          44958,
          45064,
          44815,
          43425,
          45346,
          42366,
          42453
         ],
         "yaxis": "y"
        },
        {
         "hovertemplate": "<b>OLS trendline</b><br>Revenue = 7.44247 * Contacts + 5787.99<br>R<sup>2</sup>=0.197484<br><br>Category=Fence and Gate Installation<br>Contacts=%{x}<br>Revenue=%{y} <b>(trend)</b><extra></extra>",
         "legendgroup": "Fence and Gate Installation",
         "marker": {
          "color": "#19d3f3",
          "symbol": "circle"
         },
         "mode": "lines",
         "name": "Fence and Gate Installation",
         "showlegend": false,
         "type": "scatter",
         "x": [
          5265,
          5272,
          5356,
          5388,
          5505,
          5512,
          5531,
          5635,
          5725,
          5788,
          5795,
          5804,
          6309
         ],
         "xaxis": "x",
         "y": [
          44972.573444724236,
          45024.670700699484,
          45649.83777240245,
          45887.99665686072,
          46758.76507816128,
          46810.86233413653,
          46952.26917178363,
          47726.285546273015,
          48396.107408811906,
          48864.982712589124,
          48917.07996856437,
          48984.06215481826,
          52742.50705017537
         ],
         "yaxis": "y"
        },
        {
         "hovertemplate": "Category=Floor Installation or Replacement<br>Contacts=%{x}<br>Revenue=%{y}<extra></extra>",
         "legendgroup": "Floor Installation or Replacement",
         "marker": {
          "color": "#FF6692",
          "symbol": "circle"
         },
         "mode": "markers",
         "name": "Floor Installation or Replacement",
         "orientation": "v",
         "showlegend": true,
         "type": "scatter",
         "x": [
          3111,
          2978,
          2788,
          3016,
          3176,
          2975,
          3148,
          3367,
          3713,
          3621,
          3540,
          3770,
          3511
         ],
         "xaxis": "x",
         "y": [
          56464,
          53133,
          54948,
          51381,
          52277,
          49171,
          51967,
          51685,
          51061,
          51929,
          48770,
          50802,
          49506
         ],
         "yaxis": "y"
        },
        {
         "hovertemplate": "<b>OLS trendline</b><br>Revenue = -3.25758 * Contacts + 62479.9<br>R<sup>2</sup>=0.228860<br><br>Category=Floor Installation or Replacement<br>Contacts=%{x}<br>Revenue=%{y} <b>(trend)</b><extra></extra>",
         "legendgroup": "Floor Installation or Replacement",
         "marker": {
          "color": "#FF6692",
          "symbol": "circle"
         },
         "mode": "lines",
         "name": "Floor Installation or Replacement",
         "showlegend": false,
         "type": "scatter",
         "x": [
          2788,
          2975,
          2978,
          3016,
          3111,
          3148,
          3176,
          3367,
          3511,
          3540,
          3621,
          3713,
          3770
         ],
         "xaxis": "x",
         "y": [
          53397.73482090254,
          52788.567069803015,
          52778.79432513297,
          52655.00622597906,
          52345.535978094274,
          52225.00546049704,
          52133.79317690995,
          51511.5950995837,
          51042.503355421504,
          50948.033490277725,
          50684.16938418649,
          50384.471880971745,
          50198.78973224088
         ],
         "yaxis": "y"
        },
        {
         "hovertemplate": "Category=General Contracting<br>Contacts=%{x}<br>Revenue=%{y}<extra></extra>",
         "legendgroup": "General Contracting",
         "marker": {
          "color": "#B6E880",
          "symbol": "circle"
         },
         "mode": "markers",
         "name": "General Contracting",
         "orientation": "v",
         "showlegend": true,
         "type": "scatter",
         "x": [
          4033,
          3962,
          4226,
          4039,
          3910,
          4192,
          4289,
          5044,
          4416,
          5005,
          4371,
          4689,
          4935
         ],
         "xaxis": "x",
         "y": [
          62961,
          66633,
          59584,
          56203,
          53763,
          55161,
          58061,
          62356,
          56312,
          60742,
          57346,
          55338,
          58380
         ],
         "yaxis": "y"
        },
        {
         "hovertemplate": "<b>OLS trendline</b><br>Revenue = 0.714478 * Contacts + 55541.2<br>R<sup>2</sup>=0.006098<br><br>Category=General Contracting<br>Contacts=%{x}<br>Revenue=%{y} <b>(trend)</b><extra></extra>",
         "legendgroup": "General Contracting",
         "marker": {
          "color": "#B6E880",
          "symbol": "circle"
         },
         "mode": "lines",
         "name": "General Contracting",
         "showlegend": false,
         "type": "scatter",
         "x": [
          3910,
          3962,
          4033,
          4039,
          4192,
          4226,
          4289,
          4371,
          4416,
          4689,
          4935,
          5005,
          5044
         ],
         "xaxis": "x",
         "y": [
          58334.79707672297,
          58371.94994666968,
          58422.677903712305,
          58426.96477332154,
          58536.279948357056,
          58560.57220947606,
          58605.58434037304,
          58664.171558365924,
          58696.3230804352,
          58891.375647655426,
          59067.1373016341,
          59117.15078040852,
          59145.01543286855
         ],
         "yaxis": "y"
        },
        {
         "hovertemplate": "Category=Handyman<br>Contacts=%{x}<br>Revenue=%{y}<extra></extra>",
         "legendgroup": "Handyman",
         "marker": {
          "color": "#FF97FF",
          "symbol": "circle"
         },
         "mode": "markers",
         "name": "Handyman",
         "orientation": "v",
         "showlegend": true,
         "type": "scatter",
         "x": [
          14377,
          15062,
          15297,
          15661,
          16375,
          15827,
          16431,
          17286,
          17052,
          17760,
          17629,
          18166,
          18688
         ],
         "xaxis": "x",
         "y": [
          61227,
          70622,
          67616,
          68139,
          66416,
          64208,
          63505,
          60382,
          58229,
          58661,
          59619,
          61827,
          62459
         ],
         "yaxis": "y"
        },
        {
         "hovertemplate": "<b>OLS trendline</b><br>Revenue = -1.74963 * Contacts + 92319.1<br>R<sup>2</sup>=0.342671<br><br>Category=Handyman<br>Contacts=%{x}<br>Revenue=%{y} <b>(trend)</b><extra></extra>",
         "legendgroup": "Handyman",
         "marker": {
          "color": "#FF97FF",
          "symbol": "circle"
         },
         "mode": "lines",
         "name": "Handyman",
         "showlegend": false,
         "type": "scatter",
         "x": [
          14377,
          15062,
          15297,
          15661,
          15827,
          16375,
          16431,
          17052,
          17286,
          17629,
          17760,
          18166,
          18688
         ],
         "xaxis": "x",
         "y": [
          67164.75301564326,
          65966.25856756585,
          65555.09623866338,
          64918.23203559742,
          64627.79396496844,
          63668.99840650652,
          63571.01929834252,
          62484.500973881106,
          62075.088271910136,
          61474.966234405685,
          61245.7651063792,
          60535.416572190254,
          59622.11131394732
         ],
         "yaxis": "y"
        },
        {
         "hovertemplate": "Category=House Cleaning<br>Contacts=%{x}<br>Revenue=%{y}<extra></extra>",
         "legendgroup": "House Cleaning",
         "marker": {
          "color": "#FECB52",
          "symbol": "circle"
         },
         "mode": "markers",
         "name": "House Cleaning",
         "orientation": "v",
         "showlegend": true,
         "type": "scatter",
         "x": [
          19565,
          20094,
          20247,
          20289,
          20567,
          20051,
          19642,
          21833,
          24108,
          21375,
          21428,
          23575,
          27026
         ],
         "xaxis": "x",
         "y": [
          169773,
          176109,
          168267,
          167534,
          165155,
          163254,
          157545,
          160187,
          166974,
          159349,
          168021,
          175866,
          184214
         ],
         "yaxis": "y"
        },
        {
         "hovertemplate": "<b>OLS trendline</b><br>Revenue = 2.03899 * Contacts + 123980<br>R<sup>2</sup>=0.353072<br><br>Category=House Cleaning<br>Contacts=%{x}<br>Revenue=%{y} <b>(trend)</b><extra></extra>",
         "legendgroup": "House Cleaning",
         "marker": {
          "color": "#FECB52",
          "symbol": "circle"
         },
         "mode": "lines",
         "name": "House Cleaning",
         "showlegend": false,
         "type": "scatter",
         "x": [
          19565,
          19642,
          20051,
          20094,
          20247,
          20289,
          20567,
          21375,
          21428,
          21833,
          23575,
          24108,
          27026
         ],
         "xaxis": "x",
         "y": [
          163872.72563817087,
          164029.72809883443,
          164863.67623404737,
          164951.35293285947,
          165263.318861191,
          165348.95656700747,
          165915.79661979276,
          167563.30296026234,
          167671.36958903077,
          168497.16175226116,
          172049.08755064977,
          173135.8708173209,
          179085.6523785711
         ],
         "yaxis": "y"
        },
        {
         "hovertemplate": "Category=Interior Painting<br>Contacts=%{x}<br>Revenue=%{y}<extra></extra>",
         "legendgroup": "Interior Painting",
         "marker": {
          "color": "#636efa",
          "symbol": "circle"
         },
         "mode": "markers",
         "name": "Interior Painting",
         "orientation": "v",
         "showlegend": true,
         "type": "scatter",
         "x": [
          6202,
          6503,
          6268,
          6177,
          6739,
          6633,
          6787,
          6980,
          7989,
          8106,
          7753,
          7999,
          8497
         ],
         "xaxis": "x",
         "y": [
          110909,
          115172,
          109338,
          108500,
          116278,
          110126,
          108522,
          107376,
          108474,
          110746,
          108881,
          107498,
          119720
         ],
         "yaxis": "y"
        },
        {
         "hovertemplate": "<b>OLS trendline</b><br>Revenue = 0.758575 * Contacts + 105482<br>R<sup>2</sup>=0.027040<br><br>Category=Interior Painting<br>Contacts=%{x}<br>Revenue=%{y} <b>(trend)</b><extra></extra>",
         "legendgroup": "Interior Painting",
         "marker": {
          "color": "#636efa",
          "symbol": "circle"
         },
         "mode": "lines",
         "name": "Interior Painting",
         "showlegend": false,
         "type": "scatter",
         "x": [
          6177,
          6202,
          6268,
          6503,
          6633,
          6739,
          6787,
          6980,
          7753,
          7989,
          7999,
          8106,
          8497
         ],
         "xaxis": "x",
         "y": [
          110168.09675958997,
          110187.06112491054,
          110237.12704935684,
          110415.39208337021,
          110514.00678303718,
          110594.4156919964,
          110630.82727341191,
          110777.23217368672,
          111363.61034939878,
          111542.63395802496,
          111550.21970415319,
          111631.38718772524,
          111927.98986133897
         ],
         "yaxis": "y"
        },
        {
         "hovertemplate": "Category=Junk Removal<br>Contacts=%{x}<br>Revenue=%{y}<extra></extra>",
         "legendgroup": "Junk Removal",
         "marker": {
          "color": "#EF553B",
          "symbol": "circle"
         },
         "mode": "markers",
         "name": "Junk Removal",
         "orientation": "v",
         "showlegend": true,
         "type": "scatter",
         "x": [
          4064,
          4196,
          4166,
          4543,
          4753,
          4474,
          4619,
          5408,
          6377,
          5909,
          5668,
          5946,
          6858
         ],
         "xaxis": "x",
         "y": [
          24239,
          26438,
          25313,
          27011,
          27116,
          24575,
          24914,
          27403,
          30403,
          29174,
          27511,
          30122,
          31767
         ],
         "yaxis": "y"
        },
        {
         "hovertemplate": "<b>OLS trendline</b><br>Revenue = 2.40021 * Contacts + 15016.7<br>R<sup>2</sup>=0.867703<br><br>Category=Junk Removal<br>Contacts=%{x}<br>Revenue=%{y} <b>(trend)</b><extra></extra>",
         "legendgroup": "Junk Removal",
         "marker": {
          "color": "#EF553B",
          "symbol": "circle"
         },
         "mode": "lines",
         "name": "Junk Removal",
         "showlegend": false,
         "type": "scatter",
         "x": [
          4064,
          4166,
          4196,
          4474,
          4543,
          4619,
          4753,
          5408,
          5668,
          5909,
          5946,
          6377,
          6858
         ],
         "xaxis": "x",
         "y": [
          24771.187415209504,
          25016.008779788783,
          25088.015063488572,
          25755.273292439935,
          25920.887744949447,
          26103.303663655577,
          26424.931730847962,
          27997.068924959993,
          28621.123383691487,
          29199.57386274645,
          29288.381612642854,
          30322.871888463138,
          31477.3726371164
         ],
         "yaxis": "y"
        },
        {
         "hovertemplate": "Category=Local Moving (under 50 miles)<br>Contacts=%{x}<br>Revenue=%{y}<extra></extra>",
         "legendgroup": "Local Moving (under 50 miles)",
         "marker": {
          "color": "#00cc96",
          "symbol": "circle"
         },
         "mode": "markers",
         "name": "Local Moving (under 50 miles)",
         "orientation": "v",
         "showlegend": true,
         "type": "scatter",
         "x": [
          8988,
          9011,
          8826,
          10123,
          10332,
          10008,
          11347,
          13462,
          15962,
          12799,
          13159,
          14580,
          17879
         ],
         "xaxis": "x",
         "y": [
          74190,
          78796,
          76509,
          84475,
          84854,
          81331,
          89086,
          93835,
          98134,
          90929,
          100044,
          105028,
          108265
         ],
         "yaxis": "y"
        },
        {
         "hovertemplate": "<b>OLS trendline</b><br>Revenue = 3.58004 * Contacts + 46560.4<br>R<sup>2</sup>=0.893857<br><br>Category=Local Moving (under 50 miles)<br>Contacts=%{x}<br>Revenue=%{y} <b>(trend)</b><extra></extra>",
         "legendgroup": "Local Moving (under 50 miles)",
         "marker": {
          "color": "#00cc96",
          "symbol": "circle"
         },
         "mode": "lines",
         "name": "Local Moving (under 50 miles)",
         "showlegend": false,
         "type": "scatter",
         "x": [
          8826,
          8988,
          9011,
          10008,
          10123,
          10332,
          11347,
          12799,
          13159,
          13462,
          14580,
          15962,
          17879
         ],
         "xaxis": "x",
         "y": [
          78157.85809557376,
          78737.82510047869,
          78820.16609500222,
          82389.4692054356,
          82801.1741780533,
          83549.40321524545,
          87183.1471040016,
          92381.36988870498,
          93670.18545516036,
          94754.93855692698,
          98757.42689941898,
          103705.04665731158,
          110567.98954868651
         ],
         "yaxis": "y"
        },
        {
         "hovertemplate": "Category=Outdoor Landscaping and Design<br>Contacts=%{x}<br>Revenue=%{y}<extra></extra>",
         "legendgroup": "Outdoor Landscaping and Design",
         "marker": {
          "color": "#ab63fa",
          "symbol": "circle"
         },
         "mode": "markers",
         "name": "Outdoor Landscaping and Design",
         "orientation": "v",
         "showlegend": true,
         "type": "scatter",
         "x": [
          8983,
          10247,
          9944,
          11117,
          9598,
          10126,
          9311,
          9741,
          9401,
          9553,
          8613,
          7320,
          8012
         ],
         "xaxis": "x",
         "y": [
          90654,
          101802,
          91499,
          92405,
          76209,
          77513,
          73454,
          70694,
          70698,
          71353,
          68100,
          61999,
          64043
         ],
         "yaxis": "y"
        },
        {
         "hovertemplate": "<b>OLS trendline</b><br>Revenue = 8.835 * Contacts + -5165.14<br>R<sup>2</sup>=0.497284<br><br>Category=Outdoor Landscaping and Design<br>Contacts=%{x}<br>Revenue=%{y} <b>(trend)</b><extra></extra>",
         "legendgroup": "Outdoor Landscaping and Design",
         "marker": {
          "color": "#ab63fa",
          "symbol": "circle"
         },
         "mode": "lines",
         "name": "Outdoor Landscaping and Design",
         "showlegend": false,
         "type": "scatter",
         "x": [
          7320,
          8012,
          8613,
          8983,
          9311,
          9401,
          9553,
          9598,
          9741,
          9944,
          10126,
          10247,
          11117
         ],
         "xaxis": "x",
         "y": [
          59507.07348952613,
          65620.89438366263,
          70930.73016021759,
          74199.68063829636,
          77097.56106210673,
          77892.71117839616,
          79235.63137479608,
          79633.2064329408,
          80896.61161771178,
          82690.11688000905,
          84298.08711517212,
          85367.1222715168,
          93053.57339564795
         ],
         "yaxis": "y"
        },
        {
         "hovertemplate": "Category=Personal Training<br>Contacts=%{x}<br>Revenue=%{y}<extra></extra>",
         "legendgroup": "Personal Training",
         "marker": {
          "color": "#FFA15A",
          "symbol": "circle"
         },
         "mode": "markers",
         "name": "Personal Training",
         "orientation": "v",
         "showlegend": true,
         "type": "scatter",
         "x": [
          5017,
          4650,
          4409,
          4617,
          4233,
          4516,
          4997,
          5667,
          5778,
          5779,
          6393,
          6211,
          5877
         ],
         "xaxis": "x",
         "y": [
          31076,
          29489,
          27636,
          28821,
          26216,
          27462,
          31402,
          35287,
          35969,
          32744,
          39080,
          36135,
          35664
         ],
         "yaxis": "y"
        },
        {
         "hovertemplate": "<b>OLS trendline</b><br>Revenue = 5.37303 * Contacts + 3910.88<br>R<sup>2</sup>=0.947861<br><br>Category=Personal Training<br>Contacts=%{x}<br>Revenue=%{y} <b>(trend)</b><extra></extra>",
         "legendgroup": "Personal Training",
         "marker": {
          "color": "#FFA15A",
          "symbol": "circle"
         },
         "mode": "lines",
         "name": "Personal Training",
         "showlegend": false,
         "type": "scatter",
         "x": [
          4233,
          4409,
          4516,
          4617,
          4650,
          4997,
          5017,
          5667,
          5778,
          5779,
          5877,
          6211,
          6393
         ],
         "xaxis": "x",
         "y": [
          26654.90444611175,
          27600.55710545573,
          28175.470938125083,
          28718.146611953165,
          28895.456485580162,
          30759.896671900406,
          30867.357201371313,
          34359.824409175795,
          34956.230347739336,
          34961.60337421288,
          35488.159968620326,
          37282.75081078448,
          38260.64162896973
         ],
         "yaxis": "y"
        },
        {
         "hovertemplate": "Category=Property Management<br>Contacts=%{x}<br>Revenue=%{y}<extra></extra>",
         "legendgroup": "Property Management",
         "marker": {
          "color": "#19d3f3",
          "symbol": "circle"
         },
         "mode": "markers",
         "name": "Property Management",
         "orientation": "v",
         "showlegend": true,
         "type": "scatter",
         "x": [
          1021,
          1078,
          952,
          979,
          996,
          905,
          925,
          904,
          978,
          871,
          1128,
          1082,
          1280
         ],
         "xaxis": "x",
         "y": [
          22124,
          21321,
          22801,
          21697,
          22557,
          20812,
          20942,
          20384,
          23188,
          18239,
          25378,
          23299,
          27721
         ],
         "yaxis": "y"
        },
        {
         "hovertemplate": "<b>OLS trendline</b><br>Revenue = 18.728 * Contacts + 3472.74<br>R<sup>2</sup>=0.796397<br><br>Category=Property Management<br>Contacts=%{x}<br>Revenue=%{y} <b>(trend)</b><extra></extra>",
         "legendgroup": "Property Management",
         "marker": {
          "color": "#19d3f3",
          "symbol": "circle"
         },
         "mode": "lines",
         "name": "Property Management",
         "showlegend": false,
         "type": "scatter",
         "x": [
          871,
          904,
          905,
          925,
          952,
          978,
          979,
          996,
          1021,
          1078,
          1082,
          1128,
          1280
         ],
         "xaxis": "x",
         "y": [
          19784.78152636952,
          20402.803894155262,
          20421.531844694226,
          20796.090855473463,
          21301.745520025434,
          21788.672234038444,
          21807.400184577407,
          22125.77534373976,
          22593.974107213806,
          23661.467287934636,
          23736.379090090482,
          24597.86481488273,
          27444.513296804944
         ],
         "yaxis": "y"
        },
        {
         "hovertemplate": "Category=Roof Installation or Replacement<br>Contacts=%{x}<br>Revenue=%{y}<extra></extra>",
         "legendgroup": "Roof Installation or Replacement",
         "marker": {
          "color": "#FF6692",
          "symbol": "circle"
         },
         "mode": "markers",
         "name": "Roof Installation or Replacement",
         "orientation": "v",
         "showlegend": true,
         "type": "scatter",
         "x": [
          2001,
          2219,
          2239,
          2395,
          2505,
          2239,
          2291,
          2276,
          2214,
          2512,
          2369,
          2505,
          2571
         ],
         "xaxis": "x",
         "y": [
          69422,
          78369,
          81902,
          86862,
          90495,
          81169,
          83097,
          74511,
          74828,
          77422,
          76936,
          81331,
          84353
         ],
         "yaxis": "y"
        },
        {
         "hovertemplate": "<b>OLS trendline</b><br>Revenue = 22.7781 * Contacts + 26900<br>R<sup>2</sup>=0.427486<br><br>Category=Roof Installation or Replacement<br>Contacts=%{x}<br>Revenue=%{y} <b>(trend)</b><extra></extra>",
         "legendgroup": "Roof Installation or Replacement",
         "marker": {
          "color": "#FF6692",
          "symbol": "circle"
         },
         "mode": "lines",
         "name": "Roof Installation or Replacement",
         "showlegend": false,
         "type": "scatter",
         "x": [
          2001,
          2214,
          2219,
          2239,
          2239,
          2276,
          2291,
          2369,
          2395,
          2505,
          2505,
          2512,
          2571
         ],
         "xaxis": "x",
         "y": [
          72479.01219445674,
          77330.75316913852,
          77444.64380234701,
          77900.20633518099,
          77900.20633518099,
          78742.99702092382,
          79084.6689205493,
          80861.3627986018,
          81453.59409128595,
          83959.18802187277,
          83959.18802187277,
          84118.63490836468,
          85462.54438022489
         ],
         "yaxis": "y"
        },
        {
         "hovertemplate": "Category=Tree Trimming and Removal<br>Contacts=%{x}<br>Revenue=%{y}<extra></extra>",
         "legendgroup": "Tree Trimming and Removal",
         "marker": {
          "color": "#B6E880",
          "symbol": "circle"
         },
         "mode": "markers",
         "name": "Tree Trimming and Removal",
         "orientation": "v",
         "showlegend": true,
         "type": "scatter",
         "x": [
          3714,
          4363,
          4671,
          4758,
          4114,
          3960,
          3966,
          5145,
          4249,
          4495,
          4689,
          4568,
          4763
         ],
         "xaxis": "x",
         "y": [
          47539,
          53878,
          55782,
          54626,
          47803,
          44590,
          44018,
          48691,
          41948,
          42609,
          44106,
          45038,
          46356
         ],
         "yaxis": "y"
        },
        {
         "hovertemplate": "<b>OLS trendline</b><br>Revenue = 3.41323 * Contacts + 32375.2<br>R<sup>2</sup>=0.089399<br><br>Category=Tree Trimming and Removal<br>Contacts=%{x}<br>Revenue=%{y} <b>(trend)</b><extra></extra>",
         "legendgroup": "Tree Trimming and Removal",
         "marker": {
          "color": "#B6E880",
          "symbol": "circle"
         },
         "mode": "lines",
         "name": "Tree Trimming and Removal",
         "showlegend": false,
         "type": "scatter",
         "x": [
          3714,
          3960,
          3966,
          4114,
          4249,
          4363,
          4495,
          4568,
          4671,
          4689,
          4758,
          4763,
          5145
         ],
         "xaxis": "x",
         "y": [
          45051.882266938395,
          45891.53608906104,
          45912.015450576226,
          46417.17303461749,
          46877.95866870918,
          47267.066537497725,
          47717.61249083182,
          47966.77805593326,
          48318.34042861062,
          48379.77851315618,
          48615.29117058082,
          48632.35730517681,
          49936.209988310344
         ],
         "yaxis": "y"
        },
        {
         "hovertemplate": "Category=Wedding and Event Catering<br>Contacts=%{x}<br>Revenue=%{y}<extra></extra>",
         "legendgroup": "Wedding and Event Catering",
         "marker": {
          "color": "#FF97FF",
          "symbol": "circle"
         },
         "mode": "markers",
         "name": "Wedding and Event Catering",
         "orientation": "v",
         "showlegend": true,
         "type": "scatter",
         "x": [
          3336,
          3419,
          3053,
          3375,
          3528,
          3415,
          3253,
          3290,
          3275,
          3395,
          3377,
          3505,
          3266
         ],
         "xaxis": "x",
         "y": [
          38176,
          39003,
          37303,
          37061,
          37453,
          37334,
          35010,
          35652,
          36290,
          32764,
          36349,
          34346,
          32409
         ],
         "yaxis": "y"
        },
        {
         "hovertemplate": "<b>OLS trendline</b><br>Revenue = 0.942635 * Contacts + 32935.2<br>R<sup>2</sup>=0.003382<br><br>Category=Wedding and Event Catering<br>Contacts=%{x}<br>Revenue=%{y} <b>(trend)</b><extra></extra>",
         "legendgroup": "Wedding and Event Catering",
         "marker": {
          "color": "#FF97FF",
          "symbol": "circle"
         },
         "mode": "lines",
         "name": "Wedding and Event Catering",
         "showlegend": false,
         "type": "scatter",
         "x": [
          3053,
          3253,
          3266,
          3275,
          3290,
          3336,
          3375,
          3377,
          3395,
          3415,
          3419,
          3505,
          3528
         ],
         "xaxis": "x",
         "y": [
          35813.06710520304,
          36001.5941000614,
          36013.84835472719,
          36022.33206949582,
          36036.47159411019,
          36079.832802927616,
          36116.595566924996,
          36118.480836873576,
          36135.44826641083,
          36154.30096589666,
          36158.07150579383,
          36239.13811358293,
          36260.818717991635
         ],
         "yaxis": "y"
        },
        {
         "hovertemplate": "Category=Wedding and Event Photography<br>Contacts=%{x}<br>Revenue=%{y}<extra></extra>",
         "legendgroup": "Wedding and Event Photography",
         "marker": {
          "color": "#FECB52",
          "symbol": "circle"
         },
         "mode": "markers",
         "name": "Wedding and Event Photography",
         "orientation": "v",
         "showlegend": true,
         "type": "scatter",
         "x": [
          5226,
          4849,
          4979,
          4966,
          4745,
          5228,
          5321,
          4899,
          4682,
          4940,
          4976,
          4677,
          4718
         ],
         "xaxis": "x",
         "y": [
          65327,
          61429,
          62885,
          60510,
          56043,
          59614,
          61496,
          57257,
          55818,
          54957,
          57573,
          54158,
          55575
         ],
         "yaxis": "y"
        },
        {
         "hovertemplate": "<b>OLS trendline</b><br>Revenue = 11.6289 * Contacts + 1230.54<br>R<sup>2</sup>=0.513414<br><br>Category=Wedding and Event Photography<br>Contacts=%{x}<br>Revenue=%{y} <b>(trend)</b><extra></extra>",
         "legendgroup": "Wedding and Event Photography",
         "marker": {
          "color": "#FECB52",
          "symbol": "circle"
         },
         "mode": "lines",
         "name": "Wedding and Event Photography",
         "showlegend": false,
         "type": "scatter",
         "x": [
          4677,
          4682,
          4718,
          4745,
          4849,
          4899,
          4940,
          4966,
          4976,
          4979,
          5226,
          5228,
          5321
         ],
         "xaxis": "x",
         "y": [
          55618.892730908046,
          55677.037216221106,
          56095.67751047515,
          56409.65773116568,
          57619.06302567736,
          58200.50787880798,
          58677.29265837508,
          58979.643982003,
          59095.932952629126,
          59130.81964381696,
          62003.157218282206,
          62026.41501240743,
          63107.902439230376
         ],
         "yaxis": "y"
        }
       ],
       "layout": {
        "legend": {
         "title": {
          "text": "Category"
         },
         "tracegroupgap": 0
        },
        "margin": {
         "t": 60
        },
        "template": {
         "data": {
          "bar": [
           {
            "error_x": {
             "color": "#2a3f5f"
            },
            "error_y": {
             "color": "#2a3f5f"
            },
            "marker": {
             "line": {
              "color": "#E5ECF6",
              "width": 0.5
             },
             "pattern": {
              "fillmode": "overlay",
              "size": 10,
              "solidity": 0.2
             }
            },
            "type": "bar"
           }
          ],
          "barpolar": [
           {
            "marker": {
             "line": {
              "color": "#E5ECF6",
              "width": 0.5
             },
             "pattern": {
              "fillmode": "overlay",
              "size": 10,
              "solidity": 0.2
             }
            },
            "type": "barpolar"
           }
          ],
          "carpet": [
           {
            "aaxis": {
             "endlinecolor": "#2a3f5f",
             "gridcolor": "white",
             "linecolor": "white",
             "minorgridcolor": "white",
             "startlinecolor": "#2a3f5f"
            },
            "baxis": {
             "endlinecolor": "#2a3f5f",
             "gridcolor": "white",
             "linecolor": "white",
             "minorgridcolor": "white",
             "startlinecolor": "#2a3f5f"
            },
            "type": "carpet"
           }
          ],
          "choropleth": [
           {
            "colorbar": {
             "outlinewidth": 0,
             "ticks": ""
            },
            "type": "choropleth"
           }
          ],
          "contour": [
           {
            "colorbar": {
             "outlinewidth": 0,
             "ticks": ""
            },
            "colorscale": [
             [
              0,
              "#0d0887"
             ],
             [
              0.1111111111111111,
              "#46039f"
             ],
             [
              0.2222222222222222,
              "#7201a8"
             ],
             [
              0.3333333333333333,
              "#9c179e"
             ],
             [
              0.4444444444444444,
              "#bd3786"
             ],
             [
              0.5555555555555556,
              "#d8576b"
             ],
             [
              0.6666666666666666,
              "#ed7953"
             ],
             [
              0.7777777777777778,
              "#fb9f3a"
             ],
             [
              0.8888888888888888,
              "#fdca26"
             ],
             [
              1,
              "#f0f921"
             ]
            ],
            "type": "contour"
           }
          ],
          "contourcarpet": [
           {
            "colorbar": {
             "outlinewidth": 0,
             "ticks": ""
            },
            "type": "contourcarpet"
           }
          ],
          "heatmap": [
           {
            "colorbar": {
             "outlinewidth": 0,
             "ticks": ""
            },
            "colorscale": [
             [
              0,
              "#0d0887"
             ],
             [
              0.1111111111111111,
              "#46039f"
             ],
             [
              0.2222222222222222,
              "#7201a8"
             ],
             [
              0.3333333333333333,
              "#9c179e"
             ],
             [
              0.4444444444444444,
              "#bd3786"
             ],
             [
              0.5555555555555556,
              "#d8576b"
             ],
             [
              0.6666666666666666,
              "#ed7953"
             ],
             [
              0.7777777777777778,
              "#fb9f3a"
             ],
             [
              0.8888888888888888,
              "#fdca26"
             ],
             [
              1,
              "#f0f921"
             ]
            ],
            "type": "heatmap"
           }
          ],
          "heatmapgl": [
           {
            "colorbar": {
             "outlinewidth": 0,
             "ticks": ""
            },
            "colorscale": [
             [
              0,
              "#0d0887"
             ],
             [
              0.1111111111111111,
              "#46039f"
             ],
             [
              0.2222222222222222,
              "#7201a8"
             ],
             [
              0.3333333333333333,
              "#9c179e"
             ],
             [
              0.4444444444444444,
              "#bd3786"
             ],
             [
              0.5555555555555556,
              "#d8576b"
             ],
             [
              0.6666666666666666,
              "#ed7953"
             ],
             [
              0.7777777777777778,
              "#fb9f3a"
             ],
             [
              0.8888888888888888,
              "#fdca26"
             ],
             [
              1,
              "#f0f921"
             ]
            ],
            "type": "heatmapgl"
           }
          ],
          "histogram": [
           {
            "marker": {
             "pattern": {
              "fillmode": "overlay",
              "size": 10,
              "solidity": 0.2
             }
            },
            "type": "histogram"
           }
          ],
          "histogram2d": [
           {
            "colorbar": {
             "outlinewidth": 0,
             "ticks": ""
            },
            "colorscale": [
             [
              0,
              "#0d0887"
             ],
             [
              0.1111111111111111,
              "#46039f"
             ],
             [
              0.2222222222222222,
              "#7201a8"
             ],
             [
              0.3333333333333333,
              "#9c179e"
             ],
             [
              0.4444444444444444,
              "#bd3786"
             ],
             [
              0.5555555555555556,
              "#d8576b"
             ],
             [
              0.6666666666666666,
              "#ed7953"
             ],
             [
              0.7777777777777778,
              "#fb9f3a"
             ],
             [
              0.8888888888888888,
              "#fdca26"
             ],
             [
              1,
              "#f0f921"
             ]
            ],
            "type": "histogram2d"
           }
          ],
          "histogram2dcontour": [
           {
            "colorbar": {
             "outlinewidth": 0,
             "ticks": ""
            },
            "colorscale": [
             [
              0,
              "#0d0887"
             ],
             [
              0.1111111111111111,
              "#46039f"
             ],
             [
              0.2222222222222222,
              "#7201a8"
             ],
             [
              0.3333333333333333,
              "#9c179e"
             ],
             [
              0.4444444444444444,
              "#bd3786"
             ],
             [
              0.5555555555555556,
              "#d8576b"
             ],
             [
              0.6666666666666666,
              "#ed7953"
             ],
             [
              0.7777777777777778,
              "#fb9f3a"
             ],
             [
              0.8888888888888888,
              "#fdca26"
             ],
             [
              1,
              "#f0f921"
             ]
            ],
            "type": "histogram2dcontour"
           }
          ],
          "mesh3d": [
           {
            "colorbar": {
             "outlinewidth": 0,
             "ticks": ""
            },
            "type": "mesh3d"
           }
          ],
          "parcoords": [
           {
            "line": {
             "colorbar": {
              "outlinewidth": 0,
              "ticks": ""
             }
            },
            "type": "parcoords"
           }
          ],
          "pie": [
           {
            "automargin": true,
            "type": "pie"
           }
          ],
          "scatter": [
           {
            "marker": {
             "colorbar": {
              "outlinewidth": 0,
              "ticks": ""
             }
            },
            "type": "scatter"
           }
          ],
          "scatter3d": [
           {
            "line": {
             "colorbar": {
              "outlinewidth": 0,
              "ticks": ""
             }
            },
            "marker": {
             "colorbar": {
              "outlinewidth": 0,
              "ticks": ""
             }
            },
            "type": "scatter3d"
           }
          ],
          "scattercarpet": [
           {
            "marker": {
             "colorbar": {
              "outlinewidth": 0,
              "ticks": ""
             }
            },
            "type": "scattercarpet"
           }
          ],
          "scattergeo": [
           {
            "marker": {
             "colorbar": {
              "outlinewidth": 0,
              "ticks": ""
             }
            },
            "type": "scattergeo"
           }
          ],
          "scattergl": [
           {
            "marker": {
             "colorbar": {
              "outlinewidth": 0,
              "ticks": ""
             }
            },
            "type": "scattergl"
           }
          ],
          "scattermapbox": [
           {
            "marker": {
             "colorbar": {
              "outlinewidth": 0,
              "ticks": ""
             }
            },
            "type": "scattermapbox"
           }
          ],
          "scatterpolar": [
           {
            "marker": {
             "colorbar": {
              "outlinewidth": 0,
              "ticks": ""
             }
            },
            "type": "scatterpolar"
           }
          ],
          "scatterpolargl": [
           {
            "marker": {
             "colorbar": {
              "outlinewidth": 0,
              "ticks": ""
             }
            },
            "type": "scatterpolargl"
           }
          ],
          "scatterternary": [
           {
            "marker": {
             "colorbar": {
              "outlinewidth": 0,
              "ticks": ""
             }
            },
            "type": "scatterternary"
           }
          ],
          "surface": [
           {
            "colorbar": {
             "outlinewidth": 0,
             "ticks": ""
            },
            "colorscale": [
             [
              0,
              "#0d0887"
             ],
             [
              0.1111111111111111,
              "#46039f"
             ],
             [
              0.2222222222222222,
              "#7201a8"
             ],
             [
              0.3333333333333333,
              "#9c179e"
             ],
             [
              0.4444444444444444,
              "#bd3786"
             ],
             [
              0.5555555555555556,
              "#d8576b"
             ],
             [
              0.6666666666666666,
              "#ed7953"
             ],
             [
              0.7777777777777778,
              "#fb9f3a"
             ],
             [
              0.8888888888888888,
              "#fdca26"
             ],
             [
              1,
              "#f0f921"
             ]
            ],
            "type": "surface"
           }
          ],
          "table": [
           {
            "cells": {
             "fill": {
              "color": "#EBF0F8"
             },
             "line": {
              "color": "white"
             }
            },
            "header": {
             "fill": {
              "color": "#C8D4E3"
             },
             "line": {
              "color": "white"
             }
            },
            "type": "table"
           }
          ]
         },
         "layout": {
          "annotationdefaults": {
           "arrowcolor": "#2a3f5f",
           "arrowhead": 0,
           "arrowwidth": 1
          },
          "autotypenumbers": "strict",
          "coloraxis": {
           "colorbar": {
            "outlinewidth": 0,
            "ticks": ""
           }
          },
          "colorscale": {
           "diverging": [
            [
             0,
             "#8e0152"
            ],
            [
             0.1,
             "#c51b7d"
            ],
            [
             0.2,
             "#de77ae"
            ],
            [
             0.3,
             "#f1b6da"
            ],
            [
             0.4,
             "#fde0ef"
            ],
            [
             0.5,
             "#f7f7f7"
            ],
            [
             0.6,
             "#e6f5d0"
            ],
            [
             0.7,
             "#b8e186"
            ],
            [
             0.8,
             "#7fbc41"
            ],
            [
             0.9,
             "#4d9221"
            ],
            [
             1,
             "#276419"
            ]
           ],
           "sequential": [
            [
             0,
             "#0d0887"
            ],
            [
             0.1111111111111111,
             "#46039f"
            ],
            [
             0.2222222222222222,
             "#7201a8"
            ],
            [
             0.3333333333333333,
             "#9c179e"
            ],
            [
             0.4444444444444444,
             "#bd3786"
            ],
            [
             0.5555555555555556,
             "#d8576b"
            ],
            [
             0.6666666666666666,
             "#ed7953"
            ],
            [
             0.7777777777777778,
             "#fb9f3a"
            ],
            [
             0.8888888888888888,
             "#fdca26"
            ],
            [
             1,
             "#f0f921"
            ]
           ],
           "sequentialminus": [
            [
             0,
             "#0d0887"
            ],
            [
             0.1111111111111111,
             "#46039f"
            ],
            [
             0.2222222222222222,
             "#7201a8"
            ],
            [
             0.3333333333333333,
             "#9c179e"
            ],
            [
             0.4444444444444444,
             "#bd3786"
            ],
            [
             0.5555555555555556,
             "#d8576b"
            ],
            [
             0.6666666666666666,
             "#ed7953"
            ],
            [
             0.7777777777777778,
             "#fb9f3a"
            ],
            [
             0.8888888888888888,
             "#fdca26"
            ],
            [
             1,
             "#f0f921"
            ]
           ]
          },
          "colorway": [
           "#636efa",
           "#EF553B",
           "#00cc96",
           "#ab63fa",
           "#FFA15A",
           "#19d3f3",
           "#FF6692",
           "#B6E880",
           "#FF97FF",
           "#FECB52"
          ],
          "font": {
           "color": "#2a3f5f"
          },
          "geo": {
           "bgcolor": "white",
           "lakecolor": "white",
           "landcolor": "#E5ECF6",
           "showlakes": true,
           "showland": true,
           "subunitcolor": "white"
          },
          "hoverlabel": {
           "align": "left"
          },
          "hovermode": "closest",
          "mapbox": {
           "style": "light"
          },
          "paper_bgcolor": "white",
          "plot_bgcolor": "#E5ECF6",
          "polar": {
           "angularaxis": {
            "gridcolor": "white",
            "linecolor": "white",
            "ticks": ""
           },
           "bgcolor": "#E5ECF6",
           "radialaxis": {
            "gridcolor": "white",
            "linecolor": "white",
            "ticks": ""
           }
          },
          "scene": {
           "xaxis": {
            "backgroundcolor": "#E5ECF6",
            "gridcolor": "white",
            "gridwidth": 2,
            "linecolor": "white",
            "showbackground": true,
            "ticks": "",
            "zerolinecolor": "white"
           },
           "yaxis": {
            "backgroundcolor": "#E5ECF6",
            "gridcolor": "white",
            "gridwidth": 2,
            "linecolor": "white",
            "showbackground": true,
            "ticks": "",
            "zerolinecolor": "white"
           },
           "zaxis": {
            "backgroundcolor": "#E5ECF6",
            "gridcolor": "white",
            "gridwidth": 2,
            "linecolor": "white",
            "showbackground": true,
            "ticks": "",
            "zerolinecolor": "white"
           }
          },
          "shapedefaults": {
           "line": {
            "color": "#2a3f5f"
           }
          },
          "ternary": {
           "aaxis": {
            "gridcolor": "white",
            "linecolor": "white",
            "ticks": ""
           },
           "baxis": {
            "gridcolor": "white",
            "linecolor": "white",
            "ticks": ""
           },
           "bgcolor": "#E5ECF6",
           "caxis": {
            "gridcolor": "white",
            "linecolor": "white",
            "ticks": ""
           }
          },
          "title": {
           "x": 0.05
          },
          "xaxis": {
           "automargin": true,
           "gridcolor": "white",
           "linecolor": "white",
           "ticks": "",
           "title": {
            "standoff": 15
           },
           "zerolinecolor": "white",
           "zerolinewidth": 2
          },
          "yaxis": {
           "automargin": true,
           "gridcolor": "white",
           "linecolor": "white",
           "ticks": "",
           "title": {
            "standoff": 15
           },
           "zerolinecolor": "white",
           "zerolinewidth": 2
          }
         }
        },
        "xaxis": {
         "anchor": "y",
         "domain": [
          0,
          1
         ],
         "title": {
          "text": "Contacts"
         }
        },
        "yaxis": {
         "anchor": "x",
         "domain": [
          0,
          1
         ],
         "title": {
          "text": "Revenue"
         }
        }
       }
      },
      "text/html": [
       "<div>                            <div id=\"434f389f-0f70-4945-9efa-b023126ad1d7\" class=\"plotly-graph-div\" style=\"height:525px; width:100%;\"></div>            <script type=\"text/javascript\">                require([\"plotly\"], function(Plotly) {                    window.PLOTLYENV=window.PLOTLYENV || {};                                    if (document.getElementById(\"434f389f-0f70-4945-9efa-b023126ad1d7\")) {                    Plotly.newPlot(                        \"434f389f-0f70-4945-9efa-b023126ad1d7\",                        [{\"hovertemplate\":\"Category=Bathroom Remodel<br>Contacts=%{x}<br>Revenue=%{y}<extra></extra>\",\"legendgroup\":\"Bathroom Remodel\",\"marker\":{\"color\":\"#636efa\",\"symbol\":\"circle\"},\"mode\":\"markers\",\"name\":\"Bathroom Remodel\",\"orientation\":\"v\",\"showlegend\":true,\"type\":\"scatter\",\"x\":[1666,1577,1496,1675,1696,1636,1878,1694,1803,1674,1774,1792,2059],\"xaxis\":\"x\",\"y\":[41973,38891,35939,41907,39265,37886,39374,36459,38017,34646,35146,33886,40317],\"yaxis\":\"y\"},{\"hovertemplate\":\"<b>OLS trendline</b><br>Revenue = 2.79507 * Contacts + 33157<br>R<sup>2</sup>=0.022470<br><br>Category=Bathroom Remodel<br>Contacts=%{x}<br>Revenue=%{y} <b>(trend)</b><extra></extra>\",\"legendgroup\":\"Bathroom Remodel\",\"marker\":{\"color\":\"#636efa\",\"symbol\":\"circle\"},\"mode\":\"lines\",\"name\":\"Bathroom Remodel\",\"showlegend\":false,\"type\":\"scatter\",\"x\":[1496,1577,1636,1666,1674,1675,1694,1696,1774,1792,1803,1878,2059],\"xaxis\":\"x\",\"y\":[37338.38747013717,37564.78854481603,37729.697969582114,37813.55021946317,37835.910819431454,37838.70589442749,37891.81231935216,37897.40246934423,38115.41831903499,38165.72966896362,38196.47549392001,38406.10611862266,38912.014692905046],\"yaxis\":\"y\"},{\"hovertemplate\":\"Category=Concrete Installation<br>Contacts=%{x}<br>Revenue=%{y}<extra></extra>\",\"legendgroup\":\"Concrete Installation\",\"marker\":{\"color\":\"#EF553B\",\"symbol\":\"circle\"},\"mode\":\"markers\",\"name\":\"Concrete Installation\",\"orientation\":\"v\",\"showlegend\":true,\"type\":\"scatter\",\"x\":[3769,3970,3864,4600,3969,3960,4092,4035,4369,4346,3870,4290,4219],\"xaxis\":\"x\",\"y\":[53066,54828,50853,54774,46305,50680,48137,43967,44692,47233,43626,43830,44667],\"yaxis\":\"y\"},{\"hovertemplate\":\"<b>OLS trendline</b><br>Revenue = -1.43179 * Contacts + 54080.6<br>R<sup>2</sup>=0.006880<br><br>Category=Concrete Installation<br>Contacts=%{x}<br>Revenue=%{y} <b>(trend)</b><extra></extra>\",\"legendgroup\":\"Concrete Installation\",\"marker\":{\"color\":\"#EF553B\",\"symbol\":\"circle\"},\"mode\":\"lines\",\"name\":\"Concrete Installation\",\"showlegend\":false,\"type\":\"scatter\",\"x\":[3769,3864,3870,3960,3969,3970,4035,4092,4219,4290,4346,4369,4600],\"xaxis\":\"x\",\"y\":[48684.219879931145,48548.20023995986,48539.6095258564,48410.74881430466,48397.86274314948,48396.43095746558,48303.364888011536,48221.753104028765,48039.91632217241,47938.25953861492,47858.07954031605,47825.148469586165,47494.405976603346],\"yaxis\":\"y\"},{\"hovertemplate\":\"Category=DJ<br>Contacts=%{x}<br>Revenue=%{y}<extra></extra>\",\"legendgroup\":\"DJ\",\"marker\":{\"color\":\"#00cc96\",\"symbol\":\"circle\"},\"mode\":\"markers\",\"name\":\"DJ\",\"orientation\":\"v\",\"showlegend\":true,\"type\":\"scatter\",\"x\":[3877,3678,3619,3539,3510,3484,3812,3766,3664,3594,3699,3068,3219],\"xaxis\":\"x\",\"y\":[47437,44721,43569,43615,40788,43165,44226,43770,42490,38814,41495,35754,38130],\"yaxis\":\"y\"},{\"hovertemplate\":\"<b>OLS trendline</b><br>Revenue = 11.7072 * Contacts + 250.136<br>R<sup>2</sup>=0.721511<br><br>Category=DJ<br>Contacts=%{x}<br>Revenue=%{y} <b>(trend)</b><extra></extra>\",\"legendgroup\":\"DJ\",\"marker\":{\"color\":\"#00cc96\",\"symbol\":\"circle\"},\"mode\":\"lines\",\"name\":\"DJ\",\"showlegend\":false,\"type\":\"scatter\",\"x\":[3068,3219,3484,3510,3539,3594,3619,3664,3678,3699,3766,3812,3877],\"xaxis\":\"x\",\"y\":[36167.68862471807,37935.46909570052,41037.86528649756,41342.25132785877,41681.758835530905,42325.65238456425,42618.331270488496,43145.15326515214,43309.05344126972,43554.90370544609,44339.28311972308,44877.81226982369,45638.77737322674],\"yaxis\":\"y\"},{\"hovertemplate\":\"Category=Electrical and Wiring Repair<br>Contacts=%{x}<br>Revenue=%{y}<extra></extra>\",\"legendgroup\":\"Electrical and Wiring Repair\",\"marker\":{\"color\":\"#ab63fa\",\"symbol\":\"circle\"},\"mode\":\"markers\",\"name\":\"Electrical and Wiring Repair\",\"orientation\":\"v\",\"showlegend\":true,\"type\":\"scatter\",\"x\":[4725,4773,4866,5019,4465,5043,4887,5900,5573,5896,5634,6002,6371],\"xaxis\":\"x\",\"y\":[38401,40156,40727,40135,35258,39021,36372,39519,36675,38041,36025,39142,39791],\"yaxis\":\"y\"},{\"hovertemplate\":\"<b>OLS trendline</b><br>Revenue = 0.478812 * Contacts + 35857.8<br>R<sup>2</sup>=0.025971<br><br>Category=Electrical and Wiring Repair<br>Contacts=%{x}<br>Revenue=%{y} <b>(trend)</b><extra></extra>\",\"legendgroup\":\"Electrical and Wiring Repair\",\"marker\":{\"color\":\"#ab63fa\",\"symbol\":\"circle\"},\"mode\":\"lines\",\"name\":\"Electrical and Wiring Repair\",\"showlegend\":false,\"type\":\"scatter\",\"x\":[4465,4725,4773,4866,4887,5019,5043,5573,5634,5896,5900,6002,6371],\"xaxis\":\"x\",\"y\":[37995.682865424606,38120.17399107632,38143.156968119714,38187.68648614128,38197.74153859777,38260.9447254671,38272.436213988796,38526.20658550959,38555.41411883557,38680.862868530756,38682.7781166177,38731.61694283491,38908.298578855996],\"yaxis\":\"y\"},{\"hovertemplate\":\"Category=Exterior Painting<br>Contacts=%{x}<br>Revenue=%{y}<extra></extra>\",\"legendgroup\":\"Exterior Painting\",\"marker\":{\"color\":\"#FFA15A\",\"symbol\":\"circle\"},\"mode\":\"markers\",\"name\":\"Exterior Painting\",\"orientation\":\"v\",\"showlegend\":true,\"type\":\"scatter\",\"x\":[2797,2866,2802,2729,2635,2796,2406,2671,2967,2936,2788,2797,2854],\"xaxis\":\"x\",\"y\":[56759,57346,52836,54531,50966,53463,45730,47016,47881,49304,46195,48402,46137],\"yaxis\":\"y\"},{\"hovertemplate\":\"<b>OLS trendline</b><br>Revenue = 6.50894 * Contacts + 32458.3<br>R<sup>2</sup>=0.052090<br><br>Category=Exterior Painting<br>Contacts=%{x}<br>Revenue=%{y} <b>(trend)</b><extra></extra>\",\"legendgroup\":\"Exterior Painting\",\"marker\":{\"color\":\"#FFA15A\",\"symbol\":\"circle\"},\"mode\":\"lines\",\"name\":\"Exterior Painting\",\"showlegend\":false,\"type\":\"scatter\",\"x\":[2406,2635,2671,2729,2788,2796,2797,2797,2802,2854,2866,2936,2967],\"xaxis\":\"x\",\"y\":[48118.79911435601,49609.34654124696,49843.66840748309,50221.186969752416,50605.21447275052,50657.28599858077,50663.794939309555,50663.794939309555,50696.33964295346,51034.8045608501,51112.911849595475,51568.53770061018,51770.3148632024],\"yaxis\":\"y\"},{\"hovertemplate\":\"Category=Fence and Gate Installation<br>Contacts=%{x}<br>Revenue=%{y}<extra></extra>\",\"legendgroup\":\"Fence and Gate Installation\",\"marker\":{\"color\":\"#19d3f3\",\"symbol\":\"circle\"},\"mode\":\"markers\",\"name\":\"Fence and Gate Installation\",\"orientation\":\"v\",\"showlegend\":true,\"type\":\"scatter\",\"x\":[5512,5788,5505,6309,5795,5356,5388,5804,5635,5531,5725,5265,5272],\"xaxis\":\"x\",\"y\":[54157,57950,50419,50062,50799,45874,44958,45064,44815,43425,45346,42366,42453],\"yaxis\":\"y\"},{\"hovertemplate\":\"<b>OLS trendline</b><br>Revenue = 7.44247 * Contacts + 5787.99<br>R<sup>2</sup>=0.197484<br><br>Category=Fence and Gate Installation<br>Contacts=%{x}<br>Revenue=%{y} <b>(trend)</b><extra></extra>\",\"legendgroup\":\"Fence and Gate Installation\",\"marker\":{\"color\":\"#19d3f3\",\"symbol\":\"circle\"},\"mode\":\"lines\",\"name\":\"Fence and Gate Installation\",\"showlegend\":false,\"type\":\"scatter\",\"x\":[5265,5272,5356,5388,5505,5512,5531,5635,5725,5788,5795,5804,6309],\"xaxis\":\"x\",\"y\":[44972.573444724236,45024.670700699484,45649.83777240245,45887.99665686072,46758.76507816128,46810.86233413653,46952.26917178363,47726.285546273015,48396.107408811906,48864.982712589124,48917.07996856437,48984.06215481826,52742.50705017537],\"yaxis\":\"y\"},{\"hovertemplate\":\"Category=Floor Installation or Replacement<br>Contacts=%{x}<br>Revenue=%{y}<extra></extra>\",\"legendgroup\":\"Floor Installation or Replacement\",\"marker\":{\"color\":\"#FF6692\",\"symbol\":\"circle\"},\"mode\":\"markers\",\"name\":\"Floor Installation or Replacement\",\"orientation\":\"v\",\"showlegend\":true,\"type\":\"scatter\",\"x\":[3111,2978,2788,3016,3176,2975,3148,3367,3713,3621,3540,3770,3511],\"xaxis\":\"x\",\"y\":[56464,53133,54948,51381,52277,49171,51967,51685,51061,51929,48770,50802,49506],\"yaxis\":\"y\"},{\"hovertemplate\":\"<b>OLS trendline</b><br>Revenue = -3.25758 * Contacts + 62479.9<br>R<sup>2</sup>=0.228860<br><br>Category=Floor Installation or Replacement<br>Contacts=%{x}<br>Revenue=%{y} <b>(trend)</b><extra></extra>\",\"legendgroup\":\"Floor Installation or Replacement\",\"marker\":{\"color\":\"#FF6692\",\"symbol\":\"circle\"},\"mode\":\"lines\",\"name\":\"Floor Installation or Replacement\",\"showlegend\":false,\"type\":\"scatter\",\"x\":[2788,2975,2978,3016,3111,3148,3176,3367,3511,3540,3621,3713,3770],\"xaxis\":\"x\",\"y\":[53397.73482090254,52788.567069803015,52778.79432513297,52655.00622597906,52345.535978094274,52225.00546049704,52133.79317690995,51511.5950995837,51042.503355421504,50948.033490277725,50684.16938418649,50384.471880971745,50198.78973224088],\"yaxis\":\"y\"},{\"hovertemplate\":\"Category=General Contracting<br>Contacts=%{x}<br>Revenue=%{y}<extra></extra>\",\"legendgroup\":\"General Contracting\",\"marker\":{\"color\":\"#B6E880\",\"symbol\":\"circle\"},\"mode\":\"markers\",\"name\":\"General Contracting\",\"orientation\":\"v\",\"showlegend\":true,\"type\":\"scatter\",\"x\":[4033,3962,4226,4039,3910,4192,4289,5044,4416,5005,4371,4689,4935],\"xaxis\":\"x\",\"y\":[62961,66633,59584,56203,53763,55161,58061,62356,56312,60742,57346,55338,58380],\"yaxis\":\"y\"},{\"hovertemplate\":\"<b>OLS trendline</b><br>Revenue = 0.714478 * Contacts + 55541.2<br>R<sup>2</sup>=0.006098<br><br>Category=General Contracting<br>Contacts=%{x}<br>Revenue=%{y} <b>(trend)</b><extra></extra>\",\"legendgroup\":\"General Contracting\",\"marker\":{\"color\":\"#B6E880\",\"symbol\":\"circle\"},\"mode\":\"lines\",\"name\":\"General Contracting\",\"showlegend\":false,\"type\":\"scatter\",\"x\":[3910,3962,4033,4039,4192,4226,4289,4371,4416,4689,4935,5005,5044],\"xaxis\":\"x\",\"y\":[58334.79707672297,58371.94994666968,58422.677903712305,58426.96477332154,58536.279948357056,58560.57220947606,58605.58434037304,58664.171558365924,58696.3230804352,58891.375647655426,59067.1373016341,59117.15078040852,59145.01543286855],\"yaxis\":\"y\"},{\"hovertemplate\":\"Category=Handyman<br>Contacts=%{x}<br>Revenue=%{y}<extra></extra>\",\"legendgroup\":\"Handyman\",\"marker\":{\"color\":\"#FF97FF\",\"symbol\":\"circle\"},\"mode\":\"markers\",\"name\":\"Handyman\",\"orientation\":\"v\",\"showlegend\":true,\"type\":\"scatter\",\"x\":[14377,15062,15297,15661,16375,15827,16431,17286,17052,17760,17629,18166,18688],\"xaxis\":\"x\",\"y\":[61227,70622,67616,68139,66416,64208,63505,60382,58229,58661,59619,61827,62459],\"yaxis\":\"y\"},{\"hovertemplate\":\"<b>OLS trendline</b><br>Revenue = -1.74963 * Contacts + 92319.1<br>R<sup>2</sup>=0.342671<br><br>Category=Handyman<br>Contacts=%{x}<br>Revenue=%{y} <b>(trend)</b><extra></extra>\",\"legendgroup\":\"Handyman\",\"marker\":{\"color\":\"#FF97FF\",\"symbol\":\"circle\"},\"mode\":\"lines\",\"name\":\"Handyman\",\"showlegend\":false,\"type\":\"scatter\",\"x\":[14377,15062,15297,15661,15827,16375,16431,17052,17286,17629,17760,18166,18688],\"xaxis\":\"x\",\"y\":[67164.75301564326,65966.25856756585,65555.09623866338,64918.23203559742,64627.79396496844,63668.99840650652,63571.01929834252,62484.500973881106,62075.088271910136,61474.966234405685,61245.7651063792,60535.416572190254,59622.11131394732],\"yaxis\":\"y\"},{\"hovertemplate\":\"Category=House Cleaning<br>Contacts=%{x}<br>Revenue=%{y}<extra></extra>\",\"legendgroup\":\"House Cleaning\",\"marker\":{\"color\":\"#FECB52\",\"symbol\":\"circle\"},\"mode\":\"markers\",\"name\":\"House Cleaning\",\"orientation\":\"v\",\"showlegend\":true,\"type\":\"scatter\",\"x\":[19565,20094,20247,20289,20567,20051,19642,21833,24108,21375,21428,23575,27026],\"xaxis\":\"x\",\"y\":[169773,176109,168267,167534,165155,163254,157545,160187,166974,159349,168021,175866,184214],\"yaxis\":\"y\"},{\"hovertemplate\":\"<b>OLS trendline</b><br>Revenue = 2.03899 * Contacts + 123980<br>R<sup>2</sup>=0.353072<br><br>Category=House Cleaning<br>Contacts=%{x}<br>Revenue=%{y} <b>(trend)</b><extra></extra>\",\"legendgroup\":\"House Cleaning\",\"marker\":{\"color\":\"#FECB52\",\"symbol\":\"circle\"},\"mode\":\"lines\",\"name\":\"House Cleaning\",\"showlegend\":false,\"type\":\"scatter\",\"x\":[19565,19642,20051,20094,20247,20289,20567,21375,21428,21833,23575,24108,27026],\"xaxis\":\"x\",\"y\":[163872.72563817087,164029.72809883443,164863.67623404737,164951.35293285947,165263.318861191,165348.95656700747,165915.79661979276,167563.30296026234,167671.36958903077,168497.16175226116,172049.08755064977,173135.8708173209,179085.6523785711],\"yaxis\":\"y\"},{\"hovertemplate\":\"Category=Interior Painting<br>Contacts=%{x}<br>Revenue=%{y}<extra></extra>\",\"legendgroup\":\"Interior Painting\",\"marker\":{\"color\":\"#636efa\",\"symbol\":\"circle\"},\"mode\":\"markers\",\"name\":\"Interior Painting\",\"orientation\":\"v\",\"showlegend\":true,\"type\":\"scatter\",\"x\":[6202,6503,6268,6177,6739,6633,6787,6980,7989,8106,7753,7999,8497],\"xaxis\":\"x\",\"y\":[110909,115172,109338,108500,116278,110126,108522,107376,108474,110746,108881,107498,119720],\"yaxis\":\"y\"},{\"hovertemplate\":\"<b>OLS trendline</b><br>Revenue = 0.758575 * Contacts + 105482<br>R<sup>2</sup>=0.027040<br><br>Category=Interior Painting<br>Contacts=%{x}<br>Revenue=%{y} <b>(trend)</b><extra></extra>\",\"legendgroup\":\"Interior Painting\",\"marker\":{\"color\":\"#636efa\",\"symbol\":\"circle\"},\"mode\":\"lines\",\"name\":\"Interior Painting\",\"showlegend\":false,\"type\":\"scatter\",\"x\":[6177,6202,6268,6503,6633,6739,6787,6980,7753,7989,7999,8106,8497],\"xaxis\":\"x\",\"y\":[110168.09675958997,110187.06112491054,110237.12704935684,110415.39208337021,110514.00678303718,110594.4156919964,110630.82727341191,110777.23217368672,111363.61034939878,111542.63395802496,111550.21970415319,111631.38718772524,111927.98986133897],\"yaxis\":\"y\"},{\"hovertemplate\":\"Category=Junk Removal<br>Contacts=%{x}<br>Revenue=%{y}<extra></extra>\",\"legendgroup\":\"Junk Removal\",\"marker\":{\"color\":\"#EF553B\",\"symbol\":\"circle\"},\"mode\":\"markers\",\"name\":\"Junk Removal\",\"orientation\":\"v\",\"showlegend\":true,\"type\":\"scatter\",\"x\":[4064,4196,4166,4543,4753,4474,4619,5408,6377,5909,5668,5946,6858],\"xaxis\":\"x\",\"y\":[24239,26438,25313,27011,27116,24575,24914,27403,30403,29174,27511,30122,31767],\"yaxis\":\"y\"},{\"hovertemplate\":\"<b>OLS trendline</b><br>Revenue = 2.40021 * Contacts + 15016.7<br>R<sup>2</sup>=0.867703<br><br>Category=Junk Removal<br>Contacts=%{x}<br>Revenue=%{y} <b>(trend)</b><extra></extra>\",\"legendgroup\":\"Junk Removal\",\"marker\":{\"color\":\"#EF553B\",\"symbol\":\"circle\"},\"mode\":\"lines\",\"name\":\"Junk Removal\",\"showlegend\":false,\"type\":\"scatter\",\"x\":[4064,4166,4196,4474,4543,4619,4753,5408,5668,5909,5946,6377,6858],\"xaxis\":\"x\",\"y\":[24771.187415209504,25016.008779788783,25088.015063488572,25755.273292439935,25920.887744949447,26103.303663655577,26424.931730847962,27997.068924959993,28621.123383691487,29199.57386274645,29288.381612642854,30322.871888463138,31477.3726371164],\"yaxis\":\"y\"},{\"hovertemplate\":\"Category=Local Moving (under 50 miles)<br>Contacts=%{x}<br>Revenue=%{y}<extra></extra>\",\"legendgroup\":\"Local Moving (under 50 miles)\",\"marker\":{\"color\":\"#00cc96\",\"symbol\":\"circle\"},\"mode\":\"markers\",\"name\":\"Local Moving (under 50 miles)\",\"orientation\":\"v\",\"showlegend\":true,\"type\":\"scatter\",\"x\":[8988,9011,8826,10123,10332,10008,11347,13462,15962,12799,13159,14580,17879],\"xaxis\":\"x\",\"y\":[74190,78796,76509,84475,84854,81331,89086,93835,98134,90929,100044,105028,108265],\"yaxis\":\"y\"},{\"hovertemplate\":\"<b>OLS trendline</b><br>Revenue = 3.58004 * Contacts + 46560.4<br>R<sup>2</sup>=0.893857<br><br>Category=Local Moving (under 50 miles)<br>Contacts=%{x}<br>Revenue=%{y} <b>(trend)</b><extra></extra>\",\"legendgroup\":\"Local Moving (under 50 miles)\",\"marker\":{\"color\":\"#00cc96\",\"symbol\":\"circle\"},\"mode\":\"lines\",\"name\":\"Local Moving (under 50 miles)\",\"showlegend\":false,\"type\":\"scatter\",\"x\":[8826,8988,9011,10008,10123,10332,11347,12799,13159,13462,14580,15962,17879],\"xaxis\":\"x\",\"y\":[78157.85809557376,78737.82510047869,78820.16609500222,82389.4692054356,82801.1741780533,83549.40321524545,87183.1471040016,92381.36988870498,93670.18545516036,94754.93855692698,98757.42689941898,103705.04665731158,110567.98954868651],\"yaxis\":\"y\"},{\"hovertemplate\":\"Category=Outdoor Landscaping and Design<br>Contacts=%{x}<br>Revenue=%{y}<extra></extra>\",\"legendgroup\":\"Outdoor Landscaping and Design\",\"marker\":{\"color\":\"#ab63fa\",\"symbol\":\"circle\"},\"mode\":\"markers\",\"name\":\"Outdoor Landscaping and Design\",\"orientation\":\"v\",\"showlegend\":true,\"type\":\"scatter\",\"x\":[8983,10247,9944,11117,9598,10126,9311,9741,9401,9553,8613,7320,8012],\"xaxis\":\"x\",\"y\":[90654,101802,91499,92405,76209,77513,73454,70694,70698,71353,68100,61999,64043],\"yaxis\":\"y\"},{\"hovertemplate\":\"<b>OLS trendline</b><br>Revenue = 8.835 * Contacts + -5165.14<br>R<sup>2</sup>=0.497284<br><br>Category=Outdoor Landscaping and Design<br>Contacts=%{x}<br>Revenue=%{y} <b>(trend)</b><extra></extra>\",\"legendgroup\":\"Outdoor Landscaping and Design\",\"marker\":{\"color\":\"#ab63fa\",\"symbol\":\"circle\"},\"mode\":\"lines\",\"name\":\"Outdoor Landscaping and Design\",\"showlegend\":false,\"type\":\"scatter\",\"x\":[7320,8012,8613,8983,9311,9401,9553,9598,9741,9944,10126,10247,11117],\"xaxis\":\"x\",\"y\":[59507.07348952613,65620.89438366263,70930.73016021759,74199.68063829636,77097.56106210673,77892.71117839616,79235.63137479608,79633.2064329408,80896.61161771178,82690.11688000905,84298.08711517212,85367.1222715168,93053.57339564795],\"yaxis\":\"y\"},{\"hovertemplate\":\"Category=Personal Training<br>Contacts=%{x}<br>Revenue=%{y}<extra></extra>\",\"legendgroup\":\"Personal Training\",\"marker\":{\"color\":\"#FFA15A\",\"symbol\":\"circle\"},\"mode\":\"markers\",\"name\":\"Personal Training\",\"orientation\":\"v\",\"showlegend\":true,\"type\":\"scatter\",\"x\":[5017,4650,4409,4617,4233,4516,4997,5667,5778,5779,6393,6211,5877],\"xaxis\":\"x\",\"y\":[31076,29489,27636,28821,26216,27462,31402,35287,35969,32744,39080,36135,35664],\"yaxis\":\"y\"},{\"hovertemplate\":\"<b>OLS trendline</b><br>Revenue = 5.37303 * Contacts + 3910.88<br>R<sup>2</sup>=0.947861<br><br>Category=Personal Training<br>Contacts=%{x}<br>Revenue=%{y} <b>(trend)</b><extra></extra>\",\"legendgroup\":\"Personal Training\",\"marker\":{\"color\":\"#FFA15A\",\"symbol\":\"circle\"},\"mode\":\"lines\",\"name\":\"Personal Training\",\"showlegend\":false,\"type\":\"scatter\",\"x\":[4233,4409,4516,4617,4650,4997,5017,5667,5778,5779,5877,6211,6393],\"xaxis\":\"x\",\"y\":[26654.90444611175,27600.55710545573,28175.470938125083,28718.146611953165,28895.456485580162,30759.896671900406,30867.357201371313,34359.824409175795,34956.230347739336,34961.60337421288,35488.159968620326,37282.75081078448,38260.64162896973],\"yaxis\":\"y\"},{\"hovertemplate\":\"Category=Property Management<br>Contacts=%{x}<br>Revenue=%{y}<extra></extra>\",\"legendgroup\":\"Property Management\",\"marker\":{\"color\":\"#19d3f3\",\"symbol\":\"circle\"},\"mode\":\"markers\",\"name\":\"Property Management\",\"orientation\":\"v\",\"showlegend\":true,\"type\":\"scatter\",\"x\":[1021,1078,952,979,996,905,925,904,978,871,1128,1082,1280],\"xaxis\":\"x\",\"y\":[22124,21321,22801,21697,22557,20812,20942,20384,23188,18239,25378,23299,27721],\"yaxis\":\"y\"},{\"hovertemplate\":\"<b>OLS trendline</b><br>Revenue = 18.728 * Contacts + 3472.74<br>R<sup>2</sup>=0.796397<br><br>Category=Property Management<br>Contacts=%{x}<br>Revenue=%{y} <b>(trend)</b><extra></extra>\",\"legendgroup\":\"Property Management\",\"marker\":{\"color\":\"#19d3f3\",\"symbol\":\"circle\"},\"mode\":\"lines\",\"name\":\"Property Management\",\"showlegend\":false,\"type\":\"scatter\",\"x\":[871,904,905,925,952,978,979,996,1021,1078,1082,1128,1280],\"xaxis\":\"x\",\"y\":[19784.78152636952,20402.803894155262,20421.531844694226,20796.090855473463,21301.745520025434,21788.672234038444,21807.400184577407,22125.77534373976,22593.974107213806,23661.467287934636,23736.379090090482,24597.86481488273,27444.513296804944],\"yaxis\":\"y\"},{\"hovertemplate\":\"Category=Roof Installation or Replacement<br>Contacts=%{x}<br>Revenue=%{y}<extra></extra>\",\"legendgroup\":\"Roof Installation or Replacement\",\"marker\":{\"color\":\"#FF6692\",\"symbol\":\"circle\"},\"mode\":\"markers\",\"name\":\"Roof Installation or Replacement\",\"orientation\":\"v\",\"showlegend\":true,\"type\":\"scatter\",\"x\":[2001,2219,2239,2395,2505,2239,2291,2276,2214,2512,2369,2505,2571],\"xaxis\":\"x\",\"y\":[69422,78369,81902,86862,90495,81169,83097,74511,74828,77422,76936,81331,84353],\"yaxis\":\"y\"},{\"hovertemplate\":\"<b>OLS trendline</b><br>Revenue = 22.7781 * Contacts + 26900<br>R<sup>2</sup>=0.427486<br><br>Category=Roof Installation or Replacement<br>Contacts=%{x}<br>Revenue=%{y} <b>(trend)</b><extra></extra>\",\"legendgroup\":\"Roof Installation or Replacement\",\"marker\":{\"color\":\"#FF6692\",\"symbol\":\"circle\"},\"mode\":\"lines\",\"name\":\"Roof Installation or Replacement\",\"showlegend\":false,\"type\":\"scatter\",\"x\":[2001,2214,2219,2239,2239,2276,2291,2369,2395,2505,2505,2512,2571],\"xaxis\":\"x\",\"y\":[72479.01219445674,77330.75316913852,77444.64380234701,77900.20633518099,77900.20633518099,78742.99702092382,79084.6689205493,80861.3627986018,81453.59409128595,83959.18802187277,83959.18802187277,84118.63490836468,85462.54438022489],\"yaxis\":\"y\"},{\"hovertemplate\":\"Category=Tree Trimming and Removal<br>Contacts=%{x}<br>Revenue=%{y}<extra></extra>\",\"legendgroup\":\"Tree Trimming and Removal\",\"marker\":{\"color\":\"#B6E880\",\"symbol\":\"circle\"},\"mode\":\"markers\",\"name\":\"Tree Trimming and Removal\",\"orientation\":\"v\",\"showlegend\":true,\"type\":\"scatter\",\"x\":[3714,4363,4671,4758,4114,3960,3966,5145,4249,4495,4689,4568,4763],\"xaxis\":\"x\",\"y\":[47539,53878,55782,54626,47803,44590,44018,48691,41948,42609,44106,45038,46356],\"yaxis\":\"y\"},{\"hovertemplate\":\"<b>OLS trendline</b><br>Revenue = 3.41323 * Contacts + 32375.2<br>R<sup>2</sup>=0.089399<br><br>Category=Tree Trimming and Removal<br>Contacts=%{x}<br>Revenue=%{y} <b>(trend)</b><extra></extra>\",\"legendgroup\":\"Tree Trimming and Removal\",\"marker\":{\"color\":\"#B6E880\",\"symbol\":\"circle\"},\"mode\":\"lines\",\"name\":\"Tree Trimming and Removal\",\"showlegend\":false,\"type\":\"scatter\",\"x\":[3714,3960,3966,4114,4249,4363,4495,4568,4671,4689,4758,4763,5145],\"xaxis\":\"x\",\"y\":[45051.882266938395,45891.53608906104,45912.015450576226,46417.17303461749,46877.95866870918,47267.066537497725,47717.61249083182,47966.77805593326,48318.34042861062,48379.77851315618,48615.29117058082,48632.35730517681,49936.209988310344],\"yaxis\":\"y\"},{\"hovertemplate\":\"Category=Wedding and Event Catering<br>Contacts=%{x}<br>Revenue=%{y}<extra></extra>\",\"legendgroup\":\"Wedding and Event Catering\",\"marker\":{\"color\":\"#FF97FF\",\"symbol\":\"circle\"},\"mode\":\"markers\",\"name\":\"Wedding and Event Catering\",\"orientation\":\"v\",\"showlegend\":true,\"type\":\"scatter\",\"x\":[3336,3419,3053,3375,3528,3415,3253,3290,3275,3395,3377,3505,3266],\"xaxis\":\"x\",\"y\":[38176,39003,37303,37061,37453,37334,35010,35652,36290,32764,36349,34346,32409],\"yaxis\":\"y\"},{\"hovertemplate\":\"<b>OLS trendline</b><br>Revenue = 0.942635 * Contacts + 32935.2<br>R<sup>2</sup>=0.003382<br><br>Category=Wedding and Event Catering<br>Contacts=%{x}<br>Revenue=%{y} <b>(trend)</b><extra></extra>\",\"legendgroup\":\"Wedding and Event Catering\",\"marker\":{\"color\":\"#FF97FF\",\"symbol\":\"circle\"},\"mode\":\"lines\",\"name\":\"Wedding and Event Catering\",\"showlegend\":false,\"type\":\"scatter\",\"x\":[3053,3253,3266,3275,3290,3336,3375,3377,3395,3415,3419,3505,3528],\"xaxis\":\"x\",\"y\":[35813.06710520304,36001.5941000614,36013.84835472719,36022.33206949582,36036.47159411019,36079.832802927616,36116.595566924996,36118.480836873576,36135.44826641083,36154.30096589666,36158.07150579383,36239.13811358293,36260.818717991635],\"yaxis\":\"y\"},{\"hovertemplate\":\"Category=Wedding and Event Photography<br>Contacts=%{x}<br>Revenue=%{y}<extra></extra>\",\"legendgroup\":\"Wedding and Event Photography\",\"marker\":{\"color\":\"#FECB52\",\"symbol\":\"circle\"},\"mode\":\"markers\",\"name\":\"Wedding and Event Photography\",\"orientation\":\"v\",\"showlegend\":true,\"type\":\"scatter\",\"x\":[5226,4849,4979,4966,4745,5228,5321,4899,4682,4940,4976,4677,4718],\"xaxis\":\"x\",\"y\":[65327,61429,62885,60510,56043,59614,61496,57257,55818,54957,57573,54158,55575],\"yaxis\":\"y\"},{\"hovertemplate\":\"<b>OLS trendline</b><br>Revenue = 11.6289 * Contacts + 1230.54<br>R<sup>2</sup>=0.513414<br><br>Category=Wedding and Event Photography<br>Contacts=%{x}<br>Revenue=%{y} <b>(trend)</b><extra></extra>\",\"legendgroup\":\"Wedding and Event Photography\",\"marker\":{\"color\":\"#FECB52\",\"symbol\":\"circle\"},\"mode\":\"lines\",\"name\":\"Wedding and Event Photography\",\"showlegend\":false,\"type\":\"scatter\",\"x\":[4677,4682,4718,4745,4849,4899,4940,4966,4976,4979,5226,5228,5321],\"xaxis\":\"x\",\"y\":[55618.892730908046,55677.037216221106,56095.67751047515,56409.65773116568,57619.06302567736,58200.50787880798,58677.29265837508,58979.643982003,59095.932952629126,59130.81964381696,62003.157218282206,62026.41501240743,63107.902439230376],\"yaxis\":\"y\"}],                        {\"legend\":{\"title\":{\"text\":\"Category\"},\"tracegroupgap\":0},\"margin\":{\"t\":60},\"template\":{\"data\":{\"bar\":[{\"error_x\":{\"color\":\"#2a3f5f\"},\"error_y\":{\"color\":\"#2a3f5f\"},\"marker\":{\"line\":{\"color\":\"#E5ECF6\",\"width\":0.5},\"pattern\":{\"fillmode\":\"overlay\",\"size\":10,\"solidity\":0.2}},\"type\":\"bar\"}],\"barpolar\":[{\"marker\":{\"line\":{\"color\":\"#E5ECF6\",\"width\":0.5},\"pattern\":{\"fillmode\":\"overlay\",\"size\":10,\"solidity\":0.2}},\"type\":\"barpolar\"}],\"carpet\":[{\"aaxis\":{\"endlinecolor\":\"#2a3f5f\",\"gridcolor\":\"white\",\"linecolor\":\"white\",\"minorgridcolor\":\"white\",\"startlinecolor\":\"#2a3f5f\"},\"baxis\":{\"endlinecolor\":\"#2a3f5f\",\"gridcolor\":\"white\",\"linecolor\":\"white\",\"minorgridcolor\":\"white\",\"startlinecolor\":\"#2a3f5f\"},\"type\":\"carpet\"}],\"choropleth\":[{\"colorbar\":{\"outlinewidth\":0,\"ticks\":\"\"},\"type\":\"choropleth\"}],\"contour\":[{\"colorbar\":{\"outlinewidth\":0,\"ticks\":\"\"},\"colorscale\":[[0.0,\"#0d0887\"],[0.1111111111111111,\"#46039f\"],[0.2222222222222222,\"#7201a8\"],[0.3333333333333333,\"#9c179e\"],[0.4444444444444444,\"#bd3786\"],[0.5555555555555556,\"#d8576b\"],[0.6666666666666666,\"#ed7953\"],[0.7777777777777778,\"#fb9f3a\"],[0.8888888888888888,\"#fdca26\"],[1.0,\"#f0f921\"]],\"type\":\"contour\"}],\"contourcarpet\":[{\"colorbar\":{\"outlinewidth\":0,\"ticks\":\"\"},\"type\":\"contourcarpet\"}],\"heatmap\":[{\"colorbar\":{\"outlinewidth\":0,\"ticks\":\"\"},\"colorscale\":[[0.0,\"#0d0887\"],[0.1111111111111111,\"#46039f\"],[0.2222222222222222,\"#7201a8\"],[0.3333333333333333,\"#9c179e\"],[0.4444444444444444,\"#bd3786\"],[0.5555555555555556,\"#d8576b\"],[0.6666666666666666,\"#ed7953\"],[0.7777777777777778,\"#fb9f3a\"],[0.8888888888888888,\"#fdca26\"],[1.0,\"#f0f921\"]],\"type\":\"heatmap\"}],\"heatmapgl\":[{\"colorbar\":{\"outlinewidth\":0,\"ticks\":\"\"},\"colorscale\":[[0.0,\"#0d0887\"],[0.1111111111111111,\"#46039f\"],[0.2222222222222222,\"#7201a8\"],[0.3333333333333333,\"#9c179e\"],[0.4444444444444444,\"#bd3786\"],[0.5555555555555556,\"#d8576b\"],[0.6666666666666666,\"#ed7953\"],[0.7777777777777778,\"#fb9f3a\"],[0.8888888888888888,\"#fdca26\"],[1.0,\"#f0f921\"]],\"type\":\"heatmapgl\"}],\"histogram\":[{\"marker\":{\"pattern\":{\"fillmode\":\"overlay\",\"size\":10,\"solidity\":0.2}},\"type\":\"histogram\"}],\"histogram2d\":[{\"colorbar\":{\"outlinewidth\":0,\"ticks\":\"\"},\"colorscale\":[[0.0,\"#0d0887\"],[0.1111111111111111,\"#46039f\"],[0.2222222222222222,\"#7201a8\"],[0.3333333333333333,\"#9c179e\"],[0.4444444444444444,\"#bd3786\"],[0.5555555555555556,\"#d8576b\"],[0.6666666666666666,\"#ed7953\"],[0.7777777777777778,\"#fb9f3a\"],[0.8888888888888888,\"#fdca26\"],[1.0,\"#f0f921\"]],\"type\":\"histogram2d\"}],\"histogram2dcontour\":[{\"colorbar\":{\"outlinewidth\":0,\"ticks\":\"\"},\"colorscale\":[[0.0,\"#0d0887\"],[0.1111111111111111,\"#46039f\"],[0.2222222222222222,\"#7201a8\"],[0.3333333333333333,\"#9c179e\"],[0.4444444444444444,\"#bd3786\"],[0.5555555555555556,\"#d8576b\"],[0.6666666666666666,\"#ed7953\"],[0.7777777777777778,\"#fb9f3a\"],[0.8888888888888888,\"#fdca26\"],[1.0,\"#f0f921\"]],\"type\":\"histogram2dcontour\"}],\"mesh3d\":[{\"colorbar\":{\"outlinewidth\":0,\"ticks\":\"\"},\"type\":\"mesh3d\"}],\"parcoords\":[{\"line\":{\"colorbar\":{\"outlinewidth\":0,\"ticks\":\"\"}},\"type\":\"parcoords\"}],\"pie\":[{\"automargin\":true,\"type\":\"pie\"}],\"scatter\":[{\"marker\":{\"colorbar\":{\"outlinewidth\":0,\"ticks\":\"\"}},\"type\":\"scatter\"}],\"scatter3d\":[{\"line\":{\"colorbar\":{\"outlinewidth\":0,\"ticks\":\"\"}},\"marker\":{\"colorbar\":{\"outlinewidth\":0,\"ticks\":\"\"}},\"type\":\"scatter3d\"}],\"scattercarpet\":[{\"marker\":{\"colorbar\":{\"outlinewidth\":0,\"ticks\":\"\"}},\"type\":\"scattercarpet\"}],\"scattergeo\":[{\"marker\":{\"colorbar\":{\"outlinewidth\":0,\"ticks\":\"\"}},\"type\":\"scattergeo\"}],\"scattergl\":[{\"marker\":{\"colorbar\":{\"outlinewidth\":0,\"ticks\":\"\"}},\"type\":\"scattergl\"}],\"scattermapbox\":[{\"marker\":{\"colorbar\":{\"outlinewidth\":0,\"ticks\":\"\"}},\"type\":\"scattermapbox\"}],\"scatterpolar\":[{\"marker\":{\"colorbar\":{\"outlinewidth\":0,\"ticks\":\"\"}},\"type\":\"scatterpolar\"}],\"scatterpolargl\":[{\"marker\":{\"colorbar\":{\"outlinewidth\":0,\"ticks\":\"\"}},\"type\":\"scatterpolargl\"}],\"scatterternary\":[{\"marker\":{\"colorbar\":{\"outlinewidth\":0,\"ticks\":\"\"}},\"type\":\"scatterternary\"}],\"surface\":[{\"colorbar\":{\"outlinewidth\":0,\"ticks\":\"\"},\"colorscale\":[[0.0,\"#0d0887\"],[0.1111111111111111,\"#46039f\"],[0.2222222222222222,\"#7201a8\"],[0.3333333333333333,\"#9c179e\"],[0.4444444444444444,\"#bd3786\"],[0.5555555555555556,\"#d8576b\"],[0.6666666666666666,\"#ed7953\"],[0.7777777777777778,\"#fb9f3a\"],[0.8888888888888888,\"#fdca26\"],[1.0,\"#f0f921\"]],\"type\":\"surface\"}],\"table\":[{\"cells\":{\"fill\":{\"color\":\"#EBF0F8\"},\"line\":{\"color\":\"white\"}},\"header\":{\"fill\":{\"color\":\"#C8D4E3\"},\"line\":{\"color\":\"white\"}},\"type\":\"table\"}]},\"layout\":{\"annotationdefaults\":{\"arrowcolor\":\"#2a3f5f\",\"arrowhead\":0,\"arrowwidth\":1},\"autotypenumbers\":\"strict\",\"coloraxis\":{\"colorbar\":{\"outlinewidth\":0,\"ticks\":\"\"}},\"colorscale\":{\"diverging\":[[0,\"#8e0152\"],[0.1,\"#c51b7d\"],[0.2,\"#de77ae\"],[0.3,\"#f1b6da\"],[0.4,\"#fde0ef\"],[0.5,\"#f7f7f7\"],[0.6,\"#e6f5d0\"],[0.7,\"#b8e186\"],[0.8,\"#7fbc41\"],[0.9,\"#4d9221\"],[1,\"#276419\"]],\"sequential\":[[0.0,\"#0d0887\"],[0.1111111111111111,\"#46039f\"],[0.2222222222222222,\"#7201a8\"],[0.3333333333333333,\"#9c179e\"],[0.4444444444444444,\"#bd3786\"],[0.5555555555555556,\"#d8576b\"],[0.6666666666666666,\"#ed7953\"],[0.7777777777777778,\"#fb9f3a\"],[0.8888888888888888,\"#fdca26\"],[1.0,\"#f0f921\"]],\"sequentialminus\":[[0.0,\"#0d0887\"],[0.1111111111111111,\"#46039f\"],[0.2222222222222222,\"#7201a8\"],[0.3333333333333333,\"#9c179e\"],[0.4444444444444444,\"#bd3786\"],[0.5555555555555556,\"#d8576b\"],[0.6666666666666666,\"#ed7953\"],[0.7777777777777778,\"#fb9f3a\"],[0.8888888888888888,\"#fdca26\"],[1.0,\"#f0f921\"]]},\"colorway\":[\"#636efa\",\"#EF553B\",\"#00cc96\",\"#ab63fa\",\"#FFA15A\",\"#19d3f3\",\"#FF6692\",\"#B6E880\",\"#FF97FF\",\"#FECB52\"],\"font\":{\"color\":\"#2a3f5f\"},\"geo\":{\"bgcolor\":\"white\",\"lakecolor\":\"white\",\"landcolor\":\"#E5ECF6\",\"showlakes\":true,\"showland\":true,\"subunitcolor\":\"white\"},\"hoverlabel\":{\"align\":\"left\"},\"hovermode\":\"closest\",\"mapbox\":{\"style\":\"light\"},\"paper_bgcolor\":\"white\",\"plot_bgcolor\":\"#E5ECF6\",\"polar\":{\"angularaxis\":{\"gridcolor\":\"white\",\"linecolor\":\"white\",\"ticks\":\"\"},\"bgcolor\":\"#E5ECF6\",\"radialaxis\":{\"gridcolor\":\"white\",\"linecolor\":\"white\",\"ticks\":\"\"}},\"scene\":{\"xaxis\":{\"backgroundcolor\":\"#E5ECF6\",\"gridcolor\":\"white\",\"gridwidth\":2,\"linecolor\":\"white\",\"showbackground\":true,\"ticks\":\"\",\"zerolinecolor\":\"white\"},\"yaxis\":{\"backgroundcolor\":\"#E5ECF6\",\"gridcolor\":\"white\",\"gridwidth\":2,\"linecolor\":\"white\",\"showbackground\":true,\"ticks\":\"\",\"zerolinecolor\":\"white\"},\"zaxis\":{\"backgroundcolor\":\"#E5ECF6\",\"gridcolor\":\"white\",\"gridwidth\":2,\"linecolor\":\"white\",\"showbackground\":true,\"ticks\":\"\",\"zerolinecolor\":\"white\"}},\"shapedefaults\":{\"line\":{\"color\":\"#2a3f5f\"}},\"ternary\":{\"aaxis\":{\"gridcolor\":\"white\",\"linecolor\":\"white\",\"ticks\":\"\"},\"baxis\":{\"gridcolor\":\"white\",\"linecolor\":\"white\",\"ticks\":\"\"},\"bgcolor\":\"#E5ECF6\",\"caxis\":{\"gridcolor\":\"white\",\"linecolor\":\"white\",\"ticks\":\"\"}},\"title\":{\"x\":0.05},\"xaxis\":{\"automargin\":true,\"gridcolor\":\"white\",\"linecolor\":\"white\",\"ticks\":\"\",\"title\":{\"standoff\":15},\"zerolinecolor\":\"white\",\"zerolinewidth\":2},\"yaxis\":{\"automargin\":true,\"gridcolor\":\"white\",\"linecolor\":\"white\",\"ticks\":\"\",\"title\":{\"standoff\":15},\"zerolinecolor\":\"white\",\"zerolinewidth\":2}}},\"xaxis\":{\"anchor\":\"y\",\"domain\":[0.0,1.0],\"title\":{\"text\":\"Contacts\"}},\"yaxis\":{\"anchor\":\"x\",\"domain\":[0.0,1.0],\"title\":{\"text\":\"Revenue\"}}},                        {\"responsive\": true}                    ).then(function(){\n",
       "                            \n",
       "var gd = document.getElementById('434f389f-0f70-4945-9efa-b023126ad1d7');\n",
       "var x = new MutationObserver(function (mutations, observer) {{\n",
       "        var display = window.getComputedStyle(gd).display;\n",
       "        if (!display || display === 'none') {{\n",
       "            console.log([gd, 'removed!']);\n",
       "            Plotly.purge(gd);\n",
       "            observer.disconnect();\n",
       "        }}\n",
       "}});\n",
       "\n",
       "// Listen for the removal of the full notebook cells\n",
       "var notebookContainer = gd.closest('#notebook-container');\n",
       "if (notebookContainer) {{\n",
       "    x.observe(notebookContainer, {childList: true});\n",
       "}}\n",
       "\n",
       "// Listen for the clearing of the current output cell\n",
       "var outputEl = gd.closest('.output');\n",
       "if (outputEl) {{\n",
       "    x.observe(outputEl, {childList: true});\n",
       "}}\n",
       "\n",
       "                        })                };                });            </script>        </div>"
      ]
     },
     "metadata": {},
     "output_type": "display_data"
    }
   ],
   "source": [
    "fig1 = px.scatter(df, x=\"Contacts\", y=\"Revenue\", color=\"Category\", trendline=\"ols\")\n",
    "fig1.show()"
   ]
  },
  {
   "cell_type": "code",
   "execution_count": 23,
   "id": "6f47a50b",
   "metadata": {},
   "outputs": [
    {
     "data": {
      "application/vnd.plotly.v1+json": {
       "config": {
        "plotlyServerURL": "https://plot.ly"
       },
       "data": [
        {
         "hovertemplate": "Category=Bathroom Remodel<br>Customers=%{x}<br>Revenue=%{y}<extra></extra>",
         "legendgroup": "Bathroom Remodel",
         "marker": {
          "color": "#636efa",
          "symbol": "circle"
         },
         "mode": "markers",
         "name": "Bathroom Remodel",
         "orientation": "v",
         "showlegend": true,
         "type": "scatter",
         "x": [
          542,
          511,
          463,
          538,
          532,
          531,
          545,
          518,
          559,
          537,
          509,
          559,
          589
         ],
         "xaxis": "x",
         "y": [
          41973,
          38891,
          35939,
          41907,
          39265,
          37886,
          39374,
          36459,
          38017,
          34646,
          35146,
          33886,
          40317
         ],
         "yaxis": "y"
        },
        {
         "hovertemplate": "<b>OLS trendline</b><br>Revenue = 27.1345 * Customers + 23506.4<br>R<sup>2</sup>=0.096319<br><br>Category=Bathroom Remodel<br>Customers=%{x}<br>Revenue=%{y} <b>(trend)</b><extra></extra>",
         "legendgroup": "Bathroom Remodel",
         "marker": {
          "color": "#636efa",
          "symbol": "circle"
         },
         "mode": "lines",
         "name": "Bathroom Remodel",
         "showlegend": false,
         "type": "scatter",
         "x": [
          463,
          509,
          511,
          518,
          531,
          532,
          537,
          538,
          542,
          545,
          559,
          559,
          589
         ],
         "xaxis": "x",
         "y": [
          36069.621246204064,
          37317.80778315152,
          37372.076763018806,
          37562.018192554286,
          37914.766561691606,
          37941.901051625246,
          38077.57350129345,
          38104.70799122709,
          38213.24595096165,
          38294.64942076257,
          38674.53227983354,
          38674.53227983354,
          39488.56697784275
         ],
         "yaxis": "y"
        },
        {
         "hovertemplate": "Category=Concrete Installation<br>Customers=%{x}<br>Revenue=%{y}<extra></extra>",
         "legendgroup": "Concrete Installation",
         "marker": {
          "color": "#EF553B",
          "symbol": "circle"
         },
         "mode": "markers",
         "name": "Concrete Installation",
         "orientation": "v",
         "showlegend": true,
         "type": "scatter",
         "x": [
          1266,
          1326,
          1270,
          1480,
          1302,
          1337,
          1304,
          1242,
          1319,
          1345,
          1219,
          1315,
          1310
         ],
         "xaxis": "x",
         "y": [
          53066,
          54828,
          50853,
          54774,
          46305,
          50680,
          48137,
          43967,
          44692,
          47233,
          43626,
          43830,
          44667
         ],
         "yaxis": "y"
        },
        {
         "hovertemplate": "<b>OLS trendline</b><br>Revenue = 33.5606 * Customers + 4227.12<br>R<sup>2</sup>=0.254591<br><br>Category=Concrete Installation<br>Customers=%{x}<br>Revenue=%{y} <b>(trend)</b><extra></extra>",
         "legendgroup": "Concrete Installation",
         "marker": {
          "color": "#EF553B",
          "symbol": "circle"
         },
         "mode": "lines",
         "name": "Concrete Installation",
         "showlegend": false,
         "type": "scatter",
         "x": [
          1219,
          1242,
          1266,
          1270,
          1302,
          1304,
          1310,
          1315,
          1319,
          1326,
          1337,
          1345,
          1480
         ],
         "xaxis": "x",
         "y": [
          45137.53584314833,
          45909.430441547855,
          46714.88567466041,
          46849.12821351249,
          47923.068524329225,
          47990.18979375527,
          48191.55360203341,
          48359.35677559853,
          48493.599314450614,
          48728.52375744178,
          49097.690739285026,
          49366.17581698921,
          53896.861503247295
         ],
         "yaxis": "y"
        },
        {
         "hovertemplate": "Category=DJ<br>Customers=%{x}<br>Revenue=%{y}<extra></extra>",
         "legendgroup": "DJ",
         "marker": {
          "color": "#00cc96",
          "symbol": "circle"
         },
         "mode": "markers",
         "name": "DJ",
         "orientation": "v",
         "showlegend": true,
         "type": "scatter",
         "x": [
          1575,
          1512,
          1425,
          1403,
          1456,
          1453,
          1472,
          1417,
          1390,
          1401,
          1447,
          1228,
          1244
         ],
         "xaxis": "x",
         "y": [
          47437,
          44721,
          43569,
          43615,
          40788,
          43165,
          44226,
          43770,
          42490,
          38814,
          41495,
          35754,
          38130
         ],
         "yaxis": "y"
        },
        {
         "hovertemplate": "<b>OLS trendline</b><br>Revenue = 28.7746 * Customers + 1373.88<br>R<sup>2</sup>=0.759789<br><br>Category=DJ<br>Customers=%{x}<br>Revenue=%{y} <b>(trend)</b><extra></extra>",
         "legendgroup": "DJ",
         "marker": {
          "color": "#00cc96",
          "symbol": "circle"
         },
         "mode": "lines",
         "name": "DJ",
         "showlegend": false,
         "type": "scatter",
         "x": [
          1228,
          1244,
          1390,
          1401,
          1403,
          1417,
          1425,
          1447,
          1453,
          1456,
          1472,
          1512,
          1575
         ],
         "xaxis": "x",
         "y": [
          36709.028571244795,
          37169.42143711755,
          41370.50633820636,
          41687.02643349387,
          41744.575541727965,
          42147.419299366615,
          42377.61573230299,
          43010.65592287802,
          43183.3032475803,
          43269.62690993144,
          43730.01977580418,
          44881.00194048605,
          46693.79884985999
         ],
         "yaxis": "y"
        },
        {
         "hovertemplate": "Category=Electrical and Wiring Repair<br>Customers=%{x}<br>Revenue=%{y}<extra></extra>",
         "legendgroup": "Electrical and Wiring Repair",
         "marker": {
          "color": "#ab63fa",
          "symbol": "circle"
         },
         "mode": "markers",
         "name": "Electrical and Wiring Repair",
         "orientation": "v",
         "showlegend": true,
         "type": "scatter",
         "x": [
          1360,
          1360,
          1409,
          1488,
          1408,
          1491,
          1451,
          1690,
          1592,
          1781,
          1645,
          1748,
          1922
         ],
         "xaxis": "x",
         "y": [
          38401,
          40156,
          40727,
          40135,
          35258,
          39021,
          36372,
          39519,
          36675,
          38041,
          36025,
          39142,
          39791
         ],
         "yaxis": "y"
        },
        {
         "hovertemplate": "<b>OLS trendline</b><br>Revenue = 0.721714 * Customers + 37275.4<br>R<sup>2</sup>=0.005265<br><br>Category=Electrical and Wiring Repair<br>Customers=%{x}<br>Revenue=%{y} <b>(trend)</b><extra></extra>",
         "legendgroup": "Electrical and Wiring Repair",
         "marker": {
          "color": "#ab63fa",
          "symbol": "circle"
         },
         "mode": "lines",
         "name": "Electrical and Wiring Repair",
         "showlegend": false,
         "type": "scatter",
         "x": [
          1360,
          1360,
          1408,
          1409,
          1451,
          1488,
          1491,
          1592,
          1645,
          1690,
          1748,
          1781,
          1922
         ],
         "xaxis": "x",
         "y": [
          38256.89485879536,
          38256.89485879536,
          38291.53711324628,
          38292.25882688068,
          38322.570799525245,
          38349.27420399783,
          38351.43934490102,
          38424.332421974854,
          38462.58324459776,
          38495.06035814551,
          38536.91974894038,
          38560.736298875396,
          38662.497921325004
         ],
         "yaxis": "y"
        },
        {
         "hovertemplate": "Category=Exterior Painting<br>Customers=%{x}<br>Revenue=%{y}<extra></extra>",
         "legendgroup": "Exterior Painting",
         "marker": {
          "color": "#FFA15A",
          "symbol": "circle"
         },
         "mode": "markers",
         "name": "Exterior Painting",
         "orientation": "v",
         "showlegend": true,
         "type": "scatter",
         "x": [
          803,
          802,
          786,
          806,
          792,
          839,
          741,
          761,
          792,
          825,
          783,
          787,
          800
         ],
         "xaxis": "x",
         "y": [
          56759,
          57346,
          52836,
          54531,
          50966,
          53463,
          45730,
          47016,
          47881,
          49304,
          46195,
          48402,
          46137
         ],
         "yaxis": "y"
        },
        {
         "hovertemplate": "<b>OLS trendline</b><br>Revenue = 86.5904 * Customers + -18214.4<br>R<sup>2</sup>=0.276639<br><br>Category=Exterior Painting<br>Customers=%{x}<br>Revenue=%{y} <b>(trend)</b><extra></extra>",
         "legendgroup": "Exterior Painting",
         "marker": {
          "color": "#FFA15A",
          "symbol": "circle"
         },
         "mode": "lines",
         "name": "Exterior Painting",
         "showlegend": false,
         "type": "scatter",
         "x": [
          741,
          761,
          783,
          786,
          787,
          792,
          792,
          800,
          802,
          803,
          806,
          825,
          839
         ],
         "xaxis": "x",
         "y": [
          45949.09089407043,
          47680.89844895591,
          49585.88675932994,
          49845.65789256277,
          49932.24827030704,
          50365.200159028405,
          50365.200159028405,
          51057.9231809826,
          51231.10393647115,
          51317.69431421542,
          51577.46544744824,
          53222.68262458945,
          54434.94791300928
         ],
         "yaxis": "y"
        },
        {
         "hovertemplate": "Category=Fence and Gate Installation<br>Customers=%{x}<br>Revenue=%{y}<extra></extra>",
         "legendgroup": "Fence and Gate Installation",
         "marker": {
          "color": "#19d3f3",
          "symbol": "circle"
         },
         "mode": "markers",
         "name": "Fence and Gate Installation",
         "orientation": "v",
         "showlegend": true,
         "type": "scatter",
         "x": [
          1959,
          1988,
          1945,
          2151,
          2039,
          1852,
          1833,
          1907,
          1843,
          1841,
          1877,
          1759,
          1805
         ],
         "xaxis": "x",
         "y": [
          54157,
          57950,
          50419,
          50062,
          50799,
          45874,
          44958,
          45064,
          44815,
          43425,
          45346,
          42366,
          42453
         ],
         "yaxis": "y"
        },
        {
         "hovertemplate": "<b>OLS trendline</b><br>Revenue = 32.0812 * Customers + -13684.1<br>R<sup>2</sup>=0.516178<br><br>Category=Fence and Gate Installation<br>Customers=%{x}<br>Revenue=%{y} <b>(trend)</b><extra></extra>",
         "legendgroup": "Fence and Gate Installation",
         "marker": {
          "color": "#19d3f3",
          "symbol": "circle"
         },
         "mode": "lines",
         "name": "Fence and Gate Installation",
         "showlegend": false,
         "type": "scatter",
         "x": [
          1759,
          1805,
          1833,
          1841,
          1843,
          1852,
          1877,
          1907,
          1945,
          1959,
          1988,
          2039,
          2151
         ],
         "xaxis": "x",
         "y": [
          42746.70548956699,
          44222.43950470101,
          45120.71238347824,
          45377.36177741459,
          45441.52412589867,
          45730.25469407707,
          46532.28405012816,
          47494.71927738948,
          48713.80389858714,
          49162.94033797575,
          50093.29439099502,
          51729.43427733926,
          55322.525792448156
         ],
         "yaxis": "y"
        },
        {
         "hovertemplate": "Category=Floor Installation or Replacement<br>Customers=%{x}<br>Revenue=%{y}<extra></extra>",
         "legendgroup": "Floor Installation or Replacement",
         "marker": {
          "color": "#FF6692",
          "symbol": "circle"
         },
         "mode": "markers",
         "name": "Floor Installation or Replacement",
         "orientation": "v",
         "showlegend": true,
         "type": "scatter",
         "x": [
          943,
          938,
          893,
          891,
          925,
          912,
          900,
          947,
          1033,
          1018,
          1017,
          1078,
          1015
         ],
         "xaxis": "x",
         "y": [
          56464,
          53133,
          54948,
          51381,
          52277,
          49171,
          51967,
          51685,
          51061,
          51929,
          48770,
          50802,
          49506
         ],
         "yaxis": "y"
        },
        {
         "hovertemplate": "<b>OLS trendline</b><br>Revenue = -14.1311 * Customers + 65375<br>R<sup>2</sup>=0.162249<br><br>Category=Floor Installation or Replacement<br>Customers=%{x}<br>Revenue=%{y} <b>(trend)</b><extra></extra>",
         "legendgroup": "Floor Installation or Replacement",
         "marker": {
          "color": "#FF6692",
          "symbol": "circle"
         },
         "mode": "lines",
         "name": "Floor Installation or Replacement",
         "showlegend": false,
         "type": "scatter",
         "x": [
          891,
          893,
          900,
          912,
          925,
          938,
          943,
          947,
          1015,
          1017,
          1018,
          1033,
          1078
         ],
         "xaxis": "x",
         "y": [
          52784.12038889335,
          52755.858112613714,
          52656.94014563497,
          52487.36648795713,
          52303.66169213946,
          52119.9568963218,
          52049.301205622694,
          51992.77665306341,
          51031.859259555626,
          51003.59698327599,
          50989.46584513616,
          50777.49877303886,
          50141.59755674694
         ],
         "yaxis": "y"
        },
        {
         "hovertemplate": "Category=General Contracting<br>Customers=%{x}<br>Revenue=%{y}<extra></extra>",
         "legendgroup": "General Contracting",
         "marker": {
          "color": "#B6E880",
          "symbol": "circle"
         },
         "mode": "markers",
         "name": "General Contracting",
         "orientation": "v",
         "showlegend": true,
         "type": "scatter",
         "x": [
          1205,
          1180,
          1211,
          1185,
          1174,
          1207,
          1186,
          1280,
          1167,
          1390,
          1195,
          1318,
          1396
         ],
         "xaxis": "x",
         "y": [
          62961,
          66633,
          59584,
          56203,
          53763,
          55161,
          58061,
          62356,
          56312,
          60742,
          57346,
          55338,
          58380
         ],
         "yaxis": "y"
        },
        {
         "hovertemplate": "<b>OLS trendline</b><br>Revenue = 4.29593 * Customers + 53361.6<br>R<sup>2</sup>=0.008992<br><br>Category=General Contracting<br>Customers=%{x}<br>Revenue=%{y} <b>(trend)</b><extra></extra>",
         "legendgroup": "General Contracting",
         "marker": {
          "color": "#B6E880",
          "symbol": "circle"
         },
         "mode": "lines",
         "name": "General Contracting",
         "showlegend": false,
         "type": "scatter",
         "x": [
          1167,
          1174,
          1180,
          1185,
          1186,
          1195,
          1205,
          1207,
          1211,
          1280,
          1318,
          1390,
          1396
         ],
         "xaxis": "x",
         "y": [
          58374.9891345691,
          58405.06062834398,
          58430.836194436735,
          58452.315832847366,
          58456.611760529486,
          58495.27510966862,
          58538.23438648988,
          58546.826241854134,
          58564.00995258264,
          58860.42896264932,
          59023.67421457011,
          59332.98100768316,
          59358.75657377592
         ],
         "yaxis": "y"
        },
        {
         "hovertemplate": "Category=Handyman<br>Customers=%{x}<br>Revenue=%{y}<extra></extra>",
         "legendgroup": "Handyman",
         "marker": {
          "color": "#FF97FF",
          "symbol": "circle"
         },
         "mode": "markers",
         "name": "Handyman",
         "orientation": "v",
         "showlegend": true,
         "type": "scatter",
         "x": [
          5055,
          5067,
          5198,
          5313,
          5616,
          5519,
          5467,
          5486,
          5448,
          5651,
          5548,
          5738,
          5971
         ],
         "xaxis": "x",
         "y": [
          61227,
          70622,
          67616,
          68139,
          66416,
          64208,
          63505,
          60382,
          58229,
          58661,
          59619,
          61827,
          62459
         ],
         "yaxis": "y"
        },
        {
         "hovertemplate": "<b>OLS trendline</b><br>Revenue = -6.59488 * Customers + 99358<br>R<sup>2</sup>=0.195036<br><br>Category=Handyman<br>Customers=%{x}<br>Revenue=%{y} <b>(trend)</b><extra></extra>",
         "legendgroup": "Handyman",
         "marker": {
          "color": "#FF97FF",
          "symbol": "circle"
         },
         "mode": "lines",
         "name": "Handyman",
         "showlegend": false,
         "type": "scatter",
         "x": [
          5055,
          5067,
          5198,
          5313,
          5448,
          5467,
          5486,
          5519,
          5548,
          5616,
          5651,
          5738,
          5971
         ],
         "xaxis": "x",
         "y": [
          66020.90539725762,
          65941.76678443176,
          65077.83692774962,
          64319.42522150193,
          63429.11582721116,
          63303.813023570234,
          63178.51021992931,
          62960.87903465824,
          62769.62738699577,
          62321.17524764931,
          62090.35429357393,
          61516.59935058654,
          59979.9912848847
         ],
         "yaxis": "y"
        },
        {
         "hovertemplate": "Category=House Cleaning<br>Customers=%{x}<br>Revenue=%{y}<extra></extra>",
         "legendgroup": "House Cleaning",
         "marker": {
          "color": "#FECB52",
          "symbol": "circle"
         },
         "mode": "markers",
         "name": "House Cleaning",
         "orientation": "v",
         "showlegend": true,
         "type": "scatter",
         "x": [
          7376,
          7441,
          7363,
          7533,
          7813,
          7679,
          7290,
          7543,
          8341,
          7781,
          7748,
          8690,
          9688
         ],
         "xaxis": "x",
         "y": [
          169773,
          176109,
          168267,
          167534,
          165155,
          163254,
          157545,
          160187,
          166974,
          159349,
          168021,
          175866,
          184214
         ],
         "yaxis": "y"
        },
        {
         "hovertemplate": "<b>OLS trendline</b><br>Revenue = 7.5515 * Customers + 108449<br>R<sup>2</sup>=0.468041<br><br>Category=House Cleaning<br>Customers=%{x}<br>Revenue=%{y} <b>(trend)</b><extra></extra>",
         "legendgroup": "House Cleaning",
         "marker": {
          "color": "#FECB52",
          "symbol": "circle"
         },
         "mode": "lines",
         "name": "House Cleaning",
         "showlegend": false,
         "type": "scatter",
         "x": [
          7290,
          7363,
          7376,
          7441,
          7533,
          7543,
          7679,
          7748,
          7781,
          7813,
          8341,
          8690,
          9688
         ],
         "xaxis": "x",
         "y": [
          163499.30483179726,
          164050.5639742433,
          164148.73341056932,
          164639.58059219935,
          165334.31814158338,
          165409.83309260337,
          166436.83642647543,
          166957.88958851347,
          167207.08892687949,
          167448.7367701435,
          171435.92618399975,
          174071.3979745979,
          181607.79008639435
         ],
         "yaxis": "y"
        },
        {
         "hovertemplate": "Category=Interior Painting<br>Customers=%{x}<br>Revenue=%{y}<extra></extra>",
         "legendgroup": "Interior Painting",
         "marker": {
          "color": "#636efa",
          "symbol": "circle"
         },
         "mode": "markers",
         "name": "Interior Painting",
         "orientation": "v",
         "showlegend": true,
         "type": "scatter",
         "x": [
          1911,
          1940,
          1869,
          1871,
          2054,
          2051,
          2020,
          2048,
          2196,
          2362,
          2248,
          2291,
          2455
         ],
         "xaxis": "x",
         "y": [
          110909,
          115172,
          109338,
          108500,
          116278,
          110126,
          108522,
          107376,
          108474,
          110746,
          108881,
          107498,
          119720
         ],
         "yaxis": "y"
        },
        {
         "hovertemplate": "<b>OLS trendline</b><br>Revenue = 5.18897 * Customers + 99984.5<br>R<sup>2</sup>=0.068790<br><br>Category=Interior Painting<br>Customers=%{x}<br>Revenue=%{y} <b>(trend)</b><extra></extra>",
         "legendgroup": "Interior Painting",
         "marker": {
          "color": "#636efa",
          "symbol": "circle"
         },
         "mode": "lines",
         "name": "Interior Painting",
         "showlegend": false,
         "type": "scatter",
         "x": [
          1869,
          1871,
          1911,
          1940,
          2020,
          2048,
          2051,
          2054,
          2196,
          2248,
          2291,
          2362,
          2455
         ],
         "xaxis": "x",
         "y": [
          109682.65289552258,
          109693.03084342467,
          109900.5898014665,
          110051.07004604682,
          110466.18796213047,
          110611.47923275975,
          110627.0461546129,
          110642.61307646602,
          111379.44737751452,
          111649.2740229689,
          111872.39990286385,
          112240.81705338809,
          112723.39163083534
         ],
         "yaxis": "y"
        },
        {
         "hovertemplate": "Category=Junk Removal<br>Customers=%{x}<br>Revenue=%{y}<extra></extra>",
         "legendgroup": "Junk Removal",
         "marker": {
          "color": "#EF553B",
          "symbol": "circle"
         },
         "mode": "markers",
         "name": "Junk Removal",
         "orientation": "v",
         "showlegend": true,
         "type": "scatter",
         "x": [
          1735,
          1734,
          1745,
          1857,
          1975,
          1860,
          1914,
          2152,
          2484,
          2393,
          2293,
          2406,
          2690
         ],
         "xaxis": "x",
         "y": [
          24239,
          26438,
          25313,
          27011,
          27116,
          24575,
          24914,
          27403,
          30403,
          29174,
          27511,
          30122,
          31767
         ],
         "yaxis": "y"
        },
        {
         "hovertemplate": "<b>OLS trendline</b><br>Revenue = 6.76207 * Customers + 13215.4<br>R<sup>2</sup>=0.853194<br><br>Category=Junk Removal<br>Customers=%{x}<br>Revenue=%{y} <b>(trend)</b><extra></extra>",
         "legendgroup": "Junk Removal",
         "marker": {
          "color": "#EF553B",
          "symbol": "circle"
         },
         "mode": "lines",
         "name": "Junk Removal",
         "showlegend": false,
         "type": "scatter",
         "x": [
          1734,
          1735,
          1745,
          1857,
          1860,
          1914,
          1975,
          2152,
          2293,
          2393,
          2406,
          2484,
          2690
         ],
         "xaxis": "x",
         "y": [
          24940.86893378293,
          24947.631008710705,
          25015.251757988437,
          25772.604149899016,
          25792.890374682334,
          26158.04242078208,
          26570.528991376235,
          27767.416253592062,
          28720.868818408064,
          29397.076311185367,
          29484.983285246417,
          30012.425129612715,
          31405.41256473396
         ],
         "yaxis": "y"
        },
        {
         "hovertemplate": "Category=Local Moving (under 50 miles)<br>Customers=%{x}<br>Revenue=%{y}<extra></extra>",
         "legendgroup": "Local Moving (under 50 miles)",
         "marker": {
          "color": "#00cc96",
          "symbol": "circle"
         },
         "mode": "markers",
         "name": "Local Moving (under 50 miles)",
         "orientation": "v",
         "showlegend": true,
         "type": "scatter",
         "x": [
          3471,
          3319,
          3315,
          3801,
          3895,
          3856,
          4141,
          4667,
          5185,
          4529,
          4633,
          5166,
          6052
         ],
         "xaxis": "x",
         "y": [
          74190,
          78796,
          76509,
          84475,
          84854,
          81331,
          89086,
          93835,
          98134,
          90929,
          100044,
          105028,
          108265
         ],
         "yaxis": "y"
        },
        {
         "hovertemplate": "<b>OLS trendline</b><br>Revenue = 12.6854 * Customers + 34978.1<br>R<sup>2</sup>=0.917020<br><br>Category=Local Moving (under 50 miles)<br>Customers=%{x}<br>Revenue=%{y} <b>(trend)</b><extra></extra>",
         "legendgroup": "Local Moving (under 50 miles)",
         "marker": {
          "color": "#00cc96",
          "symbol": "circle"
         },
         "mode": "lines",
         "name": "Local Moving (under 50 miles)",
         "showlegend": false,
         "type": "scatter",
         "x": [
          3315,
          3319,
          3471,
          3801,
          3856,
          3895,
          4141,
          4529,
          4633,
          4667,
          5166,
          5185,
          6052
         ],
         "xaxis": "x",
         "y": [
          77030.07453247064,
          77080.81594138533,
          79008.98948014359,
          83195.15571560561,
          83892.8500881826,
          84387.57882510085,
          87508.17547335435,
          92430.09213807939,
          93749.36876986135,
          94180.67074563622,
          100510.66150774393,
          100751.68320008874,
          111749.88358234803
         ],
         "yaxis": "y"
        },
        {
         "hovertemplate": "Category=Outdoor Landscaping and Design<br>Customers=%{x}<br>Revenue=%{y}<extra></extra>",
         "legendgroup": "Outdoor Landscaping and Design",
         "marker": {
          "color": "#ab63fa",
          "symbol": "circle"
         },
         "mode": "markers",
         "name": "Outdoor Landscaping and Design",
         "orientation": "v",
         "showlegend": true,
         "type": "scatter",
         "x": [
          2848,
          3211,
          3130,
          3448,
          3181,
          3169,
          2878,
          2940,
          2820,
          2863,
          2596,
          2258,
          2520
         ],
         "xaxis": "x",
         "y": [
          90654,
          101802,
          91499,
          92405,
          76209,
          77513,
          73454,
          70694,
          70698,
          71353,
          68100,
          61999,
          64043
         ],
         "yaxis": "y"
        },
        {
         "hovertemplate": "<b>OLS trendline</b><br>Revenue = 28.8533 * Customers + -6309.19<br>R<sup>2</sup>=0.570674<br><br>Category=Outdoor Landscaping and Design<br>Customers=%{x}<br>Revenue=%{y} <b>(trend)</b><extra></extra>",
         "legendgroup": "Outdoor Landscaping and Design",
         "marker": {
          "color": "#ab63fa",
          "symbol": "circle"
         },
         "mode": "lines",
         "name": "Outdoor Landscaping and Design",
         "showlegend": false,
         "type": "scatter",
         "x": [
          2258,
          2520,
          2596,
          2820,
          2848,
          2863,
          2878,
          2940,
          3130,
          3169,
          3181,
          3211,
          3448
         ],
         "xaxis": "x",
         "y": [
          58841.49155567789,
          66401.04794511855,
          68593.89636342958,
          75057.02854371472,
          75864.92006625036,
          76297.71909618017,
          76730.51812610998,
          78519.42078315318,
          84001.54182893076,
          85126.81930674826,
          85473.05853069211,
          86338.65659055173,
          93176.8812634427
         ],
         "yaxis": "y"
        },
        {
         "hovertemplate": "Category=Personal Training<br>Customers=%{x}<br>Revenue=%{y}<extra></extra>",
         "legendgroup": "Personal Training",
         "marker": {
          "color": "#FFA15A",
          "symbol": "circle"
         },
         "mode": "markers",
         "name": "Personal Training",
         "orientation": "v",
         "showlegend": true,
         "type": "scatter",
         "x": [
          2381,
          2122,
          1968,
          2045,
          1989,
          2082,
          2197,
          2396,
          2496,
          2435,
          2648,
          2636,
          2506
         ],
         "xaxis": "x",
         "y": [
          31076,
          29489,
          27636,
          28821,
          26216,
          27462,
          31402,
          35287,
          35969,
          32744,
          39080,
          36135,
          35664
         ],
         "yaxis": "y"
        },
        {
         "hovertemplate": "<b>OLS trendline</b><br>Revenue = 15.8774 * Customers + -4443.79<br>R<sup>2</sup>=0.902951<br><br>Category=Personal Training<br>Customers=%{x}<br>Revenue=%{y} <b>(trend)</b><extra></extra>",
         "legendgroup": "Personal Training",
         "marker": {
          "color": "#FFA15A",
          "symbol": "circle"
         },
         "mode": "lines",
         "name": "Personal Training",
         "showlegend": false,
         "type": "scatter",
         "x": [
          1968,
          1989,
          2045,
          2082,
          2122,
          2197,
          2381,
          2396,
          2435,
          2496,
          2506,
          2636,
          2648
         ],
         "xaxis": "x",
         "y": [
          26802.941836253554,
          27136.367335142317,
          28025.501998845677,
          28612.965973078255,
          29248.0621614378,
          30438.867514611946,
          33360.309981065846,
          33598.471051700675,
          34217.68983535122,
          35186.21152259954,
          35344.98556968942,
          37409.04818185794,
          37599.577038365795
         ],
         "yaxis": "y"
        },
        {
         "hovertemplate": "Category=Property Management<br>Customers=%{x}<br>Revenue=%{y}<extra></extra>",
         "legendgroup": "Property Management",
         "marker": {
          "color": "#19d3f3",
          "symbol": "circle"
         },
         "mode": "markers",
         "name": "Property Management",
         "orientation": "v",
         "showlegend": true,
         "type": "scatter",
         "x": [
          383,
          373,
          338,
          349,
          366,
          364,
          322,
          299,
          345,
          325,
          390,
          382,
          434
         ],
         "xaxis": "x",
         "y": [
          22124,
          21321,
          22801,
          21697,
          22557,
          20812,
          20942,
          20384,
          23188,
          18239,
          25378,
          23299,
          27721
         ],
         "yaxis": "y"
        },
        {
         "hovertemplate": "<b>OLS trendline</b><br>Revenue = 53.1379 * Customers + 3254.54<br>R<sup>2</sup>=0.629227<br><br>Category=Property Management<br>Customers=%{x}<br>Revenue=%{y} <b>(trend)</b><extra></extra>",
         "legendgroup": "Property Management",
         "marker": {
          "color": "#19d3f3",
          "symbol": "circle"
         },
         "mode": "lines",
         "name": "Property Management",
         "showlegend": false,
         "type": "scatter",
         "x": [
          299,
          322,
          325,
          338,
          345,
          349,
          364,
          366,
          373,
          382,
          383,
          390,
          434
         ],
         "xaxis": "x",
         "y": [
          19142.772022419427,
          20364.943370180077,
          20524.357024235815,
          21215.14952514401,
          21587.11471794073,
          21799.666256681714,
          22596.734526960397,
          22703.01029633089,
          23074.97548912761,
          23553.216451294822,
          23606.354335980068,
          23978.31952877679,
          26316.3864549276
         ],
         "yaxis": "y"
        },
        {
         "hovertemplate": "Category=Roof Installation or Replacement<br>Customers=%{x}<br>Revenue=%{y}<extra></extra>",
         "legendgroup": "Roof Installation or Replacement",
         "marker": {
          "color": "#FF6692",
          "symbol": "circle"
         },
         "mode": "markers",
         "name": "Roof Installation or Replacement",
         "orientation": "v",
         "showlegend": true,
         "type": "scatter",
         "x": [
          707,
          688,
          729,
          797,
          840,
          779,
          764,
          744,
          717,
          796,
          760,
          825,
          815
         ],
         "xaxis": "x",
         "y": [
          69422,
          78369,
          81902,
          86862,
          90495,
          81169,
          83097,
          74511,
          74828,
          77422,
          76936,
          81331,
          84353
         ],
         "yaxis": "y"
        },
        {
         "hovertemplate": "<b>OLS trendline</b><br>Revenue = 83.9085 * Customers + 15760.4<br>R<sup>2</sup>=0.504875<br><br>Category=Roof Installation or Replacement<br>Customers=%{x}<br>Revenue=%{y} <b>(trend)</b><extra></extra>",
         "legendgroup": "Roof Installation or Replacement",
         "marker": {
          "color": "#FF6692",
          "symbol": "circle"
         },
         "mode": "lines",
         "name": "Roof Installation or Replacement",
         "showlegend": false,
         "type": "scatter",
         "x": [
          688,
          707,
          717,
          729,
          744,
          760,
          764,
          779,
          796,
          797,
          815,
          825,
          840
         ],
         "xaxis": "x",
         "y": [
          73489.39076572127,
          75083.65180885485,
          75922.73656839883,
          76929.63827985163,
          78188.26541916761,
          79530.80103443799,
          79866.43493825558,
          81125.06207757158,
          82551.50616879636,
          82635.41464475075,
          84145.76721192994,
          84984.85197147392,
          86243.47911078991
         ],
         "yaxis": "y"
        },
        {
         "hovertemplate": "Category=Tree Trimming and Removal<br>Customers=%{x}<br>Revenue=%{y}<extra></extra>",
         "legendgroup": "Tree Trimming and Removal",
         "marker": {
          "color": "#B6E880",
          "symbol": "circle"
         },
         "mode": "markers",
         "name": "Tree Trimming and Removal",
         "orientation": "v",
         "showlegend": true,
         "type": "scatter",
         "x": [
          1182,
          1395,
          1499,
          1488,
          1349,
          1235,
          1231,
          1484,
          1328,
          1418,
          1473,
          1457,
          1536
         ],
         "xaxis": "x",
         "y": [
          47539,
          53878,
          55782,
          54626,
          47803,
          44590,
          44018,
          48691,
          41948,
          42609,
          44106,
          45038,
          46356
         ],
         "yaxis": "y"
        },
        {
         "hovertemplate": "<b>OLS trendline</b><br>Revenue = 14.3461 * Customers + 27513.7<br>R<sup>2</sup>=0.130290<br><br>Category=Tree Trimming and Removal<br>Customers=%{x}<br>Revenue=%{y} <b>(trend)</b><extra></extra>",
         "legendgroup": "Tree Trimming and Removal",
         "marker": {
          "color": "#B6E880",
          "symbol": "circle"
         },
         "mode": "lines",
         "name": "Tree Trimming and Removal",
         "showlegend": false,
         "type": "scatter",
         "x": [
          1182,
          1231,
          1235,
          1328,
          1349,
          1395,
          1418,
          1457,
          1473,
          1484,
          1488,
          1499,
          1536
         ],
         "xaxis": "x",
         "y": [
          44470.80259743591,
          45173.76115979595,
          45231.145532233495,
          46565.332191406625,
          46866.600146703786,
          47526.520429735654,
          47856.48057125159,
          48415.97820251774,
          48645.51569226795,
          48803.32271647123,
          48860.70708890878,
          49018.51411311205,
          49549.31955815942
         ],
         "yaxis": "y"
        },
        {
         "hovertemplate": "Category=Wedding and Event Catering<br>Customers=%{x}<br>Revenue=%{y}<extra></extra>",
         "legendgroup": "Wedding and Event Catering",
         "marker": {
          "color": "#FF97FF",
          "symbol": "circle"
         },
         "mode": "markers",
         "name": "Wedding and Event Catering",
         "orientation": "v",
         "showlegend": true,
         "type": "scatter",
         "x": [
          1436,
          1446,
          1306,
          1362,
          1481,
          1457,
          1312,
          1287,
          1266,
          1351,
          1301,
          1404,
          1334
         ],
         "xaxis": "x",
         "y": [
          38176,
          39003,
          37303,
          37061,
          37453,
          37334,
          35010,
          35652,
          36290,
          32764,
          36349,
          34346,
          32409
         ],
         "yaxis": "y"
        },
        {
         "hovertemplate": "<b>OLS trendline</b><br>Revenue = 11.6809 * Customers + 20145.8<br>R<sup>2</sup>=0.178438<br><br>Category=Wedding and Event Catering<br>Customers=%{x}<br>Revenue=%{y} <b>(trend)</b><extra></extra>",
         "legendgroup": "Wedding and Event Catering",
         "marker": {
          "color": "#FF97FF",
          "symbol": "circle"
         },
         "mode": "lines",
         "name": "Wedding and Event Catering",
         "showlegend": false,
         "type": "scatter",
         "x": [
          1266,
          1287,
          1301,
          1306,
          1312,
          1334,
          1351,
          1362,
          1404,
          1436,
          1446,
          1457,
          1481
         ],
         "xaxis": "x",
         "y": [
          34933.84968161965,
          35179.14854303431,
          35342.68111731075,
          35401.085608123765,
          35471.17099709938,
          35728.15075667665,
          35926.7260254409,
          36055.21590522953,
          36545.81362805886,
          36919.60236926215,
          37036.411350888186,
          37164.90123067681,
          37445.242786579285
         ],
         "yaxis": "y"
        },
        {
         "hovertemplate": "Category=Wedding and Event Photography<br>Customers=%{x}<br>Revenue=%{y}<extra></extra>",
         "legendgroup": "Wedding and Event Photography",
         "marker": {
          "color": "#FECB52",
          "symbol": "circle"
         },
         "mode": "markers",
         "name": "Wedding and Event Photography",
         "orientation": "v",
         "showlegend": true,
         "type": "scatter",
         "x": [
          1894,
          1834,
          1801,
          1748,
          1766,
          1842,
          1783,
          1674,
          1613,
          1765,
          1753,
          1656,
          1669
         ],
         "xaxis": "x",
         "y": [
          65327,
          61429,
          62885,
          60510,
          56043,
          59614,
          61496,
          57257,
          55818,
          54957,
          57573,
          54158,
          55575
         ],
         "yaxis": "y"
        },
        {
         "hovertemplate": "<b>OLS trendline</b><br>Revenue = 33.0893 * Customers + 636.244<br>R<sup>2</sup>=0.610197<br><br>Category=Wedding and Event Photography<br>Customers=%{x}<br>Revenue=%{y} <b>(trend)</b><extra></extra>",
         "legendgroup": "Wedding and Event Photography",
         "marker": {
          "color": "#FECB52",
          "symbol": "circle"
         },
         "mode": "lines",
         "name": "Wedding and Event Photography",
         "showlegend": false,
         "type": "scatter",
         "x": [
          1613,
          1656,
          1669,
          1674,
          1748,
          1753,
          1765,
          1766,
          1783,
          1801,
          1834,
          1842,
          1894
         ],
         "xaxis": "x",
         "y": [
          54009.3532784354,
          55432.195004709116,
          55862.35645683837,
          56027.80316919579,
          58476.41451208543,
          58641.861224442844,
          59038.93333410062,
          59072.0226765721,
          59634.54149858729,
          60230.149663073964,
          61322.09796463286,
          61586.812704404714,
          63307.45851292176
         ],
         "yaxis": "y"
        }
       ],
       "layout": {
        "legend": {
         "title": {
          "text": "Category"
         },
         "tracegroupgap": 0
        },
        "margin": {
         "t": 60
        },
        "template": {
         "data": {
          "bar": [
           {
            "error_x": {
             "color": "#2a3f5f"
            },
            "error_y": {
             "color": "#2a3f5f"
            },
            "marker": {
             "line": {
              "color": "#E5ECF6",
              "width": 0.5
             },
             "pattern": {
              "fillmode": "overlay",
              "size": 10,
              "solidity": 0.2
             }
            },
            "type": "bar"
           }
          ],
          "barpolar": [
           {
            "marker": {
             "line": {
              "color": "#E5ECF6",
              "width": 0.5
             },
             "pattern": {
              "fillmode": "overlay",
              "size": 10,
              "solidity": 0.2
             }
            },
            "type": "barpolar"
           }
          ],
          "carpet": [
           {
            "aaxis": {
             "endlinecolor": "#2a3f5f",
             "gridcolor": "white",
             "linecolor": "white",
             "minorgridcolor": "white",
             "startlinecolor": "#2a3f5f"
            },
            "baxis": {
             "endlinecolor": "#2a3f5f",
             "gridcolor": "white",
             "linecolor": "white",
             "minorgridcolor": "white",
             "startlinecolor": "#2a3f5f"
            },
            "type": "carpet"
           }
          ],
          "choropleth": [
           {
            "colorbar": {
             "outlinewidth": 0,
             "ticks": ""
            },
            "type": "choropleth"
           }
          ],
          "contour": [
           {
            "colorbar": {
             "outlinewidth": 0,
             "ticks": ""
            },
            "colorscale": [
             [
              0,
              "#0d0887"
             ],
             [
              0.1111111111111111,
              "#46039f"
             ],
             [
              0.2222222222222222,
              "#7201a8"
             ],
             [
              0.3333333333333333,
              "#9c179e"
             ],
             [
              0.4444444444444444,
              "#bd3786"
             ],
             [
              0.5555555555555556,
              "#d8576b"
             ],
             [
              0.6666666666666666,
              "#ed7953"
             ],
             [
              0.7777777777777778,
              "#fb9f3a"
             ],
             [
              0.8888888888888888,
              "#fdca26"
             ],
             [
              1,
              "#f0f921"
             ]
            ],
            "type": "contour"
           }
          ],
          "contourcarpet": [
           {
            "colorbar": {
             "outlinewidth": 0,
             "ticks": ""
            },
            "type": "contourcarpet"
           }
          ],
          "heatmap": [
           {
            "colorbar": {
             "outlinewidth": 0,
             "ticks": ""
            },
            "colorscale": [
             [
              0,
              "#0d0887"
             ],
             [
              0.1111111111111111,
              "#46039f"
             ],
             [
              0.2222222222222222,
              "#7201a8"
             ],
             [
              0.3333333333333333,
              "#9c179e"
             ],
             [
              0.4444444444444444,
              "#bd3786"
             ],
             [
              0.5555555555555556,
              "#d8576b"
             ],
             [
              0.6666666666666666,
              "#ed7953"
             ],
             [
              0.7777777777777778,
              "#fb9f3a"
             ],
             [
              0.8888888888888888,
              "#fdca26"
             ],
             [
              1,
              "#f0f921"
             ]
            ],
            "type": "heatmap"
           }
          ],
          "heatmapgl": [
           {
            "colorbar": {
             "outlinewidth": 0,
             "ticks": ""
            },
            "colorscale": [
             [
              0,
              "#0d0887"
             ],
             [
              0.1111111111111111,
              "#46039f"
             ],
             [
              0.2222222222222222,
              "#7201a8"
             ],
             [
              0.3333333333333333,
              "#9c179e"
             ],
             [
              0.4444444444444444,
              "#bd3786"
             ],
             [
              0.5555555555555556,
              "#d8576b"
             ],
             [
              0.6666666666666666,
              "#ed7953"
             ],
             [
              0.7777777777777778,
              "#fb9f3a"
             ],
             [
              0.8888888888888888,
              "#fdca26"
             ],
             [
              1,
              "#f0f921"
             ]
            ],
            "type": "heatmapgl"
           }
          ],
          "histogram": [
           {
            "marker": {
             "pattern": {
              "fillmode": "overlay",
              "size": 10,
              "solidity": 0.2
             }
            },
            "type": "histogram"
           }
          ],
          "histogram2d": [
           {
            "colorbar": {
             "outlinewidth": 0,
             "ticks": ""
            },
            "colorscale": [
             [
              0,
              "#0d0887"
             ],
             [
              0.1111111111111111,
              "#46039f"
             ],
             [
              0.2222222222222222,
              "#7201a8"
             ],
             [
              0.3333333333333333,
              "#9c179e"
             ],
             [
              0.4444444444444444,
              "#bd3786"
             ],
             [
              0.5555555555555556,
              "#d8576b"
             ],
             [
              0.6666666666666666,
              "#ed7953"
             ],
             [
              0.7777777777777778,
              "#fb9f3a"
             ],
             [
              0.8888888888888888,
              "#fdca26"
             ],
             [
              1,
              "#f0f921"
             ]
            ],
            "type": "histogram2d"
           }
          ],
          "histogram2dcontour": [
           {
            "colorbar": {
             "outlinewidth": 0,
             "ticks": ""
            },
            "colorscale": [
             [
              0,
              "#0d0887"
             ],
             [
              0.1111111111111111,
              "#46039f"
             ],
             [
              0.2222222222222222,
              "#7201a8"
             ],
             [
              0.3333333333333333,
              "#9c179e"
             ],
             [
              0.4444444444444444,
              "#bd3786"
             ],
             [
              0.5555555555555556,
              "#d8576b"
             ],
             [
              0.6666666666666666,
              "#ed7953"
             ],
             [
              0.7777777777777778,
              "#fb9f3a"
             ],
             [
              0.8888888888888888,
              "#fdca26"
             ],
             [
              1,
              "#f0f921"
             ]
            ],
            "type": "histogram2dcontour"
           }
          ],
          "mesh3d": [
           {
            "colorbar": {
             "outlinewidth": 0,
             "ticks": ""
            },
            "type": "mesh3d"
           }
          ],
          "parcoords": [
           {
            "line": {
             "colorbar": {
              "outlinewidth": 0,
              "ticks": ""
             }
            },
            "type": "parcoords"
           }
          ],
          "pie": [
           {
            "automargin": true,
            "type": "pie"
           }
          ],
          "scatter": [
           {
            "marker": {
             "colorbar": {
              "outlinewidth": 0,
              "ticks": ""
             }
            },
            "type": "scatter"
           }
          ],
          "scatter3d": [
           {
            "line": {
             "colorbar": {
              "outlinewidth": 0,
              "ticks": ""
             }
            },
            "marker": {
             "colorbar": {
              "outlinewidth": 0,
              "ticks": ""
             }
            },
            "type": "scatter3d"
           }
          ],
          "scattercarpet": [
           {
            "marker": {
             "colorbar": {
              "outlinewidth": 0,
              "ticks": ""
             }
            },
            "type": "scattercarpet"
           }
          ],
          "scattergeo": [
           {
            "marker": {
             "colorbar": {
              "outlinewidth": 0,
              "ticks": ""
             }
            },
            "type": "scattergeo"
           }
          ],
          "scattergl": [
           {
            "marker": {
             "colorbar": {
              "outlinewidth": 0,
              "ticks": ""
             }
            },
            "type": "scattergl"
           }
          ],
          "scattermapbox": [
           {
            "marker": {
             "colorbar": {
              "outlinewidth": 0,
              "ticks": ""
             }
            },
            "type": "scattermapbox"
           }
          ],
          "scatterpolar": [
           {
            "marker": {
             "colorbar": {
              "outlinewidth": 0,
              "ticks": ""
             }
            },
            "type": "scatterpolar"
           }
          ],
          "scatterpolargl": [
           {
            "marker": {
             "colorbar": {
              "outlinewidth": 0,
              "ticks": ""
             }
            },
            "type": "scatterpolargl"
           }
          ],
          "scatterternary": [
           {
            "marker": {
             "colorbar": {
              "outlinewidth": 0,
              "ticks": ""
             }
            },
            "type": "scatterternary"
           }
          ],
          "surface": [
           {
            "colorbar": {
             "outlinewidth": 0,
             "ticks": ""
            },
            "colorscale": [
             [
              0,
              "#0d0887"
             ],
             [
              0.1111111111111111,
              "#46039f"
             ],
             [
              0.2222222222222222,
              "#7201a8"
             ],
             [
              0.3333333333333333,
              "#9c179e"
             ],
             [
              0.4444444444444444,
              "#bd3786"
             ],
             [
              0.5555555555555556,
              "#d8576b"
             ],
             [
              0.6666666666666666,
              "#ed7953"
             ],
             [
              0.7777777777777778,
              "#fb9f3a"
             ],
             [
              0.8888888888888888,
              "#fdca26"
             ],
             [
              1,
              "#f0f921"
             ]
            ],
            "type": "surface"
           }
          ],
          "table": [
           {
            "cells": {
             "fill": {
              "color": "#EBF0F8"
             },
             "line": {
              "color": "white"
             }
            },
            "header": {
             "fill": {
              "color": "#C8D4E3"
             },
             "line": {
              "color": "white"
             }
            },
            "type": "table"
           }
          ]
         },
         "layout": {
          "annotationdefaults": {
           "arrowcolor": "#2a3f5f",
           "arrowhead": 0,
           "arrowwidth": 1
          },
          "autotypenumbers": "strict",
          "coloraxis": {
           "colorbar": {
            "outlinewidth": 0,
            "ticks": ""
           }
          },
          "colorscale": {
           "diverging": [
            [
             0,
             "#8e0152"
            ],
            [
             0.1,
             "#c51b7d"
            ],
            [
             0.2,
             "#de77ae"
            ],
            [
             0.3,
             "#f1b6da"
            ],
            [
             0.4,
             "#fde0ef"
            ],
            [
             0.5,
             "#f7f7f7"
            ],
            [
             0.6,
             "#e6f5d0"
            ],
            [
             0.7,
             "#b8e186"
            ],
            [
             0.8,
             "#7fbc41"
            ],
            [
             0.9,
             "#4d9221"
            ],
            [
             1,
             "#276419"
            ]
           ],
           "sequential": [
            [
             0,
             "#0d0887"
            ],
            [
             0.1111111111111111,
             "#46039f"
            ],
            [
             0.2222222222222222,
             "#7201a8"
            ],
            [
             0.3333333333333333,
             "#9c179e"
            ],
            [
             0.4444444444444444,
             "#bd3786"
            ],
            [
             0.5555555555555556,
             "#d8576b"
            ],
            [
             0.6666666666666666,
             "#ed7953"
            ],
            [
             0.7777777777777778,
             "#fb9f3a"
            ],
            [
             0.8888888888888888,
             "#fdca26"
            ],
            [
             1,
             "#f0f921"
            ]
           ],
           "sequentialminus": [
            [
             0,
             "#0d0887"
            ],
            [
             0.1111111111111111,
             "#46039f"
            ],
            [
             0.2222222222222222,
             "#7201a8"
            ],
            [
             0.3333333333333333,
             "#9c179e"
            ],
            [
             0.4444444444444444,
             "#bd3786"
            ],
            [
             0.5555555555555556,
             "#d8576b"
            ],
            [
             0.6666666666666666,
             "#ed7953"
            ],
            [
             0.7777777777777778,
             "#fb9f3a"
            ],
            [
             0.8888888888888888,
             "#fdca26"
            ],
            [
             1,
             "#f0f921"
            ]
           ]
          },
          "colorway": [
           "#636efa",
           "#EF553B",
           "#00cc96",
           "#ab63fa",
           "#FFA15A",
           "#19d3f3",
           "#FF6692",
           "#B6E880",
           "#FF97FF",
           "#FECB52"
          ],
          "font": {
           "color": "#2a3f5f"
          },
          "geo": {
           "bgcolor": "white",
           "lakecolor": "white",
           "landcolor": "#E5ECF6",
           "showlakes": true,
           "showland": true,
           "subunitcolor": "white"
          },
          "hoverlabel": {
           "align": "left"
          },
          "hovermode": "closest",
          "mapbox": {
           "style": "light"
          },
          "paper_bgcolor": "white",
          "plot_bgcolor": "#E5ECF6",
          "polar": {
           "angularaxis": {
            "gridcolor": "white",
            "linecolor": "white",
            "ticks": ""
           },
           "bgcolor": "#E5ECF6",
           "radialaxis": {
            "gridcolor": "white",
            "linecolor": "white",
            "ticks": ""
           }
          },
          "scene": {
           "xaxis": {
            "backgroundcolor": "#E5ECF6",
            "gridcolor": "white",
            "gridwidth": 2,
            "linecolor": "white",
            "showbackground": true,
            "ticks": "",
            "zerolinecolor": "white"
           },
           "yaxis": {
            "backgroundcolor": "#E5ECF6",
            "gridcolor": "white",
            "gridwidth": 2,
            "linecolor": "white",
            "showbackground": true,
            "ticks": "",
            "zerolinecolor": "white"
           },
           "zaxis": {
            "backgroundcolor": "#E5ECF6",
            "gridcolor": "white",
            "gridwidth": 2,
            "linecolor": "white",
            "showbackground": true,
            "ticks": "",
            "zerolinecolor": "white"
           }
          },
          "shapedefaults": {
           "line": {
            "color": "#2a3f5f"
           }
          },
          "ternary": {
           "aaxis": {
            "gridcolor": "white",
            "linecolor": "white",
            "ticks": ""
           },
           "baxis": {
            "gridcolor": "white",
            "linecolor": "white",
            "ticks": ""
           },
           "bgcolor": "#E5ECF6",
           "caxis": {
            "gridcolor": "white",
            "linecolor": "white",
            "ticks": ""
           }
          },
          "title": {
           "x": 0.05
          },
          "xaxis": {
           "automargin": true,
           "gridcolor": "white",
           "linecolor": "white",
           "ticks": "",
           "title": {
            "standoff": 15
           },
           "zerolinecolor": "white",
           "zerolinewidth": 2
          },
          "yaxis": {
           "automargin": true,
           "gridcolor": "white",
           "linecolor": "white",
           "ticks": "",
           "title": {
            "standoff": 15
           },
           "zerolinecolor": "white",
           "zerolinewidth": 2
          }
         }
        },
        "xaxis": {
         "anchor": "y",
         "domain": [
          0,
          1
         ],
         "title": {
          "text": "Customers"
         }
        },
        "yaxis": {
         "anchor": "x",
         "domain": [
          0,
          1
         ],
         "title": {
          "text": "Revenue"
         }
        }
       }
      },
      "text/html": [
       "<div>                            <div id=\"1c90da57-b93b-480a-869d-979db09f71ca\" class=\"plotly-graph-div\" style=\"height:525px; width:100%;\"></div>            <script type=\"text/javascript\">                require([\"plotly\"], function(Plotly) {                    window.PLOTLYENV=window.PLOTLYENV || {};                                    if (document.getElementById(\"1c90da57-b93b-480a-869d-979db09f71ca\")) {                    Plotly.newPlot(                        \"1c90da57-b93b-480a-869d-979db09f71ca\",                        [{\"hovertemplate\":\"Category=Bathroom Remodel<br>Customers=%{x}<br>Revenue=%{y}<extra></extra>\",\"legendgroup\":\"Bathroom Remodel\",\"marker\":{\"color\":\"#636efa\",\"symbol\":\"circle\"},\"mode\":\"markers\",\"name\":\"Bathroom Remodel\",\"orientation\":\"v\",\"showlegend\":true,\"type\":\"scatter\",\"x\":[542,511,463,538,532,531,545,518,559,537,509,559,589],\"xaxis\":\"x\",\"y\":[41973,38891,35939,41907,39265,37886,39374,36459,38017,34646,35146,33886,40317],\"yaxis\":\"y\"},{\"hovertemplate\":\"<b>OLS trendline</b><br>Revenue = 27.1345 * Customers + 23506.4<br>R<sup>2</sup>=0.096319<br><br>Category=Bathroom Remodel<br>Customers=%{x}<br>Revenue=%{y} <b>(trend)</b><extra></extra>\",\"legendgroup\":\"Bathroom Remodel\",\"marker\":{\"color\":\"#636efa\",\"symbol\":\"circle\"},\"mode\":\"lines\",\"name\":\"Bathroom Remodel\",\"showlegend\":false,\"type\":\"scatter\",\"x\":[463,509,511,518,531,532,537,538,542,545,559,559,589],\"xaxis\":\"x\",\"y\":[36069.621246204064,37317.80778315152,37372.076763018806,37562.018192554286,37914.766561691606,37941.901051625246,38077.57350129345,38104.70799122709,38213.24595096165,38294.64942076257,38674.53227983354,38674.53227983354,39488.56697784275],\"yaxis\":\"y\"},{\"hovertemplate\":\"Category=Concrete Installation<br>Customers=%{x}<br>Revenue=%{y}<extra></extra>\",\"legendgroup\":\"Concrete Installation\",\"marker\":{\"color\":\"#EF553B\",\"symbol\":\"circle\"},\"mode\":\"markers\",\"name\":\"Concrete Installation\",\"orientation\":\"v\",\"showlegend\":true,\"type\":\"scatter\",\"x\":[1266,1326,1270,1480,1302,1337,1304,1242,1319,1345,1219,1315,1310],\"xaxis\":\"x\",\"y\":[53066,54828,50853,54774,46305,50680,48137,43967,44692,47233,43626,43830,44667],\"yaxis\":\"y\"},{\"hovertemplate\":\"<b>OLS trendline</b><br>Revenue = 33.5606 * Customers + 4227.12<br>R<sup>2</sup>=0.254591<br><br>Category=Concrete Installation<br>Customers=%{x}<br>Revenue=%{y} <b>(trend)</b><extra></extra>\",\"legendgroup\":\"Concrete Installation\",\"marker\":{\"color\":\"#EF553B\",\"symbol\":\"circle\"},\"mode\":\"lines\",\"name\":\"Concrete Installation\",\"showlegend\":false,\"type\":\"scatter\",\"x\":[1219,1242,1266,1270,1302,1304,1310,1315,1319,1326,1337,1345,1480],\"xaxis\":\"x\",\"y\":[45137.53584314833,45909.430441547855,46714.88567466041,46849.12821351249,47923.068524329225,47990.18979375527,48191.55360203341,48359.35677559853,48493.599314450614,48728.52375744178,49097.690739285026,49366.17581698921,53896.861503247295],\"yaxis\":\"y\"},{\"hovertemplate\":\"Category=DJ<br>Customers=%{x}<br>Revenue=%{y}<extra></extra>\",\"legendgroup\":\"DJ\",\"marker\":{\"color\":\"#00cc96\",\"symbol\":\"circle\"},\"mode\":\"markers\",\"name\":\"DJ\",\"orientation\":\"v\",\"showlegend\":true,\"type\":\"scatter\",\"x\":[1575,1512,1425,1403,1456,1453,1472,1417,1390,1401,1447,1228,1244],\"xaxis\":\"x\",\"y\":[47437,44721,43569,43615,40788,43165,44226,43770,42490,38814,41495,35754,38130],\"yaxis\":\"y\"},{\"hovertemplate\":\"<b>OLS trendline</b><br>Revenue = 28.7746 * Customers + 1373.88<br>R<sup>2</sup>=0.759789<br><br>Category=DJ<br>Customers=%{x}<br>Revenue=%{y} <b>(trend)</b><extra></extra>\",\"legendgroup\":\"DJ\",\"marker\":{\"color\":\"#00cc96\",\"symbol\":\"circle\"},\"mode\":\"lines\",\"name\":\"DJ\",\"showlegend\":false,\"type\":\"scatter\",\"x\":[1228,1244,1390,1401,1403,1417,1425,1447,1453,1456,1472,1512,1575],\"xaxis\":\"x\",\"y\":[36709.028571244795,37169.42143711755,41370.50633820636,41687.02643349387,41744.575541727965,42147.419299366615,42377.61573230299,43010.65592287802,43183.3032475803,43269.62690993144,43730.01977580418,44881.00194048605,46693.79884985999],\"yaxis\":\"y\"},{\"hovertemplate\":\"Category=Electrical and Wiring Repair<br>Customers=%{x}<br>Revenue=%{y}<extra></extra>\",\"legendgroup\":\"Electrical and Wiring Repair\",\"marker\":{\"color\":\"#ab63fa\",\"symbol\":\"circle\"},\"mode\":\"markers\",\"name\":\"Electrical and Wiring Repair\",\"orientation\":\"v\",\"showlegend\":true,\"type\":\"scatter\",\"x\":[1360,1360,1409,1488,1408,1491,1451,1690,1592,1781,1645,1748,1922],\"xaxis\":\"x\",\"y\":[38401,40156,40727,40135,35258,39021,36372,39519,36675,38041,36025,39142,39791],\"yaxis\":\"y\"},{\"hovertemplate\":\"<b>OLS trendline</b><br>Revenue = 0.721714 * Customers + 37275.4<br>R<sup>2</sup>=0.005265<br><br>Category=Electrical and Wiring Repair<br>Customers=%{x}<br>Revenue=%{y} <b>(trend)</b><extra></extra>\",\"legendgroup\":\"Electrical and Wiring Repair\",\"marker\":{\"color\":\"#ab63fa\",\"symbol\":\"circle\"},\"mode\":\"lines\",\"name\":\"Electrical and Wiring Repair\",\"showlegend\":false,\"type\":\"scatter\",\"x\":[1360,1360,1408,1409,1451,1488,1491,1592,1645,1690,1748,1781,1922],\"xaxis\":\"x\",\"y\":[38256.89485879536,38256.89485879536,38291.53711324628,38292.25882688068,38322.570799525245,38349.27420399783,38351.43934490102,38424.332421974854,38462.58324459776,38495.06035814551,38536.91974894038,38560.736298875396,38662.497921325004],\"yaxis\":\"y\"},{\"hovertemplate\":\"Category=Exterior Painting<br>Customers=%{x}<br>Revenue=%{y}<extra></extra>\",\"legendgroup\":\"Exterior Painting\",\"marker\":{\"color\":\"#FFA15A\",\"symbol\":\"circle\"},\"mode\":\"markers\",\"name\":\"Exterior Painting\",\"orientation\":\"v\",\"showlegend\":true,\"type\":\"scatter\",\"x\":[803,802,786,806,792,839,741,761,792,825,783,787,800],\"xaxis\":\"x\",\"y\":[56759,57346,52836,54531,50966,53463,45730,47016,47881,49304,46195,48402,46137],\"yaxis\":\"y\"},{\"hovertemplate\":\"<b>OLS trendline</b><br>Revenue = 86.5904 * Customers + -18214.4<br>R<sup>2</sup>=0.276639<br><br>Category=Exterior Painting<br>Customers=%{x}<br>Revenue=%{y} <b>(trend)</b><extra></extra>\",\"legendgroup\":\"Exterior Painting\",\"marker\":{\"color\":\"#FFA15A\",\"symbol\":\"circle\"},\"mode\":\"lines\",\"name\":\"Exterior Painting\",\"showlegend\":false,\"type\":\"scatter\",\"x\":[741,761,783,786,787,792,792,800,802,803,806,825,839],\"xaxis\":\"x\",\"y\":[45949.09089407043,47680.89844895591,49585.88675932994,49845.65789256277,49932.24827030704,50365.200159028405,50365.200159028405,51057.9231809826,51231.10393647115,51317.69431421542,51577.46544744824,53222.68262458945,54434.94791300928],\"yaxis\":\"y\"},{\"hovertemplate\":\"Category=Fence and Gate Installation<br>Customers=%{x}<br>Revenue=%{y}<extra></extra>\",\"legendgroup\":\"Fence and Gate Installation\",\"marker\":{\"color\":\"#19d3f3\",\"symbol\":\"circle\"},\"mode\":\"markers\",\"name\":\"Fence and Gate Installation\",\"orientation\":\"v\",\"showlegend\":true,\"type\":\"scatter\",\"x\":[1959,1988,1945,2151,2039,1852,1833,1907,1843,1841,1877,1759,1805],\"xaxis\":\"x\",\"y\":[54157,57950,50419,50062,50799,45874,44958,45064,44815,43425,45346,42366,42453],\"yaxis\":\"y\"},{\"hovertemplate\":\"<b>OLS trendline</b><br>Revenue = 32.0812 * Customers + -13684.1<br>R<sup>2</sup>=0.516178<br><br>Category=Fence and Gate Installation<br>Customers=%{x}<br>Revenue=%{y} <b>(trend)</b><extra></extra>\",\"legendgroup\":\"Fence and Gate Installation\",\"marker\":{\"color\":\"#19d3f3\",\"symbol\":\"circle\"},\"mode\":\"lines\",\"name\":\"Fence and Gate Installation\",\"showlegend\":false,\"type\":\"scatter\",\"x\":[1759,1805,1833,1841,1843,1852,1877,1907,1945,1959,1988,2039,2151],\"xaxis\":\"x\",\"y\":[42746.70548956699,44222.43950470101,45120.71238347824,45377.36177741459,45441.52412589867,45730.25469407707,46532.28405012816,47494.71927738948,48713.80389858714,49162.94033797575,50093.29439099502,51729.43427733926,55322.525792448156],\"yaxis\":\"y\"},{\"hovertemplate\":\"Category=Floor Installation or Replacement<br>Customers=%{x}<br>Revenue=%{y}<extra></extra>\",\"legendgroup\":\"Floor Installation or Replacement\",\"marker\":{\"color\":\"#FF6692\",\"symbol\":\"circle\"},\"mode\":\"markers\",\"name\":\"Floor Installation or Replacement\",\"orientation\":\"v\",\"showlegend\":true,\"type\":\"scatter\",\"x\":[943,938,893,891,925,912,900,947,1033,1018,1017,1078,1015],\"xaxis\":\"x\",\"y\":[56464,53133,54948,51381,52277,49171,51967,51685,51061,51929,48770,50802,49506],\"yaxis\":\"y\"},{\"hovertemplate\":\"<b>OLS trendline</b><br>Revenue = -14.1311 * Customers + 65375<br>R<sup>2</sup>=0.162249<br><br>Category=Floor Installation or Replacement<br>Customers=%{x}<br>Revenue=%{y} <b>(trend)</b><extra></extra>\",\"legendgroup\":\"Floor Installation or Replacement\",\"marker\":{\"color\":\"#FF6692\",\"symbol\":\"circle\"},\"mode\":\"lines\",\"name\":\"Floor Installation or Replacement\",\"showlegend\":false,\"type\":\"scatter\",\"x\":[891,893,900,912,925,938,943,947,1015,1017,1018,1033,1078],\"xaxis\":\"x\",\"y\":[52784.12038889335,52755.858112613714,52656.94014563497,52487.36648795713,52303.66169213946,52119.9568963218,52049.301205622694,51992.77665306341,51031.859259555626,51003.59698327599,50989.46584513616,50777.49877303886,50141.59755674694],\"yaxis\":\"y\"},{\"hovertemplate\":\"Category=General Contracting<br>Customers=%{x}<br>Revenue=%{y}<extra></extra>\",\"legendgroup\":\"General Contracting\",\"marker\":{\"color\":\"#B6E880\",\"symbol\":\"circle\"},\"mode\":\"markers\",\"name\":\"General Contracting\",\"orientation\":\"v\",\"showlegend\":true,\"type\":\"scatter\",\"x\":[1205,1180,1211,1185,1174,1207,1186,1280,1167,1390,1195,1318,1396],\"xaxis\":\"x\",\"y\":[62961,66633,59584,56203,53763,55161,58061,62356,56312,60742,57346,55338,58380],\"yaxis\":\"y\"},{\"hovertemplate\":\"<b>OLS trendline</b><br>Revenue = 4.29593 * Customers + 53361.6<br>R<sup>2</sup>=0.008992<br><br>Category=General Contracting<br>Customers=%{x}<br>Revenue=%{y} <b>(trend)</b><extra></extra>\",\"legendgroup\":\"General Contracting\",\"marker\":{\"color\":\"#B6E880\",\"symbol\":\"circle\"},\"mode\":\"lines\",\"name\":\"General Contracting\",\"showlegend\":false,\"type\":\"scatter\",\"x\":[1167,1174,1180,1185,1186,1195,1205,1207,1211,1280,1318,1390,1396],\"xaxis\":\"x\",\"y\":[58374.9891345691,58405.06062834398,58430.836194436735,58452.315832847366,58456.611760529486,58495.27510966862,58538.23438648988,58546.826241854134,58564.00995258264,58860.42896264932,59023.67421457011,59332.98100768316,59358.75657377592],\"yaxis\":\"y\"},{\"hovertemplate\":\"Category=Handyman<br>Customers=%{x}<br>Revenue=%{y}<extra></extra>\",\"legendgroup\":\"Handyman\",\"marker\":{\"color\":\"#FF97FF\",\"symbol\":\"circle\"},\"mode\":\"markers\",\"name\":\"Handyman\",\"orientation\":\"v\",\"showlegend\":true,\"type\":\"scatter\",\"x\":[5055,5067,5198,5313,5616,5519,5467,5486,5448,5651,5548,5738,5971],\"xaxis\":\"x\",\"y\":[61227,70622,67616,68139,66416,64208,63505,60382,58229,58661,59619,61827,62459],\"yaxis\":\"y\"},{\"hovertemplate\":\"<b>OLS trendline</b><br>Revenue = -6.59488 * Customers + 99358<br>R<sup>2</sup>=0.195036<br><br>Category=Handyman<br>Customers=%{x}<br>Revenue=%{y} <b>(trend)</b><extra></extra>\",\"legendgroup\":\"Handyman\",\"marker\":{\"color\":\"#FF97FF\",\"symbol\":\"circle\"},\"mode\":\"lines\",\"name\":\"Handyman\",\"showlegend\":false,\"type\":\"scatter\",\"x\":[5055,5067,5198,5313,5448,5467,5486,5519,5548,5616,5651,5738,5971],\"xaxis\":\"x\",\"y\":[66020.90539725762,65941.76678443176,65077.83692774962,64319.42522150193,63429.11582721116,63303.813023570234,63178.51021992931,62960.87903465824,62769.62738699577,62321.17524764931,62090.35429357393,61516.59935058654,59979.9912848847],\"yaxis\":\"y\"},{\"hovertemplate\":\"Category=House Cleaning<br>Customers=%{x}<br>Revenue=%{y}<extra></extra>\",\"legendgroup\":\"House Cleaning\",\"marker\":{\"color\":\"#FECB52\",\"symbol\":\"circle\"},\"mode\":\"markers\",\"name\":\"House Cleaning\",\"orientation\":\"v\",\"showlegend\":true,\"type\":\"scatter\",\"x\":[7376,7441,7363,7533,7813,7679,7290,7543,8341,7781,7748,8690,9688],\"xaxis\":\"x\",\"y\":[169773,176109,168267,167534,165155,163254,157545,160187,166974,159349,168021,175866,184214],\"yaxis\":\"y\"},{\"hovertemplate\":\"<b>OLS trendline</b><br>Revenue = 7.5515 * Customers + 108449<br>R<sup>2</sup>=0.468041<br><br>Category=House Cleaning<br>Customers=%{x}<br>Revenue=%{y} <b>(trend)</b><extra></extra>\",\"legendgroup\":\"House Cleaning\",\"marker\":{\"color\":\"#FECB52\",\"symbol\":\"circle\"},\"mode\":\"lines\",\"name\":\"House Cleaning\",\"showlegend\":false,\"type\":\"scatter\",\"x\":[7290,7363,7376,7441,7533,7543,7679,7748,7781,7813,8341,8690,9688],\"xaxis\":\"x\",\"y\":[163499.30483179726,164050.5639742433,164148.73341056932,164639.58059219935,165334.31814158338,165409.83309260337,166436.83642647543,166957.88958851347,167207.08892687949,167448.7367701435,171435.92618399975,174071.3979745979,181607.79008639435],\"yaxis\":\"y\"},{\"hovertemplate\":\"Category=Interior Painting<br>Customers=%{x}<br>Revenue=%{y}<extra></extra>\",\"legendgroup\":\"Interior Painting\",\"marker\":{\"color\":\"#636efa\",\"symbol\":\"circle\"},\"mode\":\"markers\",\"name\":\"Interior Painting\",\"orientation\":\"v\",\"showlegend\":true,\"type\":\"scatter\",\"x\":[1911,1940,1869,1871,2054,2051,2020,2048,2196,2362,2248,2291,2455],\"xaxis\":\"x\",\"y\":[110909,115172,109338,108500,116278,110126,108522,107376,108474,110746,108881,107498,119720],\"yaxis\":\"y\"},{\"hovertemplate\":\"<b>OLS trendline</b><br>Revenue = 5.18897 * Customers + 99984.5<br>R<sup>2</sup>=0.068790<br><br>Category=Interior Painting<br>Customers=%{x}<br>Revenue=%{y} <b>(trend)</b><extra></extra>\",\"legendgroup\":\"Interior Painting\",\"marker\":{\"color\":\"#636efa\",\"symbol\":\"circle\"},\"mode\":\"lines\",\"name\":\"Interior Painting\",\"showlegend\":false,\"type\":\"scatter\",\"x\":[1869,1871,1911,1940,2020,2048,2051,2054,2196,2248,2291,2362,2455],\"xaxis\":\"x\",\"y\":[109682.65289552258,109693.03084342467,109900.5898014665,110051.07004604682,110466.18796213047,110611.47923275975,110627.0461546129,110642.61307646602,111379.44737751452,111649.2740229689,111872.39990286385,112240.81705338809,112723.39163083534],\"yaxis\":\"y\"},{\"hovertemplate\":\"Category=Junk Removal<br>Customers=%{x}<br>Revenue=%{y}<extra></extra>\",\"legendgroup\":\"Junk Removal\",\"marker\":{\"color\":\"#EF553B\",\"symbol\":\"circle\"},\"mode\":\"markers\",\"name\":\"Junk Removal\",\"orientation\":\"v\",\"showlegend\":true,\"type\":\"scatter\",\"x\":[1735,1734,1745,1857,1975,1860,1914,2152,2484,2393,2293,2406,2690],\"xaxis\":\"x\",\"y\":[24239,26438,25313,27011,27116,24575,24914,27403,30403,29174,27511,30122,31767],\"yaxis\":\"y\"},{\"hovertemplate\":\"<b>OLS trendline</b><br>Revenue = 6.76207 * Customers + 13215.4<br>R<sup>2</sup>=0.853194<br><br>Category=Junk Removal<br>Customers=%{x}<br>Revenue=%{y} <b>(trend)</b><extra></extra>\",\"legendgroup\":\"Junk Removal\",\"marker\":{\"color\":\"#EF553B\",\"symbol\":\"circle\"},\"mode\":\"lines\",\"name\":\"Junk Removal\",\"showlegend\":false,\"type\":\"scatter\",\"x\":[1734,1735,1745,1857,1860,1914,1975,2152,2293,2393,2406,2484,2690],\"xaxis\":\"x\",\"y\":[24940.86893378293,24947.631008710705,25015.251757988437,25772.604149899016,25792.890374682334,26158.04242078208,26570.528991376235,27767.416253592062,28720.868818408064,29397.076311185367,29484.983285246417,30012.425129612715,31405.41256473396],\"yaxis\":\"y\"},{\"hovertemplate\":\"Category=Local Moving (under 50 miles)<br>Customers=%{x}<br>Revenue=%{y}<extra></extra>\",\"legendgroup\":\"Local Moving (under 50 miles)\",\"marker\":{\"color\":\"#00cc96\",\"symbol\":\"circle\"},\"mode\":\"markers\",\"name\":\"Local Moving (under 50 miles)\",\"orientation\":\"v\",\"showlegend\":true,\"type\":\"scatter\",\"x\":[3471,3319,3315,3801,3895,3856,4141,4667,5185,4529,4633,5166,6052],\"xaxis\":\"x\",\"y\":[74190,78796,76509,84475,84854,81331,89086,93835,98134,90929,100044,105028,108265],\"yaxis\":\"y\"},{\"hovertemplate\":\"<b>OLS trendline</b><br>Revenue = 12.6854 * Customers + 34978.1<br>R<sup>2</sup>=0.917020<br><br>Category=Local Moving (under 50 miles)<br>Customers=%{x}<br>Revenue=%{y} <b>(trend)</b><extra></extra>\",\"legendgroup\":\"Local Moving (under 50 miles)\",\"marker\":{\"color\":\"#00cc96\",\"symbol\":\"circle\"},\"mode\":\"lines\",\"name\":\"Local Moving (under 50 miles)\",\"showlegend\":false,\"type\":\"scatter\",\"x\":[3315,3319,3471,3801,3856,3895,4141,4529,4633,4667,5166,5185,6052],\"xaxis\":\"x\",\"y\":[77030.07453247064,77080.81594138533,79008.98948014359,83195.15571560561,83892.8500881826,84387.57882510085,87508.17547335435,92430.09213807939,93749.36876986135,94180.67074563622,100510.66150774393,100751.68320008874,111749.88358234803],\"yaxis\":\"y\"},{\"hovertemplate\":\"Category=Outdoor Landscaping and Design<br>Customers=%{x}<br>Revenue=%{y}<extra></extra>\",\"legendgroup\":\"Outdoor Landscaping and Design\",\"marker\":{\"color\":\"#ab63fa\",\"symbol\":\"circle\"},\"mode\":\"markers\",\"name\":\"Outdoor Landscaping and Design\",\"orientation\":\"v\",\"showlegend\":true,\"type\":\"scatter\",\"x\":[2848,3211,3130,3448,3181,3169,2878,2940,2820,2863,2596,2258,2520],\"xaxis\":\"x\",\"y\":[90654,101802,91499,92405,76209,77513,73454,70694,70698,71353,68100,61999,64043],\"yaxis\":\"y\"},{\"hovertemplate\":\"<b>OLS trendline</b><br>Revenue = 28.8533 * Customers + -6309.19<br>R<sup>2</sup>=0.570674<br><br>Category=Outdoor Landscaping and Design<br>Customers=%{x}<br>Revenue=%{y} <b>(trend)</b><extra></extra>\",\"legendgroup\":\"Outdoor Landscaping and Design\",\"marker\":{\"color\":\"#ab63fa\",\"symbol\":\"circle\"},\"mode\":\"lines\",\"name\":\"Outdoor Landscaping and Design\",\"showlegend\":false,\"type\":\"scatter\",\"x\":[2258,2520,2596,2820,2848,2863,2878,2940,3130,3169,3181,3211,3448],\"xaxis\":\"x\",\"y\":[58841.49155567789,66401.04794511855,68593.89636342958,75057.02854371472,75864.92006625036,76297.71909618017,76730.51812610998,78519.42078315318,84001.54182893076,85126.81930674826,85473.05853069211,86338.65659055173,93176.8812634427],\"yaxis\":\"y\"},{\"hovertemplate\":\"Category=Personal Training<br>Customers=%{x}<br>Revenue=%{y}<extra></extra>\",\"legendgroup\":\"Personal Training\",\"marker\":{\"color\":\"#FFA15A\",\"symbol\":\"circle\"},\"mode\":\"markers\",\"name\":\"Personal Training\",\"orientation\":\"v\",\"showlegend\":true,\"type\":\"scatter\",\"x\":[2381,2122,1968,2045,1989,2082,2197,2396,2496,2435,2648,2636,2506],\"xaxis\":\"x\",\"y\":[31076,29489,27636,28821,26216,27462,31402,35287,35969,32744,39080,36135,35664],\"yaxis\":\"y\"},{\"hovertemplate\":\"<b>OLS trendline</b><br>Revenue = 15.8774 * Customers + -4443.79<br>R<sup>2</sup>=0.902951<br><br>Category=Personal Training<br>Customers=%{x}<br>Revenue=%{y} <b>(trend)</b><extra></extra>\",\"legendgroup\":\"Personal Training\",\"marker\":{\"color\":\"#FFA15A\",\"symbol\":\"circle\"},\"mode\":\"lines\",\"name\":\"Personal Training\",\"showlegend\":false,\"type\":\"scatter\",\"x\":[1968,1989,2045,2082,2122,2197,2381,2396,2435,2496,2506,2636,2648],\"xaxis\":\"x\",\"y\":[26802.941836253554,27136.367335142317,28025.501998845677,28612.965973078255,29248.0621614378,30438.867514611946,33360.309981065846,33598.471051700675,34217.68983535122,35186.21152259954,35344.98556968942,37409.04818185794,37599.577038365795],\"yaxis\":\"y\"},{\"hovertemplate\":\"Category=Property Management<br>Customers=%{x}<br>Revenue=%{y}<extra></extra>\",\"legendgroup\":\"Property Management\",\"marker\":{\"color\":\"#19d3f3\",\"symbol\":\"circle\"},\"mode\":\"markers\",\"name\":\"Property Management\",\"orientation\":\"v\",\"showlegend\":true,\"type\":\"scatter\",\"x\":[383,373,338,349,366,364,322,299,345,325,390,382,434],\"xaxis\":\"x\",\"y\":[22124,21321,22801,21697,22557,20812,20942,20384,23188,18239,25378,23299,27721],\"yaxis\":\"y\"},{\"hovertemplate\":\"<b>OLS trendline</b><br>Revenue = 53.1379 * Customers + 3254.54<br>R<sup>2</sup>=0.629227<br><br>Category=Property Management<br>Customers=%{x}<br>Revenue=%{y} <b>(trend)</b><extra></extra>\",\"legendgroup\":\"Property Management\",\"marker\":{\"color\":\"#19d3f3\",\"symbol\":\"circle\"},\"mode\":\"lines\",\"name\":\"Property Management\",\"showlegend\":false,\"type\":\"scatter\",\"x\":[299,322,325,338,345,349,364,366,373,382,383,390,434],\"xaxis\":\"x\",\"y\":[19142.772022419427,20364.943370180077,20524.357024235815,21215.14952514401,21587.11471794073,21799.666256681714,22596.734526960397,22703.01029633089,23074.97548912761,23553.216451294822,23606.354335980068,23978.31952877679,26316.3864549276],\"yaxis\":\"y\"},{\"hovertemplate\":\"Category=Roof Installation or Replacement<br>Customers=%{x}<br>Revenue=%{y}<extra></extra>\",\"legendgroup\":\"Roof Installation or Replacement\",\"marker\":{\"color\":\"#FF6692\",\"symbol\":\"circle\"},\"mode\":\"markers\",\"name\":\"Roof Installation or Replacement\",\"orientation\":\"v\",\"showlegend\":true,\"type\":\"scatter\",\"x\":[707,688,729,797,840,779,764,744,717,796,760,825,815],\"xaxis\":\"x\",\"y\":[69422,78369,81902,86862,90495,81169,83097,74511,74828,77422,76936,81331,84353],\"yaxis\":\"y\"},{\"hovertemplate\":\"<b>OLS trendline</b><br>Revenue = 83.9085 * Customers + 15760.4<br>R<sup>2</sup>=0.504875<br><br>Category=Roof Installation or Replacement<br>Customers=%{x}<br>Revenue=%{y} <b>(trend)</b><extra></extra>\",\"legendgroup\":\"Roof Installation or Replacement\",\"marker\":{\"color\":\"#FF6692\",\"symbol\":\"circle\"},\"mode\":\"lines\",\"name\":\"Roof Installation or Replacement\",\"showlegend\":false,\"type\":\"scatter\",\"x\":[688,707,717,729,744,760,764,779,796,797,815,825,840],\"xaxis\":\"x\",\"y\":[73489.39076572127,75083.65180885485,75922.73656839883,76929.63827985163,78188.26541916761,79530.80103443799,79866.43493825558,81125.06207757158,82551.50616879636,82635.41464475075,84145.76721192994,84984.85197147392,86243.47911078991],\"yaxis\":\"y\"},{\"hovertemplate\":\"Category=Tree Trimming and Removal<br>Customers=%{x}<br>Revenue=%{y}<extra></extra>\",\"legendgroup\":\"Tree Trimming and Removal\",\"marker\":{\"color\":\"#B6E880\",\"symbol\":\"circle\"},\"mode\":\"markers\",\"name\":\"Tree Trimming and Removal\",\"orientation\":\"v\",\"showlegend\":true,\"type\":\"scatter\",\"x\":[1182,1395,1499,1488,1349,1235,1231,1484,1328,1418,1473,1457,1536],\"xaxis\":\"x\",\"y\":[47539,53878,55782,54626,47803,44590,44018,48691,41948,42609,44106,45038,46356],\"yaxis\":\"y\"},{\"hovertemplate\":\"<b>OLS trendline</b><br>Revenue = 14.3461 * Customers + 27513.7<br>R<sup>2</sup>=0.130290<br><br>Category=Tree Trimming and Removal<br>Customers=%{x}<br>Revenue=%{y} <b>(trend)</b><extra></extra>\",\"legendgroup\":\"Tree Trimming and Removal\",\"marker\":{\"color\":\"#B6E880\",\"symbol\":\"circle\"},\"mode\":\"lines\",\"name\":\"Tree Trimming and Removal\",\"showlegend\":false,\"type\":\"scatter\",\"x\":[1182,1231,1235,1328,1349,1395,1418,1457,1473,1484,1488,1499,1536],\"xaxis\":\"x\",\"y\":[44470.80259743591,45173.76115979595,45231.145532233495,46565.332191406625,46866.600146703786,47526.520429735654,47856.48057125159,48415.97820251774,48645.51569226795,48803.32271647123,48860.70708890878,49018.51411311205,49549.31955815942],\"yaxis\":\"y\"},{\"hovertemplate\":\"Category=Wedding and Event Catering<br>Customers=%{x}<br>Revenue=%{y}<extra></extra>\",\"legendgroup\":\"Wedding and Event Catering\",\"marker\":{\"color\":\"#FF97FF\",\"symbol\":\"circle\"},\"mode\":\"markers\",\"name\":\"Wedding and Event Catering\",\"orientation\":\"v\",\"showlegend\":true,\"type\":\"scatter\",\"x\":[1436,1446,1306,1362,1481,1457,1312,1287,1266,1351,1301,1404,1334],\"xaxis\":\"x\",\"y\":[38176,39003,37303,37061,37453,37334,35010,35652,36290,32764,36349,34346,32409],\"yaxis\":\"y\"},{\"hovertemplate\":\"<b>OLS trendline</b><br>Revenue = 11.6809 * Customers + 20145.8<br>R<sup>2</sup>=0.178438<br><br>Category=Wedding and Event Catering<br>Customers=%{x}<br>Revenue=%{y} <b>(trend)</b><extra></extra>\",\"legendgroup\":\"Wedding and Event Catering\",\"marker\":{\"color\":\"#FF97FF\",\"symbol\":\"circle\"},\"mode\":\"lines\",\"name\":\"Wedding and Event Catering\",\"showlegend\":false,\"type\":\"scatter\",\"x\":[1266,1287,1301,1306,1312,1334,1351,1362,1404,1436,1446,1457,1481],\"xaxis\":\"x\",\"y\":[34933.84968161965,35179.14854303431,35342.68111731075,35401.085608123765,35471.17099709938,35728.15075667665,35926.7260254409,36055.21590522953,36545.81362805886,36919.60236926215,37036.411350888186,37164.90123067681,37445.242786579285],\"yaxis\":\"y\"},{\"hovertemplate\":\"Category=Wedding and Event Photography<br>Customers=%{x}<br>Revenue=%{y}<extra></extra>\",\"legendgroup\":\"Wedding and Event Photography\",\"marker\":{\"color\":\"#FECB52\",\"symbol\":\"circle\"},\"mode\":\"markers\",\"name\":\"Wedding and Event Photography\",\"orientation\":\"v\",\"showlegend\":true,\"type\":\"scatter\",\"x\":[1894,1834,1801,1748,1766,1842,1783,1674,1613,1765,1753,1656,1669],\"xaxis\":\"x\",\"y\":[65327,61429,62885,60510,56043,59614,61496,57257,55818,54957,57573,54158,55575],\"yaxis\":\"y\"},{\"hovertemplate\":\"<b>OLS trendline</b><br>Revenue = 33.0893 * Customers + 636.244<br>R<sup>2</sup>=0.610197<br><br>Category=Wedding and Event Photography<br>Customers=%{x}<br>Revenue=%{y} <b>(trend)</b><extra></extra>\",\"legendgroup\":\"Wedding and Event Photography\",\"marker\":{\"color\":\"#FECB52\",\"symbol\":\"circle\"},\"mode\":\"lines\",\"name\":\"Wedding and Event Photography\",\"showlegend\":false,\"type\":\"scatter\",\"x\":[1613,1656,1669,1674,1748,1753,1765,1766,1783,1801,1834,1842,1894],\"xaxis\":\"x\",\"y\":[54009.3532784354,55432.195004709116,55862.35645683837,56027.80316919579,58476.41451208543,58641.861224442844,59038.93333410062,59072.0226765721,59634.54149858729,60230.149663073964,61322.09796463286,61586.812704404714,63307.45851292176],\"yaxis\":\"y\"}],                        {\"legend\":{\"title\":{\"text\":\"Category\"},\"tracegroupgap\":0},\"margin\":{\"t\":60},\"template\":{\"data\":{\"bar\":[{\"error_x\":{\"color\":\"#2a3f5f\"},\"error_y\":{\"color\":\"#2a3f5f\"},\"marker\":{\"line\":{\"color\":\"#E5ECF6\",\"width\":0.5},\"pattern\":{\"fillmode\":\"overlay\",\"size\":10,\"solidity\":0.2}},\"type\":\"bar\"}],\"barpolar\":[{\"marker\":{\"line\":{\"color\":\"#E5ECF6\",\"width\":0.5},\"pattern\":{\"fillmode\":\"overlay\",\"size\":10,\"solidity\":0.2}},\"type\":\"barpolar\"}],\"carpet\":[{\"aaxis\":{\"endlinecolor\":\"#2a3f5f\",\"gridcolor\":\"white\",\"linecolor\":\"white\",\"minorgridcolor\":\"white\",\"startlinecolor\":\"#2a3f5f\"},\"baxis\":{\"endlinecolor\":\"#2a3f5f\",\"gridcolor\":\"white\",\"linecolor\":\"white\",\"minorgridcolor\":\"white\",\"startlinecolor\":\"#2a3f5f\"},\"type\":\"carpet\"}],\"choropleth\":[{\"colorbar\":{\"outlinewidth\":0,\"ticks\":\"\"},\"type\":\"choropleth\"}],\"contour\":[{\"colorbar\":{\"outlinewidth\":0,\"ticks\":\"\"},\"colorscale\":[[0.0,\"#0d0887\"],[0.1111111111111111,\"#46039f\"],[0.2222222222222222,\"#7201a8\"],[0.3333333333333333,\"#9c179e\"],[0.4444444444444444,\"#bd3786\"],[0.5555555555555556,\"#d8576b\"],[0.6666666666666666,\"#ed7953\"],[0.7777777777777778,\"#fb9f3a\"],[0.8888888888888888,\"#fdca26\"],[1.0,\"#f0f921\"]],\"type\":\"contour\"}],\"contourcarpet\":[{\"colorbar\":{\"outlinewidth\":0,\"ticks\":\"\"},\"type\":\"contourcarpet\"}],\"heatmap\":[{\"colorbar\":{\"outlinewidth\":0,\"ticks\":\"\"},\"colorscale\":[[0.0,\"#0d0887\"],[0.1111111111111111,\"#46039f\"],[0.2222222222222222,\"#7201a8\"],[0.3333333333333333,\"#9c179e\"],[0.4444444444444444,\"#bd3786\"],[0.5555555555555556,\"#d8576b\"],[0.6666666666666666,\"#ed7953\"],[0.7777777777777778,\"#fb9f3a\"],[0.8888888888888888,\"#fdca26\"],[1.0,\"#f0f921\"]],\"type\":\"heatmap\"}],\"heatmapgl\":[{\"colorbar\":{\"outlinewidth\":0,\"ticks\":\"\"},\"colorscale\":[[0.0,\"#0d0887\"],[0.1111111111111111,\"#46039f\"],[0.2222222222222222,\"#7201a8\"],[0.3333333333333333,\"#9c179e\"],[0.4444444444444444,\"#bd3786\"],[0.5555555555555556,\"#d8576b\"],[0.6666666666666666,\"#ed7953\"],[0.7777777777777778,\"#fb9f3a\"],[0.8888888888888888,\"#fdca26\"],[1.0,\"#f0f921\"]],\"type\":\"heatmapgl\"}],\"histogram\":[{\"marker\":{\"pattern\":{\"fillmode\":\"overlay\",\"size\":10,\"solidity\":0.2}},\"type\":\"histogram\"}],\"histogram2d\":[{\"colorbar\":{\"outlinewidth\":0,\"ticks\":\"\"},\"colorscale\":[[0.0,\"#0d0887\"],[0.1111111111111111,\"#46039f\"],[0.2222222222222222,\"#7201a8\"],[0.3333333333333333,\"#9c179e\"],[0.4444444444444444,\"#bd3786\"],[0.5555555555555556,\"#d8576b\"],[0.6666666666666666,\"#ed7953\"],[0.7777777777777778,\"#fb9f3a\"],[0.8888888888888888,\"#fdca26\"],[1.0,\"#f0f921\"]],\"type\":\"histogram2d\"}],\"histogram2dcontour\":[{\"colorbar\":{\"outlinewidth\":0,\"ticks\":\"\"},\"colorscale\":[[0.0,\"#0d0887\"],[0.1111111111111111,\"#46039f\"],[0.2222222222222222,\"#7201a8\"],[0.3333333333333333,\"#9c179e\"],[0.4444444444444444,\"#bd3786\"],[0.5555555555555556,\"#d8576b\"],[0.6666666666666666,\"#ed7953\"],[0.7777777777777778,\"#fb9f3a\"],[0.8888888888888888,\"#fdca26\"],[1.0,\"#f0f921\"]],\"type\":\"histogram2dcontour\"}],\"mesh3d\":[{\"colorbar\":{\"outlinewidth\":0,\"ticks\":\"\"},\"type\":\"mesh3d\"}],\"parcoords\":[{\"line\":{\"colorbar\":{\"outlinewidth\":0,\"ticks\":\"\"}},\"type\":\"parcoords\"}],\"pie\":[{\"automargin\":true,\"type\":\"pie\"}],\"scatter\":[{\"marker\":{\"colorbar\":{\"outlinewidth\":0,\"ticks\":\"\"}},\"type\":\"scatter\"}],\"scatter3d\":[{\"line\":{\"colorbar\":{\"outlinewidth\":0,\"ticks\":\"\"}},\"marker\":{\"colorbar\":{\"outlinewidth\":0,\"ticks\":\"\"}},\"type\":\"scatter3d\"}],\"scattercarpet\":[{\"marker\":{\"colorbar\":{\"outlinewidth\":0,\"ticks\":\"\"}},\"type\":\"scattercarpet\"}],\"scattergeo\":[{\"marker\":{\"colorbar\":{\"outlinewidth\":0,\"ticks\":\"\"}},\"type\":\"scattergeo\"}],\"scattergl\":[{\"marker\":{\"colorbar\":{\"outlinewidth\":0,\"ticks\":\"\"}},\"type\":\"scattergl\"}],\"scattermapbox\":[{\"marker\":{\"colorbar\":{\"outlinewidth\":0,\"ticks\":\"\"}},\"type\":\"scattermapbox\"}],\"scatterpolar\":[{\"marker\":{\"colorbar\":{\"outlinewidth\":0,\"ticks\":\"\"}},\"type\":\"scatterpolar\"}],\"scatterpolargl\":[{\"marker\":{\"colorbar\":{\"outlinewidth\":0,\"ticks\":\"\"}},\"type\":\"scatterpolargl\"}],\"scatterternary\":[{\"marker\":{\"colorbar\":{\"outlinewidth\":0,\"ticks\":\"\"}},\"type\":\"scatterternary\"}],\"surface\":[{\"colorbar\":{\"outlinewidth\":0,\"ticks\":\"\"},\"colorscale\":[[0.0,\"#0d0887\"],[0.1111111111111111,\"#46039f\"],[0.2222222222222222,\"#7201a8\"],[0.3333333333333333,\"#9c179e\"],[0.4444444444444444,\"#bd3786\"],[0.5555555555555556,\"#d8576b\"],[0.6666666666666666,\"#ed7953\"],[0.7777777777777778,\"#fb9f3a\"],[0.8888888888888888,\"#fdca26\"],[1.0,\"#f0f921\"]],\"type\":\"surface\"}],\"table\":[{\"cells\":{\"fill\":{\"color\":\"#EBF0F8\"},\"line\":{\"color\":\"white\"}},\"header\":{\"fill\":{\"color\":\"#C8D4E3\"},\"line\":{\"color\":\"white\"}},\"type\":\"table\"}]},\"layout\":{\"annotationdefaults\":{\"arrowcolor\":\"#2a3f5f\",\"arrowhead\":0,\"arrowwidth\":1},\"autotypenumbers\":\"strict\",\"coloraxis\":{\"colorbar\":{\"outlinewidth\":0,\"ticks\":\"\"}},\"colorscale\":{\"diverging\":[[0,\"#8e0152\"],[0.1,\"#c51b7d\"],[0.2,\"#de77ae\"],[0.3,\"#f1b6da\"],[0.4,\"#fde0ef\"],[0.5,\"#f7f7f7\"],[0.6,\"#e6f5d0\"],[0.7,\"#b8e186\"],[0.8,\"#7fbc41\"],[0.9,\"#4d9221\"],[1,\"#276419\"]],\"sequential\":[[0.0,\"#0d0887\"],[0.1111111111111111,\"#46039f\"],[0.2222222222222222,\"#7201a8\"],[0.3333333333333333,\"#9c179e\"],[0.4444444444444444,\"#bd3786\"],[0.5555555555555556,\"#d8576b\"],[0.6666666666666666,\"#ed7953\"],[0.7777777777777778,\"#fb9f3a\"],[0.8888888888888888,\"#fdca26\"],[1.0,\"#f0f921\"]],\"sequentialminus\":[[0.0,\"#0d0887\"],[0.1111111111111111,\"#46039f\"],[0.2222222222222222,\"#7201a8\"],[0.3333333333333333,\"#9c179e\"],[0.4444444444444444,\"#bd3786\"],[0.5555555555555556,\"#d8576b\"],[0.6666666666666666,\"#ed7953\"],[0.7777777777777778,\"#fb9f3a\"],[0.8888888888888888,\"#fdca26\"],[1.0,\"#f0f921\"]]},\"colorway\":[\"#636efa\",\"#EF553B\",\"#00cc96\",\"#ab63fa\",\"#FFA15A\",\"#19d3f3\",\"#FF6692\",\"#B6E880\",\"#FF97FF\",\"#FECB52\"],\"font\":{\"color\":\"#2a3f5f\"},\"geo\":{\"bgcolor\":\"white\",\"lakecolor\":\"white\",\"landcolor\":\"#E5ECF6\",\"showlakes\":true,\"showland\":true,\"subunitcolor\":\"white\"},\"hoverlabel\":{\"align\":\"left\"},\"hovermode\":\"closest\",\"mapbox\":{\"style\":\"light\"},\"paper_bgcolor\":\"white\",\"plot_bgcolor\":\"#E5ECF6\",\"polar\":{\"angularaxis\":{\"gridcolor\":\"white\",\"linecolor\":\"white\",\"ticks\":\"\"},\"bgcolor\":\"#E5ECF6\",\"radialaxis\":{\"gridcolor\":\"white\",\"linecolor\":\"white\",\"ticks\":\"\"}},\"scene\":{\"xaxis\":{\"backgroundcolor\":\"#E5ECF6\",\"gridcolor\":\"white\",\"gridwidth\":2,\"linecolor\":\"white\",\"showbackground\":true,\"ticks\":\"\",\"zerolinecolor\":\"white\"},\"yaxis\":{\"backgroundcolor\":\"#E5ECF6\",\"gridcolor\":\"white\",\"gridwidth\":2,\"linecolor\":\"white\",\"showbackground\":true,\"ticks\":\"\",\"zerolinecolor\":\"white\"},\"zaxis\":{\"backgroundcolor\":\"#E5ECF6\",\"gridcolor\":\"white\",\"gridwidth\":2,\"linecolor\":\"white\",\"showbackground\":true,\"ticks\":\"\",\"zerolinecolor\":\"white\"}},\"shapedefaults\":{\"line\":{\"color\":\"#2a3f5f\"}},\"ternary\":{\"aaxis\":{\"gridcolor\":\"white\",\"linecolor\":\"white\",\"ticks\":\"\"},\"baxis\":{\"gridcolor\":\"white\",\"linecolor\":\"white\",\"ticks\":\"\"},\"bgcolor\":\"#E5ECF6\",\"caxis\":{\"gridcolor\":\"white\",\"linecolor\":\"white\",\"ticks\":\"\"}},\"title\":{\"x\":0.05},\"xaxis\":{\"automargin\":true,\"gridcolor\":\"white\",\"linecolor\":\"white\",\"ticks\":\"\",\"title\":{\"standoff\":15},\"zerolinecolor\":\"white\",\"zerolinewidth\":2},\"yaxis\":{\"automargin\":true,\"gridcolor\":\"white\",\"linecolor\":\"white\",\"ticks\":\"\",\"title\":{\"standoff\":15},\"zerolinecolor\":\"white\",\"zerolinewidth\":2}}},\"xaxis\":{\"anchor\":\"y\",\"domain\":[0.0,1.0],\"title\":{\"text\":\"Customers\"}},\"yaxis\":{\"anchor\":\"x\",\"domain\":[0.0,1.0],\"title\":{\"text\":\"Revenue\"}}},                        {\"responsive\": true}                    ).then(function(){\n",
       "                            \n",
       "var gd = document.getElementById('1c90da57-b93b-480a-869d-979db09f71ca');\n",
       "var x = new MutationObserver(function (mutations, observer) {{\n",
       "        var display = window.getComputedStyle(gd).display;\n",
       "        if (!display || display === 'none') {{\n",
       "            console.log([gd, 'removed!']);\n",
       "            Plotly.purge(gd);\n",
       "            observer.disconnect();\n",
       "        }}\n",
       "}});\n",
       "\n",
       "// Listen for the removal of the full notebook cells\n",
       "var notebookContainer = gd.closest('#notebook-container');\n",
       "if (notebookContainer) {{\n",
       "    x.observe(notebookContainer, {childList: true});\n",
       "}}\n",
       "\n",
       "// Listen for the clearing of the current output cell\n",
       "var outputEl = gd.closest('.output');\n",
       "if (outputEl) {{\n",
       "    x.observe(outputEl, {childList: true});\n",
       "}}\n",
       "\n",
       "                        })                };                });            </script>        </div>"
      ]
     },
     "metadata": {},
     "output_type": "display_data"
    }
   ],
   "source": [
    "fig2 = px.scatter(df, x=\"Customers\", y=\"Revenue\", color=\"Category\", trendline=\"ols\")\n",
    "fig2.show()"
   ]
  },
  {
   "cell_type": "code",
   "execution_count": 25,
   "id": "16dc363a",
   "metadata": {},
   "outputs": [
    {
     "data": {
      "application/vnd.plotly.v1+json": {
       "config": {
        "plotlyServerURL": "https://plot.ly"
       },
       "data": [
        {
         "hovertemplate": "Week=%{x}<br>Revenue=%{y}<extra></extra>",
         "legendgroup": "",
         "line": {
          "color": "#636efa",
          "dash": "solid"
         },
         "marker": {
          "symbol": "circle"
         },
         "mode": "lines",
         "name": "",
         "orientation": "v",
         "showlegend": false,
         "type": "scatter",
         "x": [
          1,
          2,
          3,
          4,
          5,
          6,
          7,
          8,
          9,
          10,
          11,
          12,
          13
         ],
         "xaxis": "x",
         "y": [
          1215874,
          1266086,
          1215726,
          1230249,
          1186016,
          1166409,
          1161816,
          1161495,
          1162896,
          1143081,
          1165547,
          1166167,
          1211927
         ],
         "yaxis": "y"
        }
       ],
       "layout": {
        "legend": {
         "tracegroupgap": 0
        },
        "margin": {
         "t": 60
        },
        "template": {
         "data": {
          "bar": [
           {
            "error_x": {
             "color": "#2a3f5f"
            },
            "error_y": {
             "color": "#2a3f5f"
            },
            "marker": {
             "line": {
              "color": "#E5ECF6",
              "width": 0.5
             },
             "pattern": {
              "fillmode": "overlay",
              "size": 10,
              "solidity": 0.2
             }
            },
            "type": "bar"
           }
          ],
          "barpolar": [
           {
            "marker": {
             "line": {
              "color": "#E5ECF6",
              "width": 0.5
             },
             "pattern": {
              "fillmode": "overlay",
              "size": 10,
              "solidity": 0.2
             }
            },
            "type": "barpolar"
           }
          ],
          "carpet": [
           {
            "aaxis": {
             "endlinecolor": "#2a3f5f",
             "gridcolor": "white",
             "linecolor": "white",
             "minorgridcolor": "white",
             "startlinecolor": "#2a3f5f"
            },
            "baxis": {
             "endlinecolor": "#2a3f5f",
             "gridcolor": "white",
             "linecolor": "white",
             "minorgridcolor": "white",
             "startlinecolor": "#2a3f5f"
            },
            "type": "carpet"
           }
          ],
          "choropleth": [
           {
            "colorbar": {
             "outlinewidth": 0,
             "ticks": ""
            },
            "type": "choropleth"
           }
          ],
          "contour": [
           {
            "colorbar": {
             "outlinewidth": 0,
             "ticks": ""
            },
            "colorscale": [
             [
              0,
              "#0d0887"
             ],
             [
              0.1111111111111111,
              "#46039f"
             ],
             [
              0.2222222222222222,
              "#7201a8"
             ],
             [
              0.3333333333333333,
              "#9c179e"
             ],
             [
              0.4444444444444444,
              "#bd3786"
             ],
             [
              0.5555555555555556,
              "#d8576b"
             ],
             [
              0.6666666666666666,
              "#ed7953"
             ],
             [
              0.7777777777777778,
              "#fb9f3a"
             ],
             [
              0.8888888888888888,
              "#fdca26"
             ],
             [
              1,
              "#f0f921"
             ]
            ],
            "type": "contour"
           }
          ],
          "contourcarpet": [
           {
            "colorbar": {
             "outlinewidth": 0,
             "ticks": ""
            },
            "type": "contourcarpet"
           }
          ],
          "heatmap": [
           {
            "colorbar": {
             "outlinewidth": 0,
             "ticks": ""
            },
            "colorscale": [
             [
              0,
              "#0d0887"
             ],
             [
              0.1111111111111111,
              "#46039f"
             ],
             [
              0.2222222222222222,
              "#7201a8"
             ],
             [
              0.3333333333333333,
              "#9c179e"
             ],
             [
              0.4444444444444444,
              "#bd3786"
             ],
             [
              0.5555555555555556,
              "#d8576b"
             ],
             [
              0.6666666666666666,
              "#ed7953"
             ],
             [
              0.7777777777777778,
              "#fb9f3a"
             ],
             [
              0.8888888888888888,
              "#fdca26"
             ],
             [
              1,
              "#f0f921"
             ]
            ],
            "type": "heatmap"
           }
          ],
          "heatmapgl": [
           {
            "colorbar": {
             "outlinewidth": 0,
             "ticks": ""
            },
            "colorscale": [
             [
              0,
              "#0d0887"
             ],
             [
              0.1111111111111111,
              "#46039f"
             ],
             [
              0.2222222222222222,
              "#7201a8"
             ],
             [
              0.3333333333333333,
              "#9c179e"
             ],
             [
              0.4444444444444444,
              "#bd3786"
             ],
             [
              0.5555555555555556,
              "#d8576b"
             ],
             [
              0.6666666666666666,
              "#ed7953"
             ],
             [
              0.7777777777777778,
              "#fb9f3a"
             ],
             [
              0.8888888888888888,
              "#fdca26"
             ],
             [
              1,
              "#f0f921"
             ]
            ],
            "type": "heatmapgl"
           }
          ],
          "histogram": [
           {
            "marker": {
             "pattern": {
              "fillmode": "overlay",
              "size": 10,
              "solidity": 0.2
             }
            },
            "type": "histogram"
           }
          ],
          "histogram2d": [
           {
            "colorbar": {
             "outlinewidth": 0,
             "ticks": ""
            },
            "colorscale": [
             [
              0,
              "#0d0887"
             ],
             [
              0.1111111111111111,
              "#46039f"
             ],
             [
              0.2222222222222222,
              "#7201a8"
             ],
             [
              0.3333333333333333,
              "#9c179e"
             ],
             [
              0.4444444444444444,
              "#bd3786"
             ],
             [
              0.5555555555555556,
              "#d8576b"
             ],
             [
              0.6666666666666666,
              "#ed7953"
             ],
             [
              0.7777777777777778,
              "#fb9f3a"
             ],
             [
              0.8888888888888888,
              "#fdca26"
             ],
             [
              1,
              "#f0f921"
             ]
            ],
            "type": "histogram2d"
           }
          ],
          "histogram2dcontour": [
           {
            "colorbar": {
             "outlinewidth": 0,
             "ticks": ""
            },
            "colorscale": [
             [
              0,
              "#0d0887"
             ],
             [
              0.1111111111111111,
              "#46039f"
             ],
             [
              0.2222222222222222,
              "#7201a8"
             ],
             [
              0.3333333333333333,
              "#9c179e"
             ],
             [
              0.4444444444444444,
              "#bd3786"
             ],
             [
              0.5555555555555556,
              "#d8576b"
             ],
             [
              0.6666666666666666,
              "#ed7953"
             ],
             [
              0.7777777777777778,
              "#fb9f3a"
             ],
             [
              0.8888888888888888,
              "#fdca26"
             ],
             [
              1,
              "#f0f921"
             ]
            ],
            "type": "histogram2dcontour"
           }
          ],
          "mesh3d": [
           {
            "colorbar": {
             "outlinewidth": 0,
             "ticks": ""
            },
            "type": "mesh3d"
           }
          ],
          "parcoords": [
           {
            "line": {
             "colorbar": {
              "outlinewidth": 0,
              "ticks": ""
             }
            },
            "type": "parcoords"
           }
          ],
          "pie": [
           {
            "automargin": true,
            "type": "pie"
           }
          ],
          "scatter": [
           {
            "marker": {
             "colorbar": {
              "outlinewidth": 0,
              "ticks": ""
             }
            },
            "type": "scatter"
           }
          ],
          "scatter3d": [
           {
            "line": {
             "colorbar": {
              "outlinewidth": 0,
              "ticks": ""
             }
            },
            "marker": {
             "colorbar": {
              "outlinewidth": 0,
              "ticks": ""
             }
            },
            "type": "scatter3d"
           }
          ],
          "scattercarpet": [
           {
            "marker": {
             "colorbar": {
              "outlinewidth": 0,
              "ticks": ""
             }
            },
            "type": "scattercarpet"
           }
          ],
          "scattergeo": [
           {
            "marker": {
             "colorbar": {
              "outlinewidth": 0,
              "ticks": ""
             }
            },
            "type": "scattergeo"
           }
          ],
          "scattergl": [
           {
            "marker": {
             "colorbar": {
              "outlinewidth": 0,
              "ticks": ""
             }
            },
            "type": "scattergl"
           }
          ],
          "scattermapbox": [
           {
            "marker": {
             "colorbar": {
              "outlinewidth": 0,
              "ticks": ""
             }
            },
            "type": "scattermapbox"
           }
          ],
          "scatterpolar": [
           {
            "marker": {
             "colorbar": {
              "outlinewidth": 0,
              "ticks": ""
             }
            },
            "type": "scatterpolar"
           }
          ],
          "scatterpolargl": [
           {
            "marker": {
             "colorbar": {
              "outlinewidth": 0,
              "ticks": ""
             }
            },
            "type": "scatterpolargl"
           }
          ],
          "scatterternary": [
           {
            "marker": {
             "colorbar": {
              "outlinewidth": 0,
              "ticks": ""
             }
            },
            "type": "scatterternary"
           }
          ],
          "surface": [
           {
            "colorbar": {
             "outlinewidth": 0,
             "ticks": ""
            },
            "colorscale": [
             [
              0,
              "#0d0887"
             ],
             [
              0.1111111111111111,
              "#46039f"
             ],
             [
              0.2222222222222222,
              "#7201a8"
             ],
             [
              0.3333333333333333,
              "#9c179e"
             ],
             [
              0.4444444444444444,
              "#bd3786"
             ],
             [
              0.5555555555555556,
              "#d8576b"
             ],
             [
              0.6666666666666666,
              "#ed7953"
             ],
             [
              0.7777777777777778,
              "#fb9f3a"
             ],
             [
              0.8888888888888888,
              "#fdca26"
             ],
             [
              1,
              "#f0f921"
             ]
            ],
            "type": "surface"
           }
          ],
          "table": [
           {
            "cells": {
             "fill": {
              "color": "#EBF0F8"
             },
             "line": {
              "color": "white"
             }
            },
            "header": {
             "fill": {
              "color": "#C8D4E3"
             },
             "line": {
              "color": "white"
             }
            },
            "type": "table"
           }
          ]
         },
         "layout": {
          "annotationdefaults": {
           "arrowcolor": "#2a3f5f",
           "arrowhead": 0,
           "arrowwidth": 1
          },
          "autotypenumbers": "strict",
          "coloraxis": {
           "colorbar": {
            "outlinewidth": 0,
            "ticks": ""
           }
          },
          "colorscale": {
           "diverging": [
            [
             0,
             "#8e0152"
            ],
            [
             0.1,
             "#c51b7d"
            ],
            [
             0.2,
             "#de77ae"
            ],
            [
             0.3,
             "#f1b6da"
            ],
            [
             0.4,
             "#fde0ef"
            ],
            [
             0.5,
             "#f7f7f7"
            ],
            [
             0.6,
             "#e6f5d0"
            ],
            [
             0.7,
             "#b8e186"
            ],
            [
             0.8,
             "#7fbc41"
            ],
            [
             0.9,
             "#4d9221"
            ],
            [
             1,
             "#276419"
            ]
           ],
           "sequential": [
            [
             0,
             "#0d0887"
            ],
            [
             0.1111111111111111,
             "#46039f"
            ],
            [
             0.2222222222222222,
             "#7201a8"
            ],
            [
             0.3333333333333333,
             "#9c179e"
            ],
            [
             0.4444444444444444,
             "#bd3786"
            ],
            [
             0.5555555555555556,
             "#d8576b"
            ],
            [
             0.6666666666666666,
             "#ed7953"
            ],
            [
             0.7777777777777778,
             "#fb9f3a"
            ],
            [
             0.8888888888888888,
             "#fdca26"
            ],
            [
             1,
             "#f0f921"
            ]
           ],
           "sequentialminus": [
            [
             0,
             "#0d0887"
            ],
            [
             0.1111111111111111,
             "#46039f"
            ],
            [
             0.2222222222222222,
             "#7201a8"
            ],
            [
             0.3333333333333333,
             "#9c179e"
            ],
            [
             0.4444444444444444,
             "#bd3786"
            ],
            [
             0.5555555555555556,
             "#d8576b"
            ],
            [
             0.6666666666666666,
             "#ed7953"
            ],
            [
             0.7777777777777778,
             "#fb9f3a"
            ],
            [
             0.8888888888888888,
             "#fdca26"
            ],
            [
             1,
             "#f0f921"
            ]
           ]
          },
          "colorway": [
           "#636efa",
           "#EF553B",
           "#00cc96",
           "#ab63fa",
           "#FFA15A",
           "#19d3f3",
           "#FF6692",
           "#B6E880",
           "#FF97FF",
           "#FECB52"
          ],
          "font": {
           "color": "#2a3f5f"
          },
          "geo": {
           "bgcolor": "white",
           "lakecolor": "white",
           "landcolor": "#E5ECF6",
           "showlakes": true,
           "showland": true,
           "subunitcolor": "white"
          },
          "hoverlabel": {
           "align": "left"
          },
          "hovermode": "closest",
          "mapbox": {
           "style": "light"
          },
          "paper_bgcolor": "white",
          "plot_bgcolor": "#E5ECF6",
          "polar": {
           "angularaxis": {
            "gridcolor": "white",
            "linecolor": "white",
            "ticks": ""
           },
           "bgcolor": "#E5ECF6",
           "radialaxis": {
            "gridcolor": "white",
            "linecolor": "white",
            "ticks": ""
           }
          },
          "scene": {
           "xaxis": {
            "backgroundcolor": "#E5ECF6",
            "gridcolor": "white",
            "gridwidth": 2,
            "linecolor": "white",
            "showbackground": true,
            "ticks": "",
            "zerolinecolor": "white"
           },
           "yaxis": {
            "backgroundcolor": "#E5ECF6",
            "gridcolor": "white",
            "gridwidth": 2,
            "linecolor": "white",
            "showbackground": true,
            "ticks": "",
            "zerolinecolor": "white"
           },
           "zaxis": {
            "backgroundcolor": "#E5ECF6",
            "gridcolor": "white",
            "gridwidth": 2,
            "linecolor": "white",
            "showbackground": true,
            "ticks": "",
            "zerolinecolor": "white"
           }
          },
          "shapedefaults": {
           "line": {
            "color": "#2a3f5f"
           }
          },
          "ternary": {
           "aaxis": {
            "gridcolor": "white",
            "linecolor": "white",
            "ticks": ""
           },
           "baxis": {
            "gridcolor": "white",
            "linecolor": "white",
            "ticks": ""
           },
           "bgcolor": "#E5ECF6",
           "caxis": {
            "gridcolor": "white",
            "linecolor": "white",
            "ticks": ""
           }
          },
          "title": {
           "x": 0.05
          },
          "xaxis": {
           "automargin": true,
           "gridcolor": "white",
           "linecolor": "white",
           "ticks": "",
           "title": {
            "standoff": 15
           },
           "zerolinecolor": "white",
           "zerolinewidth": 2
          },
          "yaxis": {
           "automargin": true,
           "gridcolor": "white",
           "linecolor": "white",
           "ticks": "",
           "title": {
            "standoff": 15
           },
           "zerolinecolor": "white",
           "zerolinewidth": 2
          }
         }
        },
        "xaxis": {
         "anchor": "y",
         "domain": [
          0,
          1
         ],
         "title": {
          "text": "Week"
         }
        },
        "yaxis": {
         "anchor": "x",
         "domain": [
          0,
          1
         ],
         "title": {
          "text": "Revenue"
         }
        }
       }
      },
      "text/html": [
       "<div>                            <div id=\"da0f8a87-e973-49f7-8ac9-90a0cc3d3df7\" class=\"plotly-graph-div\" style=\"height:525px; width:100%;\"></div>            <script type=\"text/javascript\">                require([\"plotly\"], function(Plotly) {                    window.PLOTLYENV=window.PLOTLYENV || {};                                    if (document.getElementById(\"da0f8a87-e973-49f7-8ac9-90a0cc3d3df7\")) {                    Plotly.newPlot(                        \"da0f8a87-e973-49f7-8ac9-90a0cc3d3df7\",                        [{\"hovertemplate\":\"Week=%{x}<br>Revenue=%{y}<extra></extra>\",\"legendgroup\":\"\",\"line\":{\"color\":\"#636efa\",\"dash\":\"solid\"},\"marker\":{\"symbol\":\"circle\"},\"mode\":\"lines\",\"name\":\"\",\"orientation\":\"v\",\"showlegend\":false,\"type\":\"scatter\",\"x\":[1,2,3,4,5,6,7,8,9,10,11,12,13],\"xaxis\":\"x\",\"y\":[1215874,1266086,1215726,1230249,1186016,1166409,1161816,1161495,1162896,1143081,1165547,1166167,1211927],\"yaxis\":\"y\"}],                        {\"legend\":{\"tracegroupgap\":0},\"margin\":{\"t\":60},\"template\":{\"data\":{\"bar\":[{\"error_x\":{\"color\":\"#2a3f5f\"},\"error_y\":{\"color\":\"#2a3f5f\"},\"marker\":{\"line\":{\"color\":\"#E5ECF6\",\"width\":0.5},\"pattern\":{\"fillmode\":\"overlay\",\"size\":10,\"solidity\":0.2}},\"type\":\"bar\"}],\"barpolar\":[{\"marker\":{\"line\":{\"color\":\"#E5ECF6\",\"width\":0.5},\"pattern\":{\"fillmode\":\"overlay\",\"size\":10,\"solidity\":0.2}},\"type\":\"barpolar\"}],\"carpet\":[{\"aaxis\":{\"endlinecolor\":\"#2a3f5f\",\"gridcolor\":\"white\",\"linecolor\":\"white\",\"minorgridcolor\":\"white\",\"startlinecolor\":\"#2a3f5f\"},\"baxis\":{\"endlinecolor\":\"#2a3f5f\",\"gridcolor\":\"white\",\"linecolor\":\"white\",\"minorgridcolor\":\"white\",\"startlinecolor\":\"#2a3f5f\"},\"type\":\"carpet\"}],\"choropleth\":[{\"colorbar\":{\"outlinewidth\":0,\"ticks\":\"\"},\"type\":\"choropleth\"}],\"contour\":[{\"colorbar\":{\"outlinewidth\":0,\"ticks\":\"\"},\"colorscale\":[[0.0,\"#0d0887\"],[0.1111111111111111,\"#46039f\"],[0.2222222222222222,\"#7201a8\"],[0.3333333333333333,\"#9c179e\"],[0.4444444444444444,\"#bd3786\"],[0.5555555555555556,\"#d8576b\"],[0.6666666666666666,\"#ed7953\"],[0.7777777777777778,\"#fb9f3a\"],[0.8888888888888888,\"#fdca26\"],[1.0,\"#f0f921\"]],\"type\":\"contour\"}],\"contourcarpet\":[{\"colorbar\":{\"outlinewidth\":0,\"ticks\":\"\"},\"type\":\"contourcarpet\"}],\"heatmap\":[{\"colorbar\":{\"outlinewidth\":0,\"ticks\":\"\"},\"colorscale\":[[0.0,\"#0d0887\"],[0.1111111111111111,\"#46039f\"],[0.2222222222222222,\"#7201a8\"],[0.3333333333333333,\"#9c179e\"],[0.4444444444444444,\"#bd3786\"],[0.5555555555555556,\"#d8576b\"],[0.6666666666666666,\"#ed7953\"],[0.7777777777777778,\"#fb9f3a\"],[0.8888888888888888,\"#fdca26\"],[1.0,\"#f0f921\"]],\"type\":\"heatmap\"}],\"heatmapgl\":[{\"colorbar\":{\"outlinewidth\":0,\"ticks\":\"\"},\"colorscale\":[[0.0,\"#0d0887\"],[0.1111111111111111,\"#46039f\"],[0.2222222222222222,\"#7201a8\"],[0.3333333333333333,\"#9c179e\"],[0.4444444444444444,\"#bd3786\"],[0.5555555555555556,\"#d8576b\"],[0.6666666666666666,\"#ed7953\"],[0.7777777777777778,\"#fb9f3a\"],[0.8888888888888888,\"#fdca26\"],[1.0,\"#f0f921\"]],\"type\":\"heatmapgl\"}],\"histogram\":[{\"marker\":{\"pattern\":{\"fillmode\":\"overlay\",\"size\":10,\"solidity\":0.2}},\"type\":\"histogram\"}],\"histogram2d\":[{\"colorbar\":{\"outlinewidth\":0,\"ticks\":\"\"},\"colorscale\":[[0.0,\"#0d0887\"],[0.1111111111111111,\"#46039f\"],[0.2222222222222222,\"#7201a8\"],[0.3333333333333333,\"#9c179e\"],[0.4444444444444444,\"#bd3786\"],[0.5555555555555556,\"#d8576b\"],[0.6666666666666666,\"#ed7953\"],[0.7777777777777778,\"#fb9f3a\"],[0.8888888888888888,\"#fdca26\"],[1.0,\"#f0f921\"]],\"type\":\"histogram2d\"}],\"histogram2dcontour\":[{\"colorbar\":{\"outlinewidth\":0,\"ticks\":\"\"},\"colorscale\":[[0.0,\"#0d0887\"],[0.1111111111111111,\"#46039f\"],[0.2222222222222222,\"#7201a8\"],[0.3333333333333333,\"#9c179e\"],[0.4444444444444444,\"#bd3786\"],[0.5555555555555556,\"#d8576b\"],[0.6666666666666666,\"#ed7953\"],[0.7777777777777778,\"#fb9f3a\"],[0.8888888888888888,\"#fdca26\"],[1.0,\"#f0f921\"]],\"type\":\"histogram2dcontour\"}],\"mesh3d\":[{\"colorbar\":{\"outlinewidth\":0,\"ticks\":\"\"},\"type\":\"mesh3d\"}],\"parcoords\":[{\"line\":{\"colorbar\":{\"outlinewidth\":0,\"ticks\":\"\"}},\"type\":\"parcoords\"}],\"pie\":[{\"automargin\":true,\"type\":\"pie\"}],\"scatter\":[{\"marker\":{\"colorbar\":{\"outlinewidth\":0,\"ticks\":\"\"}},\"type\":\"scatter\"}],\"scatter3d\":[{\"line\":{\"colorbar\":{\"outlinewidth\":0,\"ticks\":\"\"}},\"marker\":{\"colorbar\":{\"outlinewidth\":0,\"ticks\":\"\"}},\"type\":\"scatter3d\"}],\"scattercarpet\":[{\"marker\":{\"colorbar\":{\"outlinewidth\":0,\"ticks\":\"\"}},\"type\":\"scattercarpet\"}],\"scattergeo\":[{\"marker\":{\"colorbar\":{\"outlinewidth\":0,\"ticks\":\"\"}},\"type\":\"scattergeo\"}],\"scattergl\":[{\"marker\":{\"colorbar\":{\"outlinewidth\":0,\"ticks\":\"\"}},\"type\":\"scattergl\"}],\"scattermapbox\":[{\"marker\":{\"colorbar\":{\"outlinewidth\":0,\"ticks\":\"\"}},\"type\":\"scattermapbox\"}],\"scatterpolar\":[{\"marker\":{\"colorbar\":{\"outlinewidth\":0,\"ticks\":\"\"}},\"type\":\"scatterpolar\"}],\"scatterpolargl\":[{\"marker\":{\"colorbar\":{\"outlinewidth\":0,\"ticks\":\"\"}},\"type\":\"scatterpolargl\"}],\"scatterternary\":[{\"marker\":{\"colorbar\":{\"outlinewidth\":0,\"ticks\":\"\"}},\"type\":\"scatterternary\"}],\"surface\":[{\"colorbar\":{\"outlinewidth\":0,\"ticks\":\"\"},\"colorscale\":[[0.0,\"#0d0887\"],[0.1111111111111111,\"#46039f\"],[0.2222222222222222,\"#7201a8\"],[0.3333333333333333,\"#9c179e\"],[0.4444444444444444,\"#bd3786\"],[0.5555555555555556,\"#d8576b\"],[0.6666666666666666,\"#ed7953\"],[0.7777777777777778,\"#fb9f3a\"],[0.8888888888888888,\"#fdca26\"],[1.0,\"#f0f921\"]],\"type\":\"surface\"}],\"table\":[{\"cells\":{\"fill\":{\"color\":\"#EBF0F8\"},\"line\":{\"color\":\"white\"}},\"header\":{\"fill\":{\"color\":\"#C8D4E3\"},\"line\":{\"color\":\"white\"}},\"type\":\"table\"}]},\"layout\":{\"annotationdefaults\":{\"arrowcolor\":\"#2a3f5f\",\"arrowhead\":0,\"arrowwidth\":1},\"autotypenumbers\":\"strict\",\"coloraxis\":{\"colorbar\":{\"outlinewidth\":0,\"ticks\":\"\"}},\"colorscale\":{\"diverging\":[[0,\"#8e0152\"],[0.1,\"#c51b7d\"],[0.2,\"#de77ae\"],[0.3,\"#f1b6da\"],[0.4,\"#fde0ef\"],[0.5,\"#f7f7f7\"],[0.6,\"#e6f5d0\"],[0.7,\"#b8e186\"],[0.8,\"#7fbc41\"],[0.9,\"#4d9221\"],[1,\"#276419\"]],\"sequential\":[[0.0,\"#0d0887\"],[0.1111111111111111,\"#46039f\"],[0.2222222222222222,\"#7201a8\"],[0.3333333333333333,\"#9c179e\"],[0.4444444444444444,\"#bd3786\"],[0.5555555555555556,\"#d8576b\"],[0.6666666666666666,\"#ed7953\"],[0.7777777777777778,\"#fb9f3a\"],[0.8888888888888888,\"#fdca26\"],[1.0,\"#f0f921\"]],\"sequentialminus\":[[0.0,\"#0d0887\"],[0.1111111111111111,\"#46039f\"],[0.2222222222222222,\"#7201a8\"],[0.3333333333333333,\"#9c179e\"],[0.4444444444444444,\"#bd3786\"],[0.5555555555555556,\"#d8576b\"],[0.6666666666666666,\"#ed7953\"],[0.7777777777777778,\"#fb9f3a\"],[0.8888888888888888,\"#fdca26\"],[1.0,\"#f0f921\"]]},\"colorway\":[\"#636efa\",\"#EF553B\",\"#00cc96\",\"#ab63fa\",\"#FFA15A\",\"#19d3f3\",\"#FF6692\",\"#B6E880\",\"#FF97FF\",\"#FECB52\"],\"font\":{\"color\":\"#2a3f5f\"},\"geo\":{\"bgcolor\":\"white\",\"lakecolor\":\"white\",\"landcolor\":\"#E5ECF6\",\"showlakes\":true,\"showland\":true,\"subunitcolor\":\"white\"},\"hoverlabel\":{\"align\":\"left\"},\"hovermode\":\"closest\",\"mapbox\":{\"style\":\"light\"},\"paper_bgcolor\":\"white\",\"plot_bgcolor\":\"#E5ECF6\",\"polar\":{\"angularaxis\":{\"gridcolor\":\"white\",\"linecolor\":\"white\",\"ticks\":\"\"},\"bgcolor\":\"#E5ECF6\",\"radialaxis\":{\"gridcolor\":\"white\",\"linecolor\":\"white\",\"ticks\":\"\"}},\"scene\":{\"xaxis\":{\"backgroundcolor\":\"#E5ECF6\",\"gridcolor\":\"white\",\"gridwidth\":2,\"linecolor\":\"white\",\"showbackground\":true,\"ticks\":\"\",\"zerolinecolor\":\"white\"},\"yaxis\":{\"backgroundcolor\":\"#E5ECF6\",\"gridcolor\":\"white\",\"gridwidth\":2,\"linecolor\":\"white\",\"showbackground\":true,\"ticks\":\"\",\"zerolinecolor\":\"white\"},\"zaxis\":{\"backgroundcolor\":\"#E5ECF6\",\"gridcolor\":\"white\",\"gridwidth\":2,\"linecolor\":\"white\",\"showbackground\":true,\"ticks\":\"\",\"zerolinecolor\":\"white\"}},\"shapedefaults\":{\"line\":{\"color\":\"#2a3f5f\"}},\"ternary\":{\"aaxis\":{\"gridcolor\":\"white\",\"linecolor\":\"white\",\"ticks\":\"\"},\"baxis\":{\"gridcolor\":\"white\",\"linecolor\":\"white\",\"ticks\":\"\"},\"bgcolor\":\"#E5ECF6\",\"caxis\":{\"gridcolor\":\"white\",\"linecolor\":\"white\",\"ticks\":\"\"}},\"title\":{\"x\":0.05},\"xaxis\":{\"automargin\":true,\"gridcolor\":\"white\",\"linecolor\":\"white\",\"ticks\":\"\",\"title\":{\"standoff\":15},\"zerolinecolor\":\"white\",\"zerolinewidth\":2},\"yaxis\":{\"automargin\":true,\"gridcolor\":\"white\",\"linecolor\":\"white\",\"ticks\":\"\",\"title\":{\"standoff\":15},\"zerolinecolor\":\"white\",\"zerolinewidth\":2}}},\"xaxis\":{\"anchor\":\"y\",\"domain\":[0.0,1.0],\"title\":{\"text\":\"Week\"}},\"yaxis\":{\"anchor\":\"x\",\"domain\":[0.0,1.0],\"title\":{\"text\":\"Revenue\"}}},                        {\"responsive\": true}                    ).then(function(){\n",
       "                            \n",
       "var gd = document.getElementById('da0f8a87-e973-49f7-8ac9-90a0cc3d3df7');\n",
       "var x = new MutationObserver(function (mutations, observer) {{\n",
       "        var display = window.getComputedStyle(gd).display;\n",
       "        if (!display || display === 'none') {{\n",
       "            console.log([gd, 'removed!']);\n",
       "            Plotly.purge(gd);\n",
       "            observer.disconnect();\n",
       "        }}\n",
       "}});\n",
       "\n",
       "// Listen for the removal of the full notebook cells\n",
       "var notebookContainer = gd.closest('#notebook-container');\n",
       "if (notebookContainer) {{\n",
       "    x.observe(notebookContainer, {childList: true});\n",
       "}}\n",
       "\n",
       "// Listen for the clearing of the current output cell\n",
       "var outputEl = gd.closest('.output');\n",
       "if (outputEl) {{\n",
       "    x.observe(outputEl, {childList: true});\n",
       "}}\n",
       "\n",
       "                        })                };                });            </script>        </div>"
      ]
     },
     "metadata": {},
     "output_type": "display_data"
    }
   ],
   "source": [
    "df_1 = df.groupby(\"Week\").sum(\"Revenue\").reset_index()\n",
    "fig3 = px.line(df_1.sort_values(by = \"Week\"), x=\"Week\", y=\"Revenue\")\n",
    "fig3.show()"
   ]
  },
  {
   "cell_type": "code",
   "execution_count": 33,
   "id": "a9c6615f",
   "metadata": {},
   "outputs": [
    {
     "data": {
      "application/vnd.plotly.v1+json": {
       "config": {
        "plotlyServerURL": "https://plot.ly"
       },
       "data": [
        {
         "hovertemplate": "Week=%{x}<br>Revenue=%{y}<extra></extra>",
         "legendgroup": "",
         "line": {
          "color": "#636efa",
          "dash": "solid"
         },
         "marker": {
          "symbol": "circle"
         },
         "mode": "lines",
         "name": "",
         "orientation": "v",
         "showlegend": false,
         "type": "scatter",
         "x": [
          1,
          2,
          3,
          4,
          5,
          6,
          7,
          8,
          9,
          10,
          11,
          12,
          13
         ],
         "xaxis": "x",
         "y": [
          61227,
          70622,
          67616,
          68139,
          66416,
          64208,
          63505,
          60382,
          58229,
          58661,
          59619,
          61827,
          62459
         ],
         "yaxis": "y"
        }
       ],
       "layout": {
        "legend": {
         "tracegroupgap": 0
        },
        "margin": {
         "t": 60
        },
        "template": {
         "data": {
          "bar": [
           {
            "error_x": {
             "color": "#2a3f5f"
            },
            "error_y": {
             "color": "#2a3f5f"
            },
            "marker": {
             "line": {
              "color": "#E5ECF6",
              "width": 0.5
             },
             "pattern": {
              "fillmode": "overlay",
              "size": 10,
              "solidity": 0.2
             }
            },
            "type": "bar"
           }
          ],
          "barpolar": [
           {
            "marker": {
             "line": {
              "color": "#E5ECF6",
              "width": 0.5
             },
             "pattern": {
              "fillmode": "overlay",
              "size": 10,
              "solidity": 0.2
             }
            },
            "type": "barpolar"
           }
          ],
          "carpet": [
           {
            "aaxis": {
             "endlinecolor": "#2a3f5f",
             "gridcolor": "white",
             "linecolor": "white",
             "minorgridcolor": "white",
             "startlinecolor": "#2a3f5f"
            },
            "baxis": {
             "endlinecolor": "#2a3f5f",
             "gridcolor": "white",
             "linecolor": "white",
             "minorgridcolor": "white",
             "startlinecolor": "#2a3f5f"
            },
            "type": "carpet"
           }
          ],
          "choropleth": [
           {
            "colorbar": {
             "outlinewidth": 0,
             "ticks": ""
            },
            "type": "choropleth"
           }
          ],
          "contour": [
           {
            "colorbar": {
             "outlinewidth": 0,
             "ticks": ""
            },
            "colorscale": [
             [
              0,
              "#0d0887"
             ],
             [
              0.1111111111111111,
              "#46039f"
             ],
             [
              0.2222222222222222,
              "#7201a8"
             ],
             [
              0.3333333333333333,
              "#9c179e"
             ],
             [
              0.4444444444444444,
              "#bd3786"
             ],
             [
              0.5555555555555556,
              "#d8576b"
             ],
             [
              0.6666666666666666,
              "#ed7953"
             ],
             [
              0.7777777777777778,
              "#fb9f3a"
             ],
             [
              0.8888888888888888,
              "#fdca26"
             ],
             [
              1,
              "#f0f921"
             ]
            ],
            "type": "contour"
           }
          ],
          "contourcarpet": [
           {
            "colorbar": {
             "outlinewidth": 0,
             "ticks": ""
            },
            "type": "contourcarpet"
           }
          ],
          "heatmap": [
           {
            "colorbar": {
             "outlinewidth": 0,
             "ticks": ""
            },
            "colorscale": [
             [
              0,
              "#0d0887"
             ],
             [
              0.1111111111111111,
              "#46039f"
             ],
             [
              0.2222222222222222,
              "#7201a8"
             ],
             [
              0.3333333333333333,
              "#9c179e"
             ],
             [
              0.4444444444444444,
              "#bd3786"
             ],
             [
              0.5555555555555556,
              "#d8576b"
             ],
             [
              0.6666666666666666,
              "#ed7953"
             ],
             [
              0.7777777777777778,
              "#fb9f3a"
             ],
             [
              0.8888888888888888,
              "#fdca26"
             ],
             [
              1,
              "#f0f921"
             ]
            ],
            "type": "heatmap"
           }
          ],
          "heatmapgl": [
           {
            "colorbar": {
             "outlinewidth": 0,
             "ticks": ""
            },
            "colorscale": [
             [
              0,
              "#0d0887"
             ],
             [
              0.1111111111111111,
              "#46039f"
             ],
             [
              0.2222222222222222,
              "#7201a8"
             ],
             [
              0.3333333333333333,
              "#9c179e"
             ],
             [
              0.4444444444444444,
              "#bd3786"
             ],
             [
              0.5555555555555556,
              "#d8576b"
             ],
             [
              0.6666666666666666,
              "#ed7953"
             ],
             [
              0.7777777777777778,
              "#fb9f3a"
             ],
             [
              0.8888888888888888,
              "#fdca26"
             ],
             [
              1,
              "#f0f921"
             ]
            ],
            "type": "heatmapgl"
           }
          ],
          "histogram": [
           {
            "marker": {
             "pattern": {
              "fillmode": "overlay",
              "size": 10,
              "solidity": 0.2
             }
            },
            "type": "histogram"
           }
          ],
          "histogram2d": [
           {
            "colorbar": {
             "outlinewidth": 0,
             "ticks": ""
            },
            "colorscale": [
             [
              0,
              "#0d0887"
             ],
             [
              0.1111111111111111,
              "#46039f"
             ],
             [
              0.2222222222222222,
              "#7201a8"
             ],
             [
              0.3333333333333333,
              "#9c179e"
             ],
             [
              0.4444444444444444,
              "#bd3786"
             ],
             [
              0.5555555555555556,
              "#d8576b"
             ],
             [
              0.6666666666666666,
              "#ed7953"
             ],
             [
              0.7777777777777778,
              "#fb9f3a"
             ],
             [
              0.8888888888888888,
              "#fdca26"
             ],
             [
              1,
              "#f0f921"
             ]
            ],
            "type": "histogram2d"
           }
          ],
          "histogram2dcontour": [
           {
            "colorbar": {
             "outlinewidth": 0,
             "ticks": ""
            },
            "colorscale": [
             [
              0,
              "#0d0887"
             ],
             [
              0.1111111111111111,
              "#46039f"
             ],
             [
              0.2222222222222222,
              "#7201a8"
             ],
             [
              0.3333333333333333,
              "#9c179e"
             ],
             [
              0.4444444444444444,
              "#bd3786"
             ],
             [
              0.5555555555555556,
              "#d8576b"
             ],
             [
              0.6666666666666666,
              "#ed7953"
             ],
             [
              0.7777777777777778,
              "#fb9f3a"
             ],
             [
              0.8888888888888888,
              "#fdca26"
             ],
             [
              1,
              "#f0f921"
             ]
            ],
            "type": "histogram2dcontour"
           }
          ],
          "mesh3d": [
           {
            "colorbar": {
             "outlinewidth": 0,
             "ticks": ""
            },
            "type": "mesh3d"
           }
          ],
          "parcoords": [
           {
            "line": {
             "colorbar": {
              "outlinewidth": 0,
              "ticks": ""
             }
            },
            "type": "parcoords"
           }
          ],
          "pie": [
           {
            "automargin": true,
            "type": "pie"
           }
          ],
          "scatter": [
           {
            "marker": {
             "colorbar": {
              "outlinewidth": 0,
              "ticks": ""
             }
            },
            "type": "scatter"
           }
          ],
          "scatter3d": [
           {
            "line": {
             "colorbar": {
              "outlinewidth": 0,
              "ticks": ""
             }
            },
            "marker": {
             "colorbar": {
              "outlinewidth": 0,
              "ticks": ""
             }
            },
            "type": "scatter3d"
           }
          ],
          "scattercarpet": [
           {
            "marker": {
             "colorbar": {
              "outlinewidth": 0,
              "ticks": ""
             }
            },
            "type": "scattercarpet"
           }
          ],
          "scattergeo": [
           {
            "marker": {
             "colorbar": {
              "outlinewidth": 0,
              "ticks": ""
             }
            },
            "type": "scattergeo"
           }
          ],
          "scattergl": [
           {
            "marker": {
             "colorbar": {
              "outlinewidth": 0,
              "ticks": ""
             }
            },
            "type": "scattergl"
           }
          ],
          "scattermapbox": [
           {
            "marker": {
             "colorbar": {
              "outlinewidth": 0,
              "ticks": ""
             }
            },
            "type": "scattermapbox"
           }
          ],
          "scatterpolar": [
           {
            "marker": {
             "colorbar": {
              "outlinewidth": 0,
              "ticks": ""
             }
            },
            "type": "scatterpolar"
           }
          ],
          "scatterpolargl": [
           {
            "marker": {
             "colorbar": {
              "outlinewidth": 0,
              "ticks": ""
             }
            },
            "type": "scatterpolargl"
           }
          ],
          "scatterternary": [
           {
            "marker": {
             "colorbar": {
              "outlinewidth": 0,
              "ticks": ""
             }
            },
            "type": "scatterternary"
           }
          ],
          "surface": [
           {
            "colorbar": {
             "outlinewidth": 0,
             "ticks": ""
            },
            "colorscale": [
             [
              0,
              "#0d0887"
             ],
             [
              0.1111111111111111,
              "#46039f"
             ],
             [
              0.2222222222222222,
              "#7201a8"
             ],
             [
              0.3333333333333333,
              "#9c179e"
             ],
             [
              0.4444444444444444,
              "#bd3786"
             ],
             [
              0.5555555555555556,
              "#d8576b"
             ],
             [
              0.6666666666666666,
              "#ed7953"
             ],
             [
              0.7777777777777778,
              "#fb9f3a"
             ],
             [
              0.8888888888888888,
              "#fdca26"
             ],
             [
              1,
              "#f0f921"
             ]
            ],
            "type": "surface"
           }
          ],
          "table": [
           {
            "cells": {
             "fill": {
              "color": "#EBF0F8"
             },
             "line": {
              "color": "white"
             }
            },
            "header": {
             "fill": {
              "color": "#C8D4E3"
             },
             "line": {
              "color": "white"
             }
            },
            "type": "table"
           }
          ]
         },
         "layout": {
          "annotationdefaults": {
           "arrowcolor": "#2a3f5f",
           "arrowhead": 0,
           "arrowwidth": 1
          },
          "autotypenumbers": "strict",
          "coloraxis": {
           "colorbar": {
            "outlinewidth": 0,
            "ticks": ""
           }
          },
          "colorscale": {
           "diverging": [
            [
             0,
             "#8e0152"
            ],
            [
             0.1,
             "#c51b7d"
            ],
            [
             0.2,
             "#de77ae"
            ],
            [
             0.3,
             "#f1b6da"
            ],
            [
             0.4,
             "#fde0ef"
            ],
            [
             0.5,
             "#f7f7f7"
            ],
            [
             0.6,
             "#e6f5d0"
            ],
            [
             0.7,
             "#b8e186"
            ],
            [
             0.8,
             "#7fbc41"
            ],
            [
             0.9,
             "#4d9221"
            ],
            [
             1,
             "#276419"
            ]
           ],
           "sequential": [
            [
             0,
             "#0d0887"
            ],
            [
             0.1111111111111111,
             "#46039f"
            ],
            [
             0.2222222222222222,
             "#7201a8"
            ],
            [
             0.3333333333333333,
             "#9c179e"
            ],
            [
             0.4444444444444444,
             "#bd3786"
            ],
            [
             0.5555555555555556,
             "#d8576b"
            ],
            [
             0.6666666666666666,
             "#ed7953"
            ],
            [
             0.7777777777777778,
             "#fb9f3a"
            ],
            [
             0.8888888888888888,
             "#fdca26"
            ],
            [
             1,
             "#f0f921"
            ]
           ],
           "sequentialminus": [
            [
             0,
             "#0d0887"
            ],
            [
             0.1111111111111111,
             "#46039f"
            ],
            [
             0.2222222222222222,
             "#7201a8"
            ],
            [
             0.3333333333333333,
             "#9c179e"
            ],
            [
             0.4444444444444444,
             "#bd3786"
            ],
            [
             0.5555555555555556,
             "#d8576b"
            ],
            [
             0.6666666666666666,
             "#ed7953"
            ],
            [
             0.7777777777777778,
             "#fb9f3a"
            ],
            [
             0.8888888888888888,
             "#fdca26"
            ],
            [
             1,
             "#f0f921"
            ]
           ]
          },
          "colorway": [
           "#636efa",
           "#EF553B",
           "#00cc96",
           "#ab63fa",
           "#FFA15A",
           "#19d3f3",
           "#FF6692",
           "#B6E880",
           "#FF97FF",
           "#FECB52"
          ],
          "font": {
           "color": "#2a3f5f"
          },
          "geo": {
           "bgcolor": "white",
           "lakecolor": "white",
           "landcolor": "#E5ECF6",
           "showlakes": true,
           "showland": true,
           "subunitcolor": "white"
          },
          "hoverlabel": {
           "align": "left"
          },
          "hovermode": "closest",
          "mapbox": {
           "style": "light"
          },
          "paper_bgcolor": "white",
          "plot_bgcolor": "#E5ECF6",
          "polar": {
           "angularaxis": {
            "gridcolor": "white",
            "linecolor": "white",
            "ticks": ""
           },
           "bgcolor": "#E5ECF6",
           "radialaxis": {
            "gridcolor": "white",
            "linecolor": "white",
            "ticks": ""
           }
          },
          "scene": {
           "xaxis": {
            "backgroundcolor": "#E5ECF6",
            "gridcolor": "white",
            "gridwidth": 2,
            "linecolor": "white",
            "showbackground": true,
            "ticks": "",
            "zerolinecolor": "white"
           },
           "yaxis": {
            "backgroundcolor": "#E5ECF6",
            "gridcolor": "white",
            "gridwidth": 2,
            "linecolor": "white",
            "showbackground": true,
            "ticks": "",
            "zerolinecolor": "white"
           },
           "zaxis": {
            "backgroundcolor": "#E5ECF6",
            "gridcolor": "white",
            "gridwidth": 2,
            "linecolor": "white",
            "showbackground": true,
            "ticks": "",
            "zerolinecolor": "white"
           }
          },
          "shapedefaults": {
           "line": {
            "color": "#2a3f5f"
           }
          },
          "ternary": {
           "aaxis": {
            "gridcolor": "white",
            "linecolor": "white",
            "ticks": ""
           },
           "baxis": {
            "gridcolor": "white",
            "linecolor": "white",
            "ticks": ""
           },
           "bgcolor": "#E5ECF6",
           "caxis": {
            "gridcolor": "white",
            "linecolor": "white",
            "ticks": ""
           }
          },
          "title": {
           "x": 0.05
          },
          "xaxis": {
           "automargin": true,
           "gridcolor": "white",
           "linecolor": "white",
           "ticks": "",
           "title": {
            "standoff": 15
           },
           "zerolinecolor": "white",
           "zerolinewidth": 2
          },
          "yaxis": {
           "automargin": true,
           "gridcolor": "white",
           "linecolor": "white",
           "ticks": "",
           "title": {
            "standoff": 15
           },
           "zerolinecolor": "white",
           "zerolinewidth": 2
          }
         }
        },
        "xaxis": {
         "anchor": "y",
         "domain": [
          0,
          1
         ],
         "title": {
          "text": "Week"
         }
        },
        "yaxis": {
         "anchor": "x",
         "domain": [
          0,
          1
         ],
         "title": {
          "text": "Revenue"
         }
        }
       }
      },
      "text/html": [
       "<div>                            <div id=\"e565a2f4-8c1e-449c-9d4f-826963d93ccd\" class=\"plotly-graph-div\" style=\"height:525px; width:100%;\"></div>            <script type=\"text/javascript\">                require([\"plotly\"], function(Plotly) {                    window.PLOTLYENV=window.PLOTLYENV || {};                                    if (document.getElementById(\"e565a2f4-8c1e-449c-9d4f-826963d93ccd\")) {                    Plotly.newPlot(                        \"e565a2f4-8c1e-449c-9d4f-826963d93ccd\",                        [{\"hovertemplate\":\"Week=%{x}<br>Revenue=%{y}<extra></extra>\",\"legendgroup\":\"\",\"line\":{\"color\":\"#636efa\",\"dash\":\"solid\"},\"marker\":{\"symbol\":\"circle\"},\"mode\":\"lines\",\"name\":\"\",\"orientation\":\"v\",\"showlegend\":false,\"type\":\"scatter\",\"x\":[1,2,3,4,5,6,7,8,9,10,11,12,13],\"xaxis\":\"x\",\"y\":[61227,70622,67616,68139,66416,64208,63505,60382,58229,58661,59619,61827,62459],\"yaxis\":\"y\"}],                        {\"legend\":{\"tracegroupgap\":0},\"margin\":{\"t\":60},\"template\":{\"data\":{\"bar\":[{\"error_x\":{\"color\":\"#2a3f5f\"},\"error_y\":{\"color\":\"#2a3f5f\"},\"marker\":{\"line\":{\"color\":\"#E5ECF6\",\"width\":0.5},\"pattern\":{\"fillmode\":\"overlay\",\"size\":10,\"solidity\":0.2}},\"type\":\"bar\"}],\"barpolar\":[{\"marker\":{\"line\":{\"color\":\"#E5ECF6\",\"width\":0.5},\"pattern\":{\"fillmode\":\"overlay\",\"size\":10,\"solidity\":0.2}},\"type\":\"barpolar\"}],\"carpet\":[{\"aaxis\":{\"endlinecolor\":\"#2a3f5f\",\"gridcolor\":\"white\",\"linecolor\":\"white\",\"minorgridcolor\":\"white\",\"startlinecolor\":\"#2a3f5f\"},\"baxis\":{\"endlinecolor\":\"#2a3f5f\",\"gridcolor\":\"white\",\"linecolor\":\"white\",\"minorgridcolor\":\"white\",\"startlinecolor\":\"#2a3f5f\"},\"type\":\"carpet\"}],\"choropleth\":[{\"colorbar\":{\"outlinewidth\":0,\"ticks\":\"\"},\"type\":\"choropleth\"}],\"contour\":[{\"colorbar\":{\"outlinewidth\":0,\"ticks\":\"\"},\"colorscale\":[[0.0,\"#0d0887\"],[0.1111111111111111,\"#46039f\"],[0.2222222222222222,\"#7201a8\"],[0.3333333333333333,\"#9c179e\"],[0.4444444444444444,\"#bd3786\"],[0.5555555555555556,\"#d8576b\"],[0.6666666666666666,\"#ed7953\"],[0.7777777777777778,\"#fb9f3a\"],[0.8888888888888888,\"#fdca26\"],[1.0,\"#f0f921\"]],\"type\":\"contour\"}],\"contourcarpet\":[{\"colorbar\":{\"outlinewidth\":0,\"ticks\":\"\"},\"type\":\"contourcarpet\"}],\"heatmap\":[{\"colorbar\":{\"outlinewidth\":0,\"ticks\":\"\"},\"colorscale\":[[0.0,\"#0d0887\"],[0.1111111111111111,\"#46039f\"],[0.2222222222222222,\"#7201a8\"],[0.3333333333333333,\"#9c179e\"],[0.4444444444444444,\"#bd3786\"],[0.5555555555555556,\"#d8576b\"],[0.6666666666666666,\"#ed7953\"],[0.7777777777777778,\"#fb9f3a\"],[0.8888888888888888,\"#fdca26\"],[1.0,\"#f0f921\"]],\"type\":\"heatmap\"}],\"heatmapgl\":[{\"colorbar\":{\"outlinewidth\":0,\"ticks\":\"\"},\"colorscale\":[[0.0,\"#0d0887\"],[0.1111111111111111,\"#46039f\"],[0.2222222222222222,\"#7201a8\"],[0.3333333333333333,\"#9c179e\"],[0.4444444444444444,\"#bd3786\"],[0.5555555555555556,\"#d8576b\"],[0.6666666666666666,\"#ed7953\"],[0.7777777777777778,\"#fb9f3a\"],[0.8888888888888888,\"#fdca26\"],[1.0,\"#f0f921\"]],\"type\":\"heatmapgl\"}],\"histogram\":[{\"marker\":{\"pattern\":{\"fillmode\":\"overlay\",\"size\":10,\"solidity\":0.2}},\"type\":\"histogram\"}],\"histogram2d\":[{\"colorbar\":{\"outlinewidth\":0,\"ticks\":\"\"},\"colorscale\":[[0.0,\"#0d0887\"],[0.1111111111111111,\"#46039f\"],[0.2222222222222222,\"#7201a8\"],[0.3333333333333333,\"#9c179e\"],[0.4444444444444444,\"#bd3786\"],[0.5555555555555556,\"#d8576b\"],[0.6666666666666666,\"#ed7953\"],[0.7777777777777778,\"#fb9f3a\"],[0.8888888888888888,\"#fdca26\"],[1.0,\"#f0f921\"]],\"type\":\"histogram2d\"}],\"histogram2dcontour\":[{\"colorbar\":{\"outlinewidth\":0,\"ticks\":\"\"},\"colorscale\":[[0.0,\"#0d0887\"],[0.1111111111111111,\"#46039f\"],[0.2222222222222222,\"#7201a8\"],[0.3333333333333333,\"#9c179e\"],[0.4444444444444444,\"#bd3786\"],[0.5555555555555556,\"#d8576b\"],[0.6666666666666666,\"#ed7953\"],[0.7777777777777778,\"#fb9f3a\"],[0.8888888888888888,\"#fdca26\"],[1.0,\"#f0f921\"]],\"type\":\"histogram2dcontour\"}],\"mesh3d\":[{\"colorbar\":{\"outlinewidth\":0,\"ticks\":\"\"},\"type\":\"mesh3d\"}],\"parcoords\":[{\"line\":{\"colorbar\":{\"outlinewidth\":0,\"ticks\":\"\"}},\"type\":\"parcoords\"}],\"pie\":[{\"automargin\":true,\"type\":\"pie\"}],\"scatter\":[{\"marker\":{\"colorbar\":{\"outlinewidth\":0,\"ticks\":\"\"}},\"type\":\"scatter\"}],\"scatter3d\":[{\"line\":{\"colorbar\":{\"outlinewidth\":0,\"ticks\":\"\"}},\"marker\":{\"colorbar\":{\"outlinewidth\":0,\"ticks\":\"\"}},\"type\":\"scatter3d\"}],\"scattercarpet\":[{\"marker\":{\"colorbar\":{\"outlinewidth\":0,\"ticks\":\"\"}},\"type\":\"scattercarpet\"}],\"scattergeo\":[{\"marker\":{\"colorbar\":{\"outlinewidth\":0,\"ticks\":\"\"}},\"type\":\"scattergeo\"}],\"scattergl\":[{\"marker\":{\"colorbar\":{\"outlinewidth\":0,\"ticks\":\"\"}},\"type\":\"scattergl\"}],\"scattermapbox\":[{\"marker\":{\"colorbar\":{\"outlinewidth\":0,\"ticks\":\"\"}},\"type\":\"scattermapbox\"}],\"scatterpolar\":[{\"marker\":{\"colorbar\":{\"outlinewidth\":0,\"ticks\":\"\"}},\"type\":\"scatterpolar\"}],\"scatterpolargl\":[{\"marker\":{\"colorbar\":{\"outlinewidth\":0,\"ticks\":\"\"}},\"type\":\"scatterpolargl\"}],\"scatterternary\":[{\"marker\":{\"colorbar\":{\"outlinewidth\":0,\"ticks\":\"\"}},\"type\":\"scatterternary\"}],\"surface\":[{\"colorbar\":{\"outlinewidth\":0,\"ticks\":\"\"},\"colorscale\":[[0.0,\"#0d0887\"],[0.1111111111111111,\"#46039f\"],[0.2222222222222222,\"#7201a8\"],[0.3333333333333333,\"#9c179e\"],[0.4444444444444444,\"#bd3786\"],[0.5555555555555556,\"#d8576b\"],[0.6666666666666666,\"#ed7953\"],[0.7777777777777778,\"#fb9f3a\"],[0.8888888888888888,\"#fdca26\"],[1.0,\"#f0f921\"]],\"type\":\"surface\"}],\"table\":[{\"cells\":{\"fill\":{\"color\":\"#EBF0F8\"},\"line\":{\"color\":\"white\"}},\"header\":{\"fill\":{\"color\":\"#C8D4E3\"},\"line\":{\"color\":\"white\"}},\"type\":\"table\"}]},\"layout\":{\"annotationdefaults\":{\"arrowcolor\":\"#2a3f5f\",\"arrowhead\":0,\"arrowwidth\":1},\"autotypenumbers\":\"strict\",\"coloraxis\":{\"colorbar\":{\"outlinewidth\":0,\"ticks\":\"\"}},\"colorscale\":{\"diverging\":[[0,\"#8e0152\"],[0.1,\"#c51b7d\"],[0.2,\"#de77ae\"],[0.3,\"#f1b6da\"],[0.4,\"#fde0ef\"],[0.5,\"#f7f7f7\"],[0.6,\"#e6f5d0\"],[0.7,\"#b8e186\"],[0.8,\"#7fbc41\"],[0.9,\"#4d9221\"],[1,\"#276419\"]],\"sequential\":[[0.0,\"#0d0887\"],[0.1111111111111111,\"#46039f\"],[0.2222222222222222,\"#7201a8\"],[0.3333333333333333,\"#9c179e\"],[0.4444444444444444,\"#bd3786\"],[0.5555555555555556,\"#d8576b\"],[0.6666666666666666,\"#ed7953\"],[0.7777777777777778,\"#fb9f3a\"],[0.8888888888888888,\"#fdca26\"],[1.0,\"#f0f921\"]],\"sequentialminus\":[[0.0,\"#0d0887\"],[0.1111111111111111,\"#46039f\"],[0.2222222222222222,\"#7201a8\"],[0.3333333333333333,\"#9c179e\"],[0.4444444444444444,\"#bd3786\"],[0.5555555555555556,\"#d8576b\"],[0.6666666666666666,\"#ed7953\"],[0.7777777777777778,\"#fb9f3a\"],[0.8888888888888888,\"#fdca26\"],[1.0,\"#f0f921\"]]},\"colorway\":[\"#636efa\",\"#EF553B\",\"#00cc96\",\"#ab63fa\",\"#FFA15A\",\"#19d3f3\",\"#FF6692\",\"#B6E880\",\"#FF97FF\",\"#FECB52\"],\"font\":{\"color\":\"#2a3f5f\"},\"geo\":{\"bgcolor\":\"white\",\"lakecolor\":\"white\",\"landcolor\":\"#E5ECF6\",\"showlakes\":true,\"showland\":true,\"subunitcolor\":\"white\"},\"hoverlabel\":{\"align\":\"left\"},\"hovermode\":\"closest\",\"mapbox\":{\"style\":\"light\"},\"paper_bgcolor\":\"white\",\"plot_bgcolor\":\"#E5ECF6\",\"polar\":{\"angularaxis\":{\"gridcolor\":\"white\",\"linecolor\":\"white\",\"ticks\":\"\"},\"bgcolor\":\"#E5ECF6\",\"radialaxis\":{\"gridcolor\":\"white\",\"linecolor\":\"white\",\"ticks\":\"\"}},\"scene\":{\"xaxis\":{\"backgroundcolor\":\"#E5ECF6\",\"gridcolor\":\"white\",\"gridwidth\":2,\"linecolor\":\"white\",\"showbackground\":true,\"ticks\":\"\",\"zerolinecolor\":\"white\"},\"yaxis\":{\"backgroundcolor\":\"#E5ECF6\",\"gridcolor\":\"white\",\"gridwidth\":2,\"linecolor\":\"white\",\"showbackground\":true,\"ticks\":\"\",\"zerolinecolor\":\"white\"},\"zaxis\":{\"backgroundcolor\":\"#E5ECF6\",\"gridcolor\":\"white\",\"gridwidth\":2,\"linecolor\":\"white\",\"showbackground\":true,\"ticks\":\"\",\"zerolinecolor\":\"white\"}},\"shapedefaults\":{\"line\":{\"color\":\"#2a3f5f\"}},\"ternary\":{\"aaxis\":{\"gridcolor\":\"white\",\"linecolor\":\"white\",\"ticks\":\"\"},\"baxis\":{\"gridcolor\":\"white\",\"linecolor\":\"white\",\"ticks\":\"\"},\"bgcolor\":\"#E5ECF6\",\"caxis\":{\"gridcolor\":\"white\",\"linecolor\":\"white\",\"ticks\":\"\"}},\"title\":{\"x\":0.05},\"xaxis\":{\"automargin\":true,\"gridcolor\":\"white\",\"linecolor\":\"white\",\"ticks\":\"\",\"title\":{\"standoff\":15},\"zerolinecolor\":\"white\",\"zerolinewidth\":2},\"yaxis\":{\"automargin\":true,\"gridcolor\":\"white\",\"linecolor\":\"white\",\"ticks\":\"\",\"title\":{\"standoff\":15},\"zerolinecolor\":\"white\",\"zerolinewidth\":2}}},\"xaxis\":{\"anchor\":\"y\",\"domain\":[0.0,1.0],\"title\":{\"text\":\"Week\"}},\"yaxis\":{\"anchor\":\"x\",\"domain\":[0.0,1.0],\"title\":{\"text\":\"Revenue\"}}},                        {\"responsive\": true}                    ).then(function(){\n",
       "                            \n",
       "var gd = document.getElementById('e565a2f4-8c1e-449c-9d4f-826963d93ccd');\n",
       "var x = new MutationObserver(function (mutations, observer) {{\n",
       "        var display = window.getComputedStyle(gd).display;\n",
       "        if (!display || display === 'none') {{\n",
       "            console.log([gd, 'removed!']);\n",
       "            Plotly.purge(gd);\n",
       "            observer.disconnect();\n",
       "        }}\n",
       "}});\n",
       "\n",
       "// Listen for the removal of the full notebook cells\n",
       "var notebookContainer = gd.closest('#notebook-container');\n",
       "if (notebookContainer) {{\n",
       "    x.observe(notebookContainer, {childList: true});\n",
       "}}\n",
       "\n",
       "// Listen for the clearing of the current output cell\n",
       "var outputEl = gd.closest('.output');\n",
       "if (outputEl) {{\n",
       "    x.observe(outputEl, {childList: true});\n",
       "}}\n",
       "\n",
       "                        })                };                });            </script>        </div>"
      ]
     },
     "metadata": {},
     "output_type": "display_data"
    }
   ],
   "source": [
    "df_4 = df[df['Category'] == 'Handyman']\n",
    "fig4 = px.line(df_4.sort_values(by = \"Week\"), x=\"Week\", y=\"Revenue\")\n",
    "fig4.show()"
   ]
  },
  {
   "cell_type": "code",
   "execution_count": 34,
   "id": "26fedfd4",
   "metadata": {},
   "outputs": [
    {
     "data": {
      "application/vnd.plotly.v1+json": {
       "config": {
        "plotlyServerURL": "https://plot.ly"
       },
       "data": [
        {
         "hovertemplate": "Week=%{x}<br>Customers=%{y}<extra></extra>",
         "legendgroup": "",
         "line": {
          "color": "#636efa",
          "dash": "solid"
         },
         "marker": {
          "symbol": "circle"
         },
         "mode": "lines",
         "name": "",
         "orientation": "v",
         "showlegend": false,
         "type": "scatter",
         "x": [
          1,
          2,
          3,
          4,
          5,
          6,
          7,
          8,
          9,
          10,
          11,
          12,
          13
         ],
         "xaxis": "x",
         "y": [
          5055,
          5067,
          5198,
          5313,
          5616,
          5519,
          5467,
          5486,
          5448,
          5651,
          5548,
          5738,
          5971
         ],
         "yaxis": "y"
        }
       ],
       "layout": {
        "legend": {
         "tracegroupgap": 0
        },
        "margin": {
         "t": 60
        },
        "template": {
         "data": {
          "bar": [
           {
            "error_x": {
             "color": "#2a3f5f"
            },
            "error_y": {
             "color": "#2a3f5f"
            },
            "marker": {
             "line": {
              "color": "#E5ECF6",
              "width": 0.5
             },
             "pattern": {
              "fillmode": "overlay",
              "size": 10,
              "solidity": 0.2
             }
            },
            "type": "bar"
           }
          ],
          "barpolar": [
           {
            "marker": {
             "line": {
              "color": "#E5ECF6",
              "width": 0.5
             },
             "pattern": {
              "fillmode": "overlay",
              "size": 10,
              "solidity": 0.2
             }
            },
            "type": "barpolar"
           }
          ],
          "carpet": [
           {
            "aaxis": {
             "endlinecolor": "#2a3f5f",
             "gridcolor": "white",
             "linecolor": "white",
             "minorgridcolor": "white",
             "startlinecolor": "#2a3f5f"
            },
            "baxis": {
             "endlinecolor": "#2a3f5f",
             "gridcolor": "white",
             "linecolor": "white",
             "minorgridcolor": "white",
             "startlinecolor": "#2a3f5f"
            },
            "type": "carpet"
           }
          ],
          "choropleth": [
           {
            "colorbar": {
             "outlinewidth": 0,
             "ticks": ""
            },
            "type": "choropleth"
           }
          ],
          "contour": [
           {
            "colorbar": {
             "outlinewidth": 0,
             "ticks": ""
            },
            "colorscale": [
             [
              0,
              "#0d0887"
             ],
             [
              0.1111111111111111,
              "#46039f"
             ],
             [
              0.2222222222222222,
              "#7201a8"
             ],
             [
              0.3333333333333333,
              "#9c179e"
             ],
             [
              0.4444444444444444,
              "#bd3786"
             ],
             [
              0.5555555555555556,
              "#d8576b"
             ],
             [
              0.6666666666666666,
              "#ed7953"
             ],
             [
              0.7777777777777778,
              "#fb9f3a"
             ],
             [
              0.8888888888888888,
              "#fdca26"
             ],
             [
              1,
              "#f0f921"
             ]
            ],
            "type": "contour"
           }
          ],
          "contourcarpet": [
           {
            "colorbar": {
             "outlinewidth": 0,
             "ticks": ""
            },
            "type": "contourcarpet"
           }
          ],
          "heatmap": [
           {
            "colorbar": {
             "outlinewidth": 0,
             "ticks": ""
            },
            "colorscale": [
             [
              0,
              "#0d0887"
             ],
             [
              0.1111111111111111,
              "#46039f"
             ],
             [
              0.2222222222222222,
              "#7201a8"
             ],
             [
              0.3333333333333333,
              "#9c179e"
             ],
             [
              0.4444444444444444,
              "#bd3786"
             ],
             [
              0.5555555555555556,
              "#d8576b"
             ],
             [
              0.6666666666666666,
              "#ed7953"
             ],
             [
              0.7777777777777778,
              "#fb9f3a"
             ],
             [
              0.8888888888888888,
              "#fdca26"
             ],
             [
              1,
              "#f0f921"
             ]
            ],
            "type": "heatmap"
           }
          ],
          "heatmapgl": [
           {
            "colorbar": {
             "outlinewidth": 0,
             "ticks": ""
            },
            "colorscale": [
             [
              0,
              "#0d0887"
             ],
             [
              0.1111111111111111,
              "#46039f"
             ],
             [
              0.2222222222222222,
              "#7201a8"
             ],
             [
              0.3333333333333333,
              "#9c179e"
             ],
             [
              0.4444444444444444,
              "#bd3786"
             ],
             [
              0.5555555555555556,
              "#d8576b"
             ],
             [
              0.6666666666666666,
              "#ed7953"
             ],
             [
              0.7777777777777778,
              "#fb9f3a"
             ],
             [
              0.8888888888888888,
              "#fdca26"
             ],
             [
              1,
              "#f0f921"
             ]
            ],
            "type": "heatmapgl"
           }
          ],
          "histogram": [
           {
            "marker": {
             "pattern": {
              "fillmode": "overlay",
              "size": 10,
              "solidity": 0.2
             }
            },
            "type": "histogram"
           }
          ],
          "histogram2d": [
           {
            "colorbar": {
             "outlinewidth": 0,
             "ticks": ""
            },
            "colorscale": [
             [
              0,
              "#0d0887"
             ],
             [
              0.1111111111111111,
              "#46039f"
             ],
             [
              0.2222222222222222,
              "#7201a8"
             ],
             [
              0.3333333333333333,
              "#9c179e"
             ],
             [
              0.4444444444444444,
              "#bd3786"
             ],
             [
              0.5555555555555556,
              "#d8576b"
             ],
             [
              0.6666666666666666,
              "#ed7953"
             ],
             [
              0.7777777777777778,
              "#fb9f3a"
             ],
             [
              0.8888888888888888,
              "#fdca26"
             ],
             [
              1,
              "#f0f921"
             ]
            ],
            "type": "histogram2d"
           }
          ],
          "histogram2dcontour": [
           {
            "colorbar": {
             "outlinewidth": 0,
             "ticks": ""
            },
            "colorscale": [
             [
              0,
              "#0d0887"
             ],
             [
              0.1111111111111111,
              "#46039f"
             ],
             [
              0.2222222222222222,
              "#7201a8"
             ],
             [
              0.3333333333333333,
              "#9c179e"
             ],
             [
              0.4444444444444444,
              "#bd3786"
             ],
             [
              0.5555555555555556,
              "#d8576b"
             ],
             [
              0.6666666666666666,
              "#ed7953"
             ],
             [
              0.7777777777777778,
              "#fb9f3a"
             ],
             [
              0.8888888888888888,
              "#fdca26"
             ],
             [
              1,
              "#f0f921"
             ]
            ],
            "type": "histogram2dcontour"
           }
          ],
          "mesh3d": [
           {
            "colorbar": {
             "outlinewidth": 0,
             "ticks": ""
            },
            "type": "mesh3d"
           }
          ],
          "parcoords": [
           {
            "line": {
             "colorbar": {
              "outlinewidth": 0,
              "ticks": ""
             }
            },
            "type": "parcoords"
           }
          ],
          "pie": [
           {
            "automargin": true,
            "type": "pie"
           }
          ],
          "scatter": [
           {
            "marker": {
             "colorbar": {
              "outlinewidth": 0,
              "ticks": ""
             }
            },
            "type": "scatter"
           }
          ],
          "scatter3d": [
           {
            "line": {
             "colorbar": {
              "outlinewidth": 0,
              "ticks": ""
             }
            },
            "marker": {
             "colorbar": {
              "outlinewidth": 0,
              "ticks": ""
             }
            },
            "type": "scatter3d"
           }
          ],
          "scattercarpet": [
           {
            "marker": {
             "colorbar": {
              "outlinewidth": 0,
              "ticks": ""
             }
            },
            "type": "scattercarpet"
           }
          ],
          "scattergeo": [
           {
            "marker": {
             "colorbar": {
              "outlinewidth": 0,
              "ticks": ""
             }
            },
            "type": "scattergeo"
           }
          ],
          "scattergl": [
           {
            "marker": {
             "colorbar": {
              "outlinewidth": 0,
              "ticks": ""
             }
            },
            "type": "scattergl"
           }
          ],
          "scattermapbox": [
           {
            "marker": {
             "colorbar": {
              "outlinewidth": 0,
              "ticks": ""
             }
            },
            "type": "scattermapbox"
           }
          ],
          "scatterpolar": [
           {
            "marker": {
             "colorbar": {
              "outlinewidth": 0,
              "ticks": ""
             }
            },
            "type": "scatterpolar"
           }
          ],
          "scatterpolargl": [
           {
            "marker": {
             "colorbar": {
              "outlinewidth": 0,
              "ticks": ""
             }
            },
            "type": "scatterpolargl"
           }
          ],
          "scatterternary": [
           {
            "marker": {
             "colorbar": {
              "outlinewidth": 0,
              "ticks": ""
             }
            },
            "type": "scatterternary"
           }
          ],
          "surface": [
           {
            "colorbar": {
             "outlinewidth": 0,
             "ticks": ""
            },
            "colorscale": [
             [
              0,
              "#0d0887"
             ],
             [
              0.1111111111111111,
              "#46039f"
             ],
             [
              0.2222222222222222,
              "#7201a8"
             ],
             [
              0.3333333333333333,
              "#9c179e"
             ],
             [
              0.4444444444444444,
              "#bd3786"
             ],
             [
              0.5555555555555556,
              "#d8576b"
             ],
             [
              0.6666666666666666,
              "#ed7953"
             ],
             [
              0.7777777777777778,
              "#fb9f3a"
             ],
             [
              0.8888888888888888,
              "#fdca26"
             ],
             [
              1,
              "#f0f921"
             ]
            ],
            "type": "surface"
           }
          ],
          "table": [
           {
            "cells": {
             "fill": {
              "color": "#EBF0F8"
             },
             "line": {
              "color": "white"
             }
            },
            "header": {
             "fill": {
              "color": "#C8D4E3"
             },
             "line": {
              "color": "white"
             }
            },
            "type": "table"
           }
          ]
         },
         "layout": {
          "annotationdefaults": {
           "arrowcolor": "#2a3f5f",
           "arrowhead": 0,
           "arrowwidth": 1
          },
          "autotypenumbers": "strict",
          "coloraxis": {
           "colorbar": {
            "outlinewidth": 0,
            "ticks": ""
           }
          },
          "colorscale": {
           "diverging": [
            [
             0,
             "#8e0152"
            ],
            [
             0.1,
             "#c51b7d"
            ],
            [
             0.2,
             "#de77ae"
            ],
            [
             0.3,
             "#f1b6da"
            ],
            [
             0.4,
             "#fde0ef"
            ],
            [
             0.5,
             "#f7f7f7"
            ],
            [
             0.6,
             "#e6f5d0"
            ],
            [
             0.7,
             "#b8e186"
            ],
            [
             0.8,
             "#7fbc41"
            ],
            [
             0.9,
             "#4d9221"
            ],
            [
             1,
             "#276419"
            ]
           ],
           "sequential": [
            [
             0,
             "#0d0887"
            ],
            [
             0.1111111111111111,
             "#46039f"
            ],
            [
             0.2222222222222222,
             "#7201a8"
            ],
            [
             0.3333333333333333,
             "#9c179e"
            ],
            [
             0.4444444444444444,
             "#bd3786"
            ],
            [
             0.5555555555555556,
             "#d8576b"
            ],
            [
             0.6666666666666666,
             "#ed7953"
            ],
            [
             0.7777777777777778,
             "#fb9f3a"
            ],
            [
             0.8888888888888888,
             "#fdca26"
            ],
            [
             1,
             "#f0f921"
            ]
           ],
           "sequentialminus": [
            [
             0,
             "#0d0887"
            ],
            [
             0.1111111111111111,
             "#46039f"
            ],
            [
             0.2222222222222222,
             "#7201a8"
            ],
            [
             0.3333333333333333,
             "#9c179e"
            ],
            [
             0.4444444444444444,
             "#bd3786"
            ],
            [
             0.5555555555555556,
             "#d8576b"
            ],
            [
             0.6666666666666666,
             "#ed7953"
            ],
            [
             0.7777777777777778,
             "#fb9f3a"
            ],
            [
             0.8888888888888888,
             "#fdca26"
            ],
            [
             1,
             "#f0f921"
            ]
           ]
          },
          "colorway": [
           "#636efa",
           "#EF553B",
           "#00cc96",
           "#ab63fa",
           "#FFA15A",
           "#19d3f3",
           "#FF6692",
           "#B6E880",
           "#FF97FF",
           "#FECB52"
          ],
          "font": {
           "color": "#2a3f5f"
          },
          "geo": {
           "bgcolor": "white",
           "lakecolor": "white",
           "landcolor": "#E5ECF6",
           "showlakes": true,
           "showland": true,
           "subunitcolor": "white"
          },
          "hoverlabel": {
           "align": "left"
          },
          "hovermode": "closest",
          "mapbox": {
           "style": "light"
          },
          "paper_bgcolor": "white",
          "plot_bgcolor": "#E5ECF6",
          "polar": {
           "angularaxis": {
            "gridcolor": "white",
            "linecolor": "white",
            "ticks": ""
           },
           "bgcolor": "#E5ECF6",
           "radialaxis": {
            "gridcolor": "white",
            "linecolor": "white",
            "ticks": ""
           }
          },
          "scene": {
           "xaxis": {
            "backgroundcolor": "#E5ECF6",
            "gridcolor": "white",
            "gridwidth": 2,
            "linecolor": "white",
            "showbackground": true,
            "ticks": "",
            "zerolinecolor": "white"
           },
           "yaxis": {
            "backgroundcolor": "#E5ECF6",
            "gridcolor": "white",
            "gridwidth": 2,
            "linecolor": "white",
            "showbackground": true,
            "ticks": "",
            "zerolinecolor": "white"
           },
           "zaxis": {
            "backgroundcolor": "#E5ECF6",
            "gridcolor": "white",
            "gridwidth": 2,
            "linecolor": "white",
            "showbackground": true,
            "ticks": "",
            "zerolinecolor": "white"
           }
          },
          "shapedefaults": {
           "line": {
            "color": "#2a3f5f"
           }
          },
          "ternary": {
           "aaxis": {
            "gridcolor": "white",
            "linecolor": "white",
            "ticks": ""
           },
           "baxis": {
            "gridcolor": "white",
            "linecolor": "white",
            "ticks": ""
           },
           "bgcolor": "#E5ECF6",
           "caxis": {
            "gridcolor": "white",
            "linecolor": "white",
            "ticks": ""
           }
          },
          "title": {
           "x": 0.05
          },
          "xaxis": {
           "automargin": true,
           "gridcolor": "white",
           "linecolor": "white",
           "ticks": "",
           "title": {
            "standoff": 15
           },
           "zerolinecolor": "white",
           "zerolinewidth": 2
          },
          "yaxis": {
           "automargin": true,
           "gridcolor": "white",
           "linecolor": "white",
           "ticks": "",
           "title": {
            "standoff": 15
           },
           "zerolinecolor": "white",
           "zerolinewidth": 2
          }
         }
        },
        "xaxis": {
         "anchor": "y",
         "domain": [
          0,
          1
         ],
         "title": {
          "text": "Week"
         }
        },
        "yaxis": {
         "anchor": "x",
         "domain": [
          0,
          1
         ],
         "title": {
          "text": "Customers"
         }
        }
       }
      },
      "text/html": [
       "<div>                            <div id=\"8f8492e2-ddef-45e8-82fa-3224eee57d94\" class=\"plotly-graph-div\" style=\"height:525px; width:100%;\"></div>            <script type=\"text/javascript\">                require([\"plotly\"], function(Plotly) {                    window.PLOTLYENV=window.PLOTLYENV || {};                                    if (document.getElementById(\"8f8492e2-ddef-45e8-82fa-3224eee57d94\")) {                    Plotly.newPlot(                        \"8f8492e2-ddef-45e8-82fa-3224eee57d94\",                        [{\"hovertemplate\":\"Week=%{x}<br>Customers=%{y}<extra></extra>\",\"legendgroup\":\"\",\"line\":{\"color\":\"#636efa\",\"dash\":\"solid\"},\"marker\":{\"symbol\":\"circle\"},\"mode\":\"lines\",\"name\":\"\",\"orientation\":\"v\",\"showlegend\":false,\"type\":\"scatter\",\"x\":[1,2,3,4,5,6,7,8,9,10,11,12,13],\"xaxis\":\"x\",\"y\":[5055,5067,5198,5313,5616,5519,5467,5486,5448,5651,5548,5738,5971],\"yaxis\":\"y\"}],                        {\"legend\":{\"tracegroupgap\":0},\"margin\":{\"t\":60},\"template\":{\"data\":{\"bar\":[{\"error_x\":{\"color\":\"#2a3f5f\"},\"error_y\":{\"color\":\"#2a3f5f\"},\"marker\":{\"line\":{\"color\":\"#E5ECF6\",\"width\":0.5},\"pattern\":{\"fillmode\":\"overlay\",\"size\":10,\"solidity\":0.2}},\"type\":\"bar\"}],\"barpolar\":[{\"marker\":{\"line\":{\"color\":\"#E5ECF6\",\"width\":0.5},\"pattern\":{\"fillmode\":\"overlay\",\"size\":10,\"solidity\":0.2}},\"type\":\"barpolar\"}],\"carpet\":[{\"aaxis\":{\"endlinecolor\":\"#2a3f5f\",\"gridcolor\":\"white\",\"linecolor\":\"white\",\"minorgridcolor\":\"white\",\"startlinecolor\":\"#2a3f5f\"},\"baxis\":{\"endlinecolor\":\"#2a3f5f\",\"gridcolor\":\"white\",\"linecolor\":\"white\",\"minorgridcolor\":\"white\",\"startlinecolor\":\"#2a3f5f\"},\"type\":\"carpet\"}],\"choropleth\":[{\"colorbar\":{\"outlinewidth\":0,\"ticks\":\"\"},\"type\":\"choropleth\"}],\"contour\":[{\"colorbar\":{\"outlinewidth\":0,\"ticks\":\"\"},\"colorscale\":[[0.0,\"#0d0887\"],[0.1111111111111111,\"#46039f\"],[0.2222222222222222,\"#7201a8\"],[0.3333333333333333,\"#9c179e\"],[0.4444444444444444,\"#bd3786\"],[0.5555555555555556,\"#d8576b\"],[0.6666666666666666,\"#ed7953\"],[0.7777777777777778,\"#fb9f3a\"],[0.8888888888888888,\"#fdca26\"],[1.0,\"#f0f921\"]],\"type\":\"contour\"}],\"contourcarpet\":[{\"colorbar\":{\"outlinewidth\":0,\"ticks\":\"\"},\"type\":\"contourcarpet\"}],\"heatmap\":[{\"colorbar\":{\"outlinewidth\":0,\"ticks\":\"\"},\"colorscale\":[[0.0,\"#0d0887\"],[0.1111111111111111,\"#46039f\"],[0.2222222222222222,\"#7201a8\"],[0.3333333333333333,\"#9c179e\"],[0.4444444444444444,\"#bd3786\"],[0.5555555555555556,\"#d8576b\"],[0.6666666666666666,\"#ed7953\"],[0.7777777777777778,\"#fb9f3a\"],[0.8888888888888888,\"#fdca26\"],[1.0,\"#f0f921\"]],\"type\":\"heatmap\"}],\"heatmapgl\":[{\"colorbar\":{\"outlinewidth\":0,\"ticks\":\"\"},\"colorscale\":[[0.0,\"#0d0887\"],[0.1111111111111111,\"#46039f\"],[0.2222222222222222,\"#7201a8\"],[0.3333333333333333,\"#9c179e\"],[0.4444444444444444,\"#bd3786\"],[0.5555555555555556,\"#d8576b\"],[0.6666666666666666,\"#ed7953\"],[0.7777777777777778,\"#fb9f3a\"],[0.8888888888888888,\"#fdca26\"],[1.0,\"#f0f921\"]],\"type\":\"heatmapgl\"}],\"histogram\":[{\"marker\":{\"pattern\":{\"fillmode\":\"overlay\",\"size\":10,\"solidity\":0.2}},\"type\":\"histogram\"}],\"histogram2d\":[{\"colorbar\":{\"outlinewidth\":0,\"ticks\":\"\"},\"colorscale\":[[0.0,\"#0d0887\"],[0.1111111111111111,\"#46039f\"],[0.2222222222222222,\"#7201a8\"],[0.3333333333333333,\"#9c179e\"],[0.4444444444444444,\"#bd3786\"],[0.5555555555555556,\"#d8576b\"],[0.6666666666666666,\"#ed7953\"],[0.7777777777777778,\"#fb9f3a\"],[0.8888888888888888,\"#fdca26\"],[1.0,\"#f0f921\"]],\"type\":\"histogram2d\"}],\"histogram2dcontour\":[{\"colorbar\":{\"outlinewidth\":0,\"ticks\":\"\"},\"colorscale\":[[0.0,\"#0d0887\"],[0.1111111111111111,\"#46039f\"],[0.2222222222222222,\"#7201a8\"],[0.3333333333333333,\"#9c179e\"],[0.4444444444444444,\"#bd3786\"],[0.5555555555555556,\"#d8576b\"],[0.6666666666666666,\"#ed7953\"],[0.7777777777777778,\"#fb9f3a\"],[0.8888888888888888,\"#fdca26\"],[1.0,\"#f0f921\"]],\"type\":\"histogram2dcontour\"}],\"mesh3d\":[{\"colorbar\":{\"outlinewidth\":0,\"ticks\":\"\"},\"type\":\"mesh3d\"}],\"parcoords\":[{\"line\":{\"colorbar\":{\"outlinewidth\":0,\"ticks\":\"\"}},\"type\":\"parcoords\"}],\"pie\":[{\"automargin\":true,\"type\":\"pie\"}],\"scatter\":[{\"marker\":{\"colorbar\":{\"outlinewidth\":0,\"ticks\":\"\"}},\"type\":\"scatter\"}],\"scatter3d\":[{\"line\":{\"colorbar\":{\"outlinewidth\":0,\"ticks\":\"\"}},\"marker\":{\"colorbar\":{\"outlinewidth\":0,\"ticks\":\"\"}},\"type\":\"scatter3d\"}],\"scattercarpet\":[{\"marker\":{\"colorbar\":{\"outlinewidth\":0,\"ticks\":\"\"}},\"type\":\"scattercarpet\"}],\"scattergeo\":[{\"marker\":{\"colorbar\":{\"outlinewidth\":0,\"ticks\":\"\"}},\"type\":\"scattergeo\"}],\"scattergl\":[{\"marker\":{\"colorbar\":{\"outlinewidth\":0,\"ticks\":\"\"}},\"type\":\"scattergl\"}],\"scattermapbox\":[{\"marker\":{\"colorbar\":{\"outlinewidth\":0,\"ticks\":\"\"}},\"type\":\"scattermapbox\"}],\"scatterpolar\":[{\"marker\":{\"colorbar\":{\"outlinewidth\":0,\"ticks\":\"\"}},\"type\":\"scatterpolar\"}],\"scatterpolargl\":[{\"marker\":{\"colorbar\":{\"outlinewidth\":0,\"ticks\":\"\"}},\"type\":\"scatterpolargl\"}],\"scatterternary\":[{\"marker\":{\"colorbar\":{\"outlinewidth\":0,\"ticks\":\"\"}},\"type\":\"scatterternary\"}],\"surface\":[{\"colorbar\":{\"outlinewidth\":0,\"ticks\":\"\"},\"colorscale\":[[0.0,\"#0d0887\"],[0.1111111111111111,\"#46039f\"],[0.2222222222222222,\"#7201a8\"],[0.3333333333333333,\"#9c179e\"],[0.4444444444444444,\"#bd3786\"],[0.5555555555555556,\"#d8576b\"],[0.6666666666666666,\"#ed7953\"],[0.7777777777777778,\"#fb9f3a\"],[0.8888888888888888,\"#fdca26\"],[1.0,\"#f0f921\"]],\"type\":\"surface\"}],\"table\":[{\"cells\":{\"fill\":{\"color\":\"#EBF0F8\"},\"line\":{\"color\":\"white\"}},\"header\":{\"fill\":{\"color\":\"#C8D4E3\"},\"line\":{\"color\":\"white\"}},\"type\":\"table\"}]},\"layout\":{\"annotationdefaults\":{\"arrowcolor\":\"#2a3f5f\",\"arrowhead\":0,\"arrowwidth\":1},\"autotypenumbers\":\"strict\",\"coloraxis\":{\"colorbar\":{\"outlinewidth\":0,\"ticks\":\"\"}},\"colorscale\":{\"diverging\":[[0,\"#8e0152\"],[0.1,\"#c51b7d\"],[0.2,\"#de77ae\"],[0.3,\"#f1b6da\"],[0.4,\"#fde0ef\"],[0.5,\"#f7f7f7\"],[0.6,\"#e6f5d0\"],[0.7,\"#b8e186\"],[0.8,\"#7fbc41\"],[0.9,\"#4d9221\"],[1,\"#276419\"]],\"sequential\":[[0.0,\"#0d0887\"],[0.1111111111111111,\"#46039f\"],[0.2222222222222222,\"#7201a8\"],[0.3333333333333333,\"#9c179e\"],[0.4444444444444444,\"#bd3786\"],[0.5555555555555556,\"#d8576b\"],[0.6666666666666666,\"#ed7953\"],[0.7777777777777778,\"#fb9f3a\"],[0.8888888888888888,\"#fdca26\"],[1.0,\"#f0f921\"]],\"sequentialminus\":[[0.0,\"#0d0887\"],[0.1111111111111111,\"#46039f\"],[0.2222222222222222,\"#7201a8\"],[0.3333333333333333,\"#9c179e\"],[0.4444444444444444,\"#bd3786\"],[0.5555555555555556,\"#d8576b\"],[0.6666666666666666,\"#ed7953\"],[0.7777777777777778,\"#fb9f3a\"],[0.8888888888888888,\"#fdca26\"],[1.0,\"#f0f921\"]]},\"colorway\":[\"#636efa\",\"#EF553B\",\"#00cc96\",\"#ab63fa\",\"#FFA15A\",\"#19d3f3\",\"#FF6692\",\"#B6E880\",\"#FF97FF\",\"#FECB52\"],\"font\":{\"color\":\"#2a3f5f\"},\"geo\":{\"bgcolor\":\"white\",\"lakecolor\":\"white\",\"landcolor\":\"#E5ECF6\",\"showlakes\":true,\"showland\":true,\"subunitcolor\":\"white\"},\"hoverlabel\":{\"align\":\"left\"},\"hovermode\":\"closest\",\"mapbox\":{\"style\":\"light\"},\"paper_bgcolor\":\"white\",\"plot_bgcolor\":\"#E5ECF6\",\"polar\":{\"angularaxis\":{\"gridcolor\":\"white\",\"linecolor\":\"white\",\"ticks\":\"\"},\"bgcolor\":\"#E5ECF6\",\"radialaxis\":{\"gridcolor\":\"white\",\"linecolor\":\"white\",\"ticks\":\"\"}},\"scene\":{\"xaxis\":{\"backgroundcolor\":\"#E5ECF6\",\"gridcolor\":\"white\",\"gridwidth\":2,\"linecolor\":\"white\",\"showbackground\":true,\"ticks\":\"\",\"zerolinecolor\":\"white\"},\"yaxis\":{\"backgroundcolor\":\"#E5ECF6\",\"gridcolor\":\"white\",\"gridwidth\":2,\"linecolor\":\"white\",\"showbackground\":true,\"ticks\":\"\",\"zerolinecolor\":\"white\"},\"zaxis\":{\"backgroundcolor\":\"#E5ECF6\",\"gridcolor\":\"white\",\"gridwidth\":2,\"linecolor\":\"white\",\"showbackground\":true,\"ticks\":\"\",\"zerolinecolor\":\"white\"}},\"shapedefaults\":{\"line\":{\"color\":\"#2a3f5f\"}},\"ternary\":{\"aaxis\":{\"gridcolor\":\"white\",\"linecolor\":\"white\",\"ticks\":\"\"},\"baxis\":{\"gridcolor\":\"white\",\"linecolor\":\"white\",\"ticks\":\"\"},\"bgcolor\":\"#E5ECF6\",\"caxis\":{\"gridcolor\":\"white\",\"linecolor\":\"white\",\"ticks\":\"\"}},\"title\":{\"x\":0.05},\"xaxis\":{\"automargin\":true,\"gridcolor\":\"white\",\"linecolor\":\"white\",\"ticks\":\"\",\"title\":{\"standoff\":15},\"zerolinecolor\":\"white\",\"zerolinewidth\":2},\"yaxis\":{\"automargin\":true,\"gridcolor\":\"white\",\"linecolor\":\"white\",\"ticks\":\"\",\"title\":{\"standoff\":15},\"zerolinecolor\":\"white\",\"zerolinewidth\":2}}},\"xaxis\":{\"anchor\":\"y\",\"domain\":[0.0,1.0],\"title\":{\"text\":\"Week\"}},\"yaxis\":{\"anchor\":\"x\",\"domain\":[0.0,1.0],\"title\":{\"text\":\"Customers\"}}},                        {\"responsive\": true}                    ).then(function(){\n",
       "                            \n",
       "var gd = document.getElementById('8f8492e2-ddef-45e8-82fa-3224eee57d94');\n",
       "var x = new MutationObserver(function (mutations, observer) {{\n",
       "        var display = window.getComputedStyle(gd).display;\n",
       "        if (!display || display === 'none') {{\n",
       "            console.log([gd, 'removed!']);\n",
       "            Plotly.purge(gd);\n",
       "            observer.disconnect();\n",
       "        }}\n",
       "}});\n",
       "\n",
       "// Listen for the removal of the full notebook cells\n",
       "var notebookContainer = gd.closest('#notebook-container');\n",
       "if (notebookContainer) {{\n",
       "    x.observe(notebookContainer, {childList: true});\n",
       "}}\n",
       "\n",
       "// Listen for the clearing of the current output cell\n",
       "var outputEl = gd.closest('.output');\n",
       "if (outputEl) {{\n",
       "    x.observe(outputEl, {childList: true});\n",
       "}}\n",
       "\n",
       "                        })                };                });            </script>        </div>"
      ]
     },
     "metadata": {},
     "output_type": "display_data"
    }
   ],
   "source": [
    "fig5 = px.line(df_4.sort_values(by = \"Week\"), x=\"Week\", y=\"Customers\")\n",
    "fig5.show()"
   ]
  },
  {
   "cell_type": "code",
   "execution_count": 35,
   "id": "64c334b8",
   "metadata": {},
   "outputs": [
    {
     "data": {
      "application/vnd.plotly.v1+json": {
       "config": {
        "plotlyServerURL": "https://plot.ly"
       },
       "data": [
        {
         "hovertemplate": "Week=%{x}<br>Contacts=%{y}<extra></extra>",
         "legendgroup": "",
         "line": {
          "color": "#636efa",
          "dash": "solid"
         },
         "marker": {
          "symbol": "circle"
         },
         "mode": "lines",
         "name": "",
         "orientation": "v",
         "showlegend": false,
         "type": "scatter",
         "x": [
          1,
          2,
          3,
          4,
          5,
          6,
          7,
          8,
          9,
          10,
          11,
          12,
          13
         ],
         "xaxis": "x",
         "y": [
          14377,
          15062,
          15297,
          15661,
          16375,
          15827,
          16431,
          17286,
          17052,
          17760,
          17629,
          18166,
          18688
         ],
         "yaxis": "y"
        }
       ],
       "layout": {
        "legend": {
         "tracegroupgap": 0
        },
        "margin": {
         "t": 60
        },
        "template": {
         "data": {
          "bar": [
           {
            "error_x": {
             "color": "#2a3f5f"
            },
            "error_y": {
             "color": "#2a3f5f"
            },
            "marker": {
             "line": {
              "color": "#E5ECF6",
              "width": 0.5
             },
             "pattern": {
              "fillmode": "overlay",
              "size": 10,
              "solidity": 0.2
             }
            },
            "type": "bar"
           }
          ],
          "barpolar": [
           {
            "marker": {
             "line": {
              "color": "#E5ECF6",
              "width": 0.5
             },
             "pattern": {
              "fillmode": "overlay",
              "size": 10,
              "solidity": 0.2
             }
            },
            "type": "barpolar"
           }
          ],
          "carpet": [
           {
            "aaxis": {
             "endlinecolor": "#2a3f5f",
             "gridcolor": "white",
             "linecolor": "white",
             "minorgridcolor": "white",
             "startlinecolor": "#2a3f5f"
            },
            "baxis": {
             "endlinecolor": "#2a3f5f",
             "gridcolor": "white",
             "linecolor": "white",
             "minorgridcolor": "white",
             "startlinecolor": "#2a3f5f"
            },
            "type": "carpet"
           }
          ],
          "choropleth": [
           {
            "colorbar": {
             "outlinewidth": 0,
             "ticks": ""
            },
            "type": "choropleth"
           }
          ],
          "contour": [
           {
            "colorbar": {
             "outlinewidth": 0,
             "ticks": ""
            },
            "colorscale": [
             [
              0,
              "#0d0887"
             ],
             [
              0.1111111111111111,
              "#46039f"
             ],
             [
              0.2222222222222222,
              "#7201a8"
             ],
             [
              0.3333333333333333,
              "#9c179e"
             ],
             [
              0.4444444444444444,
              "#bd3786"
             ],
             [
              0.5555555555555556,
              "#d8576b"
             ],
             [
              0.6666666666666666,
              "#ed7953"
             ],
             [
              0.7777777777777778,
              "#fb9f3a"
             ],
             [
              0.8888888888888888,
              "#fdca26"
             ],
             [
              1,
              "#f0f921"
             ]
            ],
            "type": "contour"
           }
          ],
          "contourcarpet": [
           {
            "colorbar": {
             "outlinewidth": 0,
             "ticks": ""
            },
            "type": "contourcarpet"
           }
          ],
          "heatmap": [
           {
            "colorbar": {
             "outlinewidth": 0,
             "ticks": ""
            },
            "colorscale": [
             [
              0,
              "#0d0887"
             ],
             [
              0.1111111111111111,
              "#46039f"
             ],
             [
              0.2222222222222222,
              "#7201a8"
             ],
             [
              0.3333333333333333,
              "#9c179e"
             ],
             [
              0.4444444444444444,
              "#bd3786"
             ],
             [
              0.5555555555555556,
              "#d8576b"
             ],
             [
              0.6666666666666666,
              "#ed7953"
             ],
             [
              0.7777777777777778,
              "#fb9f3a"
             ],
             [
              0.8888888888888888,
              "#fdca26"
             ],
             [
              1,
              "#f0f921"
             ]
            ],
            "type": "heatmap"
           }
          ],
          "heatmapgl": [
           {
            "colorbar": {
             "outlinewidth": 0,
             "ticks": ""
            },
            "colorscale": [
             [
              0,
              "#0d0887"
             ],
             [
              0.1111111111111111,
              "#46039f"
             ],
             [
              0.2222222222222222,
              "#7201a8"
             ],
             [
              0.3333333333333333,
              "#9c179e"
             ],
             [
              0.4444444444444444,
              "#bd3786"
             ],
             [
              0.5555555555555556,
              "#d8576b"
             ],
             [
              0.6666666666666666,
              "#ed7953"
             ],
             [
              0.7777777777777778,
              "#fb9f3a"
             ],
             [
              0.8888888888888888,
              "#fdca26"
             ],
             [
              1,
              "#f0f921"
             ]
            ],
            "type": "heatmapgl"
           }
          ],
          "histogram": [
           {
            "marker": {
             "pattern": {
              "fillmode": "overlay",
              "size": 10,
              "solidity": 0.2
             }
            },
            "type": "histogram"
           }
          ],
          "histogram2d": [
           {
            "colorbar": {
             "outlinewidth": 0,
             "ticks": ""
            },
            "colorscale": [
             [
              0,
              "#0d0887"
             ],
             [
              0.1111111111111111,
              "#46039f"
             ],
             [
              0.2222222222222222,
              "#7201a8"
             ],
             [
              0.3333333333333333,
              "#9c179e"
             ],
             [
              0.4444444444444444,
              "#bd3786"
             ],
             [
              0.5555555555555556,
              "#d8576b"
             ],
             [
              0.6666666666666666,
              "#ed7953"
             ],
             [
              0.7777777777777778,
              "#fb9f3a"
             ],
             [
              0.8888888888888888,
              "#fdca26"
             ],
             [
              1,
              "#f0f921"
             ]
            ],
            "type": "histogram2d"
           }
          ],
          "histogram2dcontour": [
           {
            "colorbar": {
             "outlinewidth": 0,
             "ticks": ""
            },
            "colorscale": [
             [
              0,
              "#0d0887"
             ],
             [
              0.1111111111111111,
              "#46039f"
             ],
             [
              0.2222222222222222,
              "#7201a8"
             ],
             [
              0.3333333333333333,
              "#9c179e"
             ],
             [
              0.4444444444444444,
              "#bd3786"
             ],
             [
              0.5555555555555556,
              "#d8576b"
             ],
             [
              0.6666666666666666,
              "#ed7953"
             ],
             [
              0.7777777777777778,
              "#fb9f3a"
             ],
             [
              0.8888888888888888,
              "#fdca26"
             ],
             [
              1,
              "#f0f921"
             ]
            ],
            "type": "histogram2dcontour"
           }
          ],
          "mesh3d": [
           {
            "colorbar": {
             "outlinewidth": 0,
             "ticks": ""
            },
            "type": "mesh3d"
           }
          ],
          "parcoords": [
           {
            "line": {
             "colorbar": {
              "outlinewidth": 0,
              "ticks": ""
             }
            },
            "type": "parcoords"
           }
          ],
          "pie": [
           {
            "automargin": true,
            "type": "pie"
           }
          ],
          "scatter": [
           {
            "marker": {
             "colorbar": {
              "outlinewidth": 0,
              "ticks": ""
             }
            },
            "type": "scatter"
           }
          ],
          "scatter3d": [
           {
            "line": {
             "colorbar": {
              "outlinewidth": 0,
              "ticks": ""
             }
            },
            "marker": {
             "colorbar": {
              "outlinewidth": 0,
              "ticks": ""
             }
            },
            "type": "scatter3d"
           }
          ],
          "scattercarpet": [
           {
            "marker": {
             "colorbar": {
              "outlinewidth": 0,
              "ticks": ""
             }
            },
            "type": "scattercarpet"
           }
          ],
          "scattergeo": [
           {
            "marker": {
             "colorbar": {
              "outlinewidth": 0,
              "ticks": ""
             }
            },
            "type": "scattergeo"
           }
          ],
          "scattergl": [
           {
            "marker": {
             "colorbar": {
              "outlinewidth": 0,
              "ticks": ""
             }
            },
            "type": "scattergl"
           }
          ],
          "scattermapbox": [
           {
            "marker": {
             "colorbar": {
              "outlinewidth": 0,
              "ticks": ""
             }
            },
            "type": "scattermapbox"
           }
          ],
          "scatterpolar": [
           {
            "marker": {
             "colorbar": {
              "outlinewidth": 0,
              "ticks": ""
             }
            },
            "type": "scatterpolar"
           }
          ],
          "scatterpolargl": [
           {
            "marker": {
             "colorbar": {
              "outlinewidth": 0,
              "ticks": ""
             }
            },
            "type": "scatterpolargl"
           }
          ],
          "scatterternary": [
           {
            "marker": {
             "colorbar": {
              "outlinewidth": 0,
              "ticks": ""
             }
            },
            "type": "scatterternary"
           }
          ],
          "surface": [
           {
            "colorbar": {
             "outlinewidth": 0,
             "ticks": ""
            },
            "colorscale": [
             [
              0,
              "#0d0887"
             ],
             [
              0.1111111111111111,
              "#46039f"
             ],
             [
              0.2222222222222222,
              "#7201a8"
             ],
             [
              0.3333333333333333,
              "#9c179e"
             ],
             [
              0.4444444444444444,
              "#bd3786"
             ],
             [
              0.5555555555555556,
              "#d8576b"
             ],
             [
              0.6666666666666666,
              "#ed7953"
             ],
             [
              0.7777777777777778,
              "#fb9f3a"
             ],
             [
              0.8888888888888888,
              "#fdca26"
             ],
             [
              1,
              "#f0f921"
             ]
            ],
            "type": "surface"
           }
          ],
          "table": [
           {
            "cells": {
             "fill": {
              "color": "#EBF0F8"
             },
             "line": {
              "color": "white"
             }
            },
            "header": {
             "fill": {
              "color": "#C8D4E3"
             },
             "line": {
              "color": "white"
             }
            },
            "type": "table"
           }
          ]
         },
         "layout": {
          "annotationdefaults": {
           "arrowcolor": "#2a3f5f",
           "arrowhead": 0,
           "arrowwidth": 1
          },
          "autotypenumbers": "strict",
          "coloraxis": {
           "colorbar": {
            "outlinewidth": 0,
            "ticks": ""
           }
          },
          "colorscale": {
           "diverging": [
            [
             0,
             "#8e0152"
            ],
            [
             0.1,
             "#c51b7d"
            ],
            [
             0.2,
             "#de77ae"
            ],
            [
             0.3,
             "#f1b6da"
            ],
            [
             0.4,
             "#fde0ef"
            ],
            [
             0.5,
             "#f7f7f7"
            ],
            [
             0.6,
             "#e6f5d0"
            ],
            [
             0.7,
             "#b8e186"
            ],
            [
             0.8,
             "#7fbc41"
            ],
            [
             0.9,
             "#4d9221"
            ],
            [
             1,
             "#276419"
            ]
           ],
           "sequential": [
            [
             0,
             "#0d0887"
            ],
            [
             0.1111111111111111,
             "#46039f"
            ],
            [
             0.2222222222222222,
             "#7201a8"
            ],
            [
             0.3333333333333333,
             "#9c179e"
            ],
            [
             0.4444444444444444,
             "#bd3786"
            ],
            [
             0.5555555555555556,
             "#d8576b"
            ],
            [
             0.6666666666666666,
             "#ed7953"
            ],
            [
             0.7777777777777778,
             "#fb9f3a"
            ],
            [
             0.8888888888888888,
             "#fdca26"
            ],
            [
             1,
             "#f0f921"
            ]
           ],
           "sequentialminus": [
            [
             0,
             "#0d0887"
            ],
            [
             0.1111111111111111,
             "#46039f"
            ],
            [
             0.2222222222222222,
             "#7201a8"
            ],
            [
             0.3333333333333333,
             "#9c179e"
            ],
            [
             0.4444444444444444,
             "#bd3786"
            ],
            [
             0.5555555555555556,
             "#d8576b"
            ],
            [
             0.6666666666666666,
             "#ed7953"
            ],
            [
             0.7777777777777778,
             "#fb9f3a"
            ],
            [
             0.8888888888888888,
             "#fdca26"
            ],
            [
             1,
             "#f0f921"
            ]
           ]
          },
          "colorway": [
           "#636efa",
           "#EF553B",
           "#00cc96",
           "#ab63fa",
           "#FFA15A",
           "#19d3f3",
           "#FF6692",
           "#B6E880",
           "#FF97FF",
           "#FECB52"
          ],
          "font": {
           "color": "#2a3f5f"
          },
          "geo": {
           "bgcolor": "white",
           "lakecolor": "white",
           "landcolor": "#E5ECF6",
           "showlakes": true,
           "showland": true,
           "subunitcolor": "white"
          },
          "hoverlabel": {
           "align": "left"
          },
          "hovermode": "closest",
          "mapbox": {
           "style": "light"
          },
          "paper_bgcolor": "white",
          "plot_bgcolor": "#E5ECF6",
          "polar": {
           "angularaxis": {
            "gridcolor": "white",
            "linecolor": "white",
            "ticks": ""
           },
           "bgcolor": "#E5ECF6",
           "radialaxis": {
            "gridcolor": "white",
            "linecolor": "white",
            "ticks": ""
           }
          },
          "scene": {
           "xaxis": {
            "backgroundcolor": "#E5ECF6",
            "gridcolor": "white",
            "gridwidth": 2,
            "linecolor": "white",
            "showbackground": true,
            "ticks": "",
            "zerolinecolor": "white"
           },
           "yaxis": {
            "backgroundcolor": "#E5ECF6",
            "gridcolor": "white",
            "gridwidth": 2,
            "linecolor": "white",
            "showbackground": true,
            "ticks": "",
            "zerolinecolor": "white"
           },
           "zaxis": {
            "backgroundcolor": "#E5ECF6",
            "gridcolor": "white",
            "gridwidth": 2,
            "linecolor": "white",
            "showbackground": true,
            "ticks": "",
            "zerolinecolor": "white"
           }
          },
          "shapedefaults": {
           "line": {
            "color": "#2a3f5f"
           }
          },
          "ternary": {
           "aaxis": {
            "gridcolor": "white",
            "linecolor": "white",
            "ticks": ""
           },
           "baxis": {
            "gridcolor": "white",
            "linecolor": "white",
            "ticks": ""
           },
           "bgcolor": "#E5ECF6",
           "caxis": {
            "gridcolor": "white",
            "linecolor": "white",
            "ticks": ""
           }
          },
          "title": {
           "x": 0.05
          },
          "xaxis": {
           "automargin": true,
           "gridcolor": "white",
           "linecolor": "white",
           "ticks": "",
           "title": {
            "standoff": 15
           },
           "zerolinecolor": "white",
           "zerolinewidth": 2
          },
          "yaxis": {
           "automargin": true,
           "gridcolor": "white",
           "linecolor": "white",
           "ticks": "",
           "title": {
            "standoff": 15
           },
           "zerolinecolor": "white",
           "zerolinewidth": 2
          }
         }
        },
        "xaxis": {
         "anchor": "y",
         "domain": [
          0,
          1
         ],
         "title": {
          "text": "Week"
         }
        },
        "yaxis": {
         "anchor": "x",
         "domain": [
          0,
          1
         ],
         "title": {
          "text": "Contacts"
         }
        }
       }
      },
      "text/html": [
       "<div>                            <div id=\"369223c2-5cfa-46a0-a809-8a2462eac521\" class=\"plotly-graph-div\" style=\"height:525px; width:100%;\"></div>            <script type=\"text/javascript\">                require([\"plotly\"], function(Plotly) {                    window.PLOTLYENV=window.PLOTLYENV || {};                                    if (document.getElementById(\"369223c2-5cfa-46a0-a809-8a2462eac521\")) {                    Plotly.newPlot(                        \"369223c2-5cfa-46a0-a809-8a2462eac521\",                        [{\"hovertemplate\":\"Week=%{x}<br>Contacts=%{y}<extra></extra>\",\"legendgroup\":\"\",\"line\":{\"color\":\"#636efa\",\"dash\":\"solid\"},\"marker\":{\"symbol\":\"circle\"},\"mode\":\"lines\",\"name\":\"\",\"orientation\":\"v\",\"showlegend\":false,\"type\":\"scatter\",\"x\":[1,2,3,4,5,6,7,8,9,10,11,12,13],\"xaxis\":\"x\",\"y\":[14377,15062,15297,15661,16375,15827,16431,17286,17052,17760,17629,18166,18688],\"yaxis\":\"y\"}],                        {\"legend\":{\"tracegroupgap\":0},\"margin\":{\"t\":60},\"template\":{\"data\":{\"bar\":[{\"error_x\":{\"color\":\"#2a3f5f\"},\"error_y\":{\"color\":\"#2a3f5f\"},\"marker\":{\"line\":{\"color\":\"#E5ECF6\",\"width\":0.5},\"pattern\":{\"fillmode\":\"overlay\",\"size\":10,\"solidity\":0.2}},\"type\":\"bar\"}],\"barpolar\":[{\"marker\":{\"line\":{\"color\":\"#E5ECF6\",\"width\":0.5},\"pattern\":{\"fillmode\":\"overlay\",\"size\":10,\"solidity\":0.2}},\"type\":\"barpolar\"}],\"carpet\":[{\"aaxis\":{\"endlinecolor\":\"#2a3f5f\",\"gridcolor\":\"white\",\"linecolor\":\"white\",\"minorgridcolor\":\"white\",\"startlinecolor\":\"#2a3f5f\"},\"baxis\":{\"endlinecolor\":\"#2a3f5f\",\"gridcolor\":\"white\",\"linecolor\":\"white\",\"minorgridcolor\":\"white\",\"startlinecolor\":\"#2a3f5f\"},\"type\":\"carpet\"}],\"choropleth\":[{\"colorbar\":{\"outlinewidth\":0,\"ticks\":\"\"},\"type\":\"choropleth\"}],\"contour\":[{\"colorbar\":{\"outlinewidth\":0,\"ticks\":\"\"},\"colorscale\":[[0.0,\"#0d0887\"],[0.1111111111111111,\"#46039f\"],[0.2222222222222222,\"#7201a8\"],[0.3333333333333333,\"#9c179e\"],[0.4444444444444444,\"#bd3786\"],[0.5555555555555556,\"#d8576b\"],[0.6666666666666666,\"#ed7953\"],[0.7777777777777778,\"#fb9f3a\"],[0.8888888888888888,\"#fdca26\"],[1.0,\"#f0f921\"]],\"type\":\"contour\"}],\"contourcarpet\":[{\"colorbar\":{\"outlinewidth\":0,\"ticks\":\"\"},\"type\":\"contourcarpet\"}],\"heatmap\":[{\"colorbar\":{\"outlinewidth\":0,\"ticks\":\"\"},\"colorscale\":[[0.0,\"#0d0887\"],[0.1111111111111111,\"#46039f\"],[0.2222222222222222,\"#7201a8\"],[0.3333333333333333,\"#9c179e\"],[0.4444444444444444,\"#bd3786\"],[0.5555555555555556,\"#d8576b\"],[0.6666666666666666,\"#ed7953\"],[0.7777777777777778,\"#fb9f3a\"],[0.8888888888888888,\"#fdca26\"],[1.0,\"#f0f921\"]],\"type\":\"heatmap\"}],\"heatmapgl\":[{\"colorbar\":{\"outlinewidth\":0,\"ticks\":\"\"},\"colorscale\":[[0.0,\"#0d0887\"],[0.1111111111111111,\"#46039f\"],[0.2222222222222222,\"#7201a8\"],[0.3333333333333333,\"#9c179e\"],[0.4444444444444444,\"#bd3786\"],[0.5555555555555556,\"#d8576b\"],[0.6666666666666666,\"#ed7953\"],[0.7777777777777778,\"#fb9f3a\"],[0.8888888888888888,\"#fdca26\"],[1.0,\"#f0f921\"]],\"type\":\"heatmapgl\"}],\"histogram\":[{\"marker\":{\"pattern\":{\"fillmode\":\"overlay\",\"size\":10,\"solidity\":0.2}},\"type\":\"histogram\"}],\"histogram2d\":[{\"colorbar\":{\"outlinewidth\":0,\"ticks\":\"\"},\"colorscale\":[[0.0,\"#0d0887\"],[0.1111111111111111,\"#46039f\"],[0.2222222222222222,\"#7201a8\"],[0.3333333333333333,\"#9c179e\"],[0.4444444444444444,\"#bd3786\"],[0.5555555555555556,\"#d8576b\"],[0.6666666666666666,\"#ed7953\"],[0.7777777777777778,\"#fb9f3a\"],[0.8888888888888888,\"#fdca26\"],[1.0,\"#f0f921\"]],\"type\":\"histogram2d\"}],\"histogram2dcontour\":[{\"colorbar\":{\"outlinewidth\":0,\"ticks\":\"\"},\"colorscale\":[[0.0,\"#0d0887\"],[0.1111111111111111,\"#46039f\"],[0.2222222222222222,\"#7201a8\"],[0.3333333333333333,\"#9c179e\"],[0.4444444444444444,\"#bd3786\"],[0.5555555555555556,\"#d8576b\"],[0.6666666666666666,\"#ed7953\"],[0.7777777777777778,\"#fb9f3a\"],[0.8888888888888888,\"#fdca26\"],[1.0,\"#f0f921\"]],\"type\":\"histogram2dcontour\"}],\"mesh3d\":[{\"colorbar\":{\"outlinewidth\":0,\"ticks\":\"\"},\"type\":\"mesh3d\"}],\"parcoords\":[{\"line\":{\"colorbar\":{\"outlinewidth\":0,\"ticks\":\"\"}},\"type\":\"parcoords\"}],\"pie\":[{\"automargin\":true,\"type\":\"pie\"}],\"scatter\":[{\"marker\":{\"colorbar\":{\"outlinewidth\":0,\"ticks\":\"\"}},\"type\":\"scatter\"}],\"scatter3d\":[{\"line\":{\"colorbar\":{\"outlinewidth\":0,\"ticks\":\"\"}},\"marker\":{\"colorbar\":{\"outlinewidth\":0,\"ticks\":\"\"}},\"type\":\"scatter3d\"}],\"scattercarpet\":[{\"marker\":{\"colorbar\":{\"outlinewidth\":0,\"ticks\":\"\"}},\"type\":\"scattercarpet\"}],\"scattergeo\":[{\"marker\":{\"colorbar\":{\"outlinewidth\":0,\"ticks\":\"\"}},\"type\":\"scattergeo\"}],\"scattergl\":[{\"marker\":{\"colorbar\":{\"outlinewidth\":0,\"ticks\":\"\"}},\"type\":\"scattergl\"}],\"scattermapbox\":[{\"marker\":{\"colorbar\":{\"outlinewidth\":0,\"ticks\":\"\"}},\"type\":\"scattermapbox\"}],\"scatterpolar\":[{\"marker\":{\"colorbar\":{\"outlinewidth\":0,\"ticks\":\"\"}},\"type\":\"scatterpolar\"}],\"scatterpolargl\":[{\"marker\":{\"colorbar\":{\"outlinewidth\":0,\"ticks\":\"\"}},\"type\":\"scatterpolargl\"}],\"scatterternary\":[{\"marker\":{\"colorbar\":{\"outlinewidth\":0,\"ticks\":\"\"}},\"type\":\"scatterternary\"}],\"surface\":[{\"colorbar\":{\"outlinewidth\":0,\"ticks\":\"\"},\"colorscale\":[[0.0,\"#0d0887\"],[0.1111111111111111,\"#46039f\"],[0.2222222222222222,\"#7201a8\"],[0.3333333333333333,\"#9c179e\"],[0.4444444444444444,\"#bd3786\"],[0.5555555555555556,\"#d8576b\"],[0.6666666666666666,\"#ed7953\"],[0.7777777777777778,\"#fb9f3a\"],[0.8888888888888888,\"#fdca26\"],[1.0,\"#f0f921\"]],\"type\":\"surface\"}],\"table\":[{\"cells\":{\"fill\":{\"color\":\"#EBF0F8\"},\"line\":{\"color\":\"white\"}},\"header\":{\"fill\":{\"color\":\"#C8D4E3\"},\"line\":{\"color\":\"white\"}},\"type\":\"table\"}]},\"layout\":{\"annotationdefaults\":{\"arrowcolor\":\"#2a3f5f\",\"arrowhead\":0,\"arrowwidth\":1},\"autotypenumbers\":\"strict\",\"coloraxis\":{\"colorbar\":{\"outlinewidth\":0,\"ticks\":\"\"}},\"colorscale\":{\"diverging\":[[0,\"#8e0152\"],[0.1,\"#c51b7d\"],[0.2,\"#de77ae\"],[0.3,\"#f1b6da\"],[0.4,\"#fde0ef\"],[0.5,\"#f7f7f7\"],[0.6,\"#e6f5d0\"],[0.7,\"#b8e186\"],[0.8,\"#7fbc41\"],[0.9,\"#4d9221\"],[1,\"#276419\"]],\"sequential\":[[0.0,\"#0d0887\"],[0.1111111111111111,\"#46039f\"],[0.2222222222222222,\"#7201a8\"],[0.3333333333333333,\"#9c179e\"],[0.4444444444444444,\"#bd3786\"],[0.5555555555555556,\"#d8576b\"],[0.6666666666666666,\"#ed7953\"],[0.7777777777777778,\"#fb9f3a\"],[0.8888888888888888,\"#fdca26\"],[1.0,\"#f0f921\"]],\"sequentialminus\":[[0.0,\"#0d0887\"],[0.1111111111111111,\"#46039f\"],[0.2222222222222222,\"#7201a8\"],[0.3333333333333333,\"#9c179e\"],[0.4444444444444444,\"#bd3786\"],[0.5555555555555556,\"#d8576b\"],[0.6666666666666666,\"#ed7953\"],[0.7777777777777778,\"#fb9f3a\"],[0.8888888888888888,\"#fdca26\"],[1.0,\"#f0f921\"]]},\"colorway\":[\"#636efa\",\"#EF553B\",\"#00cc96\",\"#ab63fa\",\"#FFA15A\",\"#19d3f3\",\"#FF6692\",\"#B6E880\",\"#FF97FF\",\"#FECB52\"],\"font\":{\"color\":\"#2a3f5f\"},\"geo\":{\"bgcolor\":\"white\",\"lakecolor\":\"white\",\"landcolor\":\"#E5ECF6\",\"showlakes\":true,\"showland\":true,\"subunitcolor\":\"white\"},\"hoverlabel\":{\"align\":\"left\"},\"hovermode\":\"closest\",\"mapbox\":{\"style\":\"light\"},\"paper_bgcolor\":\"white\",\"plot_bgcolor\":\"#E5ECF6\",\"polar\":{\"angularaxis\":{\"gridcolor\":\"white\",\"linecolor\":\"white\",\"ticks\":\"\"},\"bgcolor\":\"#E5ECF6\",\"radialaxis\":{\"gridcolor\":\"white\",\"linecolor\":\"white\",\"ticks\":\"\"}},\"scene\":{\"xaxis\":{\"backgroundcolor\":\"#E5ECF6\",\"gridcolor\":\"white\",\"gridwidth\":2,\"linecolor\":\"white\",\"showbackground\":true,\"ticks\":\"\",\"zerolinecolor\":\"white\"},\"yaxis\":{\"backgroundcolor\":\"#E5ECF6\",\"gridcolor\":\"white\",\"gridwidth\":2,\"linecolor\":\"white\",\"showbackground\":true,\"ticks\":\"\",\"zerolinecolor\":\"white\"},\"zaxis\":{\"backgroundcolor\":\"#E5ECF6\",\"gridcolor\":\"white\",\"gridwidth\":2,\"linecolor\":\"white\",\"showbackground\":true,\"ticks\":\"\",\"zerolinecolor\":\"white\"}},\"shapedefaults\":{\"line\":{\"color\":\"#2a3f5f\"}},\"ternary\":{\"aaxis\":{\"gridcolor\":\"white\",\"linecolor\":\"white\",\"ticks\":\"\"},\"baxis\":{\"gridcolor\":\"white\",\"linecolor\":\"white\",\"ticks\":\"\"},\"bgcolor\":\"#E5ECF6\",\"caxis\":{\"gridcolor\":\"white\",\"linecolor\":\"white\",\"ticks\":\"\"}},\"title\":{\"x\":0.05},\"xaxis\":{\"automargin\":true,\"gridcolor\":\"white\",\"linecolor\":\"white\",\"ticks\":\"\",\"title\":{\"standoff\":15},\"zerolinecolor\":\"white\",\"zerolinewidth\":2},\"yaxis\":{\"automargin\":true,\"gridcolor\":\"white\",\"linecolor\":\"white\",\"ticks\":\"\",\"title\":{\"standoff\":15},\"zerolinecolor\":\"white\",\"zerolinewidth\":2}}},\"xaxis\":{\"anchor\":\"y\",\"domain\":[0.0,1.0],\"title\":{\"text\":\"Week\"}},\"yaxis\":{\"anchor\":\"x\",\"domain\":[0.0,1.0],\"title\":{\"text\":\"Contacts\"}}},                        {\"responsive\": true}                    ).then(function(){\n",
       "                            \n",
       "var gd = document.getElementById('369223c2-5cfa-46a0-a809-8a2462eac521');\n",
       "var x = new MutationObserver(function (mutations, observer) {{\n",
       "        var display = window.getComputedStyle(gd).display;\n",
       "        if (!display || display === 'none') {{\n",
       "            console.log([gd, 'removed!']);\n",
       "            Plotly.purge(gd);\n",
       "            observer.disconnect();\n",
       "        }}\n",
       "}});\n",
       "\n",
       "// Listen for the removal of the full notebook cells\n",
       "var notebookContainer = gd.closest('#notebook-container');\n",
       "if (notebookContainer) {{\n",
       "    x.observe(notebookContainer, {childList: true});\n",
       "}}\n",
       "\n",
       "// Listen for the clearing of the current output cell\n",
       "var outputEl = gd.closest('.output');\n",
       "if (outputEl) {{\n",
       "    x.observe(outputEl, {childList: true});\n",
       "}}\n",
       "\n",
       "                        })                };                });            </script>        </div>"
      ]
     },
     "metadata": {},
     "output_type": "display_data"
    }
   ],
   "source": [
    "fig6 = px.line(df_4.sort_values(by = \"Week\"), x=\"Week\", y=\"Contacts\")\n",
    "fig6.show()"
   ]
  },
  {
   "cell_type": "code",
   "execution_count": 36,
   "id": "0323bff5",
   "metadata": {},
   "outputs": [
    {
     "ename": "AttributeError",
     "evalue": "module 'plotly.express' has no attribute 'show'",
     "output_type": "error",
     "traceback": [
      "\u001b[1;31m---------------------------------------------------------------------------\u001b[0m",
      "\u001b[1;31mAttributeError\u001b[0m                            Traceback (most recent call last)",
      "Input \u001b[1;32mIn [36]\u001b[0m, in \u001b[0;36m<cell line: 5>\u001b[1;34m()\u001b[0m\n\u001b[0;32m      3\u001b[0m px\u001b[38;5;241m.\u001b[39mline(df_4\u001b[38;5;241m.\u001b[39msort_values(by \u001b[38;5;241m=\u001b[39m \u001b[38;5;124m\"\u001b[39m\u001b[38;5;124mWeek\u001b[39m\u001b[38;5;124m\"\u001b[39m), x\u001b[38;5;241m=\u001b[39m\u001b[38;5;124m\"\u001b[39m\u001b[38;5;124mWeek\u001b[39m\u001b[38;5;124m\"\u001b[39m, y\u001b[38;5;241m=\u001b[39m\u001b[38;5;124m\"\u001b[39m\u001b[38;5;124mContacts\u001b[39m\u001b[38;5;124m\"\u001b[39m)\n\u001b[0;32m      4\u001b[0m px\u001b[38;5;241m.\u001b[39mline(df_4\u001b[38;5;241m.\u001b[39msort_values(by \u001b[38;5;241m=\u001b[39m \u001b[38;5;124m\"\u001b[39m\u001b[38;5;124mWeek\u001b[39m\u001b[38;5;124m\"\u001b[39m), x\u001b[38;5;241m=\u001b[39m\u001b[38;5;124m\"\u001b[39m\u001b[38;5;124mWeek\u001b[39m\u001b[38;5;124m\"\u001b[39m, y\u001b[38;5;241m=\u001b[39m\u001b[38;5;124m\"\u001b[39m\u001b[38;5;124mAccepted Contacts\u001b[39m\u001b[38;5;124m\"\u001b[39m)\n\u001b[1;32m----> 5\u001b[0m \u001b[43mpx\u001b[49m\u001b[38;5;241;43m.\u001b[39;49m\u001b[43mshow\u001b[49m()\n",
      "\u001b[1;31mAttributeError\u001b[0m: module 'plotly.express' has no attribute 'show'"
     ]
    }
   ],
   "source": [
    "px.line(df_4.sort_values(by = \"Week\"), x=\"Week\", y=\"Revenue\")\n",
    "px.line(df_4.sort_values(by = \"Week\"), x=\"Week\", y=\"Customers\")\n",
    "px.line(df_4.sort_values(by = \"Week\"), x=\"Week\", y=\"Contacts\")\n",
    "px.line(df_4.sort_values(by = \"Week\"), x=\"Week\", y=\"Accepted Contacts\")\n",
    "px.show()"
   ]
  },
  {
   "cell_type": "code",
   "execution_count": null,
   "id": "d9c87c4d",
   "metadata": {},
   "outputs": [],
   "source": [
    "df_1 = df.groupby(\"Week\").sum(\"Contacts\").reset_index()\n",
    "fig3 = px.line(df_1.sort_values(by = \"Week\"), x=\"Week\", y=\"Revenue\")\n",
    "fig3.show()"
   ]
  },
  {
   "cell_type": "code",
   "execution_count": null,
   "id": "251715b1",
   "metadata": {},
   "outputs": [],
   "source": [
    "df_1 = df.groupby(\"Week\").sum(\"Accepted Contacts\").reset_index()\n",
    "fig3 = px.line(df_1.sort_values(by = \"Week\"), x=\"Week\", y=\"Revenue\")\n",
    "fig3.show()"
   ]
  },
  {
   "cell_type": "code",
   "execution_count": 49,
   "id": "b4079f85",
   "metadata": {},
   "outputs": [
    {
     "data": {
      "image/png": "[encoded data removed]",
      "text/plain": [
       "<Figure size 432x288 with 1 Axes>"
      ]
     },
     "metadata": {
      "needs_background": "light"
     },
     "output_type": "display_data"
    }
   ],
   "source": [
    "# plt.plot(df_4[\"Week\"], df_4['Revenue'], label = 'Revenue')\n",
    "plt.plot(df_4[\"Week\"], df_4['Cust_AcceptContacts'], label = 'Rate')\n",
    "# plt.plot(df_4[\"Week\"], df_4['Customers'], label = 'Customers')\n",
    "# plt.plot(df_4[\"Week\"], df_4['Contacts'], label = 'Contacts')\n",
    "# plt.plot(df_4[\"Week\"], df_4['Accepted Contacts'], label = 'Accepted Contacts')\n",
    "plt.show()"
   ]
  },
  {
   "cell_type": "code",
   "execution_count": 44,
   "id": "4a0003c8",
   "metadata": {},
   "outputs": [],
   "source": [
    "df_4 = df_4.copy()"
   ]
  },
  {
   "cell_type": "code",
   "execution_count": 54,
   "id": "de011af7",
   "metadata": {},
   "outputs": [],
   "source": [
    "df_4['Cust_Contacts'] = df_4['Contacts']/df_4['Customers']\n",
    "df_4['Contacts_AccpContact'] = df_4['Accepted Contacts']/df_4['Contacts']"
   ]
  },
  {
   "cell_type": "code",
   "execution_count": 55,
   "id": "174dfc04",
   "metadata": {},
   "outputs": [
    {
     "data": {
      "text/html": [
       "<div>\n",
       "<style scoped>\n",
       "    .dataframe tbody tr th:only-of-type {\n",
       "        vertical-align: middle;\n",
       "    }\n",
       "\n",
       "    .dataframe tbody tr th {\n",
       "        vertical-align: top;\n",
       "    }\n",
       "\n",
       "    .dataframe thead th {\n",
       "        text-align: right;\n",
       "    }\n",
       "</style>\n",
       "<table border=\"1\" class=\"dataframe\">\n",
       "  <thead>\n",
       "    <tr style=\"text-align: right;\">\n",
       "      <th></th>\n",
       "      <th>Week</th>\n",
       "      <th>Category</th>\n",
       "      <th>Customers</th>\n",
       "      <th>Contacts</th>\n",
       "      <th>Accepted Contacts</th>\n",
       "      <th>Revenue</th>\n",
       "      <th>Cust_AcceptContacts</th>\n",
       "      <th>Cust_Contacts</th>\n",
       "      <th>Contacts_AccpContact</th>\n",
       "    </tr>\n",
       "  </thead>\n",
       "  <tbody>\n",
       "    <tr>\n",
       "      <th>8</th>\n",
       "      <td>1</td>\n",
       "      <td>Handyman</td>\n",
       "      <td>5055</td>\n",
       "      <td>14377</td>\n",
       "      <td>6834</td>\n",
       "      <td>61227</td>\n",
       "      <td>0.739684</td>\n",
       "      <td>2.844115</td>\n",
       "      <td>0.475343</td>\n",
       "    </tr>\n",
       "    <tr>\n",
       "      <th>28</th>\n",
       "      <td>2</td>\n",
       "      <td>Handyman</td>\n",
       "      <td>5067</td>\n",
       "      <td>15062</td>\n",
       "      <td>8102</td>\n",
       "      <td>70622</td>\n",
       "      <td>0.625401</td>\n",
       "      <td>2.972568</td>\n",
       "      <td>0.537910</td>\n",
       "    </tr>\n",
       "    <tr>\n",
       "      <th>48</th>\n",
       "      <td>3</td>\n",
       "      <td>Handyman</td>\n",
       "      <td>5198</td>\n",
       "      <td>15297</td>\n",
       "      <td>8024</td>\n",
       "      <td>67616</td>\n",
       "      <td>0.647807</td>\n",
       "      <td>2.942863</td>\n",
       "      <td>0.524547</td>\n",
       "    </tr>\n",
       "    <tr>\n",
       "      <th>68</th>\n",
       "      <td>4</td>\n",
       "      <td>Handyman</td>\n",
       "      <td>5313</td>\n",
       "      <td>15661</td>\n",
       "      <td>8158</td>\n",
       "      <td>68139</td>\n",
       "      <td>0.651263</td>\n",
       "      <td>2.947676</td>\n",
       "      <td>0.520912</td>\n",
       "    </tr>\n",
       "    <tr>\n",
       "      <th>88</th>\n",
       "      <td>5</td>\n",
       "      <td>Handyman</td>\n",
       "      <td>5616</td>\n",
       "      <td>16375</td>\n",
       "      <td>8161</td>\n",
       "      <td>66416</td>\n",
       "      <td>0.688151</td>\n",
       "      <td>2.915776</td>\n",
       "      <td>0.498382</td>\n",
       "    </tr>\n",
       "    <tr>\n",
       "      <th>108</th>\n",
       "      <td>6</td>\n",
       "      <td>Handyman</td>\n",
       "      <td>5519</td>\n",
       "      <td>15827</td>\n",
       "      <td>7839</td>\n",
       "      <td>64208</td>\n",
       "      <td>0.704044</td>\n",
       "      <td>2.867730</td>\n",
       "      <td>0.495293</td>\n",
       "    </tr>\n",
       "    <tr>\n",
       "      <th>128</th>\n",
       "      <td>7</td>\n",
       "      <td>Handyman</td>\n",
       "      <td>5467</td>\n",
       "      <td>16431</td>\n",
       "      <td>8157</td>\n",
       "      <td>63505</td>\n",
       "      <td>0.670222</td>\n",
       "      <td>3.005487</td>\n",
       "      <td>0.496440</td>\n",
       "    </tr>\n",
       "    <tr>\n",
       "      <th>148</th>\n",
       "      <td>8</td>\n",
       "      <td>Handyman</td>\n",
       "      <td>5486</td>\n",
       "      <td>17286</td>\n",
       "      <td>8180</td>\n",
       "      <td>60382</td>\n",
       "      <td>0.670660</td>\n",
       "      <td>3.150930</td>\n",
       "      <td>0.473215</td>\n",
       "    </tr>\n",
       "    <tr>\n",
       "      <th>168</th>\n",
       "      <td>9</td>\n",
       "      <td>Handyman</td>\n",
       "      <td>5448</td>\n",
       "      <td>17052</td>\n",
       "      <td>8179</td>\n",
       "      <td>58229</td>\n",
       "      <td>0.666096</td>\n",
       "      <td>3.129956</td>\n",
       "      <td>0.479650</td>\n",
       "    </tr>\n",
       "    <tr>\n",
       "      <th>188</th>\n",
       "      <td>10</td>\n",
       "      <td>Handyman</td>\n",
       "      <td>5651</td>\n",
       "      <td>17760</td>\n",
       "      <td>8472</td>\n",
       "      <td>58661</td>\n",
       "      <td>0.667021</td>\n",
       "      <td>3.142807</td>\n",
       "      <td>0.477027</td>\n",
       "    </tr>\n",
       "    <tr>\n",
       "      <th>208</th>\n",
       "      <td>11</td>\n",
       "      <td>Handyman</td>\n",
       "      <td>5548</td>\n",
       "      <td>17629</td>\n",
       "      <td>8271</td>\n",
       "      <td>59619</td>\n",
       "      <td>0.670777</td>\n",
       "      <td>3.177541</td>\n",
       "      <td>0.469170</td>\n",
       "    </tr>\n",
       "    <tr>\n",
       "      <th>228</th>\n",
       "      <td>12</td>\n",
       "      <td>Handyman</td>\n",
       "      <td>5738</td>\n",
       "      <td>18166</td>\n",
       "      <td>8760</td>\n",
       "      <td>61827</td>\n",
       "      <td>0.655023</td>\n",
       "      <td>3.165911</td>\n",
       "      <td>0.482220</td>\n",
       "    </tr>\n",
       "    <tr>\n",
       "      <th>248</th>\n",
       "      <td>13</td>\n",
       "      <td>Handyman</td>\n",
       "      <td>5971</td>\n",
       "      <td>18688</td>\n",
       "      <td>9047</td>\n",
       "      <td>62459</td>\n",
       "      <td>0.659998</td>\n",
       "      <td>3.129794</td>\n",
       "      <td>0.484107</td>\n",
       "    </tr>\n",
       "  </tbody>\n",
       "</table>\n",
       "</div>"
      ],
      "text/plain": [
       "     Week  Category  Customers  Contacts  Accepted Contacts  Revenue  \\\n",
       "8       1  Handyman       5055     14377               6834    61227   \n",
       "28      2  Handyman       5067     15062               8102    70622   \n",
       "48      3  Handyman       5198     15297               8024    67616   \n",
       "68      4  Handyman       5313     15661               8158    68139   \n",
       "88      5  Handyman       5616     16375               8161    66416   \n",
       "108     6  Handyman       5519     15827               7839    64208   \n",
       "128     7  Handyman       5467     16431               8157    63505   \n",
       "148     8  Handyman       5486     17286               8180    60382   \n",
       "168     9  Handyman       5448     17052               8179    58229   \n",
       "188    10  Handyman       5651     17760               8472    58661   \n",
       "208    11  Handyman       5548     17629               8271    59619   \n",
       "228    12  Handyman       5738     18166               8760    61827   \n",
       "248    13  Handyman       5971     18688               9047    62459   \n",
       "\n",
       "     Cust_AcceptContacts  Cust_Contacts  Contacts_AccpContact  \n",
       "8               0.739684       2.844115              0.475343  \n",
       "28              0.625401       2.972568              0.537910  \n",
       "48              0.647807       2.942863              0.524547  \n",
       "68              0.651263       2.947676              0.520912  \n",
       "88              0.688151       2.915776              0.498382  \n",
       "108             0.704044       2.867730              0.495293  \n",
       "128             0.670222       3.005487              0.496440  \n",
       "148             0.670660       3.150930              0.473215  \n",
       "168             0.666096       3.129956              0.479650  \n",
       "188             0.667021       3.142807              0.477027  \n",
       "208             0.670777       3.177541              0.469170  \n",
       "228             0.655023       3.165911              0.482220  \n",
       "248             0.659998       3.129794              0.484107  "
      ]
     },
     "execution_count": 55,
     "metadata": {},
     "output_type": "execute_result"
    }
   ],
   "source": [
    "df_4"
   ]
  },
  {
   "cell_type": "code",
   "execution_count": 58,
   "id": "d23622c4",
   "metadata": {},
   "outputs": [
    {
     "data": {
      "image/png": "[encoded data removed]",
      "text/plain": [
       "<Figure size 1080x720 with 1 Axes>"
      ]
     },
     "metadata": {
      "needs_background": "light"
     },
     "output_type": "display_data"
    }
   ],
   "source": [
    "fig, ax = plt.subplots()\n",
    "fig.set_size_inches(15, 10)\n",
    "# plt.plot(df_4[\"Week\"], df_4['Revenue'], label = 'Revenue')\n",
    "# plt.plot(df_4[\"Week\"], df_4['Cust_Contacts'], label = 'Rate')\n",
    "plt.plot(df_4[\"Week\"], df_4['Contacts_AccpContact'], label = 'Customers')\n",
    "# plt.plot(df_4[\"Week\"], df_4['Contacts'], label = 'Contacts')\n",
    "# plt.plot(df_4[\"Week\"], df_4['Accepted Contacts'], label = 'Accepted Contacts')\n",
    "plt.show()"
   ]
  },
  {
   "cell_type": "code",
   "execution_count": null,
   "id": "90d2aa40",
   "metadata": {},
   "outputs": [],
   "source": []
  }
 ],
 "metadata": {
  "kernelspec": {
   "display_name": "Gsheet_Analytics",
   "language": "python",
   "name": "gsheet_analytics"
  },
  "language_info": {
   "codemirror_mode": {
    "name": "ipython",
    "version": 3
   },
   "file_extension": ".py",
   "mimetype": "text/x-python",
   "name": "python",
   "nbconvert_exporter": "python",
   "pygments_lexer": "ipython3",
   "version": "3.8.13"
  }
 },
 "nbformat": 4,
 "nbformat_minor": 5
}
